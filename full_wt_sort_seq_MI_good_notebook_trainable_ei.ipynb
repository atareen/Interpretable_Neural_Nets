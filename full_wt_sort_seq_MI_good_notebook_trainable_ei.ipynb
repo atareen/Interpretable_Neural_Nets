{
 "cells": [
  {
   "cell_type": "code",
   "execution_count": 1,
   "metadata": {},
   "outputs": [
    {
     "name": "stderr",
     "output_type": "stream",
     "text": [
      "Using TensorFlow backend.\n"
     ]
    }
   ],
   "source": [
    "from __future__ import division\n",
    "import pandas as pd\n",
    "import numpy as np\n",
    "from numpy import argmax\n",
    "from scipy import constants\n",
    "import random\n",
    "\n",
    "import os\n",
    "import sys\n",
    "import re\n",
    "import pdb\n",
    "import glob\n",
    "\n",
    "import suftware\n",
    "\n",
    "from sklearn.preprocessing import LabelEncoder\n",
    "from sklearn.preprocessing import OneHotEncoder\n",
    "from sklearn.model_selection import train_test_split\n",
    "\n",
    "import keras\n",
    "from keras.models import Sequential, Model\n",
    "from keras.layers import Dense, Dropout, Activation, Input, Lambda, Concatenate\n",
    "from keras.optimizers import Adam\n",
    "from keras import metrics\n",
    "from keras import regularizers\n",
    "from keras import callbacks\n",
    "import keras.backend as K\n",
    "\n",
    "import tensorflow as tf\n",
    "\n",
    "from tensorflow.python.framework import ops\n",
    "from tensorflow.python.ops import math_ops\n",
    "\n",
    "import seaborn as sns\n",
    "import matplotlib.pyplot as plt\n",
    "import matplotlib.patches as patches\n",
    "from matplotlib import cm\n",
    "from matplotlib.colors import ListedColormap, LinearSegmentedColormap\n",
    "%matplotlib inline\n",
    "plt.ion()"
   ]
  },
  {
   "cell_type": "code",
   "execution_count": 2,
   "metadata": {
    "collapsed": true
   },
   "outputs": [],
   "source": [
    "# Load the energy matrices from Kinney et al. 2010\n",
    "crp_df = pd.read_csv('../data/energy_matrices/crp_tau_final_all.26.txt', sep = \"\\t\", usecols = range(1,5))\n",
    "rnap_df = pd.read_csv('../data/energy_matrices/rnap_tau_final_all.41.txt', sep = \"\\t\", usecols = range(1,5))\n",
    "\n",
    "# Convert the dataframe to numpy array for downstream processing\n",
    "crp_array = pd.DataFrame.to_numpy(crp_df)\n",
    "rnap_array = pd.DataFrame.to_numpy(rnap_df)"
   ]
  },
  {
   "cell_type": "code",
   "execution_count": 3,
   "metadata": {
    "collapsed": true
   },
   "outputs": [],
   "source": [
    "def mutate_sequence(con_seq, mut_rate):\n",
    "    bases = [\"A\",\"C\",\"G\",\"T\"]\n",
    "    new_seq = list(con_seq)\n",
    "    to_mutate = np.random.random(size = len(con_seq)) < mut_rate\n",
    "    for i in range(0,len(to_mutate)):\n",
    "        if to_mutate[i]:\n",
    "            new_seq[i] = random.choice([b for b in bases if b not in new_seq[i]])\n",
    "    return ''.join(new_seq)\n",
    "\n",
    "# Fit a label encoder and a onehot encoder\n",
    "bases = [\"A\",\"C\",\"G\",\"T\"]\n",
    "label_encoder = LabelEncoder()\n",
    "label_encoder.fit(bases)\n",
    "tmp = label_encoder.transform(bases)\n",
    "tmp = tmp.reshape(len(tmp), 1)\n",
    "onehot_encoder = OneHotEncoder(sparse = False)\n",
    "onehot_encoder.fit(tmp)\n",
    "\n",
    "# Encode sequence into onehot\n",
    "def onehot_sequence(sequence, lab_encoder = label_encoder, one_encoder = onehot_encoder):\n",
    "    \"\"\"Sequence as a string\"\"\"\n",
    "    tmp = lab_encoder.transform(list(sequence))\n",
    "    tmp = tmp.reshape(len(tmp),1)\n",
    "    tmp = one_encoder.transform(tmp)\n",
    "    return tmp\n",
    "\n",
    "# Calculate energy\n",
    "def get_energy(seq_onehot, matrix_array):\n",
    "    return np.sum(matrix_array * seq_onehot)\n",
    "\n",
    "# Calculate boltzmann weight\n",
    "def get_transcription(energy,mu=2.7):\n",
    "    tau_max = 1.00\n",
    "    return tau_max*(np.exp(-(energy-mu))/(1+np.exp(-(energy-mu))))"
   ]
  },
  {
   "cell_type": "code",
   "execution_count": 4,
   "metadata": {
    "collapsed": true
   },
   "outputs": [],
   "source": [
    "# Set up parameters\n",
    "gaps = 7 # Length of gaps between CRP and RNAP binding sites\n",
    "c_r = 5.94e-3 # Concentration of RNAP; Empirically determined\n",
    "c_c = 10 ** -1.2 # Concentration of active CRP\n",
    "e_i = -3.26 # Energy of interaction\n",
    "t_bg = 0.01 # Background noise\n",
    "consensus_sequence = \"AATTAATGTGAGTTAGCTCACTCATTAGGCACCCCAGGCTTTACACTTTATGCTTCCGGCTCGTATGTTGTGTGG\"\n",
    "crp_wt_energy = 6.9 # From Kinney et al. 2010\n",
    "rnap_wt_energy = 8.3 # From Kinney et al. 2010"
   ]
  },
  {
   "cell_type": "code",
   "execution_count": 5,
   "metadata": {
    "collapsed": true
   },
   "outputs": [],
   "source": [
    "# Create a single energy matrix\n",
    "energy_array = np.concatenate((crp_array, np.zeros([gaps,4]), rnap_array))\n",
    "\n",
    "# Obtain positional information from the parameters given\n",
    "crp_start = 1\n",
    "crp_end = crp_start + len(crp_array)\n",
    "gap_start = crp_end\n",
    "gap_end = gap_start + gaps\n",
    "rnap_start = gap_end\n",
    "rnap_end = rnap_start + len(rnap_array)"
   ]
  },
  {
   "cell_type": "code",
   "execution_count": 6,
   "metadata": {
    "collapsed": true
   },
   "outputs": [],
   "source": [
    "#input_data_crp = pd.read_csv('crp-wt/data.txt',delim_whitespace=True)\n",
    "input_data_full_wt = pd.read_csv('../data/full-wt/data.txt',delim_whitespace=True)"
   ]
  },
  {
   "cell_type": "code",
   "execution_count": 7,
   "metadata": {
    "collapsed": true
   },
   "outputs": [],
   "source": [
    "sequences = []\n",
    "bin_number = []\n",
    "\n",
    "for _ in range(len(input_data_full_wt)):\n",
    "    sequences.append(input_data_full_wt['seq'][_])\n",
    "    bin_number.append(argmax(input_data_full_wt.iloc[_,1:len(input_data_full_wt.columns)].values))"
   ]
  },
  {
   "cell_type": "code",
   "execution_count": 8,
   "metadata": {},
   "outputs": [
    {
     "data": {
      "image/png": "[encoded data removed]",
      "text/plain": [
       "<Figure size 432x288 with 1 Axes>"
      ]
     },
     "metadata": {
      "needs_background": "light"
     },
     "output_type": "display_data"
    }
   ],
   "source": [
    "plt.hist(bin_number,bins=40)\n",
    "plt.show()"
   ]
  },
  {
   "cell_type": "code",
   "execution_count": 9,
   "metadata": {
    "collapsed": true
   },
   "outputs": [],
   "source": [
    "X_train, X_test, y_train, y_test = train_test_split(sequences, bin_number, test_size=0.2)"
   ]
  },
  {
   "cell_type": "code",
   "execution_count": 10,
   "metadata": {},
   "outputs": [
    {
     "data": {
      "image/png": "[encoded data removed]",
      "text/plain": [
       "<Figure size 432x288 with 1 Axes>"
      ]
     },
     "metadata": {
      "needs_background": "light"
     },
     "output_type": "display_data"
    }
   ],
   "source": [
    "plt.hist(y_train,bins=40,alpha=0.5,density=True)\n",
    "plt.hist(y_test,bins=40,alpha=0.5,density=True)\n",
    "plt.show()"
   ]
  },
  {
   "cell_type": "code",
   "execution_count": 11,
   "metadata": {
    "collapsed": true
   },
   "outputs": [],
   "source": [
    "#len(X_train[0][1:27]+X_train[0][33:74])"
   ]
  },
  {
   "cell_type": "code",
   "execution_count": 12,
   "metadata": {
    "collapsed": true
   },
   "outputs": [],
   "source": [
    "######\n",
    "## Define custom function for keras\n",
    "######\n",
    "\n",
    "def log_poisson_loss(y_true, y_pred):\n",
    "    return tf.nn.log_poisson_loss(y_true,y_pred)\n",
    "\n",
    "def poisson_loss(y_true, y_pred):\n",
    "    y_pred = ops.convert_to_tensor(y_pred)\n",
    "    y_true = math_ops.cast(y_true, y_pred.dtype)\n",
    "    return K.mean(y_pred - y_true * math_ops.log(y_pred + K.epsilon()), axis=-1)\n"
   ]
  },
  {
   "cell_type": "code",
   "execution_count": 13,
   "metadata": {
    "collapsed": true
   },
   "outputs": [],
   "source": [
    "# convert the crp part of the sequence to one hot encoding\n",
    "input_seqs_ohe = []\n",
    "for _ in range(len(X_train)):\n",
    "    #input_seqs_ohe.append(onehot_sequence(X_train[_][1:27]+X_train[_][33:74]))\n",
    "    input_seqs_ohe.append(onehot_sequence(X_train[_][1:27]+X_train[_][34:75]))\n",
    "    \n",
    "test_seqs_ohe = []    \n",
    "for _ in range(len(X_test)):\n",
    "    #test_seqs_ohe.append(onehot_sequence(X_test[_][1:27]+X_test[_][33:74]))\n",
    "    test_seqs_ohe.append(onehot_sequence(X_test[_][1:27]+X_test[_][34:75]))"
   ]
  },
  {
   "cell_type": "code",
   "execution_count": 14,
   "metadata": {},
   "outputs": [
    {
     "name": "stdout",
     "output_type": "stream",
     "text": [
      "(40414, 67, 4)\n",
      "(10104, 67, 4)\n"
     ]
    }
   ],
   "source": [
    "print(np.shape(input_seqs_ohe))\n",
    "print(np.shape(test_seqs_ohe))"
   ]
  },
  {
   "cell_type": "code",
   "execution_count": 15,
   "metadata": {
    "collapsed": true
   },
   "outputs": [],
   "source": [
    "# one-hot encoding for y-labels\n",
    "\n",
    "number_bins = 10\n",
    "\n",
    "def int_to_onehot(n, n_classes):\n",
    "    v = [0] * n_classes\n",
    "    v[n] = 1\n",
    "    return v\n",
    "\n",
    "y_train_ohe = []\n",
    "y_test_ohe = []\n",
    "\n",
    "for _ in range(len(y_train)):\n",
    "    y_train_ohe.append(int_to_onehot(y_train[_], number_bins))\n",
    "    \n",
    "for _ in range(len(y_test)):\n",
    "    y_test_ohe.append(int_to_onehot(y_test[_], number_bins))    "
   ]
  },
  {
   "cell_type": "code",
   "execution_count": 16,
   "metadata": {},
   "outputs": [
    {
     "data": {
      "text/plain": [
       "10"
      ]
     },
     "execution_count": 16,
     "metadata": {},
     "output_type": "execute_result"
    }
   ],
   "source": [
    "np.shape(y_train_ohe[1])[0]"
   ]
  },
  {
   "cell_type": "code",
   "execution_count": 17,
   "metadata": {
    "collapsed": true
   },
   "outputs": [],
   "source": [
    "number_input_layer_nodes = len(input_seqs_ohe[0])*4 +1   \n",
    "inputTensor = Input((number_input_layer_nodes,),name='Sequence')"
   ]
  },
  {
   "cell_type": "code",
   "execution_count": 18,
   "metadata": {
    "collapsed": true
   },
   "outputs": [],
   "source": [
    "#import tensorflow as tf\n",
    "from keras.layers import multiply\n",
    "\n",
    "class CustomConnected(Dense):\n",
    "\n",
    "    def __init__(self,units,connections, output_dim,**kwargs):\n",
    "        \n",
    "        self.output_dim = output_dim\n",
    "        #this is matrix of connections. I.e., this should be [0,0,trainable,trainable]\n",
    "        self.connections = connections                        \n",
    "        #initalize the original Dense with all the usual arguments   \n",
    "        super(CustomConnected,self).__init__(units,**kwargs)  \n",
    "\n",
    "\n",
    "    def call(self, inputs):\n",
    "        #print(self.connections)\n",
    "        \n",
    "        kernel_times_connections = multiply([self.kernel, self.connections])\n",
    "        #output = K.dot(inputs, self.kernel * self.connections)\n",
    "        \n",
    "        # for implementing custom constraint, print out kernel. Set last two elements equal to each other.\n",
    "        output = K.dot(inputs,kernel_times_connections)\n",
    "\n",
    "        #print('outputs: ',output)\n",
    "        #print('inputs: ',inputs)\n",
    "        #print('kernel',self.kernel)\n",
    "        \n",
    "        if self.use_bias:\n",
    "            output = K.bias_add(output, self.bias)\n",
    "        if self.activation is not None:\n",
    "            output = self.activation(output)\n",
    "        return output\n",
    "    \n",
    "    def compute_output_shape(self, input_shape):\n",
    "        return (input_shape[0], self.output_dim)\n",
    "    "
   ]
  },
  {
   "cell_type": "code",
   "execution_count": 19,
   "metadata": {
    "collapsed": true
   },
   "outputs": [],
   "source": [
    "#from tensorflow.keras import layers\n",
    "from keras import layers\n",
    "import tensorflow as tf\n",
    "\n",
    "\n",
    "class CustomSoftmax(layers.Layer):\n",
    "\n",
    "    def __init__(self, units=4, input_dim=2,output_dim=4):\n",
    "        self.output_dim = output_dim\n",
    "        super(CustomSoftmax, self).__init__()\n",
    "        self.w = self.add_weight(shape=(input_dim, units),\n",
    "                                 initializer='random_normal',\n",
    "                                 name='weights',\n",
    "                                 trainable=False)\n",
    "        self.b = self.add_weight(shape=(units,),\n",
    "                                 initializer='zeros',\n",
    "                                 name='bias',\n",
    "                                 trainable=True)\n",
    "\n",
    "    def call(self, inputs):\n",
    "        \n",
    "        #return K.dot(inputs, self.w) + self.b\n",
    "        #return K.dot(self.w,inputs) + self.b\n",
    "        #return tf.matmul(inputs, self.w) + self.b\n",
    "        output = tf.nn.softmax(tf.matmul(inputs, self.w) + self.b) \n",
    "        print('output:',output)\n",
    "        return output"
   ]
  },
  {
   "cell_type": "code",
   "execution_count": 20,
   "metadata": {
    "collapsed": true
   },
   "outputs": [],
   "source": [
    "# this layer keeps weights non-trainable and biases traianable \n",
    "class CustomSoftmax2(layers.Layer):\n",
    "\n",
    "    def __init__(self, units=4, input_dim=2,output_dim=4):\n",
    "        self.output_dim = output_dim\n",
    "        self.input_dim = input_dim\n",
    "        self.units = units\n",
    "        super(CustomSoftmax2, self).__init__()\n",
    "        \n",
    "    \n",
    "    def build(self, input_shape): \n",
    "        \n",
    "        self.w = self.add_weight(shape=(self.input_dim, self.units),\n",
    "                                 initializer='random_normal',\n",
    "                                 name='weights',\n",
    "                                 trainable=False)\n",
    "        self.b = self.add_weight(shape=(self.units,),\n",
    "                                 initializer='zeros',\n",
    "                                 name='bias',\n",
    "                                 trainable=True)\n",
    "        \n",
    "        super(CustomSoftmax2, self).build(input_shape)    \n",
    "\n",
    "    def call(self, inputs):\n",
    "        \n",
    "        #return K.dot(inputs, self.w) + self.b\n",
    "        #return K.dot(self.w,inputs) + self.b\n",
    "        #return tf.matmul(inputs, self.w) + self.b\n",
    "        output = tf.nn.softmax(tf.matmul(inputs, self.w) + self.b) \n",
    "        print('output:',output)\n",
    "        return output\n",
    "    \n",
    "    def compute_output_shape(self, input_shape):\n",
    "        return (input_shape[0], self.output_dim)"
   ]
  },
  {
   "cell_type": "code",
   "execution_count": 21,
   "metadata": {
    "collapsed": true
   },
   "outputs": [],
   "source": [
    "# this layer keeps weights non-trainable and biases traianable \n",
    "# with the first 3 values of the bias fixed to 0 so that the last\n",
    "# trainable value represents interactions energy\n",
    "\n",
    "from keras.layers import multiply\n",
    "class CustomSoftmax3(layers.Layer):\n",
    "\n",
    "    def __init__(self, units=4, input_dim=2,output_dim=4):\n",
    "        self.output_dim = output_dim\n",
    "        self.input_dim = input_dim\n",
    "        self.units = units\n",
    "        super(CustomSoftmax3, self).__init__()\n",
    "        \n",
    "    \n",
    "    def build(self, input_shape): \n",
    "        \n",
    "        self.w = self.add_weight(shape=(self.input_dim, self.units),\n",
    "                                 initializer='random_normal',\n",
    "                                 name='weights',\n",
    "                                 trainable=False)\n",
    "        self.b = self.add_weight(shape=(self.units,),\n",
    "                                 initializer='zeros',\n",
    "                                 name='bias',\n",
    "                                 trainable=True)\n",
    "        \n",
    "        super(CustomSoftmax3, self).build(input_shape)    \n",
    "\n",
    "    def call(self, inputs):\n",
    "        \n",
    "\n",
    "        #output = tf.nn.softmax(tf.matmul(inputs, self.w) + self.b)\n",
    "        output = tf.nn.softmax(tf.matmul(inputs, self.w) + multiply([self.b,tf.constant([0.0,0.0,0.0,1.0])])) \n",
    "        print('input',inputs)\n",
    "        print('weight: ',self.w)\n",
    "        print('input*weight',tf.matmul(inputs, self.w))\n",
    "        print('output:',output)\n",
    "        return output\n",
    "    \n",
    "    def compute_output_shape(self, input_shape):\n",
    "        return (input_shape[0], self.output_dim)"
   ]
  },
  {
   "cell_type": "code",
   "execution_count": 22,
   "metadata": {},
   "outputs": [
    {
     "name": "stdout",
     "output_type": "stream",
     "text": [
      "WARNING:tensorflow:Variable *= will be deprecated. Use `var.assign(var * other)` if you want assignment to the variable value or `x = x * y` if you want a new python Tensor object.\n"
     ]
    }
   ],
   "source": [
    "# define two groups which represent binding sites for the two proteins crp and rnap\n",
    "\n",
    "group1 = Lambda(lambda x: x[:,0:104], output_shape=((104,)))(inputTensor)\n",
    "group2 = Lambda(lambda x: x[:,104:268], output_shape=((164,)))(inputTensor)\n",
    "group3 = Lambda(lambda x: x[:,268:269], output_shape=((1,)))(inputTensor)\n",
    "\n",
    "\n",
    "# From input to first hidden layer. The groups are connected to two nodes\n",
    "# node group1 represents energy of crp and group2 represents rnap energy.\n",
    "\n",
    "# rename group1 to crp pwm\n",
    "\n",
    "group1 = Dense(1,use_bias=False,name='CRP_pwm')(group1)\n",
    "group2 = Dense(1,use_bias=False,name='RNAP_pwm')(group2)\n",
    "group3 = Dense(1,use_bias=False,name='one-feature')(group3)\n",
    "\n",
    "#group2 = Dense(1,use_bias=False,name='RNAP_pwm',kernel_initializer='RandomNormal',W_constraint=nonneg())(group2)\n",
    "\n",
    "# the groups from the previous layer have to be concatenated so\n",
    "concatenateLayer = Concatenate()([group1,group2,group3])\n",
    "\n",
    "# gammaInput = Input(shape=(1,),name='gamma_Input')   # i.e. weights going into softmax: [0,0,0,1]\n",
    "# concatenateLayer_with_gamma = Concatenate()([group1,group2,gammaInput])\n",
    "\n",
    "\n",
    "# softmax layer needs to have multiple inputs\n",
    "\n",
    "# try custom connections in the trainable softmax\n",
    "#softmaxLayer = Dense(4,activation='softmax', trainable=True, use_bias=True,name='softmax_layer')(concatenateLayer)\n",
    "#softmaxLayer = CustomSoftmax(4,2)(concatenateLayer)\n",
    "#softmaxLayer = CustomSoftmax2(4,input_dim= 2,output_dim=4)(concatenateLayer)\n",
    "#softmaxLayer = CustomSoftmax3(4,input_dim= 2,output_dim=4)(concatenateLayer)\n",
    "softmaxLayer = Dense(4,activation='softmax', trainable=False, use_bias=False,name='softmax_layer')(concatenateLayer)\n",
    "\n",
    "# tauTensor = CustomConnected(1,tf.constant([0.0,0.0,1.0,1.0]),1,use_bias=False,name='custom_tau_layer')(softmaxLayer)\n",
    "# outputTensor = Dense(np.shape(y_train_ohe[1])[0],activation='softmax', trainable=True, use_bias=False,name='softmax_layer_bins')(tauTensor)\n",
    "\n",
    "tauTensor = CustomConnected(1,tf.constant([0.0,0.0,1.0,1.0]),1,use_bias=False,name='custom_tau_layer')(softmaxLayer)\n",
    "intermediateTensor = Dense(10,activation='softmax', trainable=True, use_bias=False,name='softmax_layer_intermediate')(tauTensor)\n",
    "outputTensor = Dense(np.shape(y_train_ohe[1])[0],activation='softmax', trainable=True, use_bias=False,name='softmax_layer_bins')(intermediateTensor)\n",
    "\n",
    "\n",
    "#create the model:\n",
    "model = Model(inputTensor,outputTensor)\n",
    "# model = Model(inputs=[inputTensor, gammaInput], outputs=outputTensor)\n",
    "\n"
   ]
  },
  {
   "cell_type": "code",
   "execution_count": 23,
   "metadata": {},
   "outputs": [],
   "source": [
    "# # old model\n",
    "# # define two groups which represent binding sites for the two proteins crp and rnap\n",
    "\n",
    "# group1 = Lambda(lambda x: x[:,0:104], output_shape=((104,)))(inputTensor)\n",
    "# group2 = Lambda(lambda x: x[:,104:268], output_shape=((164,)))(inputTensor)\n",
    "\n",
    "\n",
    "# # From input to first hidden layer. The groups are connected to two nodes\n",
    "# # node group1 represents energy of crp and group2 represents rnap energy.\n",
    "\n",
    "# # rename group1 to crp pwm\n",
    "\n",
    "# group1 = Dense(1,use_bias=False,name='CRP_pwm')(group1)\n",
    "# group2 = Dense(1,use_bias=False,name='RNAP_pwm')(group2)\n",
    "\n",
    "# #group2 = Dense(1,use_bias=False,name='RNAP_pwm',kernel_initializer='RandomNormal',W_constraint=nonneg())(group2)\n",
    "\n",
    "# # the groups from the previous layer have to be concatenated so\n",
    "# concatenateLayer = Concatenate()([group1,group2])\n",
    "\n",
    "# # gammaInput = Input(shape=(1,),name='gamma_Input')   # i.e. weights going into softmax: [0,0,0,1]\n",
    "# # concatenateLayer_with_gamma = Concatenate()([group1,group2,gammaInput])\n",
    "\n",
    "\n",
    "# # softmax layer needs to have multiple inputs\n",
    "\n",
    "# # try custom connections in the trainable softmax\n",
    "# #softmaxLayer = Dense(4,activation='softmax', trainable=True, use_bias=True,name='softmax_layer')(concatenateLayer)\n",
    "# #softmaxLayer = CustomSoftmax(4,2)(concatenateLayer)\n",
    "# #softmaxLayer = CustomSoftmax2(4,input_dim= 2,output_dim=4)(concatenateLayer)\n",
    "# softmaxLayer = CustomSoftmax3(4,input_dim= 2,output_dim=4)(concatenateLayer)\n",
    "# #softmaxLayer = Dense(4,activation='softmax', trainable=False, use_bias=True,name='softmax_layer')(concatenateLayer_with_gamma)\n",
    "\n",
    "# # tauTensor = CustomConnected(1,tf.constant([0.0,0.0,1.0,1.0]),1,use_bias=False,name='custom_tau_layer')(softmaxLayer)\n",
    "# # outputTensor = Dense(np.shape(y_train_ohe[1])[0],activation='softmax', trainable=True, use_bias=False,name='softmax_layer_bins')(tauTensor)\n",
    "\n",
    "# tauTensor = CustomConnected(1,tf.constant([0.0,0.0,1.0,1.0]),1,use_bias=False,name='custom_tau_layer')(softmaxLayer)\n",
    "# intermediateTensor = Dense(10,activation='softmax', trainable=True, use_bias=False,name='softmax_layer_intermediate')(tauTensor)\n",
    "# outputTensor = Dense(np.shape(y_train_ohe[1])[0],activation='softmax', trainable=True, use_bias=False,name='softmax_layer_bins')(intermediateTensor)\n",
    "\n",
    "\n",
    "# #create the model:\n",
    "# model = Model(inputTensor,outputTensor)\n",
    "# # model = Model(inputs=[inputTensor, gammaInput], outputs=outputTensor)\n",
    "\n"
   ]
  },
  {
   "cell_type": "code",
   "execution_count": 24,
   "metadata": {},
   "outputs": [
    {
     "name": "stdout",
     "output_type": "stream",
     "text": [
      "__________________________________________________________________________________________________\n",
      "Layer (type)                    Output Shape         Param #     Connected to                     \n",
      "==================================================================================================\n",
      "Sequence (InputLayer)           (None, 269)          0                                            \n",
      "__________________________________________________________________________________________________\n",
      "lambda_1 (Lambda)               (None, 104)          0           Sequence[0][0]                   \n",
      "__________________________________________________________________________________________________\n",
      "lambda_2 (Lambda)               (None, 164)          0           Sequence[0][0]                   \n",
      "__________________________________________________________________________________________________\n",
      "lambda_3 (Lambda)               (None, 1)            0           Sequence[0][0]                   \n",
      "__________________________________________________________________________________________________\n",
      "CRP_pwm (Dense)                 (None, 1)            104         lambda_1[0][0]                   \n",
      "__________________________________________________________________________________________________\n",
      "RNAP_pwm (Dense)                (None, 1)            164         lambda_2[0][0]                   \n",
      "__________________________________________________________________________________________________\n",
      "one-feature (Dense)             (None, 1)            1           lambda_3[0][0]                   \n",
      "__________________________________________________________________________________________________\n",
      "concatenate_1 (Concatenate)     (None, 3)            0           CRP_pwm[0][0]                    \n",
      "                                                                 RNAP_pwm[0][0]                   \n",
      "                                                                 one-feature[0][0]                \n",
      "__________________________________________________________________________________________________\n",
      "softmax_layer (Dense)           (None, 4)            12          concatenate_1[0][0]              \n",
      "__________________________________________________________________________________________________\n",
      "custom_tau_layer (CustomConnect (None, 1)            4           softmax_layer[0][0]              \n",
      "__________________________________________________________________________________________________\n",
      "softmax_layer_intermediate (Den (None, 10)           10          custom_tau_layer[0][0]           \n",
      "__________________________________________________________________________________________________\n",
      "softmax_layer_bins (Dense)      (None, 10)           100         softmax_layer_intermediate[0][0] \n",
      "==================================================================================================\n",
      "Total params: 395\n",
      "Trainable params: 383\n",
      "Non-trainable params: 12\n",
      "__________________________________________________________________________________________________\n"
     ]
    }
   ],
   "source": [
    "model.summary()"
   ]
  },
  {
   "cell_type": "code",
   "execution_count": 25,
   "metadata": {},
   "outputs": [
    {
     "data": {
      "text/plain": [
       "[<keras.engine.input_layer.InputLayer at 0x1185070f0>,\n",
       " <keras.layers.core.Lambda at 0x11852e8d0>,\n",
       " <keras.layers.core.Lambda at 0x11852ec50>,\n",
       " <keras.layers.core.Lambda at 0x11852e048>,\n",
       " <keras.layers.core.Dense at 0x11852e240>,\n",
       " <keras.layers.core.Dense at 0x11852e358>,\n",
       " <keras.layers.core.Dense at 0x11852ec88>,\n",
       " <keras.layers.merge.Concatenate at 0x11845d128>,\n",
       " <keras.layers.core.Dense at 0x11845df98>,\n",
       " <__main__.CustomConnected at 0x10555ada0>,\n",
       " <keras.layers.core.Dense at 0x118059828>,\n",
       " <keras.layers.core.Dense at 0x118470160>]"
      ]
     },
     "execution_count": 25,
     "metadata": {},
     "output_type": "execute_result"
    }
   ],
   "source": [
    "model.layers"
   ]
  },
  {
   "cell_type": "code",
   "execution_count": 26,
   "metadata": {},
   "outputs": [
    {
     "name": "stdout",
     "output_type": "stream",
     "text": [
      "(1, 104, 1)\n",
      "(1, 164, 1)\n",
      "(1, 1, 1)\n"
     ]
    }
   ],
   "source": [
    "print(np.shape(model.layers[4].get_weights()))\n",
    "print(np.shape(model.layers[5].get_weights()))\n",
    "print(np.shape(model.layers[6].get_weights()))"
   ]
  },
  {
   "cell_type": "markdown",
   "metadata": {
    "collapsed": true
   },
   "source": [
    "### Set initial weights for last layer...\n",
    "...so that only the last two states (S3 and S4 in write-up) contribute to transcription"
   ]
  },
  {
   "cell_type": "code",
   "execution_count": 27,
   "metadata": {},
   "outputs": [
    {
     "data": {
      "text/plain": [
       "(4, 1)"
      ]
     },
     "execution_count": 27,
     "metadata": {},
     "output_type": "execute_result"
    }
   ],
   "source": [
    "tau_layer_weights = model.layers[9].get_weights()[0].copy()\n",
    "tau_layer_weights.shape"
   ]
  },
  {
   "cell_type": "code",
   "execution_count": 28,
   "metadata": {},
   "outputs": [
    {
     "data": {
      "text/plain": [
       "array([[0.],\n",
       "       [0.],\n",
       "       [1.],\n",
       "       [1.]], dtype=float32)"
      ]
     },
     "execution_count": 28,
     "metadata": {},
     "output_type": "execute_result"
    }
   ],
   "source": [
    "tau_layer_initial_weights = np.array([0,0,1,1])\n",
    "tau_layer_initial_weights = tau_layer_initial_weights.reshape(4,1)\n",
    "model.layers[9].set_weights([tau_layer_initial_weights])\n",
    "model.layers[9].get_weights()[0]"
   ]
  },
  {
   "cell_type": "markdown",
   "metadata": {},
   "source": [
    "### The following show non-trainable and trainable weights in the softmax layer"
   ]
  },
  {
   "cell_type": "code",
   "execution_count": 29,
   "metadata": {},
   "outputs": [
    {
     "name": "stdout",
     "output_type": "stream",
     "text": [
      "[array([[-0.12463295, -0.6383736 ,  0.07504117, -0.8294848 ],\n",
      "       [ 0.28289723, -0.84643555,  0.18507516, -0.589389  ],\n",
      "       [-0.02641618,  0.11877429, -0.9095587 , -0.59326684]],\n",
      "      dtype=float32)]\n"
     ]
    }
   ],
   "source": [
    "# these weights appear to be in reverse order. \n",
    "print(model.layers[8].get_weights())\n"
   ]
  },
  {
   "cell_type": "markdown",
   "metadata": {},
   "source": [
    "### Set softmax layer weights manually, will be kept frozen during training\n",
    "Note that the bias weights here may be interpreted as gamma"
   ]
  },
  {
   "cell_type": "code",
   "execution_count": 30,
   "metadata": {},
   "outputs": [
    {
     "data": {
      "text/plain": [
       "[array([[0., 1., 0., 1.],\n",
       "        [0., 0., 1., 1.],\n",
       "        [0., 0., 0., 1.]], dtype=float32)]"
      ]
     },
     "execution_count": 30,
     "metadata": {},
     "output_type": "execute_result"
    }
   ],
   "source": [
    "# the following are the input weights to the softmax array.\n",
    "# the first two arrays indicate 4 weights each coming out of the e_c and \n",
    "# e_r nodes. The last node indicates the gamma input, connecting only to\n",
    "# microstate 4.\n",
    "\n",
    "#softmax_weights = np.array([[0,1,0,1],[0,0,1,1]]) # this works\n",
    "softmax_weights = np.array([[0,1,0,1],[0,0,1,1],[0,0,0,1]]) # this works\n",
    "#softmax_weights = np.array([[0,0,1,1],[0,1,0,1]])\n",
    "#softmax_biases = np.array([0,0,0,1])\n",
    "\n",
    "# keras' set_weights expects weights and bias in a list\n",
    "#softmax_weights = [softmax_biases,softmax_weights]\n",
    "\n",
    "# without bias\n",
    "softmax_weights = [softmax_weights]\n",
    "\n",
    "# set weights\n",
    "model.layers[8].set_weights(softmax_weights)\n",
    "# see set weights\n",
    "model.layers[8].get_weights()"
   ]
  },
  {
   "cell_type": "markdown",
   "metadata": {},
   "source": [
    "## Compile model"
   ]
  },
  {
   "cell_type": "code",
   "execution_count": 31,
   "metadata": {
    "collapsed": true
   },
   "outputs": [],
   "source": [
    "#sgd = SGD(lr=0.01, decay=1e-6, momentum=0.9, nesterov=True)\n",
    "model.compile(loss='mean_squared_error',optimizer=Adam(lr=0.0005), metrics=['mean_absolute_error'])\n",
    "#model.compile(loss='mean_squared_error',optimizer=sgd, metrics=['mean_absolute_error'])"
   ]
  },
  {
   "cell_type": "code",
   "execution_count": 32,
   "metadata": {},
   "outputs": [
    {
     "data": {
      "text/plain": [
       "40414"
      ]
     },
     "execution_count": 32,
     "metadata": {},
     "output_type": "execute_result"
    }
   ],
   "source": [
    "np.array(X_train).shape[0]"
   ]
  },
  {
   "cell_type": "code",
   "execution_count": 33,
   "metadata": {},
   "outputs": [
    {
     "data": {
      "text/plain": [
       "(269,)"
      ]
     },
     "execution_count": 33,
     "metadata": {},
     "output_type": "execute_result"
    }
   ],
   "source": [
    "np.shape(input_seqs_ohe[_].flatten())\n",
    "temp = input_seqs_ohe[0].flatten()\n",
    "temp = np.append(temp,1)\n",
    "temp.shape"
   ]
  },
  {
   "cell_type": "code",
   "execution_count": 34,
   "metadata": {},
   "outputs": [],
   "source": [
    "input_sequences_tensor2 = []\n",
    "test_input_sequences_tensor2 = []\n",
    "\n",
    "for _ in range(len(input_seqs_ohe)):\n",
    "    temp = input_seqs_ohe[_].flatten()\n",
    "    temp = np.append(temp,1)\n",
    "    #input_seqs_ohe[_] = np.append(input_seqs_ohe[_],1)\n",
    "    input_sequences_tensor2.append(temp)\n",
    "    \n",
    "for _ in range(len(test_seqs_ohe)):\n",
    "    \n",
    "    temp = test_seqs_ohe[_].flatten()\n",
    "    temp = np.append(temp,1)\n",
    "    test_input_sequences_tensor2.append(temp)"
   ]
  },
  {
   "cell_type": "code",
   "execution_count": 35,
   "metadata": {},
   "outputs": [],
   "source": [
    "input_sequences_tensor2 = np.array(input_sequences_tensor2)\n",
    "test_input_sequences_tensor2 = np.array(test_input_sequences_tensor2)"
   ]
  },
  {
   "cell_type": "code",
   "execution_count": 36,
   "metadata": {},
   "outputs": [
    {
     "data": {
      "text/plain": [
       "(269,)"
      ]
     },
     "execution_count": 36,
     "metadata": {},
     "output_type": "execute_result"
    }
   ],
   "source": [
    "input_sequences_tensor2[0].shape"
   ]
  },
  {
   "cell_type": "code",
   "execution_count": 37,
   "metadata": {},
   "outputs": [],
   "source": [
    "# input_seqs_ohe = np.array(input_seqs_ohe)\n",
    "# input_sequences_tensor = input_seqs_ohe.reshape(-1,len(input_seqs_ohe[0])*4+1)\n",
    "\n",
    "# test_seqs_ohe = np.array(test_seqs_ohe)\n",
    "# test_input_sequences_tensor = test_seqs_ohe.reshape(-1,len(test_seqs_ohe[0])*4+1)\n",
    "\n",
    "labels = np.array(y_train_ohe)\n",
    "test_labels = np.array(y_test_ohe)"
   ]
  },
  {
   "cell_type": "code",
   "execution_count": null,
   "metadata": {
    "collapsed": true
   },
   "outputs": [],
   "source": [
    "  "
   ]
  },
  {
   "cell_type": "code",
   "execution_count": 38,
   "metadata": {
    "collapsed": true
   },
   "outputs": [],
   "source": [
    "######\n",
    "## Define custom function for keras\n",
    "######\n",
    "\n",
    "def log_poisson_loss(y_true, y_pred):\n",
    "    return tf.nn.log_poisson_loss(y_true,y_pred)\n",
    "\n",
    "def poisson_loss(y_true, y_pred):\n",
    "    y_pred = ops.convert_to_tensor(y_pred)\n",
    "    y_true = math_ops.cast(y_true, y_pred.dtype)\n",
    "    return K.mean(y_pred - y_true * math_ops.log(y_pred + K.epsilon()), axis=-1)\n"
   ]
  },
  {
   "cell_type": "code",
   "execution_count": 39,
   "metadata": {
    "collapsed": true
   },
   "outputs": [],
   "source": [
    "#model.compile(loss=log_poisson_loss,optimizer=Adam(lr=0.00001), metrics=['categorical_accuracy'])\n",
    "model.compile(loss=log_poisson_loss,optimizer=Adam(lr=0.0005), metrics=['categorical_accuracy'])"
   ]
  },
  {
   "cell_type": "code",
   "execution_count": 40,
   "metadata": {},
   "outputs": [
    {
     "name": "stdout",
     "output_type": "stream",
     "text": [
      "Train on 32331 samples, validate on 8083 samples\n",
      "Epoch 1/200\n",
      "32331/32331 [==============================] - 1s 36us/step - loss: 1.0952 - categorical_accuracy: 0.0947 - val_loss: 1.0952 - val_categorical_accuracy: 0.0944\n",
      "Epoch 2/200\n",
      "32331/32331 [==============================] - 1s 30us/step - loss: 1.0952 - categorical_accuracy: 0.1100 - val_loss: 1.0951 - val_categorical_accuracy: 0.1191\n",
      "Epoch 3/200\n",
      "32331/32331 [==============================] - 1s 30us/step - loss: 1.0951 - categorical_accuracy: 0.1122 - val_loss: 1.0951 - val_categorical_accuracy: 0.1191\n",
      "Epoch 4/200\n",
      "32331/32331 [==============================] - 1s 30us/step - loss: 1.0951 - categorical_accuracy: 0.1119 - val_loss: 1.0950 - val_categorical_accuracy: 0.1191\n",
      "Epoch 5/200\n",
      "32331/32331 [==============================] - 1s 30us/step - loss: 1.0948 - categorical_accuracy: 0.1314 - val_loss: 1.0945 - val_categorical_accuracy: 0.1545\n",
      "Epoch 6/200\n",
      "32331/32331 [==============================] - 1s 30us/step - loss: 1.0942 - categorical_accuracy: 0.2073 - val_loss: 1.0939 - val_categorical_accuracy: 0.2213\n",
      "Epoch 7/200\n",
      "32331/32331 [==============================] - 1s 30us/step - loss: 1.0936 - categorical_accuracy: 0.2106 - val_loss: 1.0933 - val_categorical_accuracy: 0.1996\n",
      "Epoch 8/200\n",
      "32331/32331 [==============================] - 1s 30us/step - loss: 1.0931 - categorical_accuracy: 0.2040 - val_loss: 1.0929 - val_categorical_accuracy: 0.2054\n",
      "Epoch 9/200\n",
      "32331/32331 [==============================] - 1s 30us/step - loss: 1.0927 - categorical_accuracy: 0.2083 - val_loss: 1.0926 - val_categorical_accuracy: 0.2078\n",
      "Epoch 10/200\n",
      "32331/32331 [==============================] - 1s 31us/step - loss: 1.0924 - categorical_accuracy: 0.2134 - val_loss: 1.0924 - val_categorical_accuracy: 0.2224\n",
      "Epoch 11/200\n",
      "32331/32331 [==============================] - 1s 30us/step - loss: 1.0922 - categorical_accuracy: 0.2242 - val_loss: 1.0922 - val_categorical_accuracy: 0.2297\n",
      "Epoch 12/200\n",
      "32331/32331 [==============================] - 1s 29us/step - loss: 1.0920 - categorical_accuracy: 0.2351 - val_loss: 1.0920 - val_categorical_accuracy: 0.2348\n",
      "Epoch 13/200\n",
      "32331/32331 [==============================] - 1s 29us/step - loss: 1.0918 - categorical_accuracy: 0.2426 - val_loss: 1.0919 - val_categorical_accuracy: 0.2492\n",
      "Epoch 14/200\n",
      "32331/32331 [==============================] - 1s 30us/step - loss: 1.0917 - categorical_accuracy: 0.2520 - val_loss: 1.0917 - val_categorical_accuracy: 0.2471\n",
      "Epoch 15/200\n",
      "32331/32331 [==============================] - 1s 31us/step - loss: 1.0915 - categorical_accuracy: 0.2585 - val_loss: 1.0916 - val_categorical_accuracy: 0.2592\n",
      "Epoch 16/200\n",
      "32331/32331 [==============================] - 1s 29us/step - loss: 1.0914 - categorical_accuracy: 0.2650 - val_loss: 1.0915 - val_categorical_accuracy: 0.2596\n",
      "Epoch 17/200\n",
      "32331/32331 [==============================] - 1s 30us/step - loss: 1.0913 - categorical_accuracy: 0.2717 - val_loss: 1.0913 - val_categorical_accuracy: 0.2719\n",
      "Epoch 18/200\n",
      "32331/32331 [==============================] - 1s 30us/step - loss: 1.0912 - categorical_accuracy: 0.2749 - val_loss: 1.0912 - val_categorical_accuracy: 0.2714\n",
      "Epoch 19/200\n",
      "32331/32331 [==============================] - 1s 30us/step - loss: 1.0911 - categorical_accuracy: 0.2797 - val_loss: 1.0912 - val_categorical_accuracy: 0.2748\n",
      "Epoch 20/200\n",
      "32331/32331 [==============================] - 1s 30us/step - loss: 1.0910 - categorical_accuracy: 0.2819 - val_loss: 1.0911 - val_categorical_accuracy: 0.2777\n",
      "Epoch 21/200\n",
      "32331/32331 [==============================] - 1s 30us/step - loss: 1.0909 - categorical_accuracy: 0.2829 - val_loss: 1.0910 - val_categorical_accuracy: 0.2831\n",
      "Epoch 22/200\n",
      "32331/32331 [==============================] - 1s 30us/step - loss: 1.0909 - categorical_accuracy: 0.2850 - val_loss: 1.0910 - val_categorical_accuracy: 0.2873\n",
      "Epoch 23/200\n",
      "32331/32331 [==============================] - 1s 30us/step - loss: 1.0908 - categorical_accuracy: 0.2844 - val_loss: 1.0909 - val_categorical_accuracy: 0.2865\n",
      "Epoch 24/200\n",
      "32331/32331 [==============================] - 1s 30us/step - loss: 1.0908 - categorical_accuracy: 0.2868 - val_loss: 1.0909 - val_categorical_accuracy: 0.2889\n",
      "Epoch 25/200\n",
      "32331/32331 [==============================] - 1s 30us/step - loss: 1.0907 - categorical_accuracy: 0.2885 - val_loss: 1.0908 - val_categorical_accuracy: 0.2869\n",
      "Epoch 26/200\n",
      "32331/32331 [==============================] - 1s 30us/step - loss: 1.0907 - categorical_accuracy: 0.2904 - val_loss: 1.0908 - val_categorical_accuracy: 0.2961\n",
      "Epoch 27/200\n",
      "32331/32331 [==============================] - 1s 30us/step - loss: 1.0907 - categorical_accuracy: 0.2893 - val_loss: 1.0908 - val_categorical_accuracy: 0.2918\n",
      "Epoch 28/200\n",
      "32331/32331 [==============================] - 1s 30us/step - loss: 1.0906 - categorical_accuracy: 0.2921 - val_loss: 1.0908 - val_categorical_accuracy: 0.2931\n",
      "Epoch 29/200\n",
      "32331/32331 [==============================] - 1s 30us/step - loss: 1.0906 - categorical_accuracy: 0.2919 - val_loss: 1.0907 - val_categorical_accuracy: 0.2946\n",
      "Epoch 30/200\n",
      "32331/32331 [==============================] - 1s 30us/step - loss: 1.0906 - categorical_accuracy: 0.2917 - val_loss: 1.0907 - val_categorical_accuracy: 0.2936\n",
      "Epoch 31/200\n",
      "32331/32331 [==============================] - 1s 30us/step - loss: 1.0905 - categorical_accuracy: 0.2939 - val_loss: 1.0907 - val_categorical_accuracy: 0.2941\n",
      "Epoch 32/200\n",
      "32331/32331 [==============================] - 1s 30us/step - loss: 1.0905 - categorical_accuracy: 0.2927 - val_loss: 1.0907 - val_categorical_accuracy: 0.2951\n",
      "Epoch 33/200\n",
      "32331/32331 [==============================] - 1s 29us/step - loss: 1.0905 - categorical_accuracy: 0.2952 - val_loss: 1.0906 - val_categorical_accuracy: 0.2953\n",
      "Epoch 34/200\n",
      "32331/32331 [==============================] - 1s 30us/step - loss: 1.0905 - categorical_accuracy: 0.2952 - val_loss: 1.0906 - val_categorical_accuracy: 0.2970\n",
      "Epoch 35/200\n",
      "32331/32331 [==============================] - 1s 29us/step - loss: 1.0905 - categorical_accuracy: 0.2947 - val_loss: 1.0906 - val_categorical_accuracy: 0.2936\n",
      "Epoch 36/200\n",
      "32331/32331 [==============================] - 1s 29us/step - loss: 1.0905 - categorical_accuracy: 0.2959 - val_loss: 1.0906 - val_categorical_accuracy: 0.2980\n",
      "Epoch 37/200\n",
      "32331/32331 [==============================] - 1s 29us/step - loss: 1.0904 - categorical_accuracy: 0.2957 - val_loss: 1.0906 - val_categorical_accuracy: 0.2943\n",
      "Epoch 38/200\n",
      "32331/32331 [==============================] - 1s 29us/step - loss: 1.0904 - categorical_accuracy: 0.2946 - val_loss: 1.0906 - val_categorical_accuracy: 0.3000\n",
      "Epoch 39/200\n",
      "32331/32331 [==============================] - 1s 29us/step - loss: 1.0904 - categorical_accuracy: 0.2966 - val_loss: 1.0906 - val_categorical_accuracy: 0.2978\n",
      "Epoch 40/200\n",
      "32331/32331 [==============================] - 1s 29us/step - loss: 1.0904 - categorical_accuracy: 0.2971 - val_loss: 1.0905 - val_categorical_accuracy: 0.2990\n",
      "Epoch 41/200\n",
      "32331/32331 [==============================] - 1s 29us/step - loss: 1.0904 - categorical_accuracy: 0.2969 - val_loss: 1.0905 - val_categorical_accuracy: 0.2995\n",
      "Epoch 42/200\n",
      "32331/32331 [==============================] - 1s 29us/step - loss: 1.0904 - categorical_accuracy: 0.2971 - val_loss: 1.0905 - val_categorical_accuracy: 0.2988\n",
      "Epoch 43/200\n",
      "32331/32331 [==============================] - 1s 29us/step - loss: 1.0904 - categorical_accuracy: 0.2966 - val_loss: 1.0905 - val_categorical_accuracy: 0.3004\n",
      "Epoch 44/200\n",
      "32331/32331 [==============================] - 1s 30us/step - loss: 1.0904 - categorical_accuracy: 0.2969 - val_loss: 1.0905 - val_categorical_accuracy: 0.2978\n",
      "Epoch 45/200\n",
      "32331/32331 [==============================] - 1s 29us/step - loss: 1.0904 - categorical_accuracy: 0.2994 - val_loss: 1.0905 - val_categorical_accuracy: 0.2977\n",
      "Epoch 46/200\n",
      "32331/32331 [==============================] - 1s 31us/step - loss: 1.0903 - categorical_accuracy: 0.2974 - val_loss: 1.0905 - val_categorical_accuracy: 0.2973\n",
      "Epoch 47/200\n",
      "32331/32331 [==============================] - 1s 29us/step - loss: 1.0903 - categorical_accuracy: 0.2986 - val_loss: 1.0905 - val_categorical_accuracy: 0.2977\n",
      "Epoch 48/200\n"
     ]
    },
    {
     "name": "stdout",
     "output_type": "stream",
     "text": [
      "32331/32331 [==============================] - 1s 29us/step - loss: 1.0903 - categorical_accuracy: 0.2985 - val_loss: 1.0905 - val_categorical_accuracy: 0.3003\n",
      "Epoch 49/200\n",
      "32331/32331 [==============================] - 1s 29us/step - loss: 1.0903 - categorical_accuracy: 0.2976 - val_loss: 1.0905 - val_categorical_accuracy: 0.2970\n",
      "Epoch 50/200\n",
      "32331/32331 [==============================] - 1s 29us/step - loss: 1.0903 - categorical_accuracy: 0.2994 - val_loss: 1.0905 - val_categorical_accuracy: 0.2935\n",
      "Epoch 51/200\n",
      "32331/32331 [==============================] - 1s 29us/step - loss: 1.0903 - categorical_accuracy: 0.3003 - val_loss: 1.0905 - val_categorical_accuracy: 0.2972\n",
      "Epoch 52/200\n",
      "32331/32331 [==============================] - 1s 30us/step - loss: 1.0903 - categorical_accuracy: 0.2994 - val_loss: 1.0905 - val_categorical_accuracy: 0.2964\n",
      "Epoch 53/200\n",
      "32331/32331 [==============================] - 1s 29us/step - loss: 1.0903 - categorical_accuracy: 0.2993 - val_loss: 1.0905 - val_categorical_accuracy: 0.2985\n",
      "Epoch 54/200\n",
      "32331/32331 [==============================] - 1s 29us/step - loss: 1.0903 - categorical_accuracy: 0.2997 - val_loss: 1.0905 - val_categorical_accuracy: 0.2930\n",
      "Epoch 55/200\n",
      "32331/32331 [==============================] - 1s 29us/step - loss: 1.0903 - categorical_accuracy: 0.2995 - val_loss: 1.0905 - val_categorical_accuracy: 0.2996\n",
      "Epoch 56/200\n",
      "32331/32331 [==============================] - 1s 29us/step - loss: 1.0903 - categorical_accuracy: 0.2986 - val_loss: 1.0904 - val_categorical_accuracy: 0.3001\n",
      "Epoch 57/200\n",
      "32331/32331 [==============================] - 1s 29us/step - loss: 1.0903 - categorical_accuracy: 0.2997 - val_loss: 1.0904 - val_categorical_accuracy: 0.2996\n",
      "Epoch 58/200\n",
      "32331/32331 [==============================] - 1s 32us/step - loss: 1.0903 - categorical_accuracy: 0.3001 - val_loss: 1.0905 - val_categorical_accuracy: 0.2964\n",
      "Epoch 59/200\n",
      "32331/32331 [==============================] - 1s 29us/step - loss: 1.0903 - categorical_accuracy: 0.3004 - val_loss: 1.0904 - val_categorical_accuracy: 0.2954\n",
      "Epoch 60/200\n",
      "32331/32331 [==============================] - 1s 30us/step - loss: 1.0903 - categorical_accuracy: 0.2999 - val_loss: 1.0904 - val_categorical_accuracy: 0.2994\n",
      "Epoch 61/200\n",
      "32331/32331 [==============================] - 1s 29us/step - loss: 1.0903 - categorical_accuracy: 0.2993 - val_loss: 1.0904 - val_categorical_accuracy: 0.2998\n",
      "Epoch 62/200\n",
      "32331/32331 [==============================] - 1s 29us/step - loss: 1.0902 - categorical_accuracy: 0.2998 - val_loss: 1.0904 - val_categorical_accuracy: 0.2983\n",
      "Epoch 63/200\n",
      "32331/32331 [==============================] - 1s 29us/step - loss: 1.0902 - categorical_accuracy: 0.3005 - val_loss: 1.0904 - val_categorical_accuracy: 0.2962\n",
      "Epoch 64/200\n",
      "32331/32331 [==============================] - 1s 29us/step - loss: 1.0902 - categorical_accuracy: 0.2996 - val_loss: 1.0904 - val_categorical_accuracy: 0.2980\n",
      "Epoch 65/200\n",
      "32331/32331 [==============================] - 1s 29us/step - loss: 1.0902 - categorical_accuracy: 0.3009 - val_loss: 1.0904 - val_categorical_accuracy: 0.2954\n",
      "Epoch 66/200\n",
      "32331/32331 [==============================] - 1s 30us/step - loss: 1.0902 - categorical_accuracy: 0.2998 - val_loss: 1.0904 - val_categorical_accuracy: 0.2957\n",
      "Epoch 67/200\n",
      "32331/32331 [==============================] - 1s 29us/step - loss: 1.0902 - categorical_accuracy: 0.2990 - val_loss: 1.0904 - val_categorical_accuracy: 0.2985\n",
      "Epoch 68/200\n",
      "32331/32331 [==============================] - 1s 30us/step - loss: 1.0902 - categorical_accuracy: 0.2994 - val_loss: 1.0904 - val_categorical_accuracy: 0.2993\n",
      "Epoch 69/200\n",
      "32331/32331 [==============================] - 1s 29us/step - loss: 1.0902 - categorical_accuracy: 0.2994 - val_loss: 1.0904 - val_categorical_accuracy: 0.2961\n",
      "Epoch 70/200\n",
      "32331/32331 [==============================] - 1s 29us/step - loss: 1.0902 - categorical_accuracy: 0.3010 - val_loss: 1.0904 - val_categorical_accuracy: 0.2980\n",
      "Epoch 71/200\n",
      "32331/32331 [==============================] - 1s 30us/step - loss: 1.0902 - categorical_accuracy: 0.3008 - val_loss: 1.0904 - val_categorical_accuracy: 0.2990\n",
      "Epoch 72/200\n",
      "32331/32331 [==============================] - 1s 29us/step - loss: 1.0902 - categorical_accuracy: 0.2996 - val_loss: 1.0904 - val_categorical_accuracy: 0.2991\n",
      "Epoch 73/200\n",
      "32331/32331 [==============================] - 1s 29us/step - loss: 1.0902 - categorical_accuracy: 0.3007 - val_loss: 1.0904 - val_categorical_accuracy: 0.2964\n",
      "Epoch 74/200\n",
      "32331/32331 [==============================] - 1s 30us/step - loss: 1.0902 - categorical_accuracy: 0.3021 - val_loss: 1.0904 - val_categorical_accuracy: 0.2973\n",
      "Epoch 75/200\n",
      "32331/32331 [==============================] - 1s 29us/step - loss: 1.0902 - categorical_accuracy: 0.3007 - val_loss: 1.0904 - val_categorical_accuracy: 0.2965\n",
      "Epoch 76/200\n",
      "32331/32331 [==============================] - 1s 29us/step - loss: 1.0902 - categorical_accuracy: 0.3005 - val_loss: 1.0904 - val_categorical_accuracy: 0.2978\n",
      "Epoch 77/200\n",
      "32331/32331 [==============================] - 1s 30us/step - loss: 1.0902 - categorical_accuracy: 0.3006 - val_loss: 1.0904 - val_categorical_accuracy: 0.2965\n",
      "Epoch 78/200\n",
      "32331/32331 [==============================] - 1s 29us/step - loss: 1.0902 - categorical_accuracy: 0.3011 - val_loss: 1.0904 - val_categorical_accuracy: 0.2982\n",
      "Epoch 79/200\n",
      "32331/32331 [==============================] - 1s 29us/step - loss: 1.0902 - categorical_accuracy: 0.3009 - val_loss: 1.0904 - val_categorical_accuracy: 0.2983\n",
      "Epoch 80/200\n",
      "32331/32331 [==============================] - 1s 29us/step - loss: 1.0902 - categorical_accuracy: 0.3010 - val_loss: 1.0904 - val_categorical_accuracy: 0.2984\n",
      "Epoch 81/200\n",
      "32331/32331 [==============================] - 1s 29us/step - loss: 1.0902 - categorical_accuracy: 0.3005 - val_loss: 1.0904 - val_categorical_accuracy: 0.2985\n",
      "Epoch 82/200\n",
      "32331/32331 [==============================] - 1s 29us/step - loss: 1.0902 - categorical_accuracy: 0.3007 - val_loss: 1.0904 - val_categorical_accuracy: 0.2989\n",
      "Epoch 83/200\n",
      "32331/32331 [==============================] - 1s 29us/step - loss: 1.0902 - categorical_accuracy: 0.3004 - val_loss: 1.0904 - val_categorical_accuracy: 0.2978\n",
      "Epoch 84/200\n",
      "32331/32331 [==============================] - 1s 29us/step - loss: 1.0902 - categorical_accuracy: 0.3008 - val_loss: 1.0904 - val_categorical_accuracy: 0.2957\n",
      "Epoch 85/200\n",
      "32331/32331 [==============================] - 1s 29us/step - loss: 1.0902 - categorical_accuracy: 0.3016 - val_loss: 1.0904 - val_categorical_accuracy: 0.2949\n",
      "Epoch 86/200\n",
      "32331/32331 [==============================] - 1s 30us/step - loss: 1.0902 - categorical_accuracy: 0.3002 - val_loss: 1.0904 - val_categorical_accuracy: 0.2968\n",
      "Epoch 87/200\n",
      "32331/32331 [==============================] - 1s 29us/step - loss: 1.0902 - categorical_accuracy: 0.3017 - val_loss: 1.0904 - val_categorical_accuracy: 0.2974\n",
      "Epoch 88/200\n",
      "32331/32331 [==============================] - 1s 30us/step - loss: 1.0902 - categorical_accuracy: 0.3007 - val_loss: 1.0904 - val_categorical_accuracy: 0.2970\n",
      "Epoch 89/200\n",
      "32331/32331 [==============================] - 1s 30us/step - loss: 1.0902 - categorical_accuracy: 0.3014 - val_loss: 1.0904 - val_categorical_accuracy: 0.2975\n",
      "Epoch 90/200\n",
      "32331/32331 [==============================] - 1s 30us/step - loss: 1.0902 - categorical_accuracy: 0.3013 - val_loss: 1.0904 - val_categorical_accuracy: 0.2977\n",
      "Epoch 91/200\n",
      "32331/32331 [==============================] - 1s 29us/step - loss: 1.0902 - categorical_accuracy: 0.3023 - val_loss: 1.0904 - val_categorical_accuracy: 0.2983\n",
      "Epoch 92/200\n",
      "32331/32331 [==============================] - 1s 29us/step - loss: 1.0902 - categorical_accuracy: 0.3002 - val_loss: 1.0904 - val_categorical_accuracy: 0.2952\n",
      "Epoch 93/200\n",
      "32331/32331 [==============================] - 1s 29us/step - loss: 1.0902 - categorical_accuracy: 0.3012 - val_loss: 1.0904 - val_categorical_accuracy: 0.2974\n",
      "Epoch 94/200\n",
      "32331/32331 [==============================] - 1s 29us/step - loss: 1.0902 - categorical_accuracy: 0.2996 - val_loss: 1.0904 - val_categorical_accuracy: 0.2975\n",
      "Epoch 95/200\n"
     ]
    },
    {
     "name": "stdout",
     "output_type": "stream",
     "text": [
      "32331/32331 [==============================] - 1s 29us/step - loss: 1.0902 - categorical_accuracy: 0.3006 - val_loss: 1.0903 - val_categorical_accuracy: 0.2967\n",
      "Epoch 96/200\n",
      "32331/32331 [==============================] - 1s 29us/step - loss: 1.0902 - categorical_accuracy: 0.3010 - val_loss: 1.0904 - val_categorical_accuracy: 0.2940\n",
      "Epoch 97/200\n",
      "32331/32331 [==============================] - 1s 29us/step - loss: 1.0902 - categorical_accuracy: 0.3007 - val_loss: 1.0903 - val_categorical_accuracy: 0.2980\n",
      "Epoch 98/200\n",
      "32331/32331 [==============================] - 1s 29us/step - loss: 1.0902 - categorical_accuracy: 0.3006 - val_loss: 1.0903 - val_categorical_accuracy: 0.3000\n",
      "Epoch 99/200\n",
      "32331/32331 [==============================] - 1s 29us/step - loss: 1.0902 - categorical_accuracy: 0.3002 - val_loss: 1.0904 - val_categorical_accuracy: 0.2969\n",
      "Epoch 100/200\n",
      "32331/32331 [==============================] - 1s 29us/step - loss: 1.0902 - categorical_accuracy: 0.3019 - val_loss: 1.0904 - val_categorical_accuracy: 0.2972\n",
      "Epoch 101/200\n",
      "32331/32331 [==============================] - 1s 30us/step - loss: 1.0902 - categorical_accuracy: 0.3003 - val_loss: 1.0903 - val_categorical_accuracy: 0.2967\n",
      "Epoch 102/200\n",
      "32331/32331 [==============================] - 1s 29us/step - loss: 1.0902 - categorical_accuracy: 0.3008 - val_loss: 1.0904 - val_categorical_accuracy: 0.2968\n",
      "Epoch 103/200\n",
      "32331/32331 [==============================] - 1s 29us/step - loss: 1.0902 - categorical_accuracy: 0.3009 - val_loss: 1.0904 - val_categorical_accuracy: 0.2957\n",
      "Epoch 104/200\n",
      "32331/32331 [==============================] - 1s 30us/step - loss: 1.0902 - categorical_accuracy: 0.3007 - val_loss: 1.0903 - val_categorical_accuracy: 0.2984\n",
      "Epoch 105/200\n",
      "32331/32331 [==============================] - 1s 29us/step - loss: 1.0902 - categorical_accuracy: 0.3010 - val_loss: 1.0904 - val_categorical_accuracy: 0.2937\n",
      "Epoch 106/200\n",
      "32331/32331 [==============================] - 1s 29us/step - loss: 1.0902 - categorical_accuracy: 0.3014 - val_loss: 1.0904 - val_categorical_accuracy: 0.2928\n",
      "Epoch 107/200\n",
      "32331/32331 [==============================] - 1s 29us/step - loss: 1.0902 - categorical_accuracy: 0.3000 - val_loss: 1.0903 - val_categorical_accuracy: 0.3000\n",
      "Epoch 108/200\n",
      "32331/32331 [==============================] - 1s 29us/step - loss: 1.0902 - categorical_accuracy: 0.3004 - val_loss: 1.0904 - val_categorical_accuracy: 0.2941\n",
      "Epoch 109/200\n",
      "32331/32331 [==============================] - 1s 30us/step - loss: 1.0902 - categorical_accuracy: 0.3008 - val_loss: 1.0903 - val_categorical_accuracy: 0.2978\n",
      "Epoch 110/200\n",
      "32331/32331 [==============================] - 1s 29us/step - loss: 1.0902 - categorical_accuracy: 0.3014 - val_loss: 1.0903 - val_categorical_accuracy: 0.2961\n",
      "Epoch 111/200\n",
      "32331/32331 [==============================] - 1s 29us/step - loss: 1.0902 - categorical_accuracy: 0.3018 - val_loss: 1.0904 - val_categorical_accuracy: 0.2954\n",
      "Epoch 112/200\n",
      "32331/32331 [==============================] - 1s 29us/step - loss: 1.0902 - categorical_accuracy: 0.3008 - val_loss: 1.0903 - val_categorical_accuracy: 0.2969\n",
      "Epoch 113/200\n",
      "32331/32331 [==============================] - 1s 29us/step - loss: 1.0902 - categorical_accuracy: 0.2991 - val_loss: 1.0903 - val_categorical_accuracy: 0.2963\n",
      "Epoch 114/200\n",
      "32331/32331 [==============================] - 1s 29us/step - loss: 1.0902 - categorical_accuracy: 0.3011 - val_loss: 1.0904 - val_categorical_accuracy: 0.2964\n",
      "Epoch 115/200\n",
      "32331/32331 [==============================] - 1s 29us/step - loss: 1.0902 - categorical_accuracy: 0.3011 - val_loss: 1.0903 - val_categorical_accuracy: 0.2969\n",
      "Epoch 116/200\n",
      "32331/32331 [==============================] - 1s 29us/step - loss: 1.0902 - categorical_accuracy: 0.3009 - val_loss: 1.0904 - val_categorical_accuracy: 0.2962\n",
      "Epoch 117/200\n",
      "32331/32331 [==============================] - 1s 30us/step - loss: 1.0902 - categorical_accuracy: 0.3000 - val_loss: 1.0904 - val_categorical_accuracy: 0.2940\n",
      "Epoch 118/200\n",
      "32331/32331 [==============================] - 1s 29us/step - loss: 1.0902 - categorical_accuracy: 0.3008 - val_loss: 1.0904 - val_categorical_accuracy: 0.2959\n",
      "Epoch 119/200\n",
      "32331/32331 [==============================] - 1s 29us/step - loss: 1.0902 - categorical_accuracy: 0.3018 - val_loss: 1.0903 - val_categorical_accuracy: 0.2961\n",
      "Epoch 120/200\n",
      "32331/32331 [==============================] - 1s 29us/step - loss: 1.0902 - categorical_accuracy: 0.3021 - val_loss: 1.0903 - val_categorical_accuracy: 0.2977\n",
      "Epoch 121/200\n",
      "32331/32331 [==============================] - 1s 29us/step - loss: 1.0902 - categorical_accuracy: 0.3031 - val_loss: 1.0903 - val_categorical_accuracy: 0.2980\n",
      "Epoch 122/200\n",
      "32331/32331 [==============================] - 1s 29us/step - loss: 1.0902 - categorical_accuracy: 0.3004 - val_loss: 1.0903 - val_categorical_accuracy: 0.2969\n",
      "Epoch 123/200\n",
      "32331/32331 [==============================] - 1s 29us/step - loss: 1.0902 - categorical_accuracy: 0.3003 - val_loss: 1.0903 - val_categorical_accuracy: 0.2958\n",
      "Epoch 124/200\n",
      "32331/32331 [==============================] - 1s 29us/step - loss: 1.0902 - categorical_accuracy: 0.3012 - val_loss: 1.0904 - val_categorical_accuracy: 0.2914\n",
      "Epoch 125/200\n",
      "32331/32331 [==============================] - 1s 29us/step - loss: 1.0902 - categorical_accuracy: 0.3003 - val_loss: 1.0903 - val_categorical_accuracy: 0.2969\n",
      "Epoch 126/200\n",
      "32331/32331 [==============================] - 1s 29us/step - loss: 1.0902 - categorical_accuracy: 0.3011 - val_loss: 1.0903 - val_categorical_accuracy: 0.2957\n",
      "Epoch 127/200\n",
      "32331/32331 [==============================] - 1s 29us/step - loss: 1.0902 - categorical_accuracy: 0.3017 - val_loss: 1.0903 - val_categorical_accuracy: 0.2958\n",
      "Epoch 128/200\n",
      "32331/32331 [==============================] - 1s 29us/step - loss: 1.0902 - categorical_accuracy: 0.3016 - val_loss: 1.0903 - val_categorical_accuracy: 0.2963\n",
      "Epoch 129/200\n",
      "32331/32331 [==============================] - 1s 30us/step - loss: 1.0902 - categorical_accuracy: 0.3016 - val_loss: 1.0903 - val_categorical_accuracy: 0.2975\n",
      "Epoch 130/200\n",
      "32331/32331 [==============================] - 1s 29us/step - loss: 1.0902 - categorical_accuracy: 0.3022 - val_loss: 1.0904 - val_categorical_accuracy: 0.2942\n",
      "Epoch 131/200\n",
      "32331/32331 [==============================] - 1s 29us/step - loss: 1.0902 - categorical_accuracy: 0.3013 - val_loss: 1.0903 - val_categorical_accuracy: 0.2958\n",
      "Epoch 132/200\n",
      "32331/32331 [==============================] - 1s 29us/step - loss: 1.0901 - categorical_accuracy: 0.3007 - val_loss: 1.0903 - val_categorical_accuracy: 0.2938\n",
      "Epoch 133/200\n",
      "32331/32331 [==============================] - 1s 30us/step - loss: 1.0901 - categorical_accuracy: 0.3006 - val_loss: 1.0903 - val_categorical_accuracy: 0.2970\n",
      "Epoch 134/200\n",
      "32331/32331 [==============================] - 1s 30us/step - loss: 1.0901 - categorical_accuracy: 0.3012 - val_loss: 1.0903 - val_categorical_accuracy: 0.2957\n",
      "Epoch 135/200\n",
      "32331/32331 [==============================] - 1s 30us/step - loss: 1.0901 - categorical_accuracy: 0.3015 - val_loss: 1.0903 - val_categorical_accuracy: 0.2979\n",
      "Epoch 136/200\n",
      "32331/32331 [==============================] - 1s 30us/step - loss: 1.0901 - categorical_accuracy: 0.3007 - val_loss: 1.0903 - val_categorical_accuracy: 0.2963\n",
      "Epoch 137/200\n",
      "32331/32331 [==============================] - 1s 30us/step - loss: 1.0901 - categorical_accuracy: 0.3007 - val_loss: 1.0903 - val_categorical_accuracy: 0.2951\n",
      "Epoch 138/200\n",
      "32331/32331 [==============================] - 1s 29us/step - loss: 1.0901 - categorical_accuracy: 0.3017 - val_loss: 1.0904 - val_categorical_accuracy: 0.2940\n",
      "Epoch 139/200\n",
      "32331/32331 [==============================] - 1s 30us/step - loss: 1.0901 - categorical_accuracy: 0.3020 - val_loss: 1.0903 - val_categorical_accuracy: 0.2964\n",
      "Epoch 140/200\n",
      "32331/32331 [==============================] - 1s 29us/step - loss: 1.0901 - categorical_accuracy: 0.3014 - val_loss: 1.0903 - val_categorical_accuracy: 0.2963\n",
      "Epoch 141/200\n",
      "32331/32331 [==============================] - 1s 30us/step - loss: 1.0901 - categorical_accuracy: 0.3019 - val_loss: 1.0903 - val_categorical_accuracy: 0.2959\n",
      "Epoch 142/200\n"
     ]
    },
    {
     "name": "stdout",
     "output_type": "stream",
     "text": [
      "32331/32331 [==============================] - 1s 29us/step - loss: 1.0901 - categorical_accuracy: 0.3019 - val_loss: 1.0903 - val_categorical_accuracy: 0.2956\n",
      "Epoch 143/200\n",
      "32331/32331 [==============================] - 1s 29us/step - loss: 1.0901 - categorical_accuracy: 0.3009 - val_loss: 1.0904 - val_categorical_accuracy: 0.2938\n",
      "Epoch 144/200\n",
      "32331/32331 [==============================] - 1s 30us/step - loss: 1.0901 - categorical_accuracy: 0.3008 - val_loss: 1.0903 - val_categorical_accuracy: 0.2947\n",
      "Epoch 145/200\n",
      "32331/32331 [==============================] - 1s 29us/step - loss: 1.0901 - categorical_accuracy: 0.3014 - val_loss: 1.0903 - val_categorical_accuracy: 0.2952\n",
      "Epoch 146/200\n",
      "32331/32331 [==============================] - 1s 29us/step - loss: 1.0901 - categorical_accuracy: 0.3029 - val_loss: 1.0903 - val_categorical_accuracy: 0.2949\n",
      "Epoch 147/200\n",
      "32331/32331 [==============================] - 1s 29us/step - loss: 1.0901 - categorical_accuracy: 0.3012 - val_loss: 1.0903 - val_categorical_accuracy: 0.2961\n",
      "Epoch 148/200\n",
      "32331/32331 [==============================] - 1s 29us/step - loss: 1.0901 - categorical_accuracy: 0.3012 - val_loss: 1.0903 - val_categorical_accuracy: 0.2974\n",
      "Epoch 149/200\n",
      "32331/32331 [==============================] - 1s 29us/step - loss: 1.0901 - categorical_accuracy: 0.2995 - val_loss: 1.0903 - val_categorical_accuracy: 0.2970\n",
      "Epoch 150/200\n",
      "32331/32331 [==============================] - 1s 29us/step - loss: 1.0901 - categorical_accuracy: 0.3010 - val_loss: 1.0903 - val_categorical_accuracy: 0.2964\n",
      "Epoch 151/200\n",
      "32331/32331 [==============================] - 1s 29us/step - loss: 1.0901 - categorical_accuracy: 0.3008 - val_loss: 1.0904 - val_categorical_accuracy: 0.2900\n",
      "Epoch 152/200\n",
      "32331/32331 [==============================] - 1s 29us/step - loss: 1.0901 - categorical_accuracy: 0.3020 - val_loss: 1.0903 - val_categorical_accuracy: 0.2952\n",
      "Epoch 153/200\n",
      "32331/32331 [==============================] - 1s 29us/step - loss: 1.0901 - categorical_accuracy: 0.3025 - val_loss: 1.0903 - val_categorical_accuracy: 0.2953\n",
      "Epoch 154/200\n",
      "32331/32331 [==============================] - 1s 29us/step - loss: 1.0901 - categorical_accuracy: 0.3018 - val_loss: 1.0903 - val_categorical_accuracy: 0.2940\n",
      "Epoch 155/200\n",
      "32331/32331 [==============================] - 1s 29us/step - loss: 1.0901 - categorical_accuracy: 0.3014 - val_loss: 1.0904 - val_categorical_accuracy: 0.2921\n",
      "Epoch 156/200\n",
      "32331/32331 [==============================] - 1s 29us/step - loss: 1.0901 - categorical_accuracy: 0.3019 - val_loss: 1.0903 - val_categorical_accuracy: 0.2958\n",
      "Epoch 157/200\n",
      "32331/32331 [==============================] - 1s 29us/step - loss: 1.0901 - categorical_accuracy: 0.3016 - val_loss: 1.0903 - val_categorical_accuracy: 0.2951\n",
      "Epoch 158/200\n",
      "32331/32331 [==============================] - 1s 29us/step - loss: 1.0901 - categorical_accuracy: 0.3009 - val_loss: 1.0903 - val_categorical_accuracy: 0.2954\n",
      "Epoch 159/200\n",
      "32331/32331 [==============================] - 1s 29us/step - loss: 1.0901 - categorical_accuracy: 0.3019 - val_loss: 1.0903 - val_categorical_accuracy: 0.2953\n",
      "Epoch 160/200\n",
      "32331/32331 [==============================] - 1s 29us/step - loss: 1.0901 - categorical_accuracy: 0.3010 - val_loss: 1.0903 - val_categorical_accuracy: 0.2959\n",
      "Epoch 161/200\n",
      "32331/32331 [==============================] - 1s 29us/step - loss: 1.0901 - categorical_accuracy: 0.3008 - val_loss: 1.0903 - val_categorical_accuracy: 0.2969\n",
      "Epoch 162/200\n",
      "32331/32331 [==============================] - 1s 29us/step - loss: 1.0901 - categorical_accuracy: 0.3018 - val_loss: 1.0903 - val_categorical_accuracy: 0.2979\n",
      "Epoch 163/200\n",
      "32331/32331 [==============================] - 1s 29us/step - loss: 1.0901 - categorical_accuracy: 0.3009 - val_loss: 1.0903 - val_categorical_accuracy: 0.2959\n",
      "Epoch 164/200\n",
      "32331/32331 [==============================] - 1s 29us/step - loss: 1.0901 - categorical_accuracy: 0.3022 - val_loss: 1.0903 - val_categorical_accuracy: 0.2963\n",
      "Epoch 165/200\n",
      "32331/32331 [==============================] - 1s 29us/step - loss: 1.0901 - categorical_accuracy: 0.3019 - val_loss: 1.0903 - val_categorical_accuracy: 0.2958\n",
      "Epoch 166/200\n",
      "32331/32331 [==============================] - 1s 29us/step - loss: 1.0901 - categorical_accuracy: 0.3021 - val_loss: 1.0903 - val_categorical_accuracy: 0.2956\n",
      "Epoch 167/200\n",
      "32331/32331 [==============================] - 1s 29us/step - loss: 1.0901 - categorical_accuracy: 0.3010 - val_loss: 1.0903 - val_categorical_accuracy: 0.2961\n",
      "Epoch 168/200\n",
      "32331/32331 [==============================] - 1s 29us/step - loss: 1.0901 - categorical_accuracy: 0.3006 - val_loss: 1.0903 - val_categorical_accuracy: 0.2940\n",
      "Epoch 169/200\n",
      "32331/32331 [==============================] - 1s 29us/step - loss: 1.0901 - categorical_accuracy: 0.3007 - val_loss: 1.0903 - val_categorical_accuracy: 0.2962\n",
      "Epoch 170/200\n",
      "32331/32331 [==============================] - 1s 30us/step - loss: 1.0901 - categorical_accuracy: 0.3016 - val_loss: 1.0903 - val_categorical_accuracy: 0.2964\n",
      "Epoch 171/200\n",
      "32331/32331 [==============================] - 1s 29us/step - loss: 1.0901 - categorical_accuracy: 0.3006 - val_loss: 1.0903 - val_categorical_accuracy: 0.2963\n",
      "Epoch 172/200\n",
      "32331/32331 [==============================] - 1s 29us/step - loss: 1.0901 - categorical_accuracy: 0.3013 - val_loss: 1.0903 - val_categorical_accuracy: 0.2956\n",
      "Epoch 173/200\n",
      "32331/32331 [==============================] - 1s 30us/step - loss: 1.0901 - categorical_accuracy: 0.3016 - val_loss: 1.0903 - val_categorical_accuracy: 0.2962\n",
      "Epoch 174/200\n",
      "32331/32331 [==============================] - 1s 29us/step - loss: 1.0901 - categorical_accuracy: 0.3010 - val_loss: 1.0903 - val_categorical_accuracy: 0.2965\n",
      "Epoch 175/200\n",
      "32331/32331 [==============================] - 1s 29us/step - loss: 1.0901 - categorical_accuracy: 0.3027 - val_loss: 1.0903 - val_categorical_accuracy: 0.2942\n",
      "Epoch 176/200\n",
      "32331/32331 [==============================] - 1s 29us/step - loss: 1.0901 - categorical_accuracy: 0.3006 - val_loss: 1.0903 - val_categorical_accuracy: 0.2952\n",
      "Epoch 177/200\n",
      "32331/32331 [==============================] - 1s 29us/step - loss: 1.0901 - categorical_accuracy: 0.3012 - val_loss: 1.0903 - val_categorical_accuracy: 0.2961\n",
      "Epoch 178/200\n",
      "32331/32331 [==============================] - 1s 29us/step - loss: 1.0901 - categorical_accuracy: 0.3015 - val_loss: 1.0903 - val_categorical_accuracy: 0.2957\n",
      "Epoch 179/200\n",
      "32331/32331 [==============================] - 1s 29us/step - loss: 1.0901 - categorical_accuracy: 0.3030 - val_loss: 1.0903 - val_categorical_accuracy: 0.2979\n",
      "Epoch 180/200\n",
      "32331/32331 [==============================] - 1s 29us/step - loss: 1.0901 - categorical_accuracy: 0.3001 - val_loss: 1.0903 - val_categorical_accuracy: 0.2959\n",
      "Epoch 181/200\n",
      "32331/32331 [==============================] - 1s 30us/step - loss: 1.0901 - categorical_accuracy: 0.3009 - val_loss: 1.0903 - val_categorical_accuracy: 0.2947\n",
      "Epoch 182/200\n",
      "32331/32331 [==============================] - 1s 29us/step - loss: 1.0901 - categorical_accuracy: 0.3005 - val_loss: 1.0903 - val_categorical_accuracy: 0.2947\n",
      "Epoch 183/200\n",
      "32331/32331 [==============================] - 1s 29us/step - loss: 1.0901 - categorical_accuracy: 0.3015 - val_loss: 1.0903 - val_categorical_accuracy: 0.2943\n",
      "Epoch 184/200\n",
      "32331/32331 [==============================] - 1s 29us/step - loss: 1.0901 - categorical_accuracy: 0.3024 - val_loss: 1.0903 - val_categorical_accuracy: 0.2946\n",
      "Epoch 185/200\n",
      "32331/32331 [==============================] - 1s 30us/step - loss: 1.0901 - categorical_accuracy: 0.3024 - val_loss: 1.0903 - val_categorical_accuracy: 0.2948\n",
      "Epoch 186/200\n",
      "32331/32331 [==============================] - 1s 29us/step - loss: 1.0901 - categorical_accuracy: 0.3014 - val_loss: 1.0903 - val_categorical_accuracy: 0.2957\n",
      "Epoch 187/200\n",
      "32331/32331 [==============================] - 1s 29us/step - loss: 1.0901 - categorical_accuracy: 0.3012 - val_loss: 1.0903 - val_categorical_accuracy: 0.2968\n",
      "Epoch 188/200\n",
      "32331/32331 [==============================] - 1s 29us/step - loss: 1.0901 - categorical_accuracy: 0.3020 - val_loss: 1.0903 - val_categorical_accuracy: 0.2961\n",
      "Epoch 189/200\n"
     ]
    },
    {
     "name": "stdout",
     "output_type": "stream",
     "text": [
      "32331/32331 [==============================] - 1s 29us/step - loss: 1.0901 - categorical_accuracy: 0.3002 - val_loss: 1.0903 - val_categorical_accuracy: 0.2946\n",
      "Epoch 190/200\n",
      "32331/32331 [==============================] - 1s 29us/step - loss: 1.0901 - categorical_accuracy: 0.3020 - val_loss: 1.0903 - val_categorical_accuracy: 0.2959\n",
      "Epoch 191/200\n",
      "32331/32331 [==============================] - 1s 29us/step - loss: 1.0901 - categorical_accuracy: 0.3005 - val_loss: 1.0903 - val_categorical_accuracy: 0.2954\n",
      "Epoch 192/200\n",
      "32331/32331 [==============================] - 1s 30us/step - loss: 1.0901 - categorical_accuracy: 0.3020 - val_loss: 1.0903 - val_categorical_accuracy: 0.2947\n",
      "Epoch 193/200\n",
      "32331/32331 [==============================] - 1s 29us/step - loss: 1.0901 - categorical_accuracy: 0.3008 - val_loss: 1.0903 - val_categorical_accuracy: 0.2949\n",
      "Epoch 194/200\n",
      "32331/32331 [==============================] - 1s 29us/step - loss: 1.0901 - categorical_accuracy: 0.3020 - val_loss: 1.0903 - val_categorical_accuracy: 0.2957\n",
      "Epoch 195/200\n",
      "32331/32331 [==============================] - 1s 30us/step - loss: 1.0901 - categorical_accuracy: 0.3009 - val_loss: 1.0903 - val_categorical_accuracy: 0.2922\n",
      "Epoch 196/200\n",
      "32331/32331 [==============================] - 1s 29us/step - loss: 1.0901 - categorical_accuracy: 0.3015 - val_loss: 1.0903 - val_categorical_accuracy: 0.2947\n",
      "Epoch 197/200\n",
      "32331/32331 [==============================] - 1s 30us/step - loss: 1.0901 - categorical_accuracy: 0.3014 - val_loss: 1.0903 - val_categorical_accuracy: 0.2949\n",
      "Epoch 198/200\n",
      "32331/32331 [==============================] - 1s 29us/step - loss: 1.0901 - categorical_accuracy: 0.3010 - val_loss: 1.0903 - val_categorical_accuracy: 0.2956\n",
      "Epoch 199/200\n",
      "32331/32331 [==============================] - 1s 29us/step - loss: 1.0901 - categorical_accuracy: 0.3006 - val_loss: 1.0903 - val_categorical_accuracy: 0.2956\n",
      "Epoch 200/200\n",
      "32331/32331 [==============================] - 1s 29us/step - loss: 1.0901 - categorical_accuracy: 0.3011 - val_loss: 1.0903 - val_categorical_accuracy: 0.2954\n"
     ]
    }
   ],
   "source": [
    "# history = model.fit([input_sequences_tensor,gamma_input_list], labels, \n",
    "#                     validation_split=0.1, epochs=100,verbose=1,callbacks=[esCallBack,tbCallBack])  \n",
    "\n",
    "history = model.fit(input_sequences_tensor2, labels, validation_split=0.2, epochs=500,verbose=1)"
   ]
  },
  {
   "cell_type": "code",
   "execution_count": 41,
   "metadata": {},
   "outputs": [
    {
     "data": {
      "image/png": "[encoded data removed]",
      "text/plain": [
       "<Figure size 432x288 with 1 Axes>"
      ]
     },
     "metadata": {
      "needs_background": "light"
     },
     "output_type": "display_data"
    }
   ],
   "source": [
    "# plot losses\n",
    "\n",
    "plt.figure()\n",
    "plt.plot(history.history['loss'],color='blue')\n",
    "plt.plot(history.history['val_loss'],color='orange')\n",
    "plt.title('Model loss',fontsize=12)\n",
    "plt.ylabel('loss',fontsize=12)\n",
    "plt.xlabel('epoch',fontsize=12)\n",
    "plt.legend(['train', 'validation'])\n",
    "#plt.savefig('Write_up/model_loss.png')\n",
    "plt.show()"
   ]
  },
  {
   "cell_type": "code",
   "execution_count": 42,
   "metadata": {},
   "outputs": [
    {
     "data": {
      "image/png": "[encoded data removed]",
      "text/plain": [
       "<Figure size 432x288 with 1 Axes>"
      ]
     },
     "metadata": {
      "needs_background": "light"
     },
     "output_type": "display_data"
    }
   ],
   "source": [
    "# plot losses\n",
    "\n",
    "plt.figure()\n",
    "plt.plot(np.log(history.history['loss']),color='blue')\n",
    "plt.plot(np.log(history.history['val_loss']),color='orange')\n",
    "plt.title('Model loss',fontsize=12)\n",
    "plt.ylabel('loss',fontsize=12)\n",
    "plt.xlabel('epoch',fontsize=12)\n",
    "plt.legend(['train', 'validation'])\n",
    "#plt.savefig('Write_up/model_loss.png')\n",
    "plt.show()"
   ]
  },
  {
   "cell_type": "code",
   "execution_count": 43,
   "metadata": {},
   "outputs": [
    {
     "data": {
      "image/png": "[encoded data removed]",
      "text/plain": [
       "<Figure size 432x288 with 1 Axes>"
      ]
     },
     "metadata": {
      "needs_background": "light"
     },
     "output_type": "display_data"
    }
   ],
   "source": [
    "plt.figure()\n",
    "plt.plot(history.history['categorical_accuracy'],color='blue')\n",
    "plt.plot(history.history['val_categorical_accuracy'],color='orange')\n",
    "plt.title('Categorical Accuracy',fontsize=12)\n",
    "plt.ylabel('Accuracy',fontsize=12)\n",
    "plt.xlabel('epoch',fontsize=12)\n",
    "plt.legend(['cat_acc', 'val_cat_acc'])\n",
    "#plt.savefig('Write_up/model_loss.png')\n",
    "plt.show()"
   ]
  },
  {
   "cell_type": "code",
   "execution_count": 44,
   "metadata": {},
   "outputs": [],
   "source": [
    "# predictions_on_test = model.predict(test_input_sequences_tensor)\n",
    "predictions_on_test = model.predict(test_input_sequences_tensor2)"
   ]
  },
  {
   "cell_type": "code",
   "execution_count": 45,
   "metadata": {},
   "outputs": [
    {
     "name": "stdout",
     "output_type": "stream",
     "text": [
      "10104/10104 [==============================] - 0s 12us/step\n"
     ]
    },
    {
     "data": {
      "text/plain": [
       "[1.0902253631930077, 0.3029493270228047]"
      ]
     },
     "execution_count": 45,
     "metadata": {},
     "output_type": "execute_result"
    }
   ],
   "source": [
    "model.evaluate(test_input_sequences_tensor2,test_labels)"
   ]
  },
  {
   "cell_type": "markdown",
   "metadata": {},
   "source": [
    "### First hidden layer weights (PWMs)\n",
    "\n",
    "Need to input sequence corresponding to CRPs binding site. i.e. fixed the shape of test_input_sequences_tensor"
   ]
  },
  {
   "cell_type": "code",
   "execution_count": 46,
   "metadata": {
    "collapsed": true
   },
   "outputs": [],
   "source": [
    "crp_weights = model.layers[4].get_weights()[0].copy()\n",
    "rnap_weights = model.layers[5].get_weights()[0].copy()"
   ]
  },
  {
   "cell_type": "code",
   "execution_count": 47,
   "metadata": {},
   "outputs": [
    {
     "data": {
      "image/png": "[encoded data removed]",
      "text/plain": [
       "<Figure size 864x216 with 2 Axes>"
      ]
     },
     "metadata": {
      "needs_background": "light"
     },
     "output_type": "display_data"
    },
    {
     "data": {
      "image/png": "[encoded data removed]",
      "text/plain": [
       "<Figure size 1152x216 with 2 Axes>"
      ]
     },
     "metadata": {
      "needs_background": "light"
     },
     "output_type": "display_data"
    }
   ],
   "source": [
    "crp_weights = crp_weights.reshape(26,4)\n",
    "rnap_weights = rnap_weights.reshape(41,4)\n",
    "\n",
    "\n",
    "plt.figure(figsize=(12,3))\n",
    "sns.heatmap(crp_weights.T,cmap='RdBu_r')\n",
    "plt.show()\n",
    "plt.figure(figsize=(16,3))\n",
    "sns.heatmap(rnap_weights.T,cmap='RdBu_r')\n",
    "#sns.heatmap(rnap_weights.T,cmap='RdBu_r')\n",
    "plt.show()"
   ]
  },
  {
   "cell_type": "code",
   "execution_count": 48,
   "metadata": {},
   "outputs": [
    {
     "data": {
      "image/png": "[encoded data removed]",
      "text/plain": [
       "<Figure size 720x180 with 1 Axes>"
      ]
     },
     "metadata": {
      "needs_background": "light"
     },
     "output_type": "display_data"
    },
    {
     "data": {
      "image/png": "[encoded data removed]",
      "text/plain": [
       "<Figure size 720x180 with 1 Axes>"
      ]
     },
     "metadata": {
      "needs_background": "light"
     },
     "output_type": "display_data"
    }
   ],
   "source": [
    "import logomaker\n",
    "crp_logo_df = pd.DataFrame(crp_weights,columns=['A','C','G','T'])\n",
    "\n",
    "crp_df.columns = ['A','C','G','T']\n",
    "logomaker.Logo(-crp_df,center_values=True, font_name='Arial Rounded MT Bold')\n",
    "plt.tick_params(labelsize=14)\n",
    "plt.title('CRP PSAM Reported in Kinney et al. 2010',fontsize=14)\n",
    "plt.ylabel(\"$-\\Delta \\Delta G$ ($k_{cal}/mol$)\", labelpad=-1)\n",
    "logomaker.Logo(-crp_logo_df,center_values=True, font_name='Arial Rounded MT Bold')\n",
    "plt.title('CRP PSAM learned by neural network (full-wt data).',fontsize=14)\n",
    "plt.tick_params(labelsize=14)\n",
    "plt.ylabel(\"$-\\Delta \\Delta G$ ($k_{cal}/mol$)\", labelpad=-1)\n",
    "\n",
    "plt.show()\n",
    "#logomaker.Logo(rnap_logo_df,center_values=True, font_name='Arial Rounded MT Bold')"
   ]
  },
  {
   "cell_type": "code",
   "execution_count": 49,
   "metadata": {},
   "outputs": [
    {
     "data": {
      "image/png": "[encoded data removed]",
      "text/plain": [
       "<Figure size 720x180 with 1 Axes>"
      ]
     },
     "metadata": {
      "needs_background": "light"
     },
     "output_type": "display_data"
    },
    {
     "data": {
      "image/png": "[encoded data removed]",
      "text/plain": [
       "<Figure size 720x180 with 1 Axes>"
      ]
     },
     "metadata": {
      "needs_background": "light"
     },
     "output_type": "display_data"
    }
   ],
   "source": [
    "rnap_logo_df = pd.DataFrame(rnap_weights,columns=['A','C','G','T'])\n",
    "rnap_df.columns = ['A','C','G','T']\n",
    "logomaker.Logo(-rnap_df,center_values=True, font_name='Arial Rounded MT Bold')\n",
    "plt.tick_params(labelsize=14)\n",
    "plt.title('RNAP PSAM Reported in Kinney et al. 2010',fontsize=14)\n",
    "plt.ylabel(\"$-\\Delta \\Delta G$ ($k_{cal}/mol T$)\", labelpad=-1)\n",
    "logomaker.Logo(-rnap_logo_df,center_values=True, font_name='Arial Rounded MT Bold')\n",
    "plt.tick_params(labelsize=14)\n",
    "plt.title('RNAP PSAM learned by neural network (full-wt data).',fontsize=14)\n",
    "plt.ylabel(\"$-\\Delta \\Delta G$ ($k_{cal}/mol T$)\", labelpad=-1)\n",
    "plt.tick_params(labelsize=14)"
   ]
  },
  {
   "cell_type": "code",
   "execution_count": 50,
   "metadata": {},
   "outputs": [
    {
     "data": {
      "text/plain": [
       "[array([[3.109985]], dtype=float32)]"
      ]
     },
     "execution_count": 50,
     "metadata": {},
     "output_type": "execute_result"
    }
   ],
   "source": [
    "model.layers[6].get_weights()"
   ]
  },
  {
   "cell_type": "code",
   "execution_count": 69,
   "metadata": {},
   "outputs": [],
   "source": [
    "e_i_model = Model(inputs=model.input,outputs=model.layers[6].output)\n",
    "e_i_node_output = e_i_model.predict([test_input_sequences_tensor2])"
   ]
  },
  {
   "cell_type": "code",
   "execution_count": 73,
   "metadata": {},
   "outputs": [
    {
     "data": {
      "text/plain": [
       "3.109985"
      ]
     },
     "execution_count": 73,
     "metadata": {},
     "output_type": "execute_result"
    }
   ],
   "source": [
    "np.mean(e_i_node_output)"
   ]
  },
  {
   "cell_type": "code",
   "execution_count": 51,
   "metadata": {},
   "outputs": [
    {
     "data": {
      "text/plain": [
       "[array([[0., 1., 0., 1.],\n",
       "        [0., 0., 1., 1.],\n",
       "        [0., 0., 0., 1.]], dtype=float32)]"
      ]
     },
     "execution_count": 51,
     "metadata": {},
     "output_type": "execute_result"
    }
   ],
   "source": [
    "model.layers[8].get_weights()"
   ]
  },
  {
   "cell_type": "code",
   "execution_count": 52,
   "metadata": {},
   "outputs": [
    {
     "data": {
      "text/plain": [
       "[array([[0.       ],\n",
       "        [0.       ],\n",
       "        [1.2942051],\n",
       "        [5.031884 ]], dtype=float32)]"
      ]
     },
     "execution_count": 52,
     "metadata": {},
     "output_type": "execute_result"
    }
   ],
   "source": [
    "model.layers[9].get_weights()"
   ]
  },
  {
   "cell_type": "markdown",
   "metadata": {
    "collapsed": true
   },
   "source": [
    "### MI estimation"
   ]
  },
  {
   "cell_type": "code",
   "execution_count": 53,
   "metadata": {},
   "outputs": [],
   "source": [
    "tau_layer_model = Model(inputs=model.input,outputs=model.layers[9].output)\n",
    "tau_output = tau_layer_model.predict(test_input_sequences_tensor2)\n"
   ]
  },
  {
   "cell_type": "code",
   "execution_count": 54,
   "metadata": {},
   "outputs": [
    {
     "data": {
      "image/png": "[encoded data removed]",
      "text/plain": [
       "<Figure size 432x288 with 1 Axes>"
      ]
     },
     "metadata": {
      "needs_background": "light"
     },
     "output_type": "display_data"
    }
   ],
   "source": [
    "plt.hist(tau_output,bins=40)\n",
    "plt.show()"
   ]
  },
  {
   "cell_type": "code",
   "execution_count": 55,
   "metadata": {
    "collapsed": true
   },
   "outputs": [],
   "source": [
    "# estimate probability density at each of the output bins using deft. \n",
    "import suftware"
   ]
  },
  {
   "cell_type": "code",
   "execution_count": 56,
   "metadata": {},
   "outputs": [],
   "source": [
    "softmax_bin_layer_model = Model(inputs=model.input,outputs=model.layers[11].output)\n",
    "softmax_bin_out = softmax_bin_layer_model.predict(test_input_sequences_tensor2)\n"
   ]
  },
  {
   "cell_type": "code",
   "execution_count": 57,
   "metadata": {},
   "outputs": [
    {
     "data": {
      "image/png": "[encoded data removed]",
      "text/plain": [
       "<Figure size 432x288 with 1 Axes>"
      ]
     },
     "metadata": {
      "needs_background": "light"
     },
     "output_type": "display_data"
    }
   ],
   "source": [
    "for _ in range(10):\n",
    "    plt.scatter(tau_output,softmax_bin_out[:,_])\n",
    "plt.show()"
   ]
  },
  {
   "cell_type": "code",
   "execution_count": 58,
   "metadata": {},
   "outputs": [
    {
     "name": "stdout",
     "output_type": "stream",
     "text": [
      "0\n",
      "1\n",
      "2\n",
      "3\n",
      "4\n",
      "5\n",
      "6\n",
      "7\n",
      "8\n",
      "9\n"
     ]
    }
   ],
   "source": [
    "# y_test -> bin number\n",
    "# tau_output -> tau\n",
    "# find p(tau|bin)\n",
    "\n",
    "total_bins = 10\n",
    "\n",
    "function_dict = {}\n",
    "\n",
    "tau_given_bin = {}\n",
    "for b in range(total_bins):\n",
    "    temp_tau_given_bin_n = []\n",
    "    for _ in range(len(y_test)):\n",
    "        if(y_test[_]==b):\n",
    "            temp_tau_given_bin_n.append(tau_output[_])\n",
    "    tau_given_bin[str(b)]= np.array(temp_tau_given_bin_n).flatten()  \n",
    "    Q_star = suftware.DensityEstimator(np.array(temp_tau_given_bin_n).flatten(),alpha=3).density_func\n",
    "    print(b)\n",
    "    function_dict[str(b)] = Q_star"
   ]
  },
  {
   "cell_type": "code",
   "execution_count": 59,
   "metadata": {},
   "outputs": [
    {
     "data": {
      "text/plain": [
       "array([0.79173964, 1.4010942 , 0.64163226, 2.3293548 , 0.67591107,\n",
       "       1.2880063 , 0.77247477, 1.0381563 , 0.7007529 , 0.8720784 ,\n",
       "       1.1935208 , 1.1066566 , 4.965342  , 0.83446676, 1.348652  ,\n",
       "       1.4130404 , 2.422825  , 1.187535  , 0.60205424, 0.6332034 ,\n",
       "       2.6359823 , 1.6897149 , 1.0477701 , 3.6030219 , 3.4471512 ,\n",
       "       4.1438823 , 2.3578558 , 1.1899254 , 0.7550595 , 0.9506456 ,\n",
       "       1.063087  , 4.333209  , 0.8555553 , 1.414795  , 0.87502545,\n",
       "       0.8124225 , 1.3843354 , 2.3573124 , 2.9761257 , 1.480623  ,\n",
       "       1.326227  , 3.3434365 , 0.8942582 , 1.2362937 , 4.723716  ,\n",
       "       0.90146667, 0.6041275 , 4.292225  , 0.2124026 , 1.3255842 ,\n",
       "       1.2689724 , 0.874172  , 5.0253897 , 0.9529362 , 3.3230023 ,\n",
       "       3.6570032 , 1.2091149 , 0.92248386, 0.8204053 , 0.73463583,\n",
       "       0.86667484, 1.4708384 , 1.000079  , 0.81345546, 0.84623265,\n",
       "       1.0732197 , 0.6187568 , 4.960387  , 0.83864516, 0.44574428,\n",
       "       3.845821  , 0.94448006, 1.1013501 , 1.1106851 , 4.6439047 ,\n",
       "       0.8195268 , 1.307496  , 3.1383204 , 1.1157581 , 0.8596059 ,\n",
       "       0.93195283, 0.74053   , 1.2083519 , 1.134912  , 0.867093  ,\n",
       "       0.82158506, 0.24224731, 2.1044445 , 1.0367607 , 0.89809763,\n",
       "       4.9716606 , 4.8870406 , 0.61104125, 2.0835865 , 0.47144946,\n",
       "       0.53757614, 4.2145734 , 1.2307026 , 3.5921383 , 2.0712538 ,\n",
       "       0.6073975 , 0.879739  , 4.781189  , 3.432717  , 1.2974389 ,\n",
       "       2.9270074 , 1.0940098 , 0.9139193 , 4.3779488 , 0.61685926,\n",
       "       1.2634947 , 1.2146627 , 2.5102205 , 0.9126877 , 1.3285025 ,\n",
       "       0.83608484, 5.031884  , 0.8592432 , 1.4074745 , 3.2897675 ,\n",
       "       4.9841332 , 0.55277145, 0.9756149 , 4.0635867 , 3.9634874 ,\n",
       "       0.89013875, 0.8735146 , 1.0471185 , 1.738493  , 1.067098  ,\n",
       "       0.87422305, 2.3471951 , 1.1457713 , 0.8812657 , 1.028403  ,\n",
       "       4.2057533 , 0.7903995 , 0.99605876, 1.3688259 , 1.1337402 ,\n",
       "       3.7911475 , 2.098535  , 4.3754973 , 0.91700435, 1.6587462 ,\n",
       "       4.001037  , 1.1606826 , 1.0156279 , 1.239177  , 1.3578029 ,\n",
       "       0.6335262 , 0.30023873, 0.6333696 , 3.4742875 , 0.89999366,\n",
       "       1.4761617 , 0.5607719 , 0.98133516, 3.771638  , 1.0589193 ,\n",
       "       1.6483593 , 1.8594972 , 0.7668471 , 1.5912609 , 0.35613954,\n",
       "       4.789487  , 2.0603726 , 3.114799  , 0.04716197, 0.47694778,\n",
       "       3.5524688 , 0.7521516 , 1.0294164 , 0.9968405 , 0.9620273 ,\n",
       "       0.65398127, 3.9834943 , 4.983139  , 1.3394594 , 0.6142816 ,\n",
       "       1.0094556 , 0.99596274, 0.80014217, 4.1296263 , 2.7519674 ,\n",
       "       0.8794793 , 1.3029001 , 0.32816455, 2.4044373 , 0.6765291 ,\n",
       "       4.5580325 , 3.967828  , 0.8906495 , 1.0906442 , 4.7279363 ,\n",
       "       0.5161184 , 2.337548  , 2.7013776 , 2.0882168 , 2.8260405 ,\n",
       "       0.8428613 , 1.1442316 , 0.65444136, 1.326432  , 4.8238616 ,\n",
       "       0.99333483, 0.4964472 , 1.1382091 , 3.8482502 , 0.9011562 ,\n",
       "       0.9667769 , 3.8543122 , 2.7530627 , 0.6310253 , 4.624697  ,\n",
       "       1.3689356 , 2.0994427 , 0.6527473 , 2.2793972 , 0.6175534 ,\n",
       "       0.61760634, 1.4953878 , 0.601578  , 0.40051508, 4.9973073 ,\n",
       "       4.4065943 , 4.0836196 , 1.3412242 , 1.3815076 , 1.9123766 ,\n",
       "       0.80798346, 0.12735875, 0.6537397 , 3.3562922 , 1.4401011 ,\n",
       "       0.11507359, 0.5940584 , 1.3507533 , 1.5965585 , 0.92611384,\n",
       "       0.43032327, 0.3208983 , 1.1159238 , 3.1002111 , 4.489603  ,\n",
       "       1.2924328 , 3.484668  , 0.10890255, 0.8416771 , 0.8443475 ,\n",
       "       3.543954  , 1.1170678 , 0.9236987 , 0.8646457 , 0.621379  ,\n",
       "       1.9847925 , 0.9090492 , 1.597715  , 1.7922555 , 1.4364158 ,\n",
       "       1.6355265 , 1.2797664 , 4.109835  , 1.5946945 , 3.0873604 ,\n",
       "       3.1610298 , 1.6189226 , 0.73399085, 0.97139317, 1.1265897 ,\n",
       "       1.8263234 , 1.0405792 , 2.3562136 , 1.0238855 , 4.738297  ,\n",
       "       3.8860593 , 1.0151802 , 0.7486451 , 2.5732408 , 0.8829318 ,\n",
       "       0.8010274 , 0.6677752 , 1.293177  , 1.741256  , 1.7998493 ,\n",
       "       0.49251854, 0.945114  , 0.55295867, 0.864107  , 0.63591343,\n",
       "       3.485178  , 1.3429636 , 1.5767446 , 0.8716382 , 0.8800856 ,\n",
       "       4.0040526 , 4.3517184 , 1.0504451 , 1.1826384 , 4.87723   ,\n",
       "       3.513721  , 2.3840277 , 3.1964195 , 0.4696252 , 0.62874967,\n",
       "       1.0313901 , 1.5634763 , 0.57553554, 0.8391573 , 3.050718  ,\n",
       "       2.448829  , 0.7301565 , 1.5252672 , 1.7786555 , 1.1938139 ,\n",
       "       2.2310193 , 2.0066726 , 1.0969565 , 3.511917  , 0.5996108 ,\n",
       "       0.9526866 , 2.2481034 , 1.3161098 , 0.8679834 , 1.3456093 ,\n",
       "       1.0019982 , 1.6501077 , 3.3217776 , 1.142244  , 3.3037534 ,\n",
       "       1.0284197 , 4.9167423 , 4.7581844 , 1.3568015 , 2.81766   ,\n",
       "       1.9309336 , 2.365581  , 0.40642908, 1.0775353 , 1.408905  ,\n",
       "       1.3062291 , 1.3570141 , 1.9281533 , 1.0833982 , 1.1552749 ,\n",
       "       0.18653564, 2.4951487 , 1.3352233 , 0.95119417, 2.8535533 ,\n",
       "       3.810902  , 0.5715983 , 1.3149903 , 1.8511932 , 3.6280532 ,\n",
       "       0.5878988 , 0.7313309 , 1.4150546 , 0.6745185 , 4.5048957 ,\n",
       "       4.4348617 , 1.2975806 , 0.30750462, 4.969861  , 1.335707  ,\n",
       "       1.231712  , 1.7877929 , 0.97149986, 5.0279503 , 1.540685  ,\n",
       "       1.9799973 , 1.3538122 , 1.3685125 , 0.50705355, 0.5953601 ,\n",
       "       1.1585406 , 1.2563329 , 2.5167265 , 1.2734191 , 1.5540446 ,\n",
       "       1.3126109 , 0.45505932, 2.4313388 , 4.9312496 , 2.0184808 ,\n",
       "       0.66515553, 0.9022415 , 0.4764725 , 0.56543285, 1.1053237 ,\n",
       "       0.73024243, 0.36907017, 1.0743036 , 4.8801374 , 4.8183413 ,\n",
       "       2.2249103 , 0.50469315, 3.632102  , 1.6906588 , 1.8058468 ,\n",
       "       0.51819885, 1.4219654 , 0.6309382 , 0.21065739, 2.1029806 ,\n",
       "       0.9998652 , 1.1622791 , 1.1130699 , 4.0952144 , 1.3381448 ,\n",
       "       1.5247049 , 0.4951328 , 1.2493994 , 1.3122915 , 3.6845975 ,\n",
       "       2.013565  , 3.4178746 , 0.87722695, 2.853407  , 0.6935506 ,\n",
       "       1.6231813 , 1.4559151 , 2.305744  , 4.3112135 , 1.0617594 ,\n",
       "       1.1350021 , 2.2367203 , 2.4651983 , 0.47049797, 0.50088483,\n",
       "       2.7485304 , 0.79137224, 0.35900262, 1.48881   , 0.23736176,\n",
       "       0.67653596, 3.2910883 , 3.6041028 , 0.8876575 , 4.9438043 ,\n",
       "       1.0962393 , 0.9863281 , 1.4563105 , 1.2458963 , 0.9920685 ,\n",
       "       4.752442  , 1.0031762 , 0.61702377, 1.1629539 , 0.58706224,\n",
       "       0.85614866, 1.0596207 , 1.2593287 , 0.47289574, 3.6856685 ,\n",
       "       3.6302013 , 0.7116636 , 0.7466451 , 1.2428076 , 1.0589657 ,\n",
       "       0.72567445, 1.0066801 , 0.6706429 , 2.9584088 , 2.0293293 ,\n",
       "       1.1116124 , 1.0437254 , 1.1069895 , 0.51983356, 0.94548327,\n",
       "       0.9664249 , 0.7999934 , 1.1488969 , 4.9342566 , 4.766412  ,\n",
       "       1.0601488 , 0.57852054, 0.96836054, 0.68477905, 0.79523486,\n",
       "       0.39857376, 0.6320736 , 0.498168  , 0.68047214, 0.13257289,\n",
       "       0.32080075, 0.5755018 , 0.6189635 , 1.2167364 , 0.46522865,\n",
       "       2.4529974 , 0.87020075, 1.435278  , 0.887733  , 4.738113  ,\n",
       "       1.7964001 , 4.932426  , 5.0009723 , 1.0841324 , 2.5499468 ,\n",
       "       4.7731028 , 0.7056843 , 1.0134033 , 4.9062943 , 1.215919  ,\n",
       "       4.475682  , 0.85461867, 0.802435  , 1.0883808 , 0.7218762 ,\n",
       "       0.22979054, 1.7347078 , 1.2520902 , 1.6018167 , 3.797056  ,\n",
       "       0.45078436, 3.34904   , 0.7057012 , 4.8662686 , 1.0788307 ,\n",
       "       0.26707733, 1.0397681 , 0.8710847 , 1.9426707 , 5.011666  ,\n",
       "       1.1666455 , 1.2488782 , 1.8030479 , 1.4579979 , 1.060266  ,\n",
       "       3.9941087 , 3.310742  , 2.773475  , 1.236713  , 1.8377434 ,\n",
       "       0.96725607, 0.47496837, 1.5814824 , 1.0916088 , 1.071233  ,\n",
       "       4.690114  , 0.7350689 , 1.12313   , 4.5221825 , 0.54715365,\n",
       "       1.4810399 , 3.7526522 , 1.1401645 , 1.6615272 , 1.2310185 ,\n",
       "       0.60699934, 2.0606153 , 3.940565  , 1.3715997 , 0.5533534 ,\n",
       "       4.497225  , 4.2281284 , 4.886503  , 0.49908683, 0.69502264,\n",
       "       0.26527268, 1.0035466 , 1.9023817 , 4.8325515 , 1.1228045 ,\n",
       "       2.0389051 , 0.76673687, 0.9040928 , 0.8053349 , 0.75728106,\n",
       "       0.6954772 , 0.56647646, 3.932548  , 0.9866183 , 1.8375746 ,\n",
       "       3.9470804 , 2.3914142 , 1.3684472 , 0.88454866, 4.2342615 ,\n",
       "       0.8530466 , 0.93989027, 0.8585665 , 2.7260916 , 0.7847012 ,\n",
       "       4.9930997 , 1.272243  , 3.3143685 , 0.7126852 , 0.9854709 ,\n",
       "       1.5136987 , 1.69659   , 1.7629123 , 1.7079035 , 4.9941816 ,\n",
       "       1.0868536 , 1.0518053 , 5.001314  , 2.0971086 , 4.3295913 ,\n",
       "       3.7811656 , 0.8484626 , 0.4667154 , 1.4473763 , 3.4276016 ,\n",
       "       0.6189668 , 1.0390275 , 1.2794292 , 2.0614736 , 0.5084753 ,\n",
       "       0.9702419 , 1.1582282 , 4.5497293 , 4.5038695 , 4.448181  ,\n",
       "       1.1967782 , 4.798089  , 1.9331865 , 4.964537  , 3.8056822 ,\n",
       "       3.7484899 , 0.88242674, 1.2492607 , 0.52983326, 4.7162414 ,\n",
       "       1.3963486 , 2.0869293 , 0.90257126, 0.06119767, 0.9350602 ,\n",
       "       1.0580437 , 4.8928313 , 4.461866  , 0.69050646, 1.3087734 ,\n",
       "       0.41414276, 4.2244105 , 0.72254527, 0.94709575, 4.7476697 ,\n",
       "       0.41415793, 1.976458  , 2.5728385 , 0.67972845, 4.587147  ,\n",
       "       0.7441361 , 0.79033065, 0.27182   , 0.7814215 , 0.5903671 ,\n",
       "       3.9430332 , 1.1747377 , 0.29931444, 1.0432335 , 1.957728  ,\n",
       "       0.4665976 , 3.3375018 , 2.5934198 , 4.532921  , 0.77418506,\n",
       "       1.1422316 , 0.4963724 , 1.1736869 , 1.7106762 , 0.60940766,\n",
       "       0.9033506 , 1.4678879 , 0.62741435, 4.4231725 , 0.6303458 ,\n",
       "       3.1042464 , 0.3847792 , 2.112146  , 0.5468137 , 1.1231989 ,\n",
       "       2.3857288 , 0.53364986, 0.7986824 , 4.0550904 , 3.5155678 ,\n",
       "       5.0170546 , 1.3215318 , 2.651991  , 1.1485794 , 3.3118858 ,\n",
       "       1.5955275 , 0.9262499 , 2.2820785 , 0.8686402 , 4.3497825 ,\n",
       "       0.700093  , 4.902604  , 3.0376704 , 1.4816185 , 0.58268344,\n",
       "       4.910673  , 0.9156775 , 2.010385  , 0.61527175, 0.5019841 ,\n",
       "       3.3310297 , 0.49120706, 1.025336  , 1.2148035 , 0.34047988,\n",
       "       1.0987428 , 1.6454542 , 2.761521  , 1.0896024 , 1.3616072 ,\n",
       "       1.3259318 , 0.7891234 , 1.5083863 , 0.38323265, 0.4663144 ,\n",
       "       1.5451804 , 0.863455  , 1.3983338 , 1.7087644 , 1.0011678 ,\n",
       "       5.0275273 , 0.97710335, 1.3443749 , 0.78625625, 0.7772942 ,\n",
       "       1.3152337 , 1.6066804 , 0.7815083 , 0.6451175 , 3.9066722 ,\n",
       "       5.006871  , 0.7625468 , 1.1039648 , 1.0931329 , 3.2877238 ,\n",
       "       0.75837106, 0.7135635 , 0.98845875, 1.1073564 , 3.8812969 ,\n",
       "       1.8075415 , 1.1831264 , 1.8193393 , 0.77234757, 0.8236721 ,\n",
       "       0.36484757, 1.1292922 , 0.54989207, 3.1876202 , 3.5615237 ,\n",
       "       3.1958601 , 1.8280951 , 0.6207701 , 3.876375  , 0.45309994,\n",
       "       3.467204  , 0.91649157, 0.5568835 , 1.8611608 , 4.247215  ,\n",
       "       0.1393875 , 1.000299  , 2.1386714 , 0.85407144, 0.7505416 ,\n",
       "       4.738565  , 2.261327  , 1.355058  , 0.79772496, 1.3022387 ,\n",
       "       0.9912237 , 1.2340453 , 0.85917014, 0.29526085, 1.1980414 ,\n",
       "       0.7127927 , 1.7805156 , 3.6334455 , 0.57655233, 1.0792637 ,\n",
       "       0.5096527 , 4.432253  , 1.5410848 , 0.8147504 , 1.8296766 ,\n",
       "       0.715368  , 1.31295   , 0.42001906, 0.5133955 , 1.1858125 ,\n",
       "       0.7894759 , 1.1198064 , 1.1365223 , 1.049241  , 1.3712934 ,\n",
       "       0.88815844, 4.369476  , 1.3594989 , 0.32066864, 0.6948746 ,\n",
       "       0.59270567, 1.407828  , 0.4198044 , 1.1021755 , 2.0511115 ,\n",
       "       4.946416  , 0.6122269 , 1.2409245 , 0.627187  , 2.6228266 ,\n",
       "       0.44182727, 0.7848858 , 2.629154  , 0.13245328, 1.1904794 ,\n",
       "       0.8627261 , 0.68528515, 0.32846344, 2.1425667 , 0.9997635 ,\n",
       "       1.0574065 , 0.7205396 , 1.1803842 , 2.142314  , 0.57731396,\n",
       "       1.5559504 , 2.820989  , 0.5751596 , 0.68796915, 0.7066632 ,\n",
       "       3.4887023 , 4.585105  , 4.4875817 , 1.403362  , 1.1065724 ,\n",
       "       0.8900447 , 0.6835048 , 0.51668274, 1.6801265 , 1.1052382 ,\n",
       "       0.73355764, 0.99676305, 2.7743182 , 0.777015  , 0.49739486,\n",
       "       1.2245147 , 0.7510726 , 0.81622434, 1.1015977 , 0.43344742,\n",
       "       1.3156978 , 0.87709254, 4.887274  , 0.7634209 , 0.11887946,\n",
       "       1.540379  , 3.0949173 , 1.0003375 , 0.5347479 , 4.9978733 ,\n",
       "       1.3327762 , 0.71841544, 0.26328325, 5.0221667 , 1.9089437 ,\n",
       "       0.9668748 , 1.0099666 , 1.376999  , 0.38442832, 0.9787577 ,\n",
       "       0.5820575 , 1.0899022 , 1.1207021 , 0.9518514 , 2.5091226 ,\n",
       "       0.8317095 , 1.6293943 , 1.0375373 , 1.7452052 , 1.1706954 ,\n",
       "       1.4892932 , 2.2438293 , 2.2705154 , 2.044373  , 4.906365  ,\n",
       "       0.4085581 , 1.1907628 , 0.47339797, 0.8700777 , 0.9383594 ,\n",
       "       1.2485893 , 0.42055833, 0.76509327, 0.9567611 , 1.1072028 ,\n",
       "       0.38714886, 1.144472  , 1.0021524 , 1.7060292 , 2.173743  ,\n",
       "       1.3420136 , 1.2103595 , 2.8873    , 4.7475066 , 0.6346077 ,\n",
       "       4.813139  , 0.60354924, 0.9852032 , 3.9765396 , 0.65422475,\n",
       "       0.8973662 , 1.0858465 , 0.4201095 , 0.6549592 , 4.9054785 ,\n",
       "       2.6347842 , 3.4926033 , 0.62154937, 0.84885395, 3.484585  ,\n",
       "       1.2680452 , 0.5371405 , 0.60732317, 3.7703967 , 1.3522557 ,\n",
       "       2.6058128 , 0.7121311 , 1.9298955 , 1.0735749 , 1.8392062 ,\n",
       "       0.95899385, 4.3153853 , 4.9253545 , 5.0193624 , 2.732305  ,\n",
       "       1.0212594 , 2.6370258 , 4.8196096 , 0.41549146, 1.7439188 ,\n",
       "       0.93539166, 5.0305815 , 5.0303426 , 3.5590386 , 1.935461  ,\n",
       "       0.8714525 , 0.34295067, 0.9346045 , 4.5521727 , 3.9659863 ,\n",
       "       3.3893838 , 3.6141734 , 4.9136286 , 0.40830904, 1.0884234 ,\n",
       "       0.8840536 , 0.9237007 , 0.73352593, 1.4026476 , 1.2026315 ,\n",
       "       0.42951465, 1.270695  , 0.762133  , 1.4748266 , 1.1536683 ,\n",
       "       1.8451884 ], dtype=float32)"
      ]
     },
     "execution_count": 59,
     "metadata": {},
     "output_type": "execute_result"
    }
   ],
   "source": [
    "tau_given_bin['6']"
   ]
  },
  {
   "cell_type": "code",
   "execution_count": 60,
   "metadata": {
    "collapsed": true
   },
   "outputs": [],
   "source": [
    "# rename function dict to Qstar dict, \n",
    "# comment out code below\n",
    "# compute mutual information on full data?"
   ]
  },
  {
   "cell_type": "code",
   "execution_count": 61,
   "metadata": {},
   "outputs": [
    {
     "name": "stdout",
     "output_type": "stream",
     "text": [
      "0.7329559743100427\n"
     ]
    }
   ],
   "source": [
    "#suftware.DensityEstimator(np.log(tau_given_bin['6']))\n",
    "num_gridpoints = 1000\n",
    "gridpoints = np.linspace(min(tau_output),max(tau_output),num_gridpoints)\n",
    "h = gridpoints[1] - gridpoints[0]\n",
    "\n",
    "SMALL = 1E-10\n",
    "bins = 10\n",
    "\n",
    "def p_tau_given_bin(x,b):\n",
    "    key = '%d'%b\n",
    "    return function_dict[key](x) + SMALL\n",
    "\n",
    "def p_tau(x):\n",
    "    tmp = np.zeros(len(x))\n",
    "    for f in function_dict.values():\n",
    "        tmp += f(x)\n",
    "    tmp /= len(function_dict) + SMALL\n",
    "    return tmp\n",
    " \n",
    "mutual_information = sum([sum(h * p_tau_given_bin(gridpoints,b) * np.log2(p_tau_given_bin(gridpoints,b) / p_tau(gridpoints))) \n",
    "                          for b in range(0,bins)]) / bins\n",
    "\n",
    "print(mutual_information)"
   ]
  },
  {
   "cell_type": "code",
   "execution_count": 62,
   "metadata": {},
   "outputs": [
    {
     "data": {
      "image/png": "[encoded data removed]",
      "text/plain": [
       "<Figure size 288x288 with 1 Axes>"
      ]
     },
     "metadata": {
      "needs_background": "light"
     },
     "output_type": "display_data"
    }
   ],
   "source": [
    "density = suftware.DensityEstimator(np.log(tau_given_bin['4']))\n",
    "density.plot()"
   ]
  },
  {
   "cell_type": "code",
   "execution_count": 63,
   "metadata": {},
   "outputs": [
    {
     "name": "stdout",
     "output_type": "stream",
     "text": [
      "10104 0.7329559743100427\n"
     ]
    }
   ],
   "source": [
    "# 15156 0.5425835651212284\n",
    "print(len(y_test), mutual_information)"
   ]
  },
  {
   "cell_type": "code",
   "execution_count": 64,
   "metadata": {},
   "outputs": [
    {
     "data": {
      "text/plain": [
       "Text(0.06,0.5,'Bin Number')"
      ]
     },
     "execution_count": 64,
     "metadata": {},
     "output_type": "execute_result"
    },
    {
     "data": {
      "image/png": "[encoded data removed]",
      "text/plain": [
       "<Figure size 720x432 with 10 Axes>"
      ]
     },
     "metadata": {
      "needs_background": "light"
     },
     "output_type": "display_data"
    }
   ],
   "source": [
    "fig, ax = plt.subplots(nrows=bins,sharex=True, ncols=1,figsize=(10,6))   \n",
    "ax[0].set_title(r'P($\\tau$|bin)')\n",
    "\n",
    "for bin_index in range(bins):\n",
    "\n",
    "    for xc in np.log(tau_given_bin[str(bin_index)]):\n",
    "        \n",
    "        ax[bin_index].axvline(x=xc,alpha=0.25,linewidth=1,color='lightcoral')\n",
    "        \n",
    "    ax[bin_index].set_ylabel(str(bin_index))\n",
    "    ax[bin_index].set_yticks([])\n",
    "    \n",
    "ax[bin_index].set_xlabel(r'$\\log(\\tau)$')    \n",
    "fig.text(0.06, 0.5, 'Bin Number', ha='center', va='center', rotation='vertical')    \n",
    "# plt.savefig('bin_vs_log_tau.pdf')"
   ]
  },
  {
   "cell_type": "code",
   "execution_count": 65,
   "metadata": {
    "collapsed": true
   },
   "outputs": [],
   "source": [
    "# for temp_index in range(10):\n",
    "\n",
    "#     np.savetxt(str(temp_index)+'.txt',np.log(tau_given_bin[str(temp_index)]))"
   ]
  },
  {
   "cell_type": "code",
   "execution_count": 66,
   "metadata": {},
   "outputs": [
    {
     "name": "stdout",
     "output_type": "stream",
     "text": [
      "1.12.0\n",
      "2.2.4\n"
     ]
    }
   ],
   "source": [
    "print(tf.__version__)\n",
    "print(keras.__version__)"
   ]
  },
  {
   "cell_type": "code",
   "execution_count": null,
   "metadata": {
    "collapsed": true
   },
   "outputs": [],
   "source": []
  }
 ],
 "metadata": {
  "kernelspec": {
   "display_name": "Python 3",
   "language": "python",
   "name": "python3"
  },
  "language_info": {
   "codemirror_mode": {
    "name": "ipython",
    "version": 3
   },
   "file_extension": ".py",
   "mimetype": "text/x-python",
   "name": "python",
   "nbconvert_exporter": "python",
   "pygments_lexer": "ipython3",
   "version": "3.6.7"
  }
 },
 "nbformat": 4,
 "nbformat_minor": 2
}
