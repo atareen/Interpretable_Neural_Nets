{
 "cells": [
  {
   "cell_type": "code",
   "execution_count": 1,
   "metadata": {},
   "outputs": [
    {
     "name": "stderr",
     "output_type": "stream",
     "text": [
      "Using TensorFlow backend.\n"
     ]
    }
   ],
   "source": [
    "from __future__ import division\n",
    "import pandas as pd\n",
    "import numpy as np\n",
    "from numpy import argmax\n",
    "from scipy import constants\n",
    "import random\n",
    "\n",
    "import os\n",
    "import sys\n",
    "import re\n",
    "import pdb\n",
    "import glob\n",
    "\n",
    "import suftware\n",
    "\n",
    "from sklearn.preprocessing import LabelEncoder\n",
    "from sklearn.preprocessing import OneHotEncoder\n",
    "from sklearn.model_selection import train_test_split\n",
    "\n",
    "import keras\n",
    "from keras.models import Sequential, Model\n",
    "from keras.layers import Dense, Dropout, Activation, Input, Lambda, Concatenate\n",
    "from keras.optimizers import Adam\n",
    "from keras import metrics\n",
    "from keras import regularizers\n",
    "from keras import callbacks\n",
    "import keras.backend as K\n",
    "\n",
    "import tensorflow as tf\n",
    "\n",
    "from tensorflow.python.framework import ops\n",
    "from tensorflow.python.ops import math_ops\n",
    "\n",
    "import seaborn as sns\n",
    "import matplotlib.pyplot as plt\n",
    "import matplotlib.patches as patches\n",
    "from matplotlib import cm\n",
    "from matplotlib.colors import ListedColormap, LinearSegmentedColormap\n",
    "%matplotlib inline\n",
    "plt.ion()"
   ]
  },
  {
   "cell_type": "code",
   "execution_count": 2,
   "metadata": {
    "collapsed": true
   },
   "outputs": [],
   "source": [
    "# Load the energy matrices from Kinney et al. 2010\n",
    "crp_df = pd.read_csv('../data/energy_matrices/crp_tau_final_all.26.txt', sep = \"\\t\", usecols = range(1,5))\n",
    "rnap_df = pd.read_csv('../data/energy_matrices/rnap_tau_final_all.41.txt', sep = \"\\t\", usecols = range(1,5))\n",
    "\n",
    "# Convert the dataframe to numpy array for downstream processing\n",
    "crp_array = pd.DataFrame.to_numpy(crp_df)\n",
    "rnap_array = pd.DataFrame.to_numpy(rnap_df)"
   ]
  },
  {
   "cell_type": "code",
   "execution_count": 3,
   "metadata": {
    "collapsed": true
   },
   "outputs": [],
   "source": [
    "def mutate_sequence(con_seq, mut_rate):\n",
    "    bases = [\"A\",\"C\",\"G\",\"T\"]\n",
    "    new_seq = list(con_seq)\n",
    "    to_mutate = np.random.random(size = len(con_seq)) < mut_rate\n",
    "    for i in range(0,len(to_mutate)):\n",
    "        if to_mutate[i]:\n",
    "            new_seq[i] = random.choice([b for b in bases if b not in new_seq[i]])\n",
    "    return ''.join(new_seq)\n",
    "\n",
    "# Fit a label encoder and a onehot encoder\n",
    "bases = [\"A\",\"C\",\"G\",\"T\"]\n",
    "label_encoder = LabelEncoder()\n",
    "label_encoder.fit(bases)\n",
    "tmp = label_encoder.transform(bases)\n",
    "tmp = tmp.reshape(len(tmp), 1)\n",
    "onehot_encoder = OneHotEncoder(sparse = False)\n",
    "onehot_encoder.fit(tmp)\n",
    "\n",
    "# Encode sequence into onehot\n",
    "def onehot_sequence(sequence, lab_encoder = label_encoder, one_encoder = onehot_encoder):\n",
    "    \"\"\"Sequence as a string\"\"\"\n",
    "    tmp = lab_encoder.transform(list(sequence))\n",
    "    tmp = tmp.reshape(len(tmp),1)\n",
    "    tmp = one_encoder.transform(tmp)\n",
    "    return tmp\n",
    "\n",
    "# Calculate energy\n",
    "def get_energy(seq_onehot, matrix_array):\n",
    "    return np.sum(matrix_array * seq_onehot)\n",
    "\n",
    "# Calculate boltzmann weight\n",
    "def get_transcription(energy,mu=2.7):\n",
    "    tau_max = 1.00\n",
    "    return tau_max*(np.exp(-(energy-mu))/(1+np.exp(-(energy-mu))))"
   ]
  },
  {
   "cell_type": "code",
   "execution_count": 4,
   "metadata": {
    "collapsed": true
   },
   "outputs": [],
   "source": [
    "# Set up parameters\n",
    "gaps = 7 # Length of gaps between CRP and RNAP binding sites\n",
    "c_r = 5.94e-3 # Concentration of RNAP; Empirically determined\n",
    "c_c = 10 ** -1.2 # Concentration of active CRP\n",
    "e_i = -3.26 # Energy of interaction\n",
    "t_bg = 0.01 # Background noise\n",
    "consensus_sequence = \"AATTAATGTGAGTTAGCTCACTCATTAGGCACCCCAGGCTTTACACTTTATGCTTCCGGCTCGTATGTTGTGTGG\"\n",
    "crp_wt_energy = 6.9 # From Kinney et al. 2010\n",
    "rnap_wt_energy = 8.3 # From Kinney et al. 2010"
   ]
  },
  {
   "cell_type": "code",
   "execution_count": 5,
   "metadata": {
    "collapsed": true
   },
   "outputs": [],
   "source": [
    "# Create a single energy matrix\n",
    "energy_array = np.concatenate((crp_array, np.zeros([gaps,4]), rnap_array))\n",
    "\n",
    "# Obtain positional information from the parameters given\n",
    "crp_start = 1\n",
    "crp_end = crp_start + len(crp_array)\n",
    "gap_start = crp_end\n",
    "gap_end = gap_start + gaps\n",
    "rnap_start = gap_end\n",
    "rnap_end = rnap_start + len(rnap_array)"
   ]
  },
  {
   "cell_type": "code",
   "execution_count": 6,
   "metadata": {
    "collapsed": true
   },
   "outputs": [],
   "source": [
    "#input_data_crp = pd.read_csv('crp-wt/data.txt',delim_whitespace=True)\n",
    "input_data_full_wt = pd.read_csv('../data/full-wt/data.txt',delim_whitespace=True)"
   ]
  },
  {
   "cell_type": "code",
   "execution_count": 7,
   "metadata": {
    "collapsed": true
   },
   "outputs": [],
   "source": [
    "sequences = []\n",
    "bin_number = []\n",
    "\n",
    "for _ in range(len(input_data_full_wt)):\n",
    "    sequences.append(input_data_full_wt['seq'][_])\n",
    "    bin_number.append(argmax(input_data_full_wt.iloc[_,1:len(input_data_full_wt.columns)].values))"
   ]
  },
  {
   "cell_type": "code",
   "execution_count": 8,
   "metadata": {},
   "outputs": [
    {
     "data": {
      "image/png": "[encoded data removed]",
      "text/plain": [
       "<Figure size 432x288 with 1 Axes>"
      ]
     },
     "metadata": {
      "needs_background": "light"
     },
     "output_type": "display_data"
    }
   ],
   "source": [
    "plt.hist(bin_number,bins=40)\n",
    "plt.show()"
   ]
  },
  {
   "cell_type": "code",
   "execution_count": 9,
   "metadata": {
    "collapsed": true
   },
   "outputs": [],
   "source": [
    "X_train, X_test, y_train, y_test = train_test_split(sequences, bin_number, test_size=0.2)"
   ]
  },
  {
   "cell_type": "code",
   "execution_count": 10,
   "metadata": {},
   "outputs": [
    {
     "data": {
      "image/png": "[encoded data removed]",
      "text/plain": [
       "<Figure size 432x288 with 1 Axes>"
      ]
     },
     "metadata": {
      "needs_background": "light"
     },
     "output_type": "display_data"
    }
   ],
   "source": [
    "plt.hist(y_train,bins=40,alpha=0.5,density=True)\n",
    "plt.hist(y_test,bins=40,alpha=0.5,density=True)\n",
    "plt.show()"
   ]
  },
  {
   "cell_type": "code",
   "execution_count": 11,
   "metadata": {
    "collapsed": true
   },
   "outputs": [],
   "source": [
    "#len(X_train[0][1:27]+X_train[0][33:74])"
   ]
  },
  {
   "cell_type": "code",
   "execution_count": 12,
   "metadata": {
    "collapsed": true
   },
   "outputs": [],
   "source": [
    "######\n",
    "## Define custom function for keras\n",
    "######\n",
    "\n",
    "def log_poisson_loss(y_true, y_pred):\n",
    "    return tf.nn.log_poisson_loss(y_true,y_pred)\n",
    "\n",
    "def poisson_loss(y_true, y_pred):\n",
    "    y_pred = ops.convert_to_tensor(y_pred)\n",
    "    y_true = math_ops.cast(y_true, y_pred.dtype)\n",
    "    return K.mean(y_pred - y_true * math_ops.log(y_pred + K.epsilon()), axis=-1)\n"
   ]
  },
  {
   "cell_type": "code",
   "execution_count": 13,
   "metadata": {
    "collapsed": true
   },
   "outputs": [],
   "source": [
    "# convert the crp part of the sequence to one hot encoding\n",
    "input_seqs_ohe = []\n",
    "for _ in range(len(X_train)):\n",
    "    #input_seqs_ohe.append(onehot_sequence(X_train[_][1:27]+X_train[_][33:74]))\n",
    "    input_seqs_ohe.append(onehot_sequence(X_train[_][1:27]+X_train[_][34:75]))\n",
    "    \n",
    "test_seqs_ohe = []    \n",
    "for _ in range(len(X_test)):\n",
    "    #test_seqs_ohe.append(onehot_sequence(X_test[_][1:27]+X_test[_][33:74]))\n",
    "    test_seqs_ohe.append(onehot_sequence(X_test[_][1:27]+X_test[_][34:75]))"
   ]
  },
  {
   "cell_type": "code",
   "execution_count": 14,
   "metadata": {},
   "outputs": [
    {
     "name": "stdout",
     "output_type": "stream",
     "text": [
      "(40414, 67, 4)\n",
      "(10104, 67, 4)\n"
     ]
    }
   ],
   "source": [
    "print(np.shape(input_seqs_ohe))\n",
    "print(np.shape(test_seqs_ohe))"
   ]
  },
  {
   "cell_type": "code",
   "execution_count": 15,
   "metadata": {
    "collapsed": true
   },
   "outputs": [],
   "source": [
    "# one-hot encoding for y-labels\n",
    "\n",
    "number_bins = 10\n",
    "\n",
    "def int_to_onehot(n, n_classes):\n",
    "    v = [0] * n_classes\n",
    "    v[n] = 1\n",
    "    return v\n",
    "\n",
    "y_train_ohe = []\n",
    "y_test_ohe = []\n",
    "\n",
    "for _ in range(len(y_train)):\n",
    "    y_train_ohe.append(int_to_onehot(y_train[_], number_bins))\n",
    "    \n",
    "for _ in range(len(y_test)):\n",
    "    y_test_ohe.append(int_to_onehot(y_test[_], number_bins))    "
   ]
  },
  {
   "cell_type": "code",
   "execution_count": 16,
   "metadata": {},
   "outputs": [
    {
     "data": {
      "text/plain": [
       "10"
      ]
     },
     "execution_count": 16,
     "metadata": {},
     "output_type": "execute_result"
    }
   ],
   "source": [
    "np.shape(y_train_ohe[1])[0]"
   ]
  },
  {
   "cell_type": "code",
   "execution_count": 17,
   "metadata": {
    "collapsed": true
   },
   "outputs": [],
   "source": [
    "number_input_layer_nodes = len(input_seqs_ohe[0])*4 +1   \n",
    "inputTensor = Input((number_input_layer_nodes,),name='Sequence')"
   ]
  },
  {
   "cell_type": "code",
   "execution_count": 18,
   "metadata": {
    "collapsed": true
   },
   "outputs": [],
   "source": [
    "#import tensorflow as tf\n",
    "from keras.layers import multiply\n",
    "\n",
    "class CustomConnected(Dense):\n",
    "\n",
    "    def __init__(self,units,connections, output_dim,**kwargs):\n",
    "        \n",
    "        self.output_dim = output_dim\n",
    "        #this is matrix of connections. I.e., this should be [0,0,trainable,trainable]\n",
    "        self.connections = connections                        \n",
    "        #initalize the original Dense with all the usual arguments   \n",
    "        super(CustomConnected,self).__init__(units,**kwargs)  \n",
    "\n",
    "\n",
    "    def call(self, inputs):\n",
    "        #print(self.connections)\n",
    "        \n",
    "        kernel_times_connections = multiply([self.kernel, self.connections])\n",
    "        #output = K.dot(inputs, self.kernel * self.connections)\n",
    "        \n",
    "        # for implementing custom constraint, print out kernel. Set last two elements equal to each other.\n",
    "        output = K.dot(inputs,kernel_times_connections)\n",
    "\n",
    "        #print('outputs: ',output)\n",
    "        #print('inputs: ',inputs)\n",
    "        #print('kernel',self.kernel)\n",
    "        \n",
    "        if self.use_bias:\n",
    "            output = K.bias_add(output, self.bias)\n",
    "        if self.activation is not None:\n",
    "            output = self.activation(output)\n",
    "        return output\n",
    "    \n",
    "    def compute_output_shape(self, input_shape):\n",
    "        return (input_shape[0], self.output_dim)\n",
    "    "
   ]
  },
  {
   "cell_type": "code",
   "execution_count": 19,
   "metadata": {
    "collapsed": true
   },
   "outputs": [],
   "source": [
    "#from tensorflow.keras import layers\n",
    "from keras import layers\n",
    "import tensorflow as tf\n",
    "\n",
    "\n",
    "class CustomSoftmax(layers.Layer):\n",
    "\n",
    "    def __init__(self, units=4, input_dim=2,output_dim=4):\n",
    "        self.output_dim = output_dim\n",
    "        super(CustomSoftmax, self).__init__()\n",
    "        self.w = self.add_weight(shape=(input_dim, units),\n",
    "                                 initializer='random_normal',\n",
    "                                 name='weights',\n",
    "                                 trainable=False)\n",
    "        self.b = self.add_weight(shape=(units,),\n",
    "                                 initializer='zeros',\n",
    "                                 name='bias',\n",
    "                                 trainable=True)\n",
    "\n",
    "    def call(self, inputs):\n",
    "        \n",
    "        #return K.dot(inputs, self.w) + self.b\n",
    "        #return K.dot(self.w,inputs) + self.b\n",
    "        #return tf.matmul(inputs, self.w) + self.b\n",
    "        output = tf.nn.softmax(tf.matmul(inputs, self.w) + self.b) \n",
    "        print('output:',output)\n",
    "        return output"
   ]
  },
  {
   "cell_type": "code",
   "execution_count": 20,
   "metadata": {
    "collapsed": true
   },
   "outputs": [],
   "source": [
    "# this layer keeps weights non-trainable and biases traianable \n",
    "class CustomSoftmax2(layers.Layer):\n",
    "\n",
    "    def __init__(self, units=4, input_dim=2,output_dim=4):\n",
    "        self.output_dim = output_dim\n",
    "        self.input_dim = input_dim\n",
    "        self.units = units\n",
    "        super(CustomSoftmax2, self).__init__()\n",
    "        \n",
    "    \n",
    "    def build(self, input_shape): \n",
    "        \n",
    "        self.w = self.add_weight(shape=(self.input_dim, self.units),\n",
    "                                 initializer='random_normal',\n",
    "                                 name='weights',\n",
    "                                 trainable=False)\n",
    "        self.b = self.add_weight(shape=(self.units,),\n",
    "                                 initializer='zeros',\n",
    "                                 name='bias',\n",
    "                                 trainable=True)\n",
    "        \n",
    "        super(CustomSoftmax2, self).build(input_shape)    \n",
    "\n",
    "    def call(self, inputs):\n",
    "        \n",
    "        #return K.dot(inputs, self.w) + self.b\n",
    "        #return K.dot(self.w,inputs) + self.b\n",
    "        #return tf.matmul(inputs, self.w) + self.b\n",
    "        output = tf.nn.softmax(tf.matmul(inputs, self.w) + self.b) \n",
    "        print('output:',output)\n",
    "        return output\n",
    "    \n",
    "    def compute_output_shape(self, input_shape):\n",
    "        return (input_shape[0], self.output_dim)"
   ]
  },
  {
   "cell_type": "code",
   "execution_count": 21,
   "metadata": {
    "collapsed": true
   },
   "outputs": [],
   "source": [
    "# this layer keeps weights non-trainable and biases traianable \n",
    "# with the first 3 values of the bias fixed to 0 so that the last\n",
    "# trainable value represents interactions energy\n",
    "\n",
    "from keras.layers import multiply\n",
    "class CustomSoftmax3(layers.Layer):\n",
    "\n",
    "    def __init__(self, units=4, input_dim=2,output_dim=4):\n",
    "        self.output_dim = output_dim\n",
    "        self.input_dim = input_dim\n",
    "        self.units = units\n",
    "        super(CustomSoftmax3, self).__init__()\n",
    "        \n",
    "    \n",
    "    def build(self, input_shape): \n",
    "        \n",
    "        self.w = self.add_weight(shape=(self.input_dim, self.units),\n",
    "                                 initializer='random_normal',\n",
    "                                 name='weights',\n",
    "                                 trainable=False)\n",
    "        self.b = self.add_weight(shape=(self.units,),\n",
    "                                 initializer='zeros',\n",
    "                                 name='bias',\n",
    "                                 trainable=True)\n",
    "        \n",
    "        super(CustomSoftmax3, self).build(input_shape)    \n",
    "\n",
    "    def call(self, inputs):\n",
    "        \n",
    "\n",
    "        #output = tf.nn.softmax(tf.matmul(inputs, self.w) + self.b)\n",
    "        output = tf.nn.softmax(tf.matmul(inputs, self.w) + multiply([self.b,tf.constant([0.0,0.0,0.0,1.0])])) \n",
    "        print('input',inputs)\n",
    "        print('weight: ',self.w)\n",
    "        print('input*weight',tf.matmul(inputs, self.w))\n",
    "        print('output:',output)\n",
    "        return output\n",
    "    \n",
    "    def compute_output_shape(self, input_shape):\n",
    "        return (input_shape[0], self.output_dim)"
   ]
  },
  {
   "cell_type": "code",
   "execution_count": 22,
   "metadata": {},
   "outputs": [
    {
     "name": "stdout",
     "output_type": "stream",
     "text": [
      "WARNING:tensorflow:Variable *= will be deprecated. Use `var.assign(var * other)` if you want assignment to the variable value or `x = x * y` if you want a new python Tensor object.\n"
     ]
    }
   ],
   "source": [
    "# define two groups which represent binding sites for the two proteins crp and rnap\n",
    "\n",
    "group1 = Lambda(lambda x: x[:,0:104], output_shape=((104,)))(inputTensor)\n",
    "group2 = Lambda(lambda x: x[:,104:268], output_shape=((164,)))(inputTensor)\n",
    "group3 = Lambda(lambda x: x[:,268:269], output_shape=((1,)))(inputTensor)\n",
    "\n",
    "\n",
    "# From input to first hidden layer. The groups are connected to two nodes\n",
    "# node group1 represents energy of crp and group2 represents rnap energy.\n",
    "\n",
    "# rename group1 to crp pwm\n",
    "\n",
    "group1 = Dense(1,use_bias=True,name='CRP_pwm')(group1)\n",
    "group2 = Dense(1,use_bias=True,name='RNAP_pwm')(group2)\n",
    "group3 = Dense(1,use_bias=False,name='one-feature')(group3)\n",
    "\n",
    "#group2 = Dense(1,use_bias=False,name='RNAP_pwm',kernel_initializer='RandomNormal',W_constraint=nonneg())(group2)\n",
    "\n",
    "# the groups from the previous layer have to be concatenated so\n",
    "concatenateLayer = Concatenate()([group1,group2,group3])\n",
    "\n",
    "# gammaInput = Input(shape=(1,),name='gamma_Input')   # i.e. weights going into softmax: [0,0,0,1]\n",
    "# concatenateLayer_with_gamma = Concatenate()([group1,group2,gammaInput])\n",
    "\n",
    "\n",
    "# softmax layer needs to have multiple inputs\n",
    "\n",
    "# try custom connections in the trainable softmax\n",
    "#softmaxLayer = Dense(4,activation='softmax', trainable=True, use_bias=True,name='softmax_layer')(concatenateLayer)\n",
    "#softmaxLayer = CustomSoftmax(4,2)(concatenateLayer)\n",
    "#softmaxLayer = CustomSoftmax2(4,input_dim= 2,output_dim=4)(concatenateLayer)\n",
    "#softmaxLayer = CustomSoftmax3(4,input_dim= 2,output_dim=4)(concatenateLayer)\n",
    "softmaxLayer = Dense(4,activation='softmax', trainable=False, use_bias=False,name='softmax_layer')(concatenateLayer)\n",
    "\n",
    "# tauTensor = CustomConnected(1,tf.constant([0.0,0.0,1.0,1.0]),1,use_bias=False,name='custom_tau_layer')(softmaxLayer)\n",
    "# outputTensor = Dense(np.shape(y_train_ohe[1])[0],activation='softmax', trainable=True, use_bias=False,name='softmax_layer_bins')(tauTensor)\n",
    "\n",
    "tauTensor = CustomConnected(1,tf.constant([0.0,0.0,1.0,1.0]),1,use_bias=False,name='custom_tau_layer')(softmaxLayer)\n",
    "intermediateTensor = Dense(10,activation='softmax', trainable=True, use_bias=False,name='softmax_layer_intermediate')(tauTensor)\n",
    "outputTensor = Dense(np.shape(y_train_ohe[1])[0],activation='softmax', trainable=True, use_bias=False,name='softmax_layer_bins')(intermediateTensor)\n",
    "\n",
    "\n",
    "#create the model:\n",
    "model = Model(inputTensor,outputTensor)\n",
    "# model = Model(inputs=[inputTensor, gammaInput], outputs=outputTensor)\n",
    "\n"
   ]
  },
  {
   "cell_type": "code",
   "execution_count": 23,
   "metadata": {
    "collapsed": true
   },
   "outputs": [],
   "source": [
    "# # old model\n",
    "# # define two groups which represent binding sites for the two proteins crp and rnap\n",
    "\n",
    "# group1 = Lambda(lambda x: x[:,0:104], output_shape=((104,)))(inputTensor)\n",
    "# group2 = Lambda(lambda x: x[:,104:268], output_shape=((164,)))(inputTensor)\n",
    "\n",
    "\n",
    "# # From input to first hidden layer. The groups are connected to two nodes\n",
    "# # node group1 represents energy of crp and group2 represents rnap energy.\n",
    "\n",
    "# # rename group1 to crp pwm\n",
    "\n",
    "# group1 = Dense(1,use_bias=False,name='CRP_pwm')(group1)\n",
    "# group2 = Dense(1,use_bias=False,name='RNAP_pwm')(group2)\n",
    "\n",
    "# #group2 = Dense(1,use_bias=False,name='RNAP_pwm',kernel_initializer='RandomNormal',W_constraint=nonneg())(group2)\n",
    "\n",
    "# # the groups from the previous layer have to be concatenated so\n",
    "# concatenateLayer = Concatenate()([group1,group2])\n",
    "\n",
    "# # gammaInput = Input(shape=(1,),name='gamma_Input')   # i.e. weights going into softmax: [0,0,0,1]\n",
    "# # concatenateLayer_with_gamma = Concatenate()([group1,group2,gammaInput])\n",
    "\n",
    "\n",
    "# # softmax layer needs to have multiple inputs\n",
    "\n",
    "# # try custom connections in the trainable softmax\n",
    "# #softmaxLayer = Dense(4,activation='softmax', trainable=True, use_bias=True,name='softmax_layer')(concatenateLayer)\n",
    "# #softmaxLayer = CustomSoftmax(4,2)(concatenateLayer)\n",
    "# #softmaxLayer = CustomSoftmax2(4,input_dim= 2,output_dim=4)(concatenateLayer)\n",
    "# softmaxLayer = CustomSoftmax3(4,input_dim= 2,output_dim=4)(concatenateLayer)\n",
    "# #softmaxLayer = Dense(4,activation='softmax', trainable=False, use_bias=True,name='softmax_layer')(concatenateLayer_with_gamma)\n",
    "\n",
    "# # tauTensor = CustomConnected(1,tf.constant([0.0,0.0,1.0,1.0]),1,use_bias=False,name='custom_tau_layer')(softmaxLayer)\n",
    "# # outputTensor = Dense(np.shape(y_train_ohe[1])[0],activation='softmax', trainable=True, use_bias=False,name='softmax_layer_bins')(tauTensor)\n",
    "\n",
    "# tauTensor = CustomConnected(1,tf.constant([0.0,0.0,1.0,1.0]),1,use_bias=False,name='custom_tau_layer')(softmaxLayer)\n",
    "# intermediateTensor = Dense(10,activation='softmax', trainable=True, use_bias=False,name='softmax_layer_intermediate')(tauTensor)\n",
    "# outputTensor = Dense(np.shape(y_train_ohe[1])[0],activation='softmax', trainable=True, use_bias=False,name='softmax_layer_bins')(intermediateTensor)\n",
    "\n",
    "\n",
    "# #create the model:\n",
    "# model = Model(inputTensor,outputTensor)\n",
    "# # model = Model(inputs=[inputTensor, gammaInput], outputs=outputTensor)\n",
    "\n"
   ]
  },
  {
   "cell_type": "code",
   "execution_count": 24,
   "metadata": {},
   "outputs": [
    {
     "name": "stdout",
     "output_type": "stream",
     "text": [
      "__________________________________________________________________________________________________\n",
      "Layer (type)                    Output Shape         Param #     Connected to                     \n",
      "==================================================================================================\n",
      "Sequence (InputLayer)           (None, 269)          0                                            \n",
      "__________________________________________________________________________________________________\n",
      "lambda_1 (Lambda)               (None, 104)          0           Sequence[0][0]                   \n",
      "__________________________________________________________________________________________________\n",
      "lambda_2 (Lambda)               (None, 164)          0           Sequence[0][0]                   \n",
      "__________________________________________________________________________________________________\n",
      "lambda_3 (Lambda)               (None, 1)            0           Sequence[0][0]                   \n",
      "__________________________________________________________________________________________________\n",
      "CRP_pwm (Dense)                 (None, 1)            105         lambda_1[0][0]                   \n",
      "__________________________________________________________________________________________________\n",
      "RNAP_pwm (Dense)                (None, 1)            165         lambda_2[0][0]                   \n",
      "__________________________________________________________________________________________________\n",
      "one-feature (Dense)             (None, 1)            1           lambda_3[0][0]                   \n",
      "__________________________________________________________________________________________________\n",
      "concatenate_1 (Concatenate)     (None, 3)            0           CRP_pwm[0][0]                    \n",
      "                                                                 RNAP_pwm[0][0]                   \n",
      "                                                                 one-feature[0][0]                \n",
      "__________________________________________________________________________________________________\n",
      "softmax_layer (Dense)           (None, 4)            12          concatenate_1[0][0]              \n",
      "__________________________________________________________________________________________________\n",
      "custom_tau_layer (CustomConnect (None, 1)            4           softmax_layer[0][0]              \n",
      "__________________________________________________________________________________________________\n",
      "softmax_layer_intermediate (Den (None, 10)           10          custom_tau_layer[0][0]           \n",
      "__________________________________________________________________________________________________\n",
      "softmax_layer_bins (Dense)      (None, 10)           100         softmax_layer_intermediate[0][0] \n",
      "==================================================================================================\n",
      "Total params: 397\n",
      "Trainable params: 385\n",
      "Non-trainable params: 12\n",
      "__________________________________________________________________________________________________\n"
     ]
    }
   ],
   "source": [
    "model.summary()"
   ]
  },
  {
   "cell_type": "code",
   "execution_count": 25,
   "metadata": {},
   "outputs": [
    {
     "data": {
      "text/plain": [
       "[<keras.engine.input_layer.InputLayer at 0x11871b080>,\n",
       " <keras.layers.core.Lambda at 0x118730ef0>,\n",
       " <keras.layers.core.Lambda at 0x118730b70>,\n",
       " <keras.layers.core.Lambda at 0x11870b208>,\n",
       " <keras.layers.core.Dense at 0x11873bd68>,\n",
       " <keras.layers.core.Dense at 0x11873b978>,\n",
       " <keras.layers.core.Dense at 0x11873b898>,\n",
       " <keras.layers.merge.Concatenate at 0x118743e48>,\n",
       " <keras.layers.core.Dense at 0x11874e5c0>,\n",
       " <__main__.CustomConnected at 0x11875ae80>,\n",
       " <keras.layers.core.Dense at 0x11875a470>,\n",
       " <keras.layers.core.Dense at 0x105780748>]"
      ]
     },
     "execution_count": 25,
     "metadata": {},
     "output_type": "execute_result"
    }
   ],
   "source": [
    "model.layers"
   ]
  },
  {
   "cell_type": "code",
   "execution_count": 26,
   "metadata": {},
   "outputs": [
    {
     "name": "stdout",
     "output_type": "stream",
     "text": [
      "(2,)\n",
      "(2,)\n",
      "(1, 1, 1)\n"
     ]
    }
   ],
   "source": [
    "print(np.shape(model.layers[4].get_weights()))\n",
    "print(np.shape(model.layers[5].get_weights()))\n",
    "print(np.shape(model.layers[6].get_weights()))"
   ]
  },
  {
   "cell_type": "code",
   "execution_count": 27,
   "metadata": {},
   "outputs": [
    {
     "name": "stdout",
     "output_type": "stream",
     "text": [
      "[array([[-0.6022438]], dtype=float32)]\n"
     ]
    }
   ],
   "source": [
    "print(model.layers[6].get_weights())"
   ]
  },
  {
   "cell_type": "markdown",
   "metadata": {
    "collapsed": true
   },
   "source": [
    "### Set initial weights for last layer...\n",
    "...so that only the last two states (S3 and S4 in write-up) contribute to transcription"
   ]
  },
  {
   "cell_type": "code",
   "execution_count": 28,
   "metadata": {},
   "outputs": [
    {
     "data": {
      "text/plain": [
       "(4, 1)"
      ]
     },
     "execution_count": 28,
     "metadata": {},
     "output_type": "execute_result"
    }
   ],
   "source": [
    "tau_layer_weights = model.layers[9].get_weights()[0].copy()\n",
    "tau_layer_weights.shape"
   ]
  },
  {
   "cell_type": "code",
   "execution_count": 29,
   "metadata": {},
   "outputs": [
    {
     "data": {
      "text/plain": [
       "array([[0.],\n",
       "       [0.],\n",
       "       [1.],\n",
       "       [1.]], dtype=float32)"
      ]
     },
     "execution_count": 29,
     "metadata": {},
     "output_type": "execute_result"
    }
   ],
   "source": [
    "tau_layer_initial_weights = np.array([0,0,1,1])\n",
    "tau_layer_initial_weights = tau_layer_initial_weights.reshape(4,1)\n",
    "model.layers[9].set_weights([tau_layer_initial_weights])\n",
    "model.layers[9].get_weights()[0]"
   ]
  },
  {
   "cell_type": "markdown",
   "metadata": {},
   "source": [
    "### The following show non-trainable and trainable weights in the softmax layer"
   ]
  },
  {
   "cell_type": "code",
   "execution_count": 30,
   "metadata": {},
   "outputs": [
    {
     "name": "stdout",
     "output_type": "stream",
     "text": [
      "[array([[-0.6904056 ,  0.5450921 ,  0.64685476, -0.87900007],\n",
      "       [ 0.78645945,  0.36611283,  0.79684687,  0.9018415 ],\n",
      "       [ 0.8125454 ,  0.10814333, -0.5667167 ,  0.81788135]],\n",
      "      dtype=float32)]\n"
     ]
    }
   ],
   "source": [
    "# these weights appear to be in reverse order. \n",
    "print(model.layers[8].get_weights())\n"
   ]
  },
  {
   "cell_type": "markdown",
   "metadata": {},
   "source": [
    "### Set softmax layer weights manually, will be kept frozen during training\n",
    "Note that the bias weights here may be interpreted as gamma"
   ]
  },
  {
   "cell_type": "code",
   "execution_count": 31,
   "metadata": {},
   "outputs": [
    {
     "data": {
      "text/plain": [
       "[array([[0., 1., 0., 1.],\n",
       "        [0., 0., 1., 1.],\n",
       "        [0., 0., 0., 1.]], dtype=float32)]"
      ]
     },
     "execution_count": 31,
     "metadata": {},
     "output_type": "execute_result"
    }
   ],
   "source": [
    "# the following are the input weights to the softmax array.\n",
    "# the first two arrays indicate 4 weights each coming out of the e_c and \n",
    "# e_r nodes. The last node indicates the gamma input, connecting only to\n",
    "# microstate 4.\n",
    "\n",
    "#softmax_weights = np.array([[0,1,0,1],[0,0,1,1]]) # this works\n",
    "softmax_weights = np.array([[0,1,0,1],[0,0,1,1],[0,0,0,1]]) # this works\n",
    "#softmax_weights = np.array([[0,0,1,1],[0,1,0,1]])\n",
    "#softmax_biases = np.array([0,0,0,1])\n",
    "\n",
    "# keras' set_weights expects weights and bias in a list\n",
    "#softmax_weights = [softmax_biases,softmax_weights]\n",
    "\n",
    "# without bias\n",
    "softmax_weights = [softmax_weights]\n",
    "\n",
    "# set weights\n",
    "model.layers[8].set_weights(softmax_weights)\n",
    "# see set weights\n",
    "model.layers[8].get_weights()"
   ]
  },
  {
   "cell_type": "markdown",
   "metadata": {},
   "source": [
    "## Compile model"
   ]
  },
  {
   "cell_type": "code",
   "execution_count": 32,
   "metadata": {
    "collapsed": true
   },
   "outputs": [],
   "source": [
    "#sgd = SGD(lr=0.01, decay=1e-6, momentum=0.9, nesterov=True)\n",
    "#model.compile(loss='mean_squared_error',optimizer=Adam(lr=0.0005), metrics=['mean_absolute_error'])\n",
    "#model.compile(loss='mean_squared_error',optimizer=sgd, metrics=['mean_absolute_error'])"
   ]
  },
  {
   "cell_type": "code",
   "execution_count": 33,
   "metadata": {},
   "outputs": [
    {
     "data": {
      "text/plain": [
       "40414"
      ]
     },
     "execution_count": 33,
     "metadata": {},
     "output_type": "execute_result"
    }
   ],
   "source": [
    "np.array(X_train).shape[0]"
   ]
  },
  {
   "cell_type": "code",
   "execution_count": 34,
   "metadata": {},
   "outputs": [
    {
     "data": {
      "text/plain": [
       "(269,)"
      ]
     },
     "execution_count": 34,
     "metadata": {},
     "output_type": "execute_result"
    }
   ],
   "source": [
    "np.shape(input_seqs_ohe[_].flatten())\n",
    "temp = input_seqs_ohe[0].flatten()\n",
    "temp = np.append(temp,1)\n",
    "temp.shape"
   ]
  },
  {
   "cell_type": "code",
   "execution_count": 35,
   "metadata": {},
   "outputs": [],
   "source": [
    "input_sequences_tensor2 = []\n",
    "test_input_sequences_tensor2 = []\n",
    "\n",
    "for _ in range(len(input_seqs_ohe)):\n",
    "    temp = input_seqs_ohe[_].flatten()\n",
    "    temp = np.append(temp,1)\n",
    "    #input_seqs_ohe[_] = np.append(input_seqs_ohe[_],1)\n",
    "    input_sequences_tensor2.append(temp)\n",
    "    \n",
    "for _ in range(len(test_seqs_ohe)):\n",
    "    \n",
    "    temp = test_seqs_ohe[_].flatten()\n",
    "    temp = np.append(temp,1)\n",
    "    test_input_sequences_tensor2.append(temp)"
   ]
  },
  {
   "cell_type": "code",
   "execution_count": 36,
   "metadata": {},
   "outputs": [],
   "source": [
    "input_sequences_tensor2 = np.array(input_sequences_tensor2)\n",
    "test_input_sequences_tensor2 = np.array(test_input_sequences_tensor2)"
   ]
  },
  {
   "cell_type": "code",
   "execution_count": 37,
   "metadata": {},
   "outputs": [
    {
     "data": {
      "text/plain": [
       "(269,)"
      ]
     },
     "execution_count": 37,
     "metadata": {},
     "output_type": "execute_result"
    }
   ],
   "source": [
    "input_sequences_tensor2[0].shape"
   ]
  },
  {
   "cell_type": "code",
   "execution_count": 38,
   "metadata": {},
   "outputs": [],
   "source": [
    "# input_seqs_ohe = np.array(input_seqs_ohe)\n",
    "# input_sequences_tensor = input_seqs_ohe.reshape(-1,len(input_seqs_ohe[0])*4+1)\n",
    "\n",
    "# test_seqs_ohe = np.array(test_seqs_ohe)\n",
    "# test_input_sequences_tensor = test_seqs_ohe.reshape(-1,len(test_seqs_ohe[0])*4+1)\n",
    "\n",
    "labels = np.array(y_train_ohe)\n",
    "test_labels = np.array(y_test_ohe)"
   ]
  },
  {
   "cell_type": "code",
   "execution_count": null,
   "metadata": {
    "collapsed": true
   },
   "outputs": [],
   "source": [
    "  "
   ]
  },
  {
   "cell_type": "code",
   "execution_count": 39,
   "metadata": {
    "collapsed": true
   },
   "outputs": [],
   "source": [
    "######\n",
    "## Define custom function for keras\n",
    "######\n",
    "\n",
    "def log_poisson_loss(y_true, y_pred):\n",
    "    return tf.nn.log_poisson_loss(y_true,y_pred)\n",
    "\n",
    "def poisson_loss(y_true, y_pred):\n",
    "    y_pred = ops.convert_to_tensor(y_pred)\n",
    "    y_true = math_ops.cast(y_true, y_pred.dtype)\n",
    "    return K.mean(y_pred - y_true * math_ops.log(y_pred + K.epsilon()), axis=-1)\n"
   ]
  },
  {
   "cell_type": "code",
   "execution_count": 40,
   "metadata": {
    "collapsed": true
   },
   "outputs": [],
   "source": [
    "#model.compile(loss=log_poisson_loss,optimizer=Adam(lr=0.00001), metrics=['categorical_accuracy'])\n",
    "model.compile(loss=log_poisson_loss,optimizer=Adam(lr=0.0005), metrics=['categorical_accuracy'])"
   ]
  },
  {
   "cell_type": "code",
   "execution_count": 41,
   "metadata": {},
   "outputs": [
    {
     "name": "stdout",
     "output_type": "stream",
     "text": [
      "Train on 32331 samples, validate on 8083 samples\n",
      "Epoch 1/300\n",
      "32331/32331 [==============================] - 1s 39us/step - loss: 1.0952 - categorical_accuracy: 0.1114 - val_loss: 1.0952 - val_categorical_accuracy: 0.1181\n",
      "Epoch 2/300\n",
      "32331/32331 [==============================] - 1s 31us/step - loss: 1.0952 - categorical_accuracy: 0.1115 - val_loss: 1.0951 - val_categorical_accuracy: 0.1181\n",
      "Epoch 3/300\n",
      "32331/32331 [==============================] - 1s 31us/step - loss: 1.0951 - categorical_accuracy: 0.1115 - val_loss: 1.0951 - val_categorical_accuracy: 0.1181\n",
      "Epoch 4/300\n",
      "32331/32331 [==============================] - 1s 31us/step - loss: 1.0950 - categorical_accuracy: 0.1165 - val_loss: 1.0948 - val_categorical_accuracy: 0.1636\n",
      "Epoch 5/300\n",
      "32331/32331 [==============================] - 1s 31us/step - loss: 1.0944 - categorical_accuracy: 0.1801 - val_loss: 1.0939 - val_categorical_accuracy: 0.1732\n",
      "Epoch 6/300\n",
      "32331/32331 [==============================] - 1s 31us/step - loss: 1.0934 - categorical_accuracy: 0.1906 - val_loss: 1.0931 - val_categorical_accuracy: 0.1931\n",
      "Epoch 7/300\n",
      "32331/32331 [==============================] - 1s 32us/step - loss: 1.0928 - categorical_accuracy: 0.1979 - val_loss: 1.0926 - val_categorical_accuracy: 0.2117\n",
      "Epoch 8/300\n",
      "32331/32331 [==============================] - 1s 31us/step - loss: 1.0924 - categorical_accuracy: 0.2119 - val_loss: 1.0923 - val_categorical_accuracy: 0.2185\n",
      "Epoch 9/300\n",
      "32331/32331 [==============================] - 1s 31us/step - loss: 1.0922 - categorical_accuracy: 0.2265 - val_loss: 1.0921 - val_categorical_accuracy: 0.2343\n",
      "Epoch 10/300\n",
      "32331/32331 [==============================] - 1s 32us/step - loss: 1.0920 - categorical_accuracy: 0.2364 - val_loss: 1.0919 - val_categorical_accuracy: 0.2446\n",
      "Epoch 11/300\n",
      "32331/32331 [==============================] - 1s 31us/step - loss: 1.0918 - categorical_accuracy: 0.2446 - val_loss: 1.0918 - val_categorical_accuracy: 0.2479\n",
      "Epoch 12/300\n",
      "32331/32331 [==============================] - 1s 32us/step - loss: 1.0917 - categorical_accuracy: 0.2524 - val_loss: 1.0916 - val_categorical_accuracy: 0.2472\n",
      "Epoch 13/300\n",
      "32331/32331 [==============================] - 1s 32us/step - loss: 1.0915 - categorical_accuracy: 0.2573 - val_loss: 1.0915 - val_categorical_accuracy: 0.2625\n",
      "Epoch 14/300\n",
      "32331/32331 [==============================] - 1s 32us/step - loss: 1.0914 - categorical_accuracy: 0.2628 - val_loss: 1.0914 - val_categorical_accuracy: 0.2493\n",
      "Epoch 15/300\n",
      "32331/32331 [==============================] - 1s 32us/step - loss: 1.0913 - categorical_accuracy: 0.2652 - val_loss: 1.0913 - val_categorical_accuracy: 0.2619\n",
      "Epoch 16/300\n",
      "32331/32331 [==============================] - 1s 32us/step - loss: 1.0912 - categorical_accuracy: 0.2698 - val_loss: 1.0912 - val_categorical_accuracy: 0.2662\n",
      "Epoch 17/300\n",
      "32331/32331 [==============================] - 1s 32us/step - loss: 1.0912 - categorical_accuracy: 0.2696 - val_loss: 1.0912 - val_categorical_accuracy: 0.2669\n",
      "Epoch 18/300\n",
      "32331/32331 [==============================] - 1s 31us/step - loss: 1.0911 - categorical_accuracy: 0.2731 - val_loss: 1.0911 - val_categorical_accuracy: 0.2758\n",
      "Epoch 19/300\n",
      "32331/32331 [==============================] - 1s 32us/step - loss: 1.0910 - categorical_accuracy: 0.2750 - val_loss: 1.0910 - val_categorical_accuracy: 0.2708\n",
      "Epoch 20/300\n",
      "32331/32331 [==============================] - 1s 32us/step - loss: 1.0910 - categorical_accuracy: 0.2781 - val_loss: 1.0910 - val_categorical_accuracy: 0.2728\n",
      "Epoch 21/300\n",
      "32331/32331 [==============================] - 1s 32us/step - loss: 1.0909 - categorical_accuracy: 0.2788 - val_loss: 1.0909 - val_categorical_accuracy: 0.2821\n",
      "Epoch 22/300\n",
      "32331/32331 [==============================] - 1s 32us/step - loss: 1.0909 - categorical_accuracy: 0.2813 - val_loss: 1.0909 - val_categorical_accuracy: 0.2708\n",
      "Epoch 23/300\n",
      "32331/32331 [==============================] - 1s 32us/step - loss: 1.0908 - categorical_accuracy: 0.2832 - val_loss: 1.0909 - val_categorical_accuracy: 0.2775\n",
      "Epoch 24/300\n",
      "32331/32331 [==============================] - 1s 31us/step - loss: 1.0908 - categorical_accuracy: 0.2841 - val_loss: 1.0908 - val_categorical_accuracy: 0.2785\n",
      "Epoch 25/300\n",
      "32331/32331 [==============================] - 1s 31us/step - loss: 1.0908 - categorical_accuracy: 0.2827 - val_loss: 1.0908 - val_categorical_accuracy: 0.2842\n",
      "Epoch 26/300\n",
      "32331/32331 [==============================] - 1s 32us/step - loss: 1.0907 - categorical_accuracy: 0.2842 - val_loss: 1.0908 - val_categorical_accuracy: 0.2855\n",
      "Epoch 27/300\n",
      "32331/32331 [==============================] - 1s 32us/step - loss: 1.0907 - categorical_accuracy: 0.2867 - val_loss: 1.0907 - val_categorical_accuracy: 0.2863\n",
      "Epoch 28/300\n",
      "32331/32331 [==============================] - 1s 32us/step - loss: 1.0907 - categorical_accuracy: 0.2863 - val_loss: 1.0907 - val_categorical_accuracy: 0.2880\n",
      "Epoch 29/300\n",
      "32331/32331 [==============================] - 1s 32us/step - loss: 1.0907 - categorical_accuracy: 0.2868 - val_loss: 1.0907 - val_categorical_accuracy: 0.2813\n",
      "Epoch 30/300\n",
      "32331/32331 [==============================] - 1s 32us/step - loss: 1.0906 - categorical_accuracy: 0.2897 - val_loss: 1.0907 - val_categorical_accuracy: 0.2889\n",
      "Epoch 31/300\n",
      "32331/32331 [==============================] - 1s 34us/step - loss: 1.0906 - categorical_accuracy: 0.2885 - val_loss: 1.0906 - val_categorical_accuracy: 0.2829\n",
      "Epoch 32/300\n",
      "32331/32331 [==============================] - 1s 31us/step - loss: 1.0906 - categorical_accuracy: 0.2904 - val_loss: 1.0906 - val_categorical_accuracy: 0.2873\n",
      "Epoch 33/300\n",
      "32331/32331 [==============================] - 1s 32us/step - loss: 1.0906 - categorical_accuracy: 0.2913 - val_loss: 1.0906 - val_categorical_accuracy: 0.2839\n",
      "Epoch 34/300\n",
      "32331/32331 [==============================] - 1s 32us/step - loss: 1.0906 - categorical_accuracy: 0.2894 - val_loss: 1.0907 - val_categorical_accuracy: 0.2921\n",
      "Epoch 35/300\n",
      "32331/32331 [==============================] - 1s 32us/step - loss: 1.0906 - categorical_accuracy: 0.2917 - val_loss: 1.0906 - val_categorical_accuracy: 0.2920\n",
      "Epoch 36/300\n",
      "32331/32331 [==============================] - 1s 32us/step - loss: 1.0905 - categorical_accuracy: 0.2912 - val_loss: 1.0906 - val_categorical_accuracy: 0.2858\n",
      "Epoch 37/300\n",
      "32331/32331 [==============================] - 1s 31us/step - loss: 1.0905 - categorical_accuracy: 0.2915 - val_loss: 1.0906 - val_categorical_accuracy: 0.2892\n",
      "Epoch 38/300\n",
      "32331/32331 [==============================] - 1s 31us/step - loss: 1.0905 - categorical_accuracy: 0.2903 - val_loss: 1.0906 - val_categorical_accuracy: 0.2828\n",
      "Epoch 39/300\n",
      "32331/32331 [==============================] - 1s 31us/step - loss: 1.0905 - categorical_accuracy: 0.2917 - val_loss: 1.0905 - val_categorical_accuracy: 0.2900\n",
      "Epoch 40/300\n",
      "32331/32331 [==============================] - 1s 31us/step - loss: 1.0905 - categorical_accuracy: 0.2918 - val_loss: 1.0906 - val_categorical_accuracy: 0.2796\n",
      "Epoch 41/300\n",
      "32331/32331 [==============================] - 1s 31us/step - loss: 1.0905 - categorical_accuracy: 0.2929 - val_loss: 1.0905 - val_categorical_accuracy: 0.2935\n",
      "Epoch 42/300\n",
      "32331/32331 [==============================] - 1s 31us/step - loss: 1.0905 - categorical_accuracy: 0.2935 - val_loss: 1.0906 - val_categorical_accuracy: 0.2967\n",
      "Epoch 43/300\n",
      "32331/32331 [==============================] - 1s 31us/step - loss: 1.0905 - categorical_accuracy: 0.2941 - val_loss: 1.0905 - val_categorical_accuracy: 0.2897\n",
      "Epoch 44/300\n",
      "32331/32331 [==============================] - 1s 31us/step - loss: 1.0905 - categorical_accuracy: 0.2948 - val_loss: 1.0905 - val_categorical_accuracy: 0.2880\n",
      "Epoch 45/300\n",
      "32331/32331 [==============================] - 1s 31us/step - loss: 1.0904 - categorical_accuracy: 0.2926 - val_loss: 1.0905 - val_categorical_accuracy: 0.2959\n",
      "Epoch 46/300\n",
      "32331/32331 [==============================] - 1s 31us/step - loss: 1.0904 - categorical_accuracy: 0.2946 - val_loss: 1.0905 - val_categorical_accuracy: 0.2881\n",
      "Epoch 47/300\n",
      "32331/32331 [==============================] - 1s 32us/step - loss: 1.0904 - categorical_accuracy: 0.2954 - val_loss: 1.0905 - val_categorical_accuracy: 0.2938\n",
      "Epoch 48/300\n"
     ]
    },
    {
     "name": "stdout",
     "output_type": "stream",
     "text": [
      "32331/32331 [==============================] - 1s 32us/step - loss: 1.0904 - categorical_accuracy: 0.2927 - val_loss: 1.0905 - val_categorical_accuracy: 0.2970\n",
      "Epoch 49/300\n",
      "32331/32331 [==============================] - 1s 31us/step - loss: 1.0904 - categorical_accuracy: 0.2950 - val_loss: 1.0905 - val_categorical_accuracy: 0.2864\n",
      "Epoch 50/300\n",
      "32331/32331 [==============================] - 1s 31us/step - loss: 1.0904 - categorical_accuracy: 0.2954 - val_loss: 1.0904 - val_categorical_accuracy: 0.2949\n",
      "Epoch 51/300\n",
      "32331/32331 [==============================] - 1s 31us/step - loss: 1.0904 - categorical_accuracy: 0.2953 - val_loss: 1.0905 - val_categorical_accuracy: 0.2941\n",
      "Epoch 52/300\n",
      "32331/32331 [==============================] - 1s 31us/step - loss: 1.0904 - categorical_accuracy: 0.2966 - val_loss: 1.0904 - val_categorical_accuracy: 0.2937\n",
      "Epoch 53/300\n",
      "32331/32331 [==============================] - 1s 31us/step - loss: 1.0904 - categorical_accuracy: 0.2951 - val_loss: 1.0904 - val_categorical_accuracy: 0.2883\n",
      "Epoch 54/300\n",
      "32331/32331 [==============================] - 1s 31us/step - loss: 1.0904 - categorical_accuracy: 0.2958 - val_loss: 1.0904 - val_categorical_accuracy: 0.2912\n",
      "Epoch 55/300\n",
      "32331/32331 [==============================] - 1s 31us/step - loss: 1.0904 - categorical_accuracy: 0.2969 - val_loss: 1.0904 - val_categorical_accuracy: 0.2878\n",
      "Epoch 56/300\n",
      "32331/32331 [==============================] - 1s 32us/step - loss: 1.0904 - categorical_accuracy: 0.2947 - val_loss: 1.0904 - val_categorical_accuracy: 0.2944\n",
      "Epoch 57/300\n",
      "32331/32331 [==============================] - 1s 31us/step - loss: 1.0904 - categorical_accuracy: 0.2951 - val_loss: 1.0904 - val_categorical_accuracy: 0.2933\n",
      "Epoch 58/300\n",
      "32331/32331 [==============================] - 1s 31us/step - loss: 1.0904 - categorical_accuracy: 0.2970 - val_loss: 1.0904 - val_categorical_accuracy: 0.2932\n",
      "Epoch 59/300\n",
      "32331/32331 [==============================] - 1s 31us/step - loss: 1.0904 - categorical_accuracy: 0.2962 - val_loss: 1.0904 - val_categorical_accuracy: 0.2915\n",
      "Epoch 60/300\n",
      "32331/32331 [==============================] - 1s 32us/step - loss: 1.0903 - categorical_accuracy: 0.2962 - val_loss: 1.0904 - val_categorical_accuracy: 0.2946\n",
      "Epoch 61/300\n",
      "32331/32331 [==============================] - 1s 31us/step - loss: 1.0903 - categorical_accuracy: 0.2973 - val_loss: 1.0904 - val_categorical_accuracy: 0.2923\n",
      "Epoch 62/300\n",
      "32331/32331 [==============================] - 1s 31us/step - loss: 1.0903 - categorical_accuracy: 0.2977 - val_loss: 1.0904 - val_categorical_accuracy: 0.2940\n",
      "Epoch 63/300\n",
      "32331/32331 [==============================] - 1s 31us/step - loss: 1.0903 - categorical_accuracy: 0.2968 - val_loss: 1.0904 - val_categorical_accuracy: 0.2914\n",
      "Epoch 64/300\n",
      "32331/32331 [==============================] - 1s 31us/step - loss: 1.0903 - categorical_accuracy: 0.2976 - val_loss: 1.0904 - val_categorical_accuracy: 0.2926\n",
      "Epoch 65/300\n",
      "32331/32331 [==============================] - 1s 31us/step - loss: 1.0903 - categorical_accuracy: 0.2975 - val_loss: 1.0904 - val_categorical_accuracy: 0.2982\n",
      "Epoch 66/300\n",
      "32331/32331 [==============================] - 1s 31us/step - loss: 1.0903 - categorical_accuracy: 0.2962 - val_loss: 1.0904 - val_categorical_accuracy: 0.2938\n",
      "Epoch 67/300\n",
      "32331/32331 [==============================] - 1s 32us/step - loss: 1.0903 - categorical_accuracy: 0.2969 - val_loss: 1.0904 - val_categorical_accuracy: 0.2962\n",
      "Epoch 68/300\n",
      "32331/32331 [==============================] - 1s 31us/step - loss: 1.0903 - categorical_accuracy: 0.2973 - val_loss: 1.0904 - val_categorical_accuracy: 0.2962\n",
      "Epoch 69/300\n",
      "32331/32331 [==============================] - 1s 31us/step - loss: 1.0903 - categorical_accuracy: 0.2973 - val_loss: 1.0904 - val_categorical_accuracy: 0.2982\n",
      "Epoch 70/300\n",
      "32331/32331 [==============================] - 1s 32us/step - loss: 1.0903 - categorical_accuracy: 0.2978 - val_loss: 1.0904 - val_categorical_accuracy: 0.2979\n",
      "Epoch 71/300\n",
      "32331/32331 [==============================] - 1s 32us/step - loss: 1.0903 - categorical_accuracy: 0.2971 - val_loss: 1.0903 - val_categorical_accuracy: 0.2944\n",
      "Epoch 72/300\n",
      "32331/32331 [==============================] - 1s 32us/step - loss: 1.0903 - categorical_accuracy: 0.2992 - val_loss: 1.0903 - val_categorical_accuracy: 0.2959\n",
      "Epoch 73/300\n",
      "32331/32331 [==============================] - 1s 31us/step - loss: 1.0903 - categorical_accuracy: 0.3012 - val_loss: 1.0904 - val_categorical_accuracy: 0.2995\n",
      "Epoch 74/300\n",
      "32331/32331 [==============================] - 1s 31us/step - loss: 1.0903 - categorical_accuracy: 0.2979 - val_loss: 1.0903 - val_categorical_accuracy: 0.2959\n",
      "Epoch 75/300\n",
      "32331/32331 [==============================] - 1s 32us/step - loss: 1.0903 - categorical_accuracy: 0.2985 - val_loss: 1.0903 - val_categorical_accuracy: 0.2959\n",
      "Epoch 76/300\n",
      "32331/32331 [==============================] - 1s 31us/step - loss: 1.0903 - categorical_accuracy: 0.2983 - val_loss: 1.0903 - val_categorical_accuracy: 0.2989\n",
      "Epoch 77/300\n",
      "32331/32331 [==============================] - 1s 31us/step - loss: 1.0903 - categorical_accuracy: 0.2963 - val_loss: 1.0904 - val_categorical_accuracy: 0.2985\n",
      "Epoch 78/300\n",
      "32331/32331 [==============================] - 1s 31us/step - loss: 1.0903 - categorical_accuracy: 0.2983 - val_loss: 1.0903 - val_categorical_accuracy: 0.2946\n",
      "Epoch 79/300\n",
      "32331/32331 [==============================] - 1s 31us/step - loss: 1.0903 - categorical_accuracy: 0.2981 - val_loss: 1.0903 - val_categorical_accuracy: 0.2979\n",
      "Epoch 80/300\n",
      "32331/32331 [==============================] - 1s 31us/step - loss: 1.0903 - categorical_accuracy: 0.2994 - val_loss: 1.0903 - val_categorical_accuracy: 0.2957\n",
      "Epoch 81/300\n",
      "32331/32331 [==============================] - 1s 32us/step - loss: 1.0903 - categorical_accuracy: 0.2996 - val_loss: 1.0903 - val_categorical_accuracy: 0.2962\n",
      "Epoch 82/300\n",
      "32331/32331 [==============================] - 1s 31us/step - loss: 1.0903 - categorical_accuracy: 0.2988 - val_loss: 1.0903 - val_categorical_accuracy: 0.2961\n",
      "Epoch 83/300\n",
      "32331/32331 [==============================] - 1s 31us/step - loss: 1.0903 - categorical_accuracy: 0.2992 - val_loss: 1.0903 - val_categorical_accuracy: 0.2962\n",
      "Epoch 84/300\n",
      "32331/32331 [==============================] - 1s 31us/step - loss: 1.0903 - categorical_accuracy: 0.2982 - val_loss: 1.0903 - val_categorical_accuracy: 0.2932\n",
      "Epoch 85/300\n",
      "32331/32331 [==============================] - 1s 31us/step - loss: 1.0903 - categorical_accuracy: 0.2987 - val_loss: 1.0903 - val_categorical_accuracy: 0.2949\n",
      "Epoch 86/300\n",
      "32331/32331 [==============================] - 1s 31us/step - loss: 1.0903 - categorical_accuracy: 0.2978 - val_loss: 1.0904 - val_categorical_accuracy: 0.2925\n",
      "Epoch 87/300\n",
      "32331/32331 [==============================] - 1s 31us/step - loss: 1.0903 - categorical_accuracy: 0.2989 - val_loss: 1.0903 - val_categorical_accuracy: 0.2978\n",
      "Epoch 88/300\n",
      "32331/32331 [==============================] - 1s 31us/step - loss: 1.0903 - categorical_accuracy: 0.2993 - val_loss: 1.0903 - val_categorical_accuracy: 0.2982\n",
      "Epoch 89/300\n",
      "32331/32331 [==============================] - 1s 33us/step - loss: 1.0903 - categorical_accuracy: 0.2986 - val_loss: 1.0903 - val_categorical_accuracy: 0.2941\n",
      "Epoch 90/300\n",
      "32331/32331 [==============================] - 1s 32us/step - loss: 1.0902 - categorical_accuracy: 0.2999 - val_loss: 1.0903 - val_categorical_accuracy: 0.2988\n",
      "Epoch 91/300\n",
      "32331/32331 [==============================] - 1s 31us/step - loss: 1.0902 - categorical_accuracy: 0.2997 - val_loss: 1.0903 - val_categorical_accuracy: 0.2972\n",
      "Epoch 92/300\n",
      "32331/32331 [==============================] - 1s 31us/step - loss: 1.0902 - categorical_accuracy: 0.2997 - val_loss: 1.0903 - val_categorical_accuracy: 0.2964\n",
      "Epoch 93/300\n",
      "32331/32331 [==============================] - 1s 32us/step - loss: 1.0902 - categorical_accuracy: 0.2966 - val_loss: 1.0903 - val_categorical_accuracy: 0.2985\n",
      "Epoch 94/300\n",
      "32331/32331 [==============================] - 1s 31us/step - loss: 1.0902 - categorical_accuracy: 0.2983 - val_loss: 1.0903 - val_categorical_accuracy: 0.2961\n",
      "Epoch 95/300\n"
     ]
    },
    {
     "name": "stdout",
     "output_type": "stream",
     "text": [
      "32331/32331 [==============================] - 1s 32us/step - loss: 1.0902 - categorical_accuracy: 0.3005 - val_loss: 1.0903 - val_categorical_accuracy: 0.2968\n",
      "Epoch 96/300\n",
      "32331/32331 [==============================] - 1s 32us/step - loss: 1.0902 - categorical_accuracy: 0.2988 - val_loss: 1.0904 - val_categorical_accuracy: 0.3003\n",
      "Epoch 97/300\n",
      "32331/32331 [==============================] - 1s 31us/step - loss: 1.0902 - categorical_accuracy: 0.3007 - val_loss: 1.0903 - val_categorical_accuracy: 0.2957\n",
      "Epoch 98/300\n",
      "32331/32331 [==============================] - 1s 31us/step - loss: 1.0902 - categorical_accuracy: 0.2996 - val_loss: 1.0903 - val_categorical_accuracy: 0.2974\n",
      "Epoch 99/300\n",
      "32331/32331 [==============================] - 1s 31us/step - loss: 1.0902 - categorical_accuracy: 0.2990 - val_loss: 1.0903 - val_categorical_accuracy: 0.2979\n",
      "Epoch 100/300\n",
      "32331/32331 [==============================] - 1s 31us/step - loss: 1.0902 - categorical_accuracy: 0.3003 - val_loss: 1.0903 - val_categorical_accuracy: 0.2970\n",
      "Epoch 101/300\n",
      "32331/32331 [==============================] - 1s 31us/step - loss: 1.0902 - categorical_accuracy: 0.2984 - val_loss: 1.0903 - val_categorical_accuracy: 0.2965\n",
      "Epoch 102/300\n",
      "32331/32331 [==============================] - 1s 31us/step - loss: 1.0902 - categorical_accuracy: 0.2986 - val_loss: 1.0903 - val_categorical_accuracy: 0.2972\n",
      "Epoch 103/300\n",
      "32331/32331 [==============================] - 1s 32us/step - loss: 1.0902 - categorical_accuracy: 0.2992 - val_loss: 1.0903 - val_categorical_accuracy: 0.2946\n",
      "Epoch 104/300\n",
      "32331/32331 [==============================] - 1s 31us/step - loss: 1.0902 - categorical_accuracy: 0.3000 - val_loss: 1.0903 - val_categorical_accuracy: 0.2969\n",
      "Epoch 105/300\n",
      "32331/32331 [==============================] - 1s 31us/step - loss: 1.0902 - categorical_accuracy: 0.3006 - val_loss: 1.0903 - val_categorical_accuracy: 0.2980\n",
      "Epoch 106/300\n",
      "32331/32331 [==============================] - 1s 32us/step - loss: 1.0902 - categorical_accuracy: 0.2989 - val_loss: 1.0903 - val_categorical_accuracy: 0.2964\n",
      "Epoch 107/300\n",
      "32331/32331 [==============================] - 1s 32us/step - loss: 1.0902 - categorical_accuracy: 0.3001 - val_loss: 1.0903 - val_categorical_accuracy: 0.2970\n",
      "Epoch 108/300\n",
      "32331/32331 [==============================] - 1s 32us/step - loss: 1.0902 - categorical_accuracy: 0.3003 - val_loss: 1.0903 - val_categorical_accuracy: 0.2984\n",
      "Epoch 109/300\n",
      "32331/32331 [==============================] - 1s 31us/step - loss: 1.0902 - categorical_accuracy: 0.2982 - val_loss: 1.0903 - val_categorical_accuracy: 0.2959\n",
      "Epoch 110/300\n",
      "32331/32331 [==============================] - 1s 32us/step - loss: 1.0902 - categorical_accuracy: 0.3004 - val_loss: 1.0903 - val_categorical_accuracy: 0.2975\n",
      "Epoch 111/300\n",
      "32331/32331 [==============================] - 1s 32us/step - loss: 1.0902 - categorical_accuracy: 0.2986 - val_loss: 1.0903 - val_categorical_accuracy: 0.2978\n",
      "Epoch 112/300\n",
      "32331/32331 [==============================] - 1s 31us/step - loss: 1.0902 - categorical_accuracy: 0.3013 - val_loss: 1.0903 - val_categorical_accuracy: 0.2985\n",
      "Epoch 113/300\n",
      "32331/32331 [==============================] - 1s 31us/step - loss: 1.0902 - categorical_accuracy: 0.2992 - val_loss: 1.0903 - val_categorical_accuracy: 0.2977\n",
      "Epoch 114/300\n",
      "32331/32331 [==============================] - 1s 31us/step - loss: 1.0902 - categorical_accuracy: 0.2992 - val_loss: 1.0903 - val_categorical_accuracy: 0.2988\n",
      "Epoch 115/300\n",
      "32331/32331 [==============================] - 1s 32us/step - loss: 1.0902 - categorical_accuracy: 0.2990 - val_loss: 1.0903 - val_categorical_accuracy: 0.2991\n",
      "Epoch 116/300\n",
      "32331/32331 [==============================] - 1s 31us/step - loss: 1.0902 - categorical_accuracy: 0.3011 - val_loss: 1.0903 - val_categorical_accuracy: 0.2977\n",
      "Epoch 117/300\n",
      "32331/32331 [==============================] - 1s 31us/step - loss: 1.0902 - categorical_accuracy: 0.3000 - val_loss: 1.0903 - val_categorical_accuracy: 0.2953\n",
      "Epoch 118/300\n",
      "32331/32331 [==============================] - 1s 32us/step - loss: 1.0902 - categorical_accuracy: 0.2993 - val_loss: 1.0903 - val_categorical_accuracy: 0.2964\n",
      "Epoch 119/300\n",
      "32331/32331 [==============================] - 1s 32us/step - loss: 1.0902 - categorical_accuracy: 0.2997 - val_loss: 1.0903 - val_categorical_accuracy: 0.2952\n",
      "Epoch 120/300\n",
      "32331/32331 [==============================] - 1s 31us/step - loss: 1.0902 - categorical_accuracy: 0.3004 - val_loss: 1.0903 - val_categorical_accuracy: 0.2953\n",
      "Epoch 121/300\n",
      "32331/32331 [==============================] - 1s 31us/step - loss: 1.0902 - categorical_accuracy: 0.3000 - val_loss: 1.0903 - val_categorical_accuracy: 0.2975\n",
      "Epoch 122/300\n",
      "32331/32331 [==============================] - 1s 31us/step - loss: 1.0902 - categorical_accuracy: 0.2998 - val_loss: 1.0903 - val_categorical_accuracy: 0.2978\n",
      "Epoch 123/300\n",
      "32331/32331 [==============================] - 1s 31us/step - loss: 1.0902 - categorical_accuracy: 0.2999 - val_loss: 1.0903 - val_categorical_accuracy: 0.2984\n",
      "Epoch 124/300\n",
      "32331/32331 [==============================] - 1s 32us/step - loss: 1.0902 - categorical_accuracy: 0.2989 - val_loss: 1.0903 - val_categorical_accuracy: 0.2991\n",
      "Epoch 125/300\n",
      "32331/32331 [==============================] - 1s 31us/step - loss: 1.0902 - categorical_accuracy: 0.3004 - val_loss: 1.0903 - val_categorical_accuracy: 0.2979\n",
      "Epoch 126/300\n",
      "32331/32331 [==============================] - 1s 31us/step - loss: 1.0902 - categorical_accuracy: 0.3001 - val_loss: 1.0903 - val_categorical_accuracy: 0.2982\n",
      "Epoch 127/300\n",
      "32331/32331 [==============================] - 1s 32us/step - loss: 1.0902 - categorical_accuracy: 0.3002 - val_loss: 1.0903 - val_categorical_accuracy: 0.2983\n",
      "Epoch 128/300\n",
      "32331/32331 [==============================] - 1s 31us/step - loss: 1.0902 - categorical_accuracy: 0.3000 - val_loss: 1.0903 - val_categorical_accuracy: 0.2991\n",
      "Epoch 129/300\n",
      "32331/32331 [==============================] - 1s 31us/step - loss: 1.0902 - categorical_accuracy: 0.2999 - val_loss: 1.0903 - val_categorical_accuracy: 0.2927\n",
      "Epoch 130/300\n",
      "32331/32331 [==============================] - 1s 31us/step - loss: 1.0902 - categorical_accuracy: 0.3002 - val_loss: 1.0903 - val_categorical_accuracy: 0.2988\n",
      "Epoch 131/300\n",
      "32331/32331 [==============================] - 1s 31us/step - loss: 1.0902 - categorical_accuracy: 0.3004 - val_loss: 1.0903 - val_categorical_accuracy: 0.2975\n",
      "Epoch 132/300\n",
      "32331/32331 [==============================] - 1s 31us/step - loss: 1.0902 - categorical_accuracy: 0.3004 - val_loss: 1.0903 - val_categorical_accuracy: 0.2967\n",
      "Epoch 133/300\n",
      "32331/32331 [==============================] - 1s 31us/step - loss: 1.0902 - categorical_accuracy: 0.3004 - val_loss: 1.0903 - val_categorical_accuracy: 0.2980\n",
      "Epoch 134/300\n",
      "32331/32331 [==============================] - 1s 31us/step - loss: 1.0902 - categorical_accuracy: 0.3005 - val_loss: 1.0904 - val_categorical_accuracy: 0.2931\n",
      "Epoch 135/300\n",
      "32331/32331 [==============================] - 1s 31us/step - loss: 1.0902 - categorical_accuracy: 0.3002 - val_loss: 1.0903 - val_categorical_accuracy: 0.2969\n",
      "Epoch 136/300\n",
      "32331/32331 [==============================] - 1s 31us/step - loss: 1.0902 - categorical_accuracy: 0.3003 - val_loss: 1.0903 - val_categorical_accuracy: 0.2977\n",
      "Epoch 137/300\n",
      "32331/32331 [==============================] - 1s 31us/step - loss: 1.0902 - categorical_accuracy: 0.2996 - val_loss: 1.0903 - val_categorical_accuracy: 0.2990\n",
      "Epoch 138/300\n",
      "32331/32331 [==============================] - 1s 31us/step - loss: 1.0902 - categorical_accuracy: 0.2994 - val_loss: 1.0903 - val_categorical_accuracy: 0.2993\n",
      "Epoch 139/300\n",
      "32331/32331 [==============================] - 1s 32us/step - loss: 1.0902 - categorical_accuracy: 0.3013 - val_loss: 1.0903 - val_categorical_accuracy: 0.3005\n",
      "Epoch 140/300\n",
      "32331/32331 [==============================] - 1s 31us/step - loss: 1.0902 - categorical_accuracy: 0.3005 - val_loss: 1.0903 - val_categorical_accuracy: 0.2974\n",
      "Epoch 141/300\n",
      "32331/32331 [==============================] - 1s 31us/step - loss: 1.0902 - categorical_accuracy: 0.3000 - val_loss: 1.0903 - val_categorical_accuracy: 0.2989\n",
      "Epoch 142/300\n"
     ]
    },
    {
     "name": "stdout",
     "output_type": "stream",
     "text": [
      "32331/32331 [==============================] - 1s 32us/step - loss: 1.0902 - categorical_accuracy: 0.3015 - val_loss: 1.0903 - val_categorical_accuracy: 0.2987\n",
      "Epoch 143/300\n",
      "32331/32331 [==============================] - 1s 32us/step - loss: 1.0902 - categorical_accuracy: 0.3003 - val_loss: 1.0903 - val_categorical_accuracy: 0.2977\n",
      "Epoch 144/300\n",
      "32331/32331 [==============================] - 1s 31us/step - loss: 1.0902 - categorical_accuracy: 0.3008 - val_loss: 1.0903 - val_categorical_accuracy: 0.2991\n",
      "Epoch 145/300\n",
      "32331/32331 [==============================] - 1s 32us/step - loss: 1.0902 - categorical_accuracy: 0.3008 - val_loss: 1.0903 - val_categorical_accuracy: 0.2993\n",
      "Epoch 146/300\n",
      "32331/32331 [==============================] - 1s 31us/step - loss: 1.0902 - categorical_accuracy: 0.3008 - val_loss: 1.0903 - val_categorical_accuracy: 0.2984\n",
      "Epoch 147/300\n",
      "32331/32331 [==============================] - 1s 32us/step - loss: 1.0902 - categorical_accuracy: 0.2992 - val_loss: 1.0903 - val_categorical_accuracy: 0.2973\n",
      "Epoch 148/300\n",
      "32331/32331 [==============================] - 1s 32us/step - loss: 1.0902 - categorical_accuracy: 0.3005 - val_loss: 1.0903 - val_categorical_accuracy: 0.2988\n",
      "Epoch 149/300\n",
      "32331/32331 [==============================] - 1s 33us/step - loss: 1.0902 - categorical_accuracy: 0.3003 - val_loss: 1.0903 - val_categorical_accuracy: 0.2993\n",
      "Epoch 150/300\n",
      "32331/32331 [==============================] - 1s 31us/step - loss: 1.0902 - categorical_accuracy: 0.3011 - val_loss: 1.0903 - val_categorical_accuracy: 0.2983\n",
      "Epoch 151/300\n",
      "32331/32331 [==============================] - 1s 31us/step - loss: 1.0902 - categorical_accuracy: 0.3001 - val_loss: 1.0903 - val_categorical_accuracy: 0.2979\n",
      "Epoch 152/300\n",
      "32331/32331 [==============================] - 1s 31us/step - loss: 1.0902 - categorical_accuracy: 0.2986 - val_loss: 1.0903 - val_categorical_accuracy: 0.2958\n",
      "Epoch 153/300\n",
      "32331/32331 [==============================] - 1s 31us/step - loss: 1.0902 - categorical_accuracy: 0.3007 - val_loss: 1.0903 - val_categorical_accuracy: 0.2977\n",
      "Epoch 154/300\n",
      "32331/32331 [==============================] - 1s 31us/step - loss: 1.0902 - categorical_accuracy: 0.2999 - val_loss: 1.0903 - val_categorical_accuracy: 0.2972\n",
      "Epoch 155/300\n",
      "32331/32331 [==============================] - 1s 31us/step - loss: 1.0902 - categorical_accuracy: 0.2986 - val_loss: 1.0903 - val_categorical_accuracy: 0.2980\n",
      "Epoch 156/300\n",
      "32331/32331 [==============================] - 1s 31us/step - loss: 1.0902 - categorical_accuracy: 0.3010 - val_loss: 1.0903 - val_categorical_accuracy: 0.2988\n",
      "Epoch 157/300\n",
      "32331/32331 [==============================] - 1s 31us/step - loss: 1.0902 - categorical_accuracy: 0.2999 - val_loss: 1.0903 - val_categorical_accuracy: 0.2983\n",
      "Epoch 158/300\n",
      "32331/32331 [==============================] - 1s 34us/step - loss: 1.0902 - categorical_accuracy: 0.3009 - val_loss: 1.0903 - val_categorical_accuracy: 0.2983\n",
      "Epoch 159/300\n",
      "32331/32331 [==============================] - 1s 32us/step - loss: 1.0902 - categorical_accuracy: 0.3001 - val_loss: 1.0903 - val_categorical_accuracy: 0.2983\n",
      "Epoch 160/300\n",
      "32331/32331 [==============================] - 1s 31us/step - loss: 1.0902 - categorical_accuracy: 0.3003 - val_loss: 1.0903 - val_categorical_accuracy: 0.2985\n",
      "Epoch 161/300\n",
      "32331/32331 [==============================] - 1s 31us/step - loss: 1.0902 - categorical_accuracy: 0.3004 - val_loss: 1.0903 - val_categorical_accuracy: 0.2987\n",
      "Epoch 162/300\n",
      "32331/32331 [==============================] - 1s 31us/step - loss: 1.0902 - categorical_accuracy: 0.2992 - val_loss: 1.0903 - val_categorical_accuracy: 0.2983\n",
      "Epoch 163/300\n",
      "32331/32331 [==============================] - 1s 31us/step - loss: 1.0902 - categorical_accuracy: 0.3007 - val_loss: 1.0903 - val_categorical_accuracy: 0.2967\n",
      "Epoch 164/300\n",
      "32331/32331 [==============================] - 1s 32us/step - loss: 1.0902 - categorical_accuracy: 0.3013 - val_loss: 1.0903 - val_categorical_accuracy: 0.2988\n",
      "Epoch 165/300\n",
      "32331/32331 [==============================] - 1s 32us/step - loss: 1.0902 - categorical_accuracy: 0.3005 - val_loss: 1.0903 - val_categorical_accuracy: 0.2978\n",
      "Epoch 166/300\n",
      "32331/32331 [==============================] - 1s 31us/step - loss: 1.0902 - categorical_accuracy: 0.2998 - val_loss: 1.0903 - val_categorical_accuracy: 0.2991\n",
      "Epoch 167/300\n",
      "32331/32331 [==============================] - 1s 32us/step - loss: 1.0902 - categorical_accuracy: 0.3009 - val_loss: 1.0903 - val_categorical_accuracy: 0.2983\n",
      "Epoch 168/300\n",
      "32331/32331 [==============================] - 1s 31us/step - loss: 1.0902 - categorical_accuracy: 0.2992 - val_loss: 1.0903 - val_categorical_accuracy: 0.2977\n",
      "Epoch 169/300\n",
      "32331/32331 [==============================] - 1s 31us/step - loss: 1.0902 - categorical_accuracy: 0.3013 - val_loss: 1.0903 - val_categorical_accuracy: 0.2983\n",
      "Epoch 170/300\n",
      "32331/32331 [==============================] - 1s 31us/step - loss: 1.0902 - categorical_accuracy: 0.3007 - val_loss: 1.0902 - val_categorical_accuracy: 0.3000\n",
      "Epoch 171/300\n",
      "32331/32331 [==============================] - 1s 31us/step - loss: 1.0902 - categorical_accuracy: 0.3011 - val_loss: 1.0902 - val_categorical_accuracy: 0.2988\n",
      "Epoch 172/300\n",
      "32331/32331 [==============================] - 1s 31us/step - loss: 1.0902 - categorical_accuracy: 0.2997 - val_loss: 1.0903 - val_categorical_accuracy: 0.2998\n",
      "Epoch 173/300\n",
      "32331/32331 [==============================] - 1s 32us/step - loss: 1.0902 - categorical_accuracy: 0.3001 - val_loss: 1.0903 - val_categorical_accuracy: 0.2975\n",
      "Epoch 174/300\n",
      "32331/32331 [==============================] - 1s 32us/step - loss: 1.0902 - categorical_accuracy: 0.3008 - val_loss: 1.0902 - val_categorical_accuracy: 0.2973\n",
      "Epoch 175/300\n",
      "32331/32331 [==============================] - 1s 32us/step - loss: 1.0902 - categorical_accuracy: 0.3006 - val_loss: 1.0903 - val_categorical_accuracy: 0.2988- loss: 1.0903 - categori\n",
      "Epoch 176/300\n",
      "32331/32331 [==============================] - 1s 31us/step - loss: 1.0902 - categorical_accuracy: 0.3018 - val_loss: 1.0903 - val_categorical_accuracy: 0.2964\n",
      "Epoch 177/300\n",
      "32331/32331 [==============================] - 1s 31us/step - loss: 1.0902 - categorical_accuracy: 0.3009 - val_loss: 1.0902 - val_categorical_accuracy: 0.2979\n",
      "Epoch 178/300\n",
      "32331/32331 [==============================] - 1s 32us/step - loss: 1.0902 - categorical_accuracy: 0.3005 - val_loss: 1.0902 - val_categorical_accuracy: 0.2985\n",
      "Epoch 179/300\n",
      "32331/32331 [==============================] - 1s 31us/step - loss: 1.0902 - categorical_accuracy: 0.3001 - val_loss: 1.0903 - val_categorical_accuracy: 0.2993\n",
      "Epoch 180/300\n",
      "32331/32331 [==============================] - 1s 31us/step - loss: 1.0902 - categorical_accuracy: 0.3008 - val_loss: 1.0902 - val_categorical_accuracy: 0.2990\n",
      "Epoch 181/300\n",
      "32331/32331 [==============================] - 1s 31us/step - loss: 1.0902 - categorical_accuracy: 0.3003 - val_loss: 1.0902 - val_categorical_accuracy: 0.2977\n",
      "Epoch 182/300\n",
      "32331/32331 [==============================] - 1s 31us/step - loss: 1.0902 - categorical_accuracy: 0.3015 - val_loss: 1.0903 - val_categorical_accuracy: 0.2991\n",
      "Epoch 183/300\n",
      "32331/32331 [==============================] - 1s 32us/step - loss: 1.0902 - categorical_accuracy: 0.2987 - val_loss: 1.0903 - val_categorical_accuracy: 0.2969\n",
      "Epoch 184/300\n",
      "32331/32331 [==============================] - 1s 31us/step - loss: 1.0902 - categorical_accuracy: 0.3011 - val_loss: 1.0903 - val_categorical_accuracy: 0.3005\n",
      "Epoch 185/300\n",
      "32331/32331 [==============================] - 1s 31us/step - loss: 1.0902 - categorical_accuracy: 0.3009 - val_loss: 1.0903 - val_categorical_accuracy: 0.3010\n",
      "Epoch 186/300\n",
      "32331/32331 [==============================] - 1s 31us/step - loss: 1.0902 - categorical_accuracy: 0.3003 - val_loss: 1.0903 - val_categorical_accuracy: 0.2975\n",
      "Epoch 187/300\n",
      "32331/32331 [==============================] - 1s 31us/step - loss: 1.0902 - categorical_accuracy: 0.3003 - val_loss: 1.0903 - val_categorical_accuracy: 0.2983\n",
      "Epoch 188/300\n",
      "32331/32331 [==============================] - 1s 31us/step - loss: 1.0902 - categorical_accuracy: 0.3017 - val_loss: 1.0902 - val_categorical_accuracy: 0.2985\n",
      "Epoch 189/300\n"
     ]
    },
    {
     "name": "stdout",
     "output_type": "stream",
     "text": [
      "32331/32331 [==============================] - 1s 32us/step - loss: 1.0902 - categorical_accuracy: 0.3008 - val_loss: 1.0902 - val_categorical_accuracy: 0.2969\n",
      "Epoch 190/300\n",
      "32331/32331 [==============================] - 1s 31us/step - loss: 1.0902 - categorical_accuracy: 0.3006 - val_loss: 1.0903 - val_categorical_accuracy: 0.3011\n",
      "Epoch 191/300\n",
      "32331/32331 [==============================] - 1s 31us/step - loss: 1.0902 - categorical_accuracy: 0.3014 - val_loss: 1.0903 - val_categorical_accuracy: 0.3000\n",
      "Epoch 192/300\n",
      "32331/32331 [==============================] - 1s 31us/step - loss: 1.0902 - categorical_accuracy: 0.3001 - val_loss: 1.0902 - val_categorical_accuracy: 0.2994\n",
      "Epoch 193/300\n",
      "32331/32331 [==============================] - 1s 32us/step - loss: 1.0902 - categorical_accuracy: 0.3013 - val_loss: 1.0903 - val_categorical_accuracy: 0.2977\n",
      "Epoch 194/300\n",
      "32331/32331 [==============================] - 1s 32us/step - loss: 1.0902 - categorical_accuracy: 0.3001 - val_loss: 1.0903 - val_categorical_accuracy: 0.2998\n",
      "Epoch 195/300\n",
      "32331/32331 [==============================] - 1s 31us/step - loss: 1.0902 - categorical_accuracy: 0.3005 - val_loss: 1.0903 - val_categorical_accuracy: 0.2990\n",
      "Epoch 196/300\n",
      "32331/32331 [==============================] - 1s 31us/step - loss: 1.0902 - categorical_accuracy: 0.3011 - val_loss: 1.0903 - val_categorical_accuracy: 0.2979\n",
      "Epoch 197/300\n",
      "32331/32331 [==============================] - 1s 31us/step - loss: 1.0902 - categorical_accuracy: 0.3024 - val_loss: 1.0902 - val_categorical_accuracy: 0.2995\n",
      "Epoch 198/300\n",
      "32331/32331 [==============================] - 1s 32us/step - loss: 1.0902 - categorical_accuracy: 0.3009 - val_loss: 1.0903 - val_categorical_accuracy: 0.2979\n",
      "Epoch 199/300\n",
      "32331/32331 [==============================] - 1s 32us/step - loss: 1.0902 - categorical_accuracy: 0.3023 - val_loss: 1.0902 - val_categorical_accuracy: 0.2979\n",
      "Epoch 200/300\n",
      "32331/32331 [==============================] - 1s 31us/step - loss: 1.0902 - categorical_accuracy: 0.3011 - val_loss: 1.0902 - val_categorical_accuracy: 0.2999\n",
      "Epoch 201/300\n",
      "32331/32331 [==============================] - 1s 31us/step - loss: 1.0902 - categorical_accuracy: 0.2997 - val_loss: 1.0902 - val_categorical_accuracy: 0.2980\n",
      "Epoch 202/300\n",
      "32331/32331 [==============================] - 1s 31us/step - loss: 1.0902 - categorical_accuracy: 0.3007 - val_loss: 1.0902 - val_categorical_accuracy: 0.2990\n",
      "Epoch 203/300\n",
      "32331/32331 [==============================] - 1s 31us/step - loss: 1.0902 - categorical_accuracy: 0.3008 - val_loss: 1.0902 - val_categorical_accuracy: 0.2985\n",
      "Epoch 204/300\n",
      "32331/32331 [==============================] - 1s 31us/step - loss: 1.0902 - categorical_accuracy: 0.3017 - val_loss: 1.0902 - val_categorical_accuracy: 0.2985\n",
      "Epoch 205/300\n",
      "32331/32331 [==============================] - 1s 31us/step - loss: 1.0902 - categorical_accuracy: 0.3008 - val_loss: 1.0902 - val_categorical_accuracy: 0.2982\n",
      "Epoch 206/300\n",
      "32331/32331 [==============================] - 1s 31us/step - loss: 1.0902 - categorical_accuracy: 0.3010 - val_loss: 1.0902 - val_categorical_accuracy: 0.2977\n",
      "Epoch 207/300\n",
      "32331/32331 [==============================] - 1s 31us/step - loss: 1.0902 - categorical_accuracy: 0.3016 - val_loss: 1.0902 - val_categorical_accuracy: 0.2985\n",
      "Epoch 208/300\n",
      "32331/32331 [==============================] - 1s 32us/step - loss: 1.0902 - categorical_accuracy: 0.3015 - val_loss: 1.0902 - val_categorical_accuracy: 0.2988\n",
      "Epoch 209/300\n",
      "32331/32331 [==============================] - 1s 32us/step - loss: 1.0902 - categorical_accuracy: 0.3006 - val_loss: 1.0902 - val_categorical_accuracy: 0.2990\n",
      "Epoch 210/300\n",
      "32331/32331 [==============================] - 1s 31us/step - loss: 1.0902 - categorical_accuracy: 0.3015 - val_loss: 1.0902 - val_categorical_accuracy: 0.2984\n",
      "Epoch 211/300\n",
      "32331/32331 [==============================] - 1s 31us/step - loss: 1.0902 - categorical_accuracy: 0.3012 - val_loss: 1.0902 - val_categorical_accuracy: 0.2988\n",
      "Epoch 212/300\n",
      "32331/32331 [==============================] - 1s 31us/step - loss: 1.0902 - categorical_accuracy: 0.3005 - val_loss: 1.0903 - val_categorical_accuracy: 0.2973\n",
      "Epoch 213/300\n",
      "32331/32331 [==============================] - 1s 31us/step - loss: 1.0902 - categorical_accuracy: 0.3003 - val_loss: 1.0902 - val_categorical_accuracy: 0.2970\n",
      "Epoch 214/300\n",
      "32331/32331 [==============================] - 1s 31us/step - loss: 1.0902 - categorical_accuracy: 0.3005 - val_loss: 1.0902 - val_categorical_accuracy: 0.2977\n",
      "Epoch 215/300\n",
      "32331/32331 [==============================] - 1s 31us/step - loss: 1.0902 - categorical_accuracy: 0.3015 - val_loss: 1.0902 - val_categorical_accuracy: 0.2983\n",
      "Epoch 216/300\n",
      "32331/32331 [==============================] - 1s 31us/step - loss: 1.0902 - categorical_accuracy: 0.3016 - val_loss: 1.0903 - val_categorical_accuracy: 0.2993\n",
      "Epoch 217/300\n",
      "32331/32331 [==============================] - 1s 31us/step - loss: 1.0902 - categorical_accuracy: 0.3007 - val_loss: 1.0902 - val_categorical_accuracy: 0.2988\n",
      "Epoch 218/300\n",
      "32331/32331 [==============================] - 1s 31us/step - loss: 1.0902 - categorical_accuracy: 0.3020 - val_loss: 1.0903 - val_categorical_accuracy: 0.2985\n",
      "Epoch 219/300\n",
      "32331/32331 [==============================] - 1s 31us/step - loss: 1.0902 - categorical_accuracy: 0.3018 - val_loss: 1.0903 - val_categorical_accuracy: 0.2946\n",
      "Epoch 220/300\n",
      "32331/32331 [==============================] - 1s 31us/step - loss: 1.0902 - categorical_accuracy: 0.3001 - val_loss: 1.0902 - val_categorical_accuracy: 0.3001\n",
      "Epoch 221/300\n",
      "32331/32331 [==============================] - 1s 31us/step - loss: 1.0902 - categorical_accuracy: 0.2997 - val_loss: 1.0903 - val_categorical_accuracy: 0.2953\n",
      "Epoch 222/300\n",
      "32331/32331 [==============================] - 1s 31us/step - loss: 1.0902 - categorical_accuracy: 0.3022 - val_loss: 1.0902 - val_categorical_accuracy: 0.2989\n",
      "Epoch 223/300\n",
      "32331/32331 [==============================] - 1s 31us/step - loss: 1.0902 - categorical_accuracy: 0.3022 - val_loss: 1.0902 - val_categorical_accuracy: 0.2980\n",
      "Epoch 224/300\n",
      "32331/32331 [==============================] - 1s 31us/step - loss: 1.0902 - categorical_accuracy: 0.3001 - val_loss: 1.0902 - val_categorical_accuracy: 0.2978\n",
      "Epoch 225/300\n",
      "32331/32331 [==============================] - 1s 32us/step - loss: 1.0902 - categorical_accuracy: 0.3000 - val_loss: 1.0903 - val_categorical_accuracy: 0.2972: 1.0901 - categorical_ac\n",
      "Epoch 226/300\n",
      "32331/32331 [==============================] - 1s 31us/step - loss: 1.0902 - categorical_accuracy: 0.3004 - val_loss: 1.0903 - val_categorical_accuracy: 0.2982\n",
      "Epoch 227/300\n",
      "32331/32331 [==============================] - 1s 31us/step - loss: 1.0902 - categorical_accuracy: 0.3025 - val_loss: 1.0902 - val_categorical_accuracy: 0.2995\n",
      "Epoch 228/300\n",
      "32331/32331 [==============================] - 1s 31us/step - loss: 1.0902 - categorical_accuracy: 0.3008 - val_loss: 1.0902 - val_categorical_accuracy: 0.2988\n",
      "Epoch 229/300\n",
      "32331/32331 [==============================] - 1s 31us/step - loss: 1.0902 - categorical_accuracy: 0.3016 - val_loss: 1.0902 - val_categorical_accuracy: 0.2991\n",
      "Epoch 230/300\n",
      "32331/32331 [==============================] - 1s 32us/step - loss: 1.0902 - categorical_accuracy: 0.3008 - val_loss: 1.0902 - val_categorical_accuracy: 0.2977ss: 1.0901 - categorical_accuracy: 0.\n",
      "Epoch 231/300\n",
      "32331/32331 [==============================] - 1s 31us/step - loss: 1.0902 - categorical_accuracy: 0.3022 - val_loss: 1.0903 - val_categorical_accuracy: 0.2946\n",
      "Epoch 232/300\n",
      "32331/32331 [==============================] - 1s 31us/step - loss: 1.0902 - categorical_accuracy: 0.3011 - val_loss: 1.0903 - val_categorical_accuracy: 0.2970\n",
      "Epoch 233/300\n",
      "32331/32331 [==============================] - 1s 32us/step - loss: 1.0902 - categorical_accuracy: 0.3004 - val_loss: 1.0902 - val_categorical_accuracy: 0.3001\n",
      "Epoch 234/300\n",
      "32331/32331 [==============================] - 1s 32us/step - loss: 1.0902 - categorical_accuracy: 0.3008 - val_loss: 1.0902 - val_categorical_accuracy: 0.2984\n",
      "Epoch 235/300\n",
      "32331/32331 [==============================] - 1s 31us/step - loss: 1.0902 - categorical_accuracy: 0.3016 - val_loss: 1.0902 - val_categorical_accuracy: 0.2982\n"
     ]
    },
    {
     "name": "stdout",
     "output_type": "stream",
     "text": [
      "Epoch 236/300\n",
      "32331/32331 [==============================] - 1s 31us/step - loss: 1.0902 - categorical_accuracy: 0.3004 - val_loss: 1.0903 - val_categorical_accuracy: 0.2958\n",
      "Epoch 237/300\n",
      "32331/32331 [==============================] - 1s 32us/step - loss: 1.0902 - categorical_accuracy: 0.2998 - val_loss: 1.0903 - val_categorical_accuracy: 0.2978\n",
      "Epoch 238/300\n",
      "32331/32331 [==============================] - 1s 31us/step - loss: 1.0902 - categorical_accuracy: 0.3017 - val_loss: 1.0902 - val_categorical_accuracy: 0.2980\n",
      "Epoch 239/300\n",
      "32331/32331 [==============================] - 1s 31us/step - loss: 1.0902 - categorical_accuracy: 0.3018 - val_loss: 1.0903 - val_categorical_accuracy: 0.2995\n",
      "Epoch 240/300\n",
      "32331/32331 [==============================] - 1s 31us/step - loss: 1.0902 - categorical_accuracy: 0.3020 - val_loss: 1.0903 - val_categorical_accuracy: 0.3004\n",
      "Epoch 241/300\n",
      "32331/32331 [==============================] - 1s 31us/step - loss: 1.0902 - categorical_accuracy: 0.2995 - val_loss: 1.0902 - val_categorical_accuracy: 0.3003\n",
      "Epoch 242/300\n",
      "32331/32331 [==============================] - 1s 31us/step - loss: 1.0902 - categorical_accuracy: 0.3005 - val_loss: 1.0903 - val_categorical_accuracy: 0.2995\n",
      "Epoch 243/300\n",
      "32331/32331 [==============================] - 1s 32us/step - loss: 1.0902 - categorical_accuracy: 0.3009 - val_loss: 1.0903 - val_categorical_accuracy: 0.2998\n",
      "Epoch 244/300\n",
      "32331/32331 [==============================] - 1s 32us/step - loss: 1.0902 - categorical_accuracy: 0.3016 - val_loss: 1.0902 - val_categorical_accuracy: 0.2975\n",
      "Epoch 245/300\n",
      "32331/32331 [==============================] - 1s 32us/step - loss: 1.0902 - categorical_accuracy: 0.2998 - val_loss: 1.0902 - val_categorical_accuracy: 0.2983\n",
      "Epoch 246/300\n",
      "32331/32331 [==============================] - 1s 31us/step - loss: 1.0902 - categorical_accuracy: 0.3007 - val_loss: 1.0903 - val_categorical_accuracy: 0.2984\n",
      "Epoch 247/300\n",
      "32331/32331 [==============================] - 1s 31us/step - loss: 1.0902 - categorical_accuracy: 0.2995 - val_loss: 1.0903 - val_categorical_accuracy: 0.2947\n",
      "Epoch 248/300\n",
      "32331/32331 [==============================] - 1s 32us/step - loss: 1.0902 - categorical_accuracy: 0.3027 - val_loss: 1.0902 - val_categorical_accuracy: 0.2978\n",
      "Epoch 249/300\n",
      "32331/32331 [==============================] - 1s 31us/step - loss: 1.0902 - categorical_accuracy: 0.3010 - val_loss: 1.0903 - val_categorical_accuracy: 0.2968\n",
      "Epoch 250/300\n",
      "32331/32331 [==============================] - 1s 31us/step - loss: 1.0902 - categorical_accuracy: 0.3018 - val_loss: 1.0903 - val_categorical_accuracy: 0.2947\n",
      "Epoch 251/300\n",
      "32331/32331 [==============================] - 1s 31us/step - loss: 1.0902 - categorical_accuracy: 0.3011 - val_loss: 1.0902 - val_categorical_accuracy: 0.2967\n",
      "Epoch 252/300\n",
      "32331/32331 [==============================] - 1s 31us/step - loss: 1.0902 - categorical_accuracy: 0.3019 - val_loss: 1.0903 - val_categorical_accuracy: 0.2983\n",
      "Epoch 253/300\n",
      "32331/32331 [==============================] - 1s 31us/step - loss: 1.0902 - categorical_accuracy: 0.2997 - val_loss: 1.0902 - val_categorical_accuracy: 0.2972\n",
      "Epoch 254/300\n",
      "32331/32331 [==============================] - 1s 33us/step - loss: 1.0902 - categorical_accuracy: 0.3020 - val_loss: 1.0903 - val_categorical_accuracy: 0.2989\n",
      "Epoch 255/300\n",
      "32331/32331 [==============================] - 1s 31us/step - loss: 1.0902 - categorical_accuracy: 0.3022 - val_loss: 1.0903 - val_categorical_accuracy: 0.2995\n",
      "Epoch 256/300\n",
      "32331/32331 [==============================] - 1s 32us/step - loss: 1.0902 - categorical_accuracy: 0.2993 - val_loss: 1.0902 - val_categorical_accuracy: 0.2988\n",
      "Epoch 257/300\n",
      "32331/32331 [==============================] - 1s 31us/step - loss: 1.0902 - categorical_accuracy: 0.3018 - val_loss: 1.0903 - val_categorical_accuracy: 0.2983\n",
      "Epoch 258/300\n",
      "32331/32331 [==============================] - 1s 31us/step - loss: 1.0902 - categorical_accuracy: 0.3025 - val_loss: 1.0903 - val_categorical_accuracy: 0.2964\n",
      "Epoch 259/300\n",
      "32331/32331 [==============================] - 1s 31us/step - loss: 1.0902 - categorical_accuracy: 0.3011 - val_loss: 1.0902 - val_categorical_accuracy: 0.2984\n",
      "Epoch 260/300\n",
      "32331/32331 [==============================] - 1s 31us/step - loss: 1.0902 - categorical_accuracy: 0.3004 - val_loss: 1.0903 - val_categorical_accuracy: 0.2990\n",
      "Epoch 261/300\n",
      "32331/32331 [==============================] - 1s 31us/step - loss: 1.0902 - categorical_accuracy: 0.3016 - val_loss: 1.0902 - val_categorical_accuracy: 0.2984\n",
      "Epoch 262/300\n",
      "32331/32331 [==============================] - 1s 32us/step - loss: 1.0902 - categorical_accuracy: 0.3025 - val_loss: 1.0903 - val_categorical_accuracy: 0.2983\n",
      "Epoch 263/300\n",
      "32331/32331 [==============================] - 1s 31us/step - loss: 1.0902 - categorical_accuracy: 0.3035 - val_loss: 1.0902 - val_categorical_accuracy: 0.2983\n",
      "Epoch 264/300\n",
      "32331/32331 [==============================] - 1s 31us/step - loss: 1.0902 - categorical_accuracy: 0.3024 - val_loss: 1.0903 - val_categorical_accuracy: 0.2962\n",
      "Epoch 265/300\n",
      "32331/32331 [==============================] - 1s 32us/step - loss: 1.0902 - categorical_accuracy: 0.3015 - val_loss: 1.0903 - val_categorical_accuracy: 0.2991\n",
      "Epoch 266/300\n",
      "32331/32331 [==============================] - 1s 31us/step - loss: 1.0902 - categorical_accuracy: 0.3018 - val_loss: 1.0902 - val_categorical_accuracy: 0.2994\n",
      "Epoch 267/300\n",
      "32331/32331 [==============================] - 1s 33us/step - loss: 1.0902 - categorical_accuracy: 0.3010 - val_loss: 1.0902 - val_categorical_accuracy: 0.2982\n",
      "Epoch 268/300\n",
      "32331/32331 [==============================] - 1s 31us/step - loss: 1.0902 - categorical_accuracy: 0.3026 - val_loss: 1.0902 - val_categorical_accuracy: 0.2978\n",
      "Epoch 269/300\n",
      "32331/32331 [==============================] - 1s 35us/step - loss: 1.0902 - categorical_accuracy: 0.3016 - val_loss: 1.0902 - val_categorical_accuracy: 0.2989\n",
      "Epoch 270/300\n",
      "32331/32331 [==============================] - 1s 32us/step - loss: 1.0902 - categorical_accuracy: 0.3007 - val_loss: 1.0902 - val_categorical_accuracy: 0.2987\n",
      "Epoch 271/300\n",
      "32331/32331 [==============================] - 1s 31us/step - loss: 1.0902 - categorical_accuracy: 0.3012 - val_loss: 1.0903 - val_categorical_accuracy: 0.2985\n",
      "Epoch 272/300\n",
      "32331/32331 [==============================] - 1s 31us/step - loss: 1.0902 - categorical_accuracy: 0.3012 - val_loss: 1.0902 - val_categorical_accuracy: 0.2970\n",
      "Epoch 273/300\n",
      "32331/32331 [==============================] - 1s 31us/step - loss: 1.0902 - categorical_accuracy: 0.3019 - val_loss: 1.0903 - val_categorical_accuracy: 0.2977\n",
      "Epoch 274/300\n",
      "32331/32331 [==============================] - 1s 32us/step - loss: 1.0902 - categorical_accuracy: 0.3016 - val_loss: 1.0902 - val_categorical_accuracy: 0.2991\n",
      "Epoch 275/300\n",
      "32331/32331 [==============================] - 1s 31us/step - loss: 1.0902 - categorical_accuracy: 0.3014 - val_loss: 1.0902 - val_categorical_accuracy: 0.2990\n",
      "Epoch 276/300\n",
      "32331/32331 [==============================] - 1s 31us/step - loss: 1.0902 - categorical_accuracy: 0.3024 - val_loss: 1.0902 - val_categorical_accuracy: 0.2996\n",
      "Epoch 277/300\n",
      "32331/32331 [==============================] - 1s 31us/step - loss: 1.0902 - categorical_accuracy: 0.3014 - val_loss: 1.0902 - val_categorical_accuracy: 0.2989\n",
      "Epoch 278/300\n",
      "32331/32331 [==============================] - 1s 31us/step - loss: 1.0902 - categorical_accuracy: 0.3006 - val_loss: 1.0902 - val_categorical_accuracy: 0.2977\n",
      "Epoch 279/300\n",
      "32331/32331 [==============================] - 1s 31us/step - loss: 1.0902 - categorical_accuracy: 0.3015 - val_loss: 1.0903 - val_categorical_accuracy: 0.2944\n",
      "Epoch 280/300\n",
      "32331/32331 [==============================] - 1s 31us/step - loss: 1.0902 - categorical_accuracy: 0.3020 - val_loss: 1.0902 - val_categorical_accuracy: 0.2987\n",
      "Epoch 281/300\n",
      "32331/32331 [==============================] - 1s 31us/step - loss: 1.0902 - categorical_accuracy: 0.3003 - val_loss: 1.0902 - val_categorical_accuracy: 0.2970\n",
      "Epoch 282/300\n",
      "32331/32331 [==============================] - 1s 33us/step - loss: 1.0902 - categorical_accuracy: 0.3004 - val_loss: 1.0902 - val_categorical_accuracy: 0.2991\n",
      "Epoch 283/300\n"
     ]
    },
    {
     "name": "stdout",
     "output_type": "stream",
     "text": [
      "32331/32331 [==============================] - 1s 32us/step - loss: 1.0902 - categorical_accuracy: 0.3018 - val_loss: 1.0902 - val_categorical_accuracy: 0.2989\n",
      "Epoch 284/300\n",
      "32331/32331 [==============================] - 1s 32us/step - loss: 1.0902 - categorical_accuracy: 0.3010 - val_loss: 1.0902 - val_categorical_accuracy: 0.2985\n",
      "Epoch 285/300\n",
      "32331/32331 [==============================] - 1s 32us/step - loss: 1.0902 - categorical_accuracy: 0.3020 - val_loss: 1.0903 - val_categorical_accuracy: 0.3014\n",
      "Epoch 286/300\n",
      "32331/32331 [==============================] - 1s 32us/step - loss: 1.0902 - categorical_accuracy: 0.3024 - val_loss: 1.0902 - val_categorical_accuracy: 0.2977\n",
      "Epoch 287/300\n",
      "32331/32331 [==============================] - 1s 31us/step - loss: 1.0902 - categorical_accuracy: 0.3009 - val_loss: 1.0902 - val_categorical_accuracy: 0.2979\n",
      "Epoch 288/300\n",
      "32331/32331 [==============================] - 1s 31us/step - loss: 1.0902 - categorical_accuracy: 0.3006 - val_loss: 1.0902 - val_categorical_accuracy: 0.2969\n",
      "Epoch 289/300\n",
      "32331/32331 [==============================] - 1s 31us/step - loss: 1.0902 - categorical_accuracy: 0.3004 - val_loss: 1.0902 - val_categorical_accuracy: 0.2984\n",
      "Epoch 290/300\n",
      "32331/32331 [==============================] - 1s 31us/step - loss: 1.0902 - categorical_accuracy: 0.3015 - val_loss: 1.0902 - val_categorical_accuracy: 0.2994\n",
      "Epoch 291/300\n",
      "32331/32331 [==============================] - 1s 31us/step - loss: 1.0902 - categorical_accuracy: 0.3007 - val_loss: 1.0903 - val_categorical_accuracy: 0.2963\n",
      "Epoch 292/300\n",
      "32331/32331 [==============================] - 1s 32us/step - loss: 1.0902 - categorical_accuracy: 0.3021 - val_loss: 1.0903 - val_categorical_accuracy: 0.2998\n",
      "Epoch 293/300\n",
      "32331/32331 [==============================] - 1s 32us/step - loss: 1.0902 - categorical_accuracy: 0.3019 - val_loss: 1.0902 - val_categorical_accuracy: 0.2977\n",
      "Epoch 294/300\n",
      "32331/32331 [==============================] - 1s 31us/step - loss: 1.0902 - categorical_accuracy: 0.3006 - val_loss: 1.0902 - val_categorical_accuracy: 0.2959\n",
      "Epoch 295/300\n",
      "32331/32331 [==============================] - 1s 31us/step - loss: 1.0902 - categorical_accuracy: 0.3008 - val_loss: 1.0902 - val_categorical_accuracy: 0.2983\n",
      "Epoch 296/300\n",
      "32331/32331 [==============================] - 1s 32us/step - loss: 1.0902 - categorical_accuracy: 0.3024 - val_loss: 1.0902 - val_categorical_accuracy: 0.2973\n",
      "Epoch 297/300\n",
      "32331/32331 [==============================] - 1s 31us/step - loss: 1.0902 - categorical_accuracy: 0.3019 - val_loss: 1.0902 - val_categorical_accuracy: 0.3010\n",
      "Epoch 298/300\n",
      "32331/32331 [==============================] - 1s 31us/step - loss: 1.0902 - categorical_accuracy: 0.3009 - val_loss: 1.0902 - val_categorical_accuracy: 0.2989\n",
      "Epoch 299/300\n",
      "32331/32331 [==============================] - 1s 31us/step - loss: 1.0902 - categorical_accuracy: 0.3022 - val_loss: 1.0903 - val_categorical_accuracy: 0.2984\n",
      "Epoch 300/300\n",
      "32331/32331 [==============================] - 1s 32us/step - loss: 1.0902 - categorical_accuracy: 0.3003 - val_loss: 1.0902 - val_categorical_accuracy: 0.2979\n"
     ]
    }
   ],
   "source": [
    "# history = model.fit([input_sequences_tensor,gamma_input_list], labels, \n",
    "#                     validation_split=0.1, epochs=100,verbose=1,callbacks=[esCallBack,tbCallBack])  \n",
    "\n",
    "history = model.fit(input_sequences_tensor2, labels, validation_split=0.2, epochs=300,verbose=1)"
   ]
  },
  {
   "cell_type": "code",
   "execution_count": 42,
   "metadata": {},
   "outputs": [
    {
     "data": {
      "image/png": "[encoded data removed]",
      "text/plain": [
       "<Figure size 432x288 with 1 Axes>"
      ]
     },
     "metadata": {
      "needs_background": "light"
     },
     "output_type": "display_data"
    }
   ],
   "source": [
    "# plot losses\n",
    "\n",
    "plt.figure()\n",
    "plt.plot(history.history['loss'],color='blue')\n",
    "plt.plot(history.history['val_loss'],color='orange')\n",
    "plt.title('Model loss',fontsize=12)\n",
    "plt.ylabel('loss',fontsize=12)\n",
    "plt.xlabel('epoch',fontsize=12)\n",
    "plt.legend(['train', 'validation'])\n",
    "#plt.savefig('Write_up/model_loss.png')\n",
    "plt.show()"
   ]
  },
  {
   "cell_type": "code",
   "execution_count": 43,
   "metadata": {},
   "outputs": [
    {
     "data": {
      "image/png": "[encoded data removed]",
      "text/plain": [
       "<Figure size 432x288 with 1 Axes>"
      ]
     },
     "metadata": {
      "needs_background": "light"
     },
     "output_type": "display_data"
    }
   ],
   "source": [
    "# plot losses\n",
    "\n",
    "plt.figure()\n",
    "plt.plot(np.log(history.history['loss']),color='blue')\n",
    "plt.plot(np.log(history.history['val_loss']),color='orange')\n",
    "plt.title('Model loss',fontsize=12)\n",
    "plt.ylabel('loss',fontsize=12)\n",
    "plt.xlabel('epoch',fontsize=12)\n",
    "plt.legend(['train', 'validation'])\n",
    "#plt.savefig('Write_up/model_loss.png')\n",
    "plt.show()"
   ]
  },
  {
   "cell_type": "code",
   "execution_count": 44,
   "metadata": {},
   "outputs": [
    {
     "data": {
      "image/png": "[encoded data removed]",
      "text/plain": [
       "<Figure size 432x288 with 1 Axes>"
      ]
     },
     "metadata": {
      "needs_background": "light"
     },
     "output_type": "display_data"
    }
   ],
   "source": [
    "plt.figure()\n",
    "plt.plot(history.history['categorical_accuracy'],color='blue')\n",
    "plt.plot(history.history['val_categorical_accuracy'],color='orange')\n",
    "plt.title('Categorical Accuracy',fontsize=12)\n",
    "plt.ylabel('Accuracy',fontsize=12)\n",
    "plt.xlabel('epoch',fontsize=12)\n",
    "plt.legend(['cat_acc', 'val_cat_acc'])\n",
    "#plt.savefig('Write_up/model_loss.png')\n",
    "plt.show()"
   ]
  },
  {
   "cell_type": "code",
   "execution_count": 45,
   "metadata": {},
   "outputs": [],
   "source": [
    "# predictions_on_test = model.predict(test_input_sequences_tensor)\n",
    "predictions_on_test = model.predict(test_input_sequences_tensor2)"
   ]
  },
  {
   "cell_type": "code",
   "execution_count": 46,
   "metadata": {},
   "outputs": [
    {
     "name": "stdout",
     "output_type": "stream",
     "text": [
      "10104/10104 [==============================] - 0s 12us/step\n"
     ]
    },
    {
     "data": {
      "text/plain": [
       "[1.0902692891262111, 0.2964172604908947]"
      ]
     },
     "execution_count": 46,
     "metadata": {},
     "output_type": "execute_result"
    }
   ],
   "source": [
    "model.evaluate(test_input_sequences_tensor2,test_labels)"
   ]
  },
  {
   "cell_type": "markdown",
   "metadata": {},
   "source": [
    "### First hidden layer weights (PWMs)\n",
    "\n",
    "Need to input sequence corresponding to CRPs binding site. i.e. fixed the shape of test_input_sequences_tensor"
   ]
  },
  {
   "cell_type": "code",
   "execution_count": 47,
   "metadata": {
    "collapsed": true
   },
   "outputs": [],
   "source": [
    "crp_weights = model.layers[4].get_weights()[0].copy()\n",
    "rnap_weights = model.layers[5].get_weights()[0].copy()"
   ]
  },
  {
   "cell_type": "code",
   "execution_count": 48,
   "metadata": {},
   "outputs": [
    {
     "data": {
      "image/png": "[encoded data removed]",
      "text/plain": [
       "<Figure size 864x216 with 2 Axes>"
      ]
     },
     "metadata": {
      "needs_background": "light"
     },
     "output_type": "display_data"
    },
    {
     "data": {
      "image/png": "[encoded data removed]",
      "text/plain": [
       "<Figure size 1152x216 with 2 Axes>"
      ]
     },
     "metadata": {
      "needs_background": "light"
     },
     "output_type": "display_data"
    }
   ],
   "source": [
    "crp_weights = crp_weights.reshape(26,4)\n",
    "rnap_weights = rnap_weights.reshape(41,4)\n",
    "\n",
    "\n",
    "plt.figure(figsize=(12,3))\n",
    "sns.heatmap(crp_weights.T,cmap='RdBu_r')\n",
    "plt.show()\n",
    "plt.figure(figsize=(16,3))\n",
    "sns.heatmap(rnap_weights.T,cmap='RdBu_r')\n",
    "#sns.heatmap(rnap_weights.T,cmap='RdBu_r')\n",
    "plt.show()"
   ]
  },
  {
   "cell_type": "code",
   "execution_count": 49,
   "metadata": {},
   "outputs": [
    {
     "data": {
      "image/png": "[encoded data removed]",
      "text/plain": [
       "<Figure size 720x180 with 1 Axes>"
      ]
     },
     "metadata": {
      "needs_background": "light"
     },
     "output_type": "display_data"
    },
    {
     "data": {
      "image/png": "[encoded data removed]",
      "text/plain": [
       "<Figure size 720x180 with 1 Axes>"
      ]
     },
     "metadata": {
      "needs_background": "light"
     },
     "output_type": "display_data"
    }
   ],
   "source": [
    "import logomaker\n",
    "crp_logo_df = pd.DataFrame(crp_weights,columns=['A','C','G','T'])\n",
    "\n",
    "crp_df.columns = ['A','C','G','T']\n",
    "logomaker.Logo(-crp_df,center_values=True, font_name='Arial Rounded MT Bold')\n",
    "plt.tick_params(labelsize=14)\n",
    "plt.title('CRP PSAM Reported in Kinney et al. 2010',fontsize=14)\n",
    "plt.ylabel(\"$-\\Delta \\Delta G$ ($k_{B}T$)\", labelpad=-1)\n",
    "logomaker.Logo(-crp_logo_df,center_values=True, font_name='Arial Rounded MT Bold')\n",
    "plt.title('CRP PSAM learned by neural network (full-wt data).',fontsize=14)\n",
    "plt.tick_params(labelsize=14)\n",
    "plt.ylabel(\"$-\\Delta \\Delta G$ ($k_{B}T$)\", labelpad=-1)\n",
    "\n",
    "plt.show()\n",
    "#logomaker.Logo(rnap_logo_df,center_values=True, font_name='Arial Rounded MT Bold')"
   ]
  },
  {
   "cell_type": "code",
   "execution_count": 50,
   "metadata": {},
   "outputs": [
    {
     "data": {
      "image/png": "[encoded data removed]",
      "text/plain": [
       "<Figure size 720x180 with 1 Axes>"
      ]
     },
     "metadata": {
      "needs_background": "light"
     },
     "output_type": "display_data"
    },
    {
     "data": {
      "image/png": "[encoded data removed]",
      "text/plain": [
       "<Figure size 720x180 with 1 Axes>"
      ]
     },
     "metadata": {
      "needs_background": "light"
     },
     "output_type": "display_data"
    }
   ],
   "source": [
    "rnap_logo_df = pd.DataFrame(rnap_weights,columns=['A','C','G','T'])\n",
    "rnap_df.columns = ['A','C','G','T']\n",
    "logomaker.Logo(-rnap_df,center_values=True, font_name='Arial Rounded MT Bold')\n",
    "plt.tick_params(labelsize=14)\n",
    "plt.title('RNAP PSAM Reported in Kinney et al. 2010',fontsize=14)\n",
    "plt.ylabel(\"$-\\Delta \\Delta G$ ($k_{B}T$)\", labelpad=-1)\n",
    "logomaker.Logo(rnap_logo_df,center_values=True, font_name='Arial Rounded MT Bold')\n",
    "plt.tick_params(labelsize=14)\n",
    "plt.title('RNAP PSAM learned by neural network (full-wt data).',fontsize=14)\n",
    "plt.ylabel(\"$-\\Delta \\Delta G$ ($k_{B}T$)\", labelpad=-1)\n",
    "plt.tick_params(labelsize=14)"
   ]
  },
  {
   "cell_type": "code",
   "execution_count": 51,
   "metadata": {},
   "outputs": [
    {
     "data": {
      "text/plain": [
       "[array([[-4.6800294]], dtype=float32)]"
      ]
     },
     "execution_count": 51,
     "metadata": {},
     "output_type": "execute_result"
    }
   ],
   "source": [
    "model.layers[6].get_weights()"
   ]
  },
  {
   "cell_type": "code",
   "execution_count": 52,
   "metadata": {},
   "outputs": [],
   "source": [
    "e_i_model = Model(inputs=model.input,outputs=model.layers[6].output)\n",
    "e_i_node_output = e_i_model.predict([test_input_sequences_tensor2])"
   ]
  },
  {
   "cell_type": "code",
   "execution_count": 73,
   "metadata": {},
   "outputs": [
    {
     "data": {
      "text/plain": [
       "array([-4.6800294], dtype=float32)"
      ]
     },
     "execution_count": 73,
     "metadata": {},
     "output_type": "execute_result"
    }
   ],
   "source": [
    "e_i_node_output[0]"
   ]
  },
  {
   "cell_type": "code",
   "execution_count": 54,
   "metadata": {},
   "outputs": [
    {
     "data": {
      "text/plain": [
       "[array([[0., 1., 0., 1.],\n",
       "        [0., 0., 1., 1.],\n",
       "        [0., 0., 0., 1.]], dtype=float32)]"
      ]
     },
     "execution_count": 54,
     "metadata": {},
     "output_type": "execute_result"
    }
   ],
   "source": [
    "model.layers[8].get_weights()"
   ]
  },
  {
   "cell_type": "code",
   "execution_count": 55,
   "metadata": {},
   "outputs": [
    {
     "data": {
      "text/plain": [
       "[array([[0.       ],\n",
       "        [0.       ],\n",
       "        [3.9697642],\n",
       "        [3.904942 ]], dtype=float32)]"
      ]
     },
     "execution_count": 55,
     "metadata": {},
     "output_type": "execute_result"
    }
   ],
   "source": [
    "model.layers[9].get_weights()"
   ]
  },
  {
   "cell_type": "markdown",
   "metadata": {
    "collapsed": true
   },
   "source": [
    "### MI estimation"
   ]
  },
  {
   "cell_type": "code",
   "execution_count": 56,
   "metadata": {},
   "outputs": [],
   "source": [
    "tau_layer_model = Model(inputs=model.input,outputs=model.layers[9].output)\n",
    "tau_output = tau_layer_model.predict(test_input_sequences_tensor2)\n"
   ]
  },
  {
   "cell_type": "code",
   "execution_count": 57,
   "metadata": {},
   "outputs": [
    {
     "data": {
      "image/png": "[encoded data removed]",
      "text/plain": [
       "<Figure size 432x288 with 1 Axes>"
      ]
     },
     "metadata": {
      "needs_background": "light"
     },
     "output_type": "display_data"
    }
   ],
   "source": [
    "plt.hist(tau_output,bins=40)\n",
    "plt.show()"
   ]
  },
  {
   "cell_type": "code",
   "execution_count": 58,
   "metadata": {
    "collapsed": true
   },
   "outputs": [],
   "source": [
    "# estimate probability density at each of the output bins using deft. \n",
    "import suftware"
   ]
  },
  {
   "cell_type": "code",
   "execution_count": 59,
   "metadata": {},
   "outputs": [],
   "source": [
    "softmax_bin_layer_model = Model(inputs=model.input,outputs=model.layers[11].output)\n",
    "softmax_bin_out = softmax_bin_layer_model.predict(test_input_sequences_tensor2)\n"
   ]
  },
  {
   "cell_type": "code",
   "execution_count": 60,
   "metadata": {},
   "outputs": [
    {
     "data": {
      "image/png": "[encoded data removed]",
      "text/plain": [
       "<Figure size 432x288 with 1 Axes>"
      ]
     },
     "metadata": {
      "needs_background": "light"
     },
     "output_type": "display_data"
    }
   ],
   "source": [
    "for _ in range(10):\n",
    "    plt.scatter(tau_output,softmax_bin_out[:,_])\n",
    "plt.show()"
   ]
  },
  {
   "cell_type": "code",
   "execution_count": 61,
   "metadata": {},
   "outputs": [
    {
     "name": "stdout",
     "output_type": "stream",
     "text": [
      "0\n",
      "1\n",
      "2\n",
      "3\n",
      "4\n",
      "5\n",
      "6\n",
      "7\n",
      "8\n",
      "9\n"
     ]
    }
   ],
   "source": [
    "# y_test -> bin number\n",
    "# tau_output -> tau\n",
    "# find p(tau|bin)\n",
    "\n",
    "total_bins = 10\n",
    "\n",
    "function_dict = {}\n",
    "\n",
    "tau_given_bin = {}\n",
    "for b in range(total_bins):\n",
    "    temp_tau_given_bin_n = []\n",
    "    for _ in range(len(y_test)):\n",
    "        if(y_test[_]==b):\n",
    "            temp_tau_given_bin_n.append(tau_output[_])\n",
    "    tau_given_bin[str(b)]= np.array(temp_tau_given_bin_n).flatten()  \n",
    "    Q_star = suftware.DensityEstimator(np.array(temp_tau_given_bin_n).flatten(),alpha=2).density_func\n",
    "    print(b)\n",
    "    function_dict[str(b)] = Q_star"
   ]
  },
  {
   "cell_type": "code",
   "execution_count": 62,
   "metadata": {},
   "outputs": [
    {
     "data": {
      "text/plain": [
       "array([3.16954583e-01, 1.40284395e+00, 1.12887844e-01, 4.53764528e-01,\n",
       "       1.17129900e-01, 3.27380598e-01, 8.88006017e-02, 9.95748490e-02,\n",
       "       7.01807148e-04, 5.14763594e-01, 2.14494877e-02, 1.46827534e-01,\n",
       "       4.76211123e-03, 3.06143239e-02, 4.87235188e-01, 1.87710747e-02,\n",
       "       7.78691053e-01, 2.72196591e-01, 6.54280782e-01, 5.99089146e-01,\n",
       "       2.36547858e-01, 2.31005445e-01, 1.61171973e-01, 3.66767606e-04,\n",
       "       2.12698197e-03, 1.04350649e-01, 1.72426715e-01, 4.48321998e-01,\n",
       "       3.67048830e-01, 2.15578467e-01, 8.87546465e-02, 2.77666926e-01,\n",
       "       2.53513247e-01, 8.92657414e-02, 1.75660104e-01, 2.21366063e-02,\n",
       "       1.68146044e-01, 2.74537712e-01, 2.13916283e-05, 2.12326914e-01,\n",
       "       4.78809513e-03, 2.28920087e-01, 2.93450683e-01, 5.09071052e-01,\n",
       "       5.53067386e-01, 2.91007042e-01, 2.74321854e-01, 3.69802356e-01,\n",
       "       1.44167304e-01, 3.44547182e-01, 1.66647524e-01, 1.27065403e-03,\n",
       "       2.33374357e-01, 1.66381344e-01, 5.44817559e-02, 1.40444469e-03,\n",
       "       3.37058445e-03, 1.42015055e-01, 3.63094091e-01, 1.60192817e-01,\n",
       "       2.20975488e-01, 4.75165665e-01, 1.63240865e-01, 1.47374302e-01,\n",
       "       5.68931162e-01, 1.82303286e-03, 2.41569787e-01, 3.40851903e-01,\n",
       "       5.10892086e-02, 4.69422806e-03, 8.70181620e-02, 8.88573304e-02,\n",
       "       2.43097067e-01, 2.30754152e-01, 1.66094750e-01, 1.77137088e-03,\n",
       "       1.42098010e-01, 8.60252082e-02, 1.73151553e-01, 1.63909197e-01,\n",
       "       5.30927777e-01, 3.39615703e-01, 1.00181505e-01, 1.70811906e-01,\n",
       "       4.43005711e-02, 7.89953470e-02, 2.43371978e-01, 4.55978692e-01,\n",
       "       7.18436167e-02, 2.83090234e-01, 2.31779620e-01, 1.04064003e-01,\n",
       "       1.87662259e-01, 1.00787310e-02, 3.89295071e-02, 9.76042729e-03,\n",
       "       4.79809582e-01, 4.52775694e-02, 4.56171215e-01, 2.38881409e-01,\n",
       "       1.61233125e-04, 1.66670233e-01, 5.35814129e-02, 1.79566056e-01,\n",
       "       1.68136790e-01, 1.40205771e-01, 2.04760209e-01, 1.63440645e-01,\n",
       "       1.09725162e-01, 3.29663515e-01, 1.09871149e-01, 1.92451980e-02,\n",
       "       7.59554878e-02, 1.91044524e-01, 4.21186805e-01, 6.40017763e-02,\n",
       "       2.07298130e-01, 1.84116941e-02, 1.67073667e-01, 1.54714715e-02,\n",
       "       6.55475259e-03, 3.20206443e-03, 1.46876723e-01, 5.29877901e-01,\n",
       "       3.68489586e-02, 1.17700145e-01, 1.51829883e-01, 8.86536092e-02,\n",
       "       1.10849507e-01, 2.65764087e-01, 1.64577380e-01, 1.89514458e-01,\n",
       "       1.37455957e-02, 5.61418638e-05, 9.04035792e-02, 2.21329167e-01,\n",
       "       2.91969001e-01, 1.02989899e-03, 9.09411930e-04, 1.97185636e-01,\n",
       "       1.42426431e-01, 2.64212154e-02, 3.00597847e-01, 8.32425058e-02,\n",
       "       2.42853731e-01, 3.18211734e-01, 1.36467129e-01, 3.30219194e-02,\n",
       "       4.97650281e-02, 3.50650191e-01, 4.09870744e-02, 1.89619288e-02,\n",
       "       5.16205132e-01, 6.19938374e-01, 8.29659216e-03, 2.37360641e-01,\n",
       "       7.71467676e-05, 7.97056556e-02, 2.41619721e-01, 1.03500582e-01,\n",
       "       2.55309045e-02, 1.73260838e-01, 1.85706228e-01, 7.13092685e-01,\n",
       "       2.88487792e-01, 2.51774132e-01, 1.98819399e-01, 3.21216732e-02,\n",
       "       1.25137091e-01, 1.94966495e-01, 7.97476768e-02, 1.30558655e-01,\n",
       "       1.97721517e+00, 1.84355527e-01, 2.77108193e-04, 7.92607516e-02,\n",
       "       1.83868613e-02, 1.83983392e-03, 1.63596690e-01, 2.91076172e-02,\n",
       "       7.79396109e-03, 1.69670060e-01, 1.34008408e-01, 2.49942206e-03,\n",
       "       2.13887334e-01, 2.12586954e-01, 1.73842266e-01, 2.65474170e-01,\n",
       "       2.15273246e-01, 2.17435792e-01, 4.96255159e-01, 1.58578366e-01,\n",
       "       1.25579089e-01, 3.99452388e-01, 2.16329440e-01, 1.43049927e-02,\n",
       "       4.26138312e-01, 1.69242412e-01, 2.88874358e-01, 1.54376671e-01,\n",
       "       9.46206078e-02, 9.41296279e-01, 3.64166021e-01, 2.19576105e-01,\n",
       "       7.25742653e-02, 2.11195871e-01, 2.33523950e-01, 1.73634328e-02,\n",
       "       2.62359500e-01, 3.54028982e-03, 3.83236371e-02, 6.86736032e-02,\n",
       "       7.97669441e-02, 6.01188326e-03, 9.28785559e-03, 2.75243726e-02,\n",
       "       2.04511046e-01, 2.89449930e-01, 2.31594339e-01, 1.36005834e-01,\n",
       "       2.70597935e-01, 5.11723161e-01, 1.01008378e-01, 6.73095346e-05,\n",
       "       1.50605261e-01, 2.65022423e-02, 2.56598711e-01, 7.35229775e-02,\n",
       "       5.07084131e-01, 2.08235860e-01, 5.19308224e-02, 3.92355025e-01,\n",
       "       6.90500438e-02, 3.14562349e-03, 1.47191083e+00, 8.09237268e-03,\n",
       "       3.92716983e-03, 3.13331187e-01, 6.03287620e-03, 7.75547745e-03,\n",
       "       2.28439659e-01, 3.11571121e-01, 1.71060956e+00, 1.68248236e-01,\n",
       "       2.44528294e-01, 3.37337434e-01, 4.94757332e-02, 1.52117550e-01,\n",
       "       2.40171242e+00, 6.09850883e-02, 1.03619730e+00, 1.89119786e-01,\n",
       "       9.28155147e-03, 7.77179301e-02, 7.40734264e-02, 5.70126250e-03,\n",
       "       4.25090827e-02, 2.24881649e-01, 3.95745039e-01, 3.06569993e-01,\n",
       "       1.08868942e-01, 2.06980333e-02, 4.56089377e-01, 1.16319016e-01,\n",
       "       5.02575755e-01, 9.34173092e-02, 2.59809762e-01, 3.42675745e-02,\n",
       "       9.49706230e-03, 1.46942690e-01, 3.23663317e-02, 5.67332208e-02,\n",
       "       3.38076532e-01, 3.79952118e-02, 2.19776332e-01, 1.94103688e-01,\n",
       "       1.32133835e-03, 1.33185029e-01, 1.50987878e-01, 2.49446224e-04,\n",
       "       8.66107084e-03, 2.41762608e-01, 4.54623923e-02, 1.04119210e-03,\n",
       "       2.73756608e-02, 5.24270087e-02, 3.64706963e-01, 6.74311945e-04,\n",
       "       1.00609139e-01, 2.78922886e-01, 3.32814872e-01, 5.31047523e-01,\n",
       "       2.54086137e-01, 1.17686227e-01, 1.38199441e-02, 8.47454071e-02,\n",
       "       1.75483420e-01, 2.66202658e-01, 6.48661181e-02, 1.50878308e-03,\n",
       "       2.28164598e-01, 3.18126641e-02, 5.45328017e-03, 7.35109625e-03,\n",
       "       2.69667238e-01, 1.80614412e-01, 3.75226438e-01, 1.53772607e-01,\n",
       "       1.11546889e-01, 3.14042605e-02, 1.69196039e-01, 1.09709121e-01,\n",
       "       1.45382106e-01, 1.90228641e-01, 3.91914099e-01, 7.02215882e-04,\n",
       "       2.82938778e-01, 1.59972966e-01, 2.01502681e-01, 3.05140734e-01,\n",
       "       1.25494570e-01, 2.05568418e-01, 3.47826481e-02, 1.55857071e-01,\n",
       "       3.06883398e-02, 8.92611444e-02, 3.92679960e-01, 3.19493383e-01,\n",
       "       9.13008824e-02, 2.01688334e-01, 3.84580433e-01, 3.79102290e-01,\n",
       "       2.34304488e-01, 5.58700383e-01, 1.59757912e-01, 4.58219583e-04,\n",
       "       2.24020660e-01, 2.98138410e-01, 2.41121739e-01, 3.42176974e-01,\n",
       "       1.68508083e-01, 4.30625351e-03, 3.41401964e-01, 1.44546330e-01,\n",
       "       1.40371977e-03, 1.36204138e-01, 4.21204299e-01, 3.13985236e-02,\n",
       "       2.32742459e-01, 1.55834993e-02, 1.43684685e-01, 3.48294318e-01,\n",
       "       3.90882194e-01, 8.14738095e-01, 1.48171261e-01, 6.12924218e-01,\n",
       "       2.47566253e-01, 1.48387812e-02, 1.37950748e-01, 1.38632590e-02,\n",
       "       8.47077295e-02, 3.09251815e-01, 2.10154831e-01, 2.95110941e-01,\n",
       "       2.48570651e-01, 1.30995754e-02, 1.50464341e-01, 3.69329989e-01,\n",
       "       2.65835702e-01, 9.42160143e-04, 1.01295337e-02, 1.72807455e-01,\n",
       "       6.40354455e-01, 1.63728043e-01, 2.44052708e-01, 2.57610939e-02,\n",
       "       3.56355570e-02, 5.39412834e-02, 3.40173066e-01, 1.15076326e-01,\n",
       "       1.48964711e-02, 1.90218672e-01, 1.05166979e-01, 2.71244603e-03,\n",
       "       9.87417325e-02, 1.06708601e-03, 3.60655934e-01, 1.72008406e-02,\n",
       "       1.45592660e-01, 1.90150186e-01, 4.32620287e-01, 2.17508912e-01,\n",
       "       3.52951145e-04, 1.84758589e-01, 3.38981394e-03, 6.25279936e-05,\n",
       "       1.81977123e-01, 1.57208055e-01, 1.77805677e-01, 2.19648346e-01,\n",
       "       6.80922791e-02, 1.75963968e-01, 9.57274158e-03, 9.56166536e-02,\n",
       "       3.49251062e-01, 3.68594304e-02, 1.38437271e-01, 1.66263819e-01,\n",
       "       1.18601799e-01, 1.98354483e-01, 1.38892740e-01, 6.20094836e-02,\n",
       "       8.59870091e-02, 1.91500962e-01, 1.41174972e-01, 1.32347658e-01,\n",
       "       1.44628584e-01, 1.19678952e-01, 2.58273482e-01, 1.64726019e-01,\n",
       "       1.31032486e-02, 2.04152986e-01, 2.73557395e-01, 2.30888277e-01,\n",
       "       1.77847296e-01, 1.50371298e-01, 1.53787866e-01, 1.28843814e-01,\n",
       "       1.44836321e-01, 2.88344622e-02, 3.52967530e-01, 2.40277871e-01,\n",
       "       1.78237736e-01, 2.29245782e-01, 2.05255121e-01, 4.02883394e-04,\n",
       "       2.88655818e-01, 1.48792949e-03, 7.00221583e-03, 2.05385670e-01,\n",
       "       1.34104162e-01, 1.53657105e-02, 1.24252634e-04, 3.63114086e-04,\n",
       "       1.08864335e-02, 6.93005398e-02, 4.13366407e-02, 1.65648967e-01,\n",
       "       6.74913749e-02, 1.72234431e-01, 4.05848414e-01, 1.36511445e+00,\n",
       "       9.45581377e-01, 7.63331428e-02, 2.07838446e-01, 2.79584229e-01,\n",
       "       5.95025625e-03, 3.99390329e-03, 4.30242151e-01, 2.36673988e-02,\n",
       "       1.66221410e-01, 2.23588288e-01, 1.93854332e-01, 6.05003119e-01,\n",
       "       2.59131044e-01, 3.22463334e-01, 3.86325836e-01, 4.71288562e-01,\n",
       "       2.89668798e-01, 5.56038022e-01, 1.51490822e-01, 2.00658944e-03,\n",
       "       2.54022628e-01, 2.46379785e-02, 5.84890321e-02, 1.96884751e-01,\n",
       "       2.81574875e-01, 9.04475600e-02, 1.78916872e-01, 3.57719660e-01,\n",
       "       1.07683107e-01, 4.59251526e-09, 4.03547406e-01, 3.04154873e-01,\n",
       "       9.37209697e-04, 1.85297787e-01, 2.00161219e-01, 9.09665078e-02,\n",
       "       3.29312325e-01, 2.65215874e-01, 2.96537220e-01, 2.11817563e-01,\n",
       "       9.10536945e-03, 1.90516561e-01, 1.30078138e-03, 3.17553431e-01,\n",
       "       3.47684398e-02, 3.95796597e-01, 1.40870869e-01, 1.30810201e-01,\n",
       "       2.90661454e-01, 2.03116328e-01, 3.14262174e-02, 1.12717845e-01,\n",
       "       5.21575240e-03, 1.31654277e-01, 1.86398923e-01, 1.12860017e-02,\n",
       "       1.73188612e-01, 6.06106222e-02, 1.59056261e-01, 1.36122644e-01,\n",
       "       2.14922071e-01, 7.01567680e-02, 1.46831468e-01, 1.97451979e-01,\n",
       "       2.61331648e-01, 2.64802463e-02, 4.54206377e-01, 4.52661142e-03,\n",
       "       1.85571104e-01, 1.90879807e-01, 1.26329760e-04, 2.84279019e-01,\n",
       "       4.30933416e-01, 2.84684896e-01, 1.37603164e-01, 3.15333437e-03,\n",
       "       4.59357252e-05, 4.29029852e-01, 2.66311198e-01, 1.84669673e-01,\n",
       "       5.55496663e-02, 3.31169623e-03, 2.38253564e-01, 6.97278231e-02,\n",
       "       4.04179469e-03, 3.31044436e-01, 1.34499133e-01, 3.14071208e-01,\n",
       "       5.18621325e-01, 6.24065287e-02, 5.29357046e-02, 4.42306325e-03,\n",
       "       2.90710256e-02, 1.39536276e-01, 1.24774419e-01, 1.77494526e-01,\n",
       "       1.53982759e-01, 2.27210775e-01, 2.01029211e-01, 1.32809877e-02,\n",
       "       2.00310834e-02, 3.85421216e-02, 2.63899285e-02, 2.00008035e-01,\n",
       "       1.14891923e-03, 1.81023404e-01, 1.64894201e-03, 1.70133501e-01,\n",
       "       4.48253274e-01, 3.13768908e-02, 7.22749382e-02, 8.43712166e-02,\n",
       "       1.62449968e-03, 5.34386113e-02, 2.59764284e-01, 1.40198693e-01,\n",
       "       3.09683442e-01, 5.85461333e-02, 2.21053153e-01, 2.64337957e-01,\n",
       "       6.13519107e-04, 3.92090436e-03, 1.36148091e-02, 1.99230149e-01,\n",
       "       2.30943799e-01, 2.10358133e-03, 2.35866800e-01, 2.26778653e-03,\n",
       "       4.02249813e-01, 2.66096562e-01, 1.28322206e-02, 1.52001277e-01,\n",
       "       5.28850546e-03, 3.46785903e-01, 5.38584031e-02, 2.73718417e-01,\n",
       "       1.62647665e-01, 9.17845368e-02, 8.59587938e-02, 2.52756178e-01,\n",
       "       2.73971975e-01, 2.41919048e-02, 7.67969936e-02, 3.04697603e-01,\n",
       "       4.49119136e-02, 1.02109909e-01, 7.89208412e-02, 1.85548738e-01,\n",
       "       2.59372860e-01, 2.21310318e-01, 1.96557269e-01, 1.55654371e-01,\n",
       "       1.75651818e-04, 4.70223427e-01, 2.72680253e-01, 4.71110754e-02,\n",
       "       1.96686372e-01, 1.09586120e-03, 1.68211296e-01, 3.99038821e-01,\n",
       "       5.25339067e-01, 2.20102087e-01, 2.41899248e-02, 1.05229065e-01,\n",
       "       2.57334441e-01, 3.74666244e-01, 1.11447030e-03, 3.99000943e-03,\n",
       "       1.12584587e-02, 3.10318917e-03, 2.80073583e-01, 3.01932693e-01,\n",
       "       3.59266102e-01, 3.09751868e-01, 2.31085271e-01, 3.89491469e-01,\n",
       "       6.89437322e-04, 2.26689637e-01, 5.96909583e-01, 1.19163655e-02,\n",
       "       1.41314879e-01, 1.03185065e-01, 1.05702423e-01, 2.27596298e-01,\n",
       "       1.00923330e-01, 2.47702181e-01, 2.92291567e-02, 7.79710263e-02,\n",
       "       2.03836724e-01, 8.31309676e-01, 5.25989473e-01, 1.30309358e-01,\n",
       "       4.90591899e-02, 3.55392277e-01, 1.99367940e-01, 3.71171743e-01,\n",
       "       1.54086828e-01, 1.80852994e-01, 9.13680159e-03, 1.45358704e-02,\n",
       "       1.66789711e-01, 2.28381500e-01, 6.18216336e-01, 2.44615823e-01,\n",
       "       1.47060186e-01, 1.62792474e-01, 4.43627477e-01, 1.36557147e-01,\n",
       "       8.83679390e-02, 1.89829350e-01, 1.32081613e-01, 9.65384097e-05,\n",
       "       1.63765952e-01, 2.01234240e-02, 7.37175792e-02, 9.54307392e-02,\n",
       "       1.17590325e-02, 3.04610580e-01, 1.90393329e-01, 1.80584773e-01,\n",
       "       8.09300095e-02, 1.15253165e-01, 1.05449133e-01, 4.68748808e-01,\n",
       "       6.12771399e-02, 4.19746906e-01, 1.78956538e-01, 6.73808111e-03,\n",
       "       2.54289299e-01, 6.20176026e-04, 2.54914999e-01, 1.79195166e-01,\n",
       "       7.89052527e-03, 8.85856599e-02, 1.55344307e-01, 2.55915016e-01,\n",
       "       3.36031313e-04, 2.42390305e-01, 1.97382912e-01, 1.99866891e-01,\n",
       "       1.54710338e-01, 1.31276354e-01, 7.22009093e-02, 2.20964670e-01,\n",
       "       2.30919872e-03, 1.82718575e-01, 1.11001596e-01, 3.40678915e-02,\n",
       "       4.07388449e-01, 3.82917792e-01, 7.60975853e-02, 3.21398973e-02,\n",
       "       8.54735747e-02, 2.42779225e-01, 1.67345837e-01, 1.70537174e-01,\n",
       "       3.42252940e-01, 2.55498707e-01, 2.44636670e-01, 2.06768915e-01,\n",
       "       2.14243472e-01, 8.19818452e-02, 6.80832744e-01, 1.12071425e-01,\n",
       "       1.74664795e-01, 3.23922843e-01, 2.19739541e-01, 2.09274609e-02,\n",
       "       2.11626634e-01, 4.47177798e-01, 2.52317376e-02, 2.17897683e-01,\n",
       "       1.48640528e-01, 1.81453764e-01, 1.37326300e-01, 7.78218955e-02,\n",
       "       2.34405681e-01, 1.73972189e-01, 3.32360506e-01, 1.53653845e-02,\n",
       "       2.78464377e-01, 1.29419304e-02, 3.44978750e-01, 1.42215848e-01,\n",
       "       3.03823918e-01, 3.36436898e-01, 1.72341451e-01, 5.28020458e-03,\n",
       "       4.69103595e-03, 1.69423178e-01, 5.46434782e-02, 1.81056917e-01,\n",
       "       2.32211336e-01, 9.82126519e-02, 2.22869813e-01, 5.64003028e-02,\n",
       "       3.12204629e-01, 1.65303737e-01, 1.46626234e-02, 1.84197262e-01,\n",
       "       3.83486822e-02, 3.94067556e-01, 4.71344680e-01, 2.17516989e-01,\n",
       "       1.60666853e-01, 2.18598828e-01, 8.13993141e-02, 2.09812433e-01,\n",
       "       3.28395367e-02, 2.21196964e-01, 1.45405047e-02, 1.95362508e-01,\n",
       "       8.75538066e-02, 3.08490813e-01, 1.91921234e-01, 1.65323552e-03,\n",
       "       4.70688529e-02, 2.29000509e-01, 2.11029664e-01, 4.44916666e-01,\n",
       "       4.68648314e-01, 1.84220120e-01, 1.28159612e-01, 3.67202563e-03,\n",
       "       6.70191320e-03, 2.15280473e-01, 1.54320225e-01, 2.07377806e-01,\n",
       "       3.30548823e-01, 1.02558248e-02, 3.09943080e-01, 2.61186901e-02,\n",
       "       3.60185979e-04, 2.25034833e-01, 1.18780784e-01, 1.59387201e-01,\n",
       "       2.89675951e-01, 4.18881863e-01, 2.46194620e-02, 1.35663435e-01,\n",
       "       2.66047806e-01, 1.31414250e-01, 5.06820619e-01, 4.53020036e-02,\n",
       "       4.12903354e-02, 3.57665675e-04, 1.83749840e-01, 1.94694132e-01,\n",
       "       1.48309290e-01, 2.61951983e-01, 2.43515685e-01, 2.80821264e-01,\n",
       "       9.34074819e-02, 2.18445748e-01, 1.67104006e-01, 1.61160994e-03,\n",
       "       1.60538912e-01, 3.80788982e-01, 1.47681737e+00, 4.14802372e-01,\n",
       "       7.95158148e-02, 2.12890789e-01, 1.41799778e-01, 3.10966698e-03,\n",
       "       3.53436977e-01, 3.93499315e-01, 3.33500087e-01, 2.47234777e-01,\n",
       "       1.30267562e-02, 5.16095281e-01, 2.47420400e-01, 2.70871967e-02,\n",
       "       9.33307335e-02, 1.26042426e+00, 2.14619599e-02, 8.24899320e-03,\n",
       "       3.74956429e-01, 1.75211057e-01, 3.10526282e-01, 2.63227016e-01,\n",
       "       2.94437706e-01, 4.41349000e-02, 3.53233427e-01, 7.07188994e-02,\n",
       "       3.07195902e-01, 2.23916486e-01, 1.23975679e-01, 3.77106220e-02,\n",
       "       2.89142996e-01, 7.14878272e-03, 1.35439187e-01, 8.82568303e-03,\n",
       "       3.56128477e-02, 1.85221255e-01, 3.50730658e-01, 3.20192456e-01,\n",
       "       4.33308095e-01, 2.87563019e-02, 2.98714042e-01, 5.66694932e-03,\n",
       "       1.87745273e-01, 1.46583870e-01, 5.57336863e-03, 2.95564502e-01,\n",
       "       6.58719420e-01, 1.45959467e-01, 1.11987986e-01, 7.08356500e-03,\n",
       "       1.02541402e-01, 3.87004297e-03, 1.96427152e-01, 3.24282199e-01,\n",
       "       1.64629772e-01, 1.80512965e-01, 1.37207985e-01, 2.41122812e-01,\n",
       "       3.28878134e-01, 1.65159822e-01, 1.73081279e-01, 1.04574621e-01,\n",
       "       1.11457258e-02, 1.79520145e-01, 1.64620504e-01, 2.93037474e-01,\n",
       "       2.74296071e-05, 6.65711891e-03, 4.71742719e-01, 1.72145829e-01,\n",
       "       1.83406670e-03, 1.05574384e-01, 2.50499278e-01, 8.10613692e-01,\n",
       "       2.53698707e-01, 4.63068113e-02, 1.08580433e-01, 4.96953100e-01,\n",
       "       4.09633160e-01, 4.66736495e-01, 2.35917896e-01, 1.50086952e-03,\n",
       "       6.30323635e-03, 3.97024959e-01, 2.38767862e-01, 1.30465820e-01,\n",
       "       2.19214514e-01, 1.02675870e-01, 1.47037268e-01, 1.77804172e-01,\n",
       "       2.53215075e-01, 1.36809841e-01, 8.25600773e-02, 4.54978738e-03,\n",
       "       7.95392245e-02, 1.01053063e-03, 7.85278678e-02, 2.18527347e-01,\n",
       "       4.66517866e-01, 5.06361365e-01, 2.05288231e-01, 3.92607063e-01,\n",
       "       3.13333362e-01, 2.60289460e-01, 9.24168676e-02, 3.02607983e-01,\n",
       "       3.28485280e-01, 1.10019118e-01, 3.81092250e-01, 9.70013440e-02,\n",
       "       2.67386347e-01, 4.19242769e-01, 2.29352936e-01, 1.95292413e+00,\n",
       "       3.80617023e-01, 4.08958375e-01, 2.34687433e-01, 3.29578996e-01,\n",
       "       1.63328767e-01, 1.47470981e-01, 1.58856362e-01, 1.78681299e-01,\n",
       "       8.54474530e-02, 3.13946486e-01, 9.65605676e-02, 8.77941102e-02,\n",
       "       2.09892556e-01, 6.39306128e-01, 2.17859149e-01, 1.65484756e-01,\n",
       "       7.14278594e-02, 3.69101018e-01, 1.57933921e-01, 2.47324467e-01,\n",
       "       1.90548703e-01, 1.42305657e-01, 4.99096006e-01, 3.17488343e-01,\n",
       "       8.47215593e-01, 3.53116989e-02, 2.43576542e-01, 1.93911672e-01,\n",
       "       2.73158792e-02, 4.65396643e-01, 4.72849309e-02, 1.97799578e-02,\n",
       "       9.50302780e-02, 1.40281960e-01, 1.51733845e-01, 1.66940957e-01,\n",
       "       1.29366279e-01, 3.46327841e-01, 3.85762602e-01, 3.54048386e-02,\n",
       "       3.44039470e-01, 5.14936864e-01, 9.35191214e-02, 1.81032449e-01,\n",
       "       3.78710270e-01, 1.44876003e-01, 8.44089985e-02, 2.60456622e-01,\n",
       "       2.75797725e-01], dtype=float32)"
      ]
     },
     "execution_count": 62,
     "metadata": {},
     "output_type": "execute_result"
    }
   ],
   "source": [
    "tau_given_bin['6']"
   ]
  },
  {
   "cell_type": "code",
   "execution_count": 63,
   "metadata": {
    "collapsed": true
   },
   "outputs": [],
   "source": [
    "# rename function dict to Qstar dict, \n",
    "# comment out code below\n",
    "# compute mutual information on full data?"
   ]
  },
  {
   "cell_type": "code",
   "execution_count": 64,
   "metadata": {},
   "outputs": [
    {
     "name": "stdout",
     "output_type": "stream",
     "text": [
      "0.8545261314755421\n"
     ]
    },
    {
     "name": "stderr",
     "output_type": "stream",
     "text": [
      "/Users/tareen/miniconda3/lib/python3.6/site-packages/suftware/src/DensityEvaluator.py:91: RuntimeWarning: overflow encountered in exp\n",
      "  values = np.exp(-self.field_func(xs)) / self.Z\n"
     ]
    }
   ],
   "source": [
    "#suftware.DensityEstimator(np.log(tau_given_bin['6']))\n",
    "num_gridpoints = 1000\n",
    "gridpoints = np.linspace(min(tau_output),max(tau_output),num_gridpoints)\n",
    "h = gridpoints[1] - gridpoints[0]\n",
    "\n",
    "SMALL = 1E-10\n",
    "bins = 10\n",
    "\n",
    "def p_tau_given_bin(x,b):\n",
    "    key = '%d'%b\n",
    "    return function_dict[key](x) + SMALL\n",
    "\n",
    "def p_tau(x):\n",
    "    tmp = np.zeros(len(x))\n",
    "    for f in function_dict.values():\n",
    "        tmp += f(x)\n",
    "    tmp /= len(function_dict) + SMALL\n",
    "    return tmp\n",
    " \n",
    "mutual_information = sum([sum(h * p_tau_given_bin(gridpoints,b) * np.log2(p_tau_given_bin(gridpoints,b) / p_tau(gridpoints))) \n",
    "                          for b in range(0,bins)]) / bins\n",
    "\n",
    "print(mutual_information)"
   ]
  },
  {
   "cell_type": "code",
   "execution_count": 65,
   "metadata": {},
   "outputs": [
    {
     "data": {
      "image/png": "[encoded data removed]",
      "text/plain": [
       "<Figure size 288x288 with 1 Axes>"
      ]
     },
     "metadata": {
      "needs_background": "light"
     },
     "output_type": "display_data"
    }
   ],
   "source": [
    "density = suftware.DensityEstimator(np.log(tau_given_bin['4']))\n",
    "density.plot()"
   ]
  },
  {
   "cell_type": "code",
   "execution_count": 66,
   "metadata": {},
   "outputs": [
    {
     "name": "stdout",
     "output_type": "stream",
     "text": [
      "10104 0.8545261314755421\n"
     ]
    }
   ],
   "source": [
    "# 15156 0.5425835651212284\n",
    "print(len(y_test), mutual_information)"
   ]
  },
  {
   "cell_type": "code",
   "execution_count": 67,
   "metadata": {},
   "outputs": [
    {
     "data": {
      "text/plain": [
       "Text(0.06,0.5,'Bin Number')"
      ]
     },
     "execution_count": 67,
     "metadata": {},
     "output_type": "execute_result"
    },
    {
     "data": {
      "image/png": "[encoded data removed]",
      "text/plain": [
       "<Figure size 720x432 with 10 Axes>"
      ]
     },
     "metadata": {
      "needs_background": "light"
     },
     "output_type": "display_data"
    }
   ],
   "source": [
    "fig, ax = plt.subplots(nrows=bins,sharex=True, ncols=1,figsize=(10,6))   \n",
    "ax[0].set_title(r'P($\\tau$|bin)')\n",
    "\n",
    "for bin_index in range(bins):\n",
    "\n",
    "    for xc in np.log(tau_given_bin[str(bin_index)]):\n",
    "        \n",
    "        ax[bin_index].axvline(x=xc,alpha=0.25,linewidth=1,color='lightcoral')\n",
    "        \n",
    "    ax[bin_index].set_ylabel(str(bin_index))\n",
    "    ax[bin_index].set_yticks([])\n",
    "    \n",
    "ax[bin_index].set_xlabel(r'$\\log(\\tau)$')    \n",
    "fig.text(0.06, 0.5, 'Bin Number', ha='center', va='center', rotation='vertical')    \n",
    "# plt.savefig('bin_vs_log_tau.pdf')"
   ]
  },
  {
   "cell_type": "code",
   "execution_count": 68,
   "metadata": {
    "collapsed": true
   },
   "outputs": [],
   "source": [
    "# for temp_index in range(10):\n",
    "\n",
    "#     np.savetxt(str(temp_index)+'.txt',np.log(tau_given_bin[str(temp_index)]))"
   ]
  },
  {
   "cell_type": "code",
   "execution_count": 69,
   "metadata": {},
   "outputs": [
    {
     "name": "stdout",
     "output_type": "stream",
     "text": [
      "1.12.0\n",
      "2.2.4\n"
     ]
    }
   ],
   "source": [
    "print(tf.__version__)\n",
    "print(keras.__version__)"
   ]
  },
  {
   "cell_type": "code",
   "execution_count": 72,
   "metadata": {
    "collapsed": true
   },
   "outputs": [],
   "source": [
    "#model.save('best_model2_ei_4p7_500_epochs_mi_0p85.h5')"
   ]
  },
  {
   "cell_type": "code",
   "execution_count": null,
   "metadata": {
    "collapsed": true
   },
   "outputs": [],
   "source": []
  }
 ],
 "metadata": {
  "kernelspec": {
   "display_name": "Python 3",
   "language": "python",
   "name": "python3"
  },
  "language_info": {
   "codemirror_mode": {
    "name": "ipython",
    "version": 3
   },
   "file_extension": ".py",
   "mimetype": "text/x-python",
   "name": "python",
   "nbconvert_exporter": "python",
   "pygments_lexer": "ipython3",
   "version": "3.6.7"
  }
 },
 "nbformat": 4,
 "nbformat_minor": 2
}
