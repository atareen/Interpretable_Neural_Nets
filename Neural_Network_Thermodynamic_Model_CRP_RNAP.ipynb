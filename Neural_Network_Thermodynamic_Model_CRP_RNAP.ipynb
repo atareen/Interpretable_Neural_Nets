{
 "cells": [
  {
   "cell_type": "markdown",
   "metadata": {},
   "source": [
    "## Introduction\n",
    "\n",
    "This notebook constructs a neural network that is meant to represent a thermodynamic model. This network has the following architecture: The input layer represents sequences. Different parts of the input sequences are fed to different nodes in the first hidden layer, e.g. consider sequences that contain binding sites for two transcription factors (e.g. CRP and RNAP), then the subsequence representing one binding site will be fed-forward to one node and the subsequence represent the other binding site will be fed to another node. The weights connected to each of these nodes may be interpreted as the position weight matrices of their respective transcription factors and the values of the two nodes in the first hidden layers represent binding energies of each of these proteins. This layer follows a fully connected layer but with binary weights; these weights are frozen during training because they represent microstates of the thermodynamic model; this layer is softmax activated. The softmax layer is fed a second input layer which is meant to represent the interaction gamma between CRP and RNAP. This softmax layer feeds into one node for the output, which represents the transcription rate. Every activation except the softmax is linear. \n",
    "\n",
    "### Architecture Diagram\n",
    "<img src=\"gamma_model.png\" alt=\"drawing\" style=\"width:450px;height:275px;\"/>\n",
    "\n",
    "### Notes\n",
    "\n",
    "- The CRP motif is almost always learned. The RNAP motif often does not get learned. I have to initialize the weights like the values from the RNAP df from the 2010 sort-seq paper, and only then did the network learn the RNAP motif. Sub-note: SGD seems to work a lot better than ADAM in finding both motifs. I'll stick to SGD.\n",
    "\n",
    "- For the interaction term gamma, an intermediate input is injected into the softmax layer of value 1. This one gets split into four nodes of the softmax layer, but the weights are fixed to [0,0,0,1], meaning that the gamma term only contributes to the fourth microstate (in which both crp and rnap are bound). \n",
    "\n",
    "\n",
    "\n",
    "#### TO DO\n",
    "\n",
    "- ~~Need to write custom last layer with first two connections zero and last two weights tied~~\n",
    "- ~~check the number of parameters in the first hidden layer matches the shapes of the PWMs.~~\n",
    "- ~~Make distributions of intermediate layer activations for differnet sequences.~~\n",
    "- check if energy and transcriptions input values are reasonable. Need to run this by Justin\n",
    "- ~~Try other optimizers (e.g. SGD, RMSProp) check if RNAP motif is learned with random initial values for RNAP_pwm layer~~\n",
    "- ~~implemented callback~~ use as: tensorboard --logdir ./Graph"
   ]
  },
  {
   "cell_type": "code",
   "execution_count": 1,
   "metadata": {},
   "outputs": [
    {
     "name": "stderr",
     "output_type": "stream",
     "text": [
      "Using TensorFlow backend.\n"
     ]
    }
   ],
   "source": [
    "import numpy as np\n",
    "import pandas as pd\n",
    "import seaborn as sns\n",
    "import matplotlib.pyplot as plt\n",
    "from keras.models import Model\n",
    "from keras.layers import Dense, Input, Concatenate, Lambda\n",
    "from keras.optimizers import Adam, SGD\n",
    "import keras.backend as K\n",
    "import keras\n",
    "from keras.callbacks import EarlyStopping\n",
    "from keras.constraints import nonneg\n",
    "\n",
    "from sklearn.preprocessing import LabelEncoder\n",
    "from sklearn.preprocessing import OneHotEncoder\n",
    "\n",
    "import random"
   ]
  },
  {
   "cell_type": "markdown",
   "metadata": {},
   "source": [
    "## Curate simulated data"
   ]
  },
  {
   "cell_type": "markdown",
   "metadata": {},
   "source": [
    "### load position weight matrices for RNAP and CRP"
   ]
  },
  {
   "cell_type": "code",
   "execution_count": 2,
   "metadata": {},
   "outputs": [],
   "source": [
    "# Load the energy matrices from Kinney et al. 2010\n",
    "crp_df = pd.read_csv('data/energy_matrices/crp_tau_final_all.26.txt', sep = \"\\t\", usecols = range(1,5))\n",
    "#rnap_df = pd.read_csv('data/energy_matrices/rnap_tau_final_all.41.txt', sep = \"\\t\", usecols = range(1,5))\n",
    "rnap_df = pd.read_csv('data/energy_matrices/rnap_tau_final_all.41_supplement.txt', sep = \"\\t\", usecols = range(1,5))\n",
    "\n",
    "# Convert the dataframe to numpy array for downstream processing\n",
    "crp_array = pd.DataFrame.to_numpy(crp_df)\n",
    "rnap_array = pd.DataFrame.to_numpy(rnap_df)"
   ]
  },
  {
   "cell_type": "markdown",
   "metadata": {},
   "source": [
    "### set parameters"
   ]
  },
  {
   "cell_type": "code",
   "execution_count": 3,
   "metadata": {
    "collapsed": true
   },
   "outputs": [],
   "source": [
    "# Set up parameters\n",
    "gaps = 7 # Length of gaps between CRP and RNAP binding sites\n",
    "c_r = 5.94e-3 # Concentration of RNAP; Empirically determined\n",
    "c_c = 10 ** -1.2 # Concentration of active CRP\n",
    "e_i = -3.26 # Energy of interaction\n",
    "t_bg = 0.01 # Background noise\n",
    "consensus_sequence = \"AATTAATGTGAGTTAGCTCACTCATTAGGCACCCCAGGCTTTACACTTTATGCTTCCGGCTCGTATGTTGTGTGG\"\n",
    "crp_wt_sequence = consensus_sequence[1:27]\n",
    "rnap_wt_seq = \"CAGGCTTTACACCTGTTGCCTCCGGCTCGTATGTTGTGTGG\"\n",
    "crp_wt_energy = 6.9 # From Kinney et al. 2010\n",
    "rnap_wt_energy = 8.3 # From Kinney et al. 2010"
   ]
  },
  {
   "cell_type": "markdown",
   "metadata": {},
   "source": [
    "### Helper functions"
   ]
  },
  {
   "cell_type": "code",
   "execution_count": 4,
   "metadata": {
    "collapsed": true
   },
   "outputs": [],
   "source": [
    "def mutate_sequence(con_seq, mut_rate):\n",
    "    bases = [\"A\",\"C\",\"G\",\"T\"]\n",
    "    new_seq = list(con_seq)\n",
    "    to_mutate = np.random.random(size = len(con_seq)) < mut_rate\n",
    "    for i in range(0,len(to_mutate)):\n",
    "        if to_mutate[i]:\n",
    "            new_seq[i] = random.choice([b for b in bases if b not in new_seq[i]])\n",
    "    return ''.join(new_seq)\n",
    "\n",
    "# Fit a label encoder and a onehot encoder\n",
    "bases = [\"A\",\"C\",\"G\",\"T\"]\n",
    "label_encoder = LabelEncoder()\n",
    "label_encoder.fit(bases)\n",
    "tmp = label_encoder.transform(bases)\n",
    "tmp = tmp.reshape(len(tmp), 1)\n",
    "onehot_encoder = OneHotEncoder(sparse = False)\n",
    "onehot_encoder.fit(tmp)\n",
    "\n",
    "# Encode sequence into onehot\n",
    "def onehot_sequence(sequence, lab_encoder = label_encoder, one_encoder = onehot_encoder):\n",
    "    \"\"\"Sequence as a string\"\"\"\n",
    "    tmp = lab_encoder.transform(list(sequence))\n",
    "    tmp = tmp.reshape(len(tmp),1)\n",
    "    tmp = one_encoder.transform(tmp)\n",
    "    return tmp\n",
    "\n",
    "# Calculate energy\n",
    "def get_energy(seq_onehot, matrix_array):\n",
    "    return np.sum(matrix_array * seq_onehot)\n",
    "\n",
    "# # Calculate boltzmann weight\n",
    "# def get_transcription(e_r, e_c, e_i = -3.26, c_r = 5.94e-3, c_c = 10 ** -1.2):\n",
    "#     #const = 1.98e-3 * 310\n",
    "#     RT = 1.0\n",
    "#     tau_max = 1.0\n",
    "#     tmp1 = c_r*np.exp(-e_r/RT) + c_c*c_r*np.exp(-(e_c+e_r+e_i)/RT)\n",
    "#     tmp2 = 1 + c_c*np.exp(-e_c/RT) + c_r*np.exp(-e_r/RT) + c_c*c_r*np.exp(-(e_c+e_r+e_i)/RT)\n",
    "#     return tau_max*(tmp1/tmp2)\n",
    "\n",
    "# get transcription with chemical potentials\n",
    "#def get_transcription(e_r, e_c, e_i = -3.26, mu_r = 2.7, mu_c = 3):\n",
    "def get_transcription(e_r, e_c, e_i = -3.26, mu_r = 2.7, mu_c = 3):\n",
    "    \n",
    "    # the following method sets RT = 1.0, so everything is in thermal units.\n",
    "    tau_max = 1.00\n",
    "    tmp1 = c_r*np.exp(-(e_r-mu_r)) + np.exp(-(e_c+e_r+e_i-mu_r-mu_c))\n",
    "    tmp2 = 1 + c_c*np.exp(-(e_c-mu_c)) + np.exp(-(e_r-mu_r)) + np.exp(-(e_c+e_r+e_i-mu_c-mu_r))\n",
    "    return tau_max*(tmp1/tmp2)\n",
    "\n",
    "def reverse_complement(seq):\n",
    "    complement = str.maketrans('ATCGN', 'TAGCN')\n",
    "    return str(seq).upper().translate(complement)[::-1]"
   ]
  },
  {
   "cell_type": "code",
   "execution_count": 5,
   "metadata": {
    "collapsed": true
   },
   "outputs": [],
   "source": [
    "def generate_mutant_seqs_and_their_transcription_rates(crp_wt_seq = crp_wt_sequence,rnap_wt_seq = rnap_wt_seq, mutrate = 0.1):\n",
    "    \"\"\"\n",
    "    helper function which generates simulated data; data consists of mutant sequences and their \n",
    "    associated transcription rates.\n",
    "    \"\"\"\n",
    "\n",
    "    #next_sequence = mutate_sequence(wt_seq,mutrate)\n",
    "    \n",
    "    crp_sequence = crp_wt_seq\n",
    "    next_crp_sequence = mutate_sequence(crp_sequence,mutrate)\n",
    "    \n",
    "    rnap_sequence =rnap_wt_seq\n",
    "    next_rnap_sequence = mutate_sequence(rnap_sequence,mutrate)\n",
    "    \n",
    "    ec = get_energy(onehot_sequence(next_crp_sequence),crp_array)\n",
    "    er = get_energy(onehot_sequence(next_rnap_sequence),rnap_array)\n",
    "    \n",
    "    # mutated input sequence\n",
    "    next_sequence =  next_crp_sequence+next_rnap_sequence               \n",
    "    tau = get_transcription(er,ec)\n",
    "    \n",
    "    return next_sequence, tau, ec, er\n",
    "\n",
    "input_sequences = [] \n",
    "labels = []\n",
    "\n",
    "# lists containing binding energies for each protein\n",
    "e_c_list = []\n",
    "e_r_list = []\n",
    "\n",
    "test_input_sequences = []\n",
    "test_labels = []\n",
    "\n",
    "training_data_size = 20000\n",
    "test_data_size = 2000\n",
    "\n",
    "for _ in range(training_data_size):\n",
    "    \n",
    "    if _ < training_data_size-test_data_size:\n",
    "        \n",
    "        temp_seq, temp_tau, temp_ec, temp_er = generate_mutant_seqs_and_their_transcription_rates()\n",
    "        #temp_seq, temp_tau = generate_mutant_seqs_and_their_transcription_rates_rc()\n",
    "        input_sequences.append(temp_seq)\n",
    "        labels.append(temp_tau)\n",
    "        e_c_list.append(temp_ec)\n",
    "        e_r_list.append(temp_er)\n",
    "    \n",
    "    else:        \n",
    "        \n",
    "        temp_seq, temp_tau, temp_ec, temp_er = generate_mutant_seqs_and_their_transcription_rates()\n",
    "        #temp_seq, temp_tau = generate_mutant_seqs_and_their_transcription_rates_rc()\n",
    "        test_input_sequences.append(temp_seq)\n",
    "        test_labels.append(temp_tau)\n",
    "        e_c_list.append(temp_ec)\n",
    "        e_r_list.append(temp_er)     "
   ]
  },
  {
   "cell_type": "code",
   "execution_count": 6,
   "metadata": {},
   "outputs": [
    {
     "data": {
      "image/png": "[encoded data removed]",
      "text/plain": [
       "<Figure size 504x360 with 1 Axes>"
      ]
     },
     "metadata": {
      "needs_background": "light"
     },
     "output_type": "display_data"
    }
   ],
   "source": [
    "plt.figure(figsize=(7,5))\n",
    "plt.hist(labels,bins=40,alpha=0.5,label='Training '+ r'$\\tau$',density=True)\n",
    "plt.hist(test_labels,bins=40,alpha=0.5,density=True,label='Test '+ r'$\\tau$')\n",
    "plt.legend(fontsize=14)\n",
    "plt.tick_params(labelsize=14)\n",
    "plt.ylabel('Histogram '+r'$\\tau$',fontsize=14)\n",
    "plt.xlabel(r'$\\tau$',fontsize=14)\n",
    "plt.tight_layout()\n",
    "#plt.savefig('input_data.png')\n",
    "plt.show()"
   ]
  },
  {
   "cell_type": "code",
   "execution_count": 7,
   "metadata": {},
   "outputs": [
    {
     "data": {
      "image/png": "[encoded data removed]",
      "text/plain": [
       "<Figure size 504x360 with 1 Axes>"
      ]
     },
     "metadata": {
      "needs_background": "light"
     },
     "output_type": "display_data"
    }
   ],
   "source": [
    "plt.figure(figsize=(7,5))\n",
    "plt.hist(np.log(labels),bins=40,alpha=0.75,density=True,label='Training set')\n",
    "plt.hist(np.log(test_labels),bins=40,alpha=0.5,density=True,label='Test set')\n",
    "plt.legend(fontsize=13)\n",
    "plt.xlabel('log('+r'$\\tau$)',fontsize=14)\n",
    "plt.ylabel('Histogram',fontsize=14)\n",
    "plt.tick_params(labelsize=14)\n",
    "plt.tight_layout()\n",
    "#plt.savefig('../write_up/write_up_for_rnap_neural_network/log_tau_hist.png')\n",
    "plt.show()"
   ]
  },
  {
   "cell_type": "markdown",
   "metadata": {},
   "source": [
    "### Specify custom layer for last layer weights"
   ]
  },
  {
   "cell_type": "code",
   "execution_count": 8,
   "metadata": {
    "collapsed": true
   },
   "outputs": [],
   "source": [
    "import tensorflow as tf\n",
    "from keras.layers import multiply\n",
    "\n",
    "class CustomConnected(Dense):\n",
    "\n",
    "    def __init__(self,units,connections, output_dim,**kwargs):\n",
    "        \n",
    "        self.output_dim = output_dim\n",
    "        #this is matrix of connections. I.e., this should be [0,0,trainable,trainable]\n",
    "        self.connections = connections                        \n",
    "        #initalize the original Dense with all the usual arguments   \n",
    "        super(CustomConnected,self).__init__(units,**kwargs)  \n",
    "\n",
    "\n",
    "    def call(self, inputs):\n",
    "        #print(self.connections)\n",
    "        \n",
    "        kernel_times_connections = multiply([self.kernel, self.connections])\n",
    "        #output = K.dot(inputs, self.kernel * self.connections)\n",
    "        output = K.dot(inputs,kernel_times_connections)\n",
    "\n",
    "        #print('outputs: ',output)\n",
    "        #print('inputs: ',inputs)\n",
    "        #print('kernel',self.kernel)\n",
    "        \n",
    "        if self.use_bias:\n",
    "            output = K.bias_add(output, self.bias)\n",
    "        if self.activation is not None:\n",
    "            output = self.activation(output)\n",
    "        return output\n",
    "    \n",
    "    def compute_output_shape(self, input_shape):\n",
    "        return (input_shape[0], self.output_dim)\n",
    "    \n",
    "    \n",
    "        "
   ]
  },
  {
   "cell_type": "markdown",
   "metadata": {},
   "source": [
    "## Neural Network Model (CRP - RNAP)"
   ]
  },
  {
   "cell_type": "code",
   "execution_count": 9,
   "metadata": {
    "collapsed": true
   },
   "outputs": [],
   "source": [
    "number_input_layer_nodes = len(test_input_sequences[0])*4    \n",
    "inputTensor = Input((number_input_layer_nodes,),name='Sequence')"
   ]
  },
  {
   "cell_type": "code",
   "execution_count": 10,
   "metadata": {},
   "outputs": [
    {
     "name": "stdout",
     "output_type": "stream",
     "text": [
      "WARNING:tensorflow:Variable *= will be deprecated. Use `var.assign(var * other)` if you want assignment to the variable value or `x = x * y` if you want a new python Tensor object.\n"
     ]
    }
   ],
   "source": [
    "# define two groups which represent binding sites for the two proteins crp and rnap\n",
    "\n",
    "group1 = Lambda(lambda x: x[:,0:104], output_shape=((104,)))(inputTensor)\n",
    "group2 = Lambda(lambda x: x[:,104:268], output_shape=((164,)))(inputTensor)\n",
    "\n",
    "\n",
    "# From input to first hidden layer. The groups are connected to two nodes\n",
    "# node group1 represents energy of crp and group2 represents rnap energy.\n",
    "\n",
    "# rename group1 to crp pwm\n",
    "\n",
    "group1 = Dense(1,use_bias=False,name='CRP_pwm')(group1)\n",
    "group2 = Dense(1,use_bias=False,name='RNAP_pwm',kernel_initializer='RandomNormal')(group2)\n",
    "#group2 = Dense(1,use_bias=False,name='RNAP_pwm',kernel_initializer='RandomNormal',W_constraint=nonneg())(group2)\n",
    "\n",
    "# the groups from the previous layer have to be concatenated so\n",
    "concatenateLayer = Concatenate()([group1,group2])\n",
    "\n",
    "gammaInput = Input(shape=(1,),name='gamma_Input')   # i.e. weights going into softmax: [0,0,0,1]\n",
    "concatenateLayer_with_gamma = Concatenate()([group1,group2,gammaInput])\n",
    "\n",
    "\n",
    "# softmax layer needs to have multiple inputs\n",
    "\n",
    "softmaxLayer = Dense(4,activation='softmax', trainable=False, use_bias=False,name='softmax_layer')(concatenateLayer_with_gamma)\n",
    "\n",
    "\n",
    "\n",
    "# output the softmax layer to a single node\n",
    "# outputTensor = Dense(1,activation='linear',use_bias=False)(softmaxLayer)\n",
    "#outputTensor = CustomConnected(1,tf.constant([0.0,0.0,1.0,1.0]),1,use_bias=False,name='custom_tao_layer')(softmaxLayer)\n",
    "outputTensor = CustomConnected(1,tf.constant([0.0,0.0,1.0,1.0]),1,use_bias=False,name='custom_tau_layer')(softmaxLayer)\n",
    "\n",
    "#create the model:\n",
    "# model = Model(inputTensor,outputTensor)\n",
    "model = Model(inputs=[inputTensor, gammaInput], outputs=outputTensor)"
   ]
  },
  {
   "cell_type": "code",
   "execution_count": 11,
   "metadata": {},
   "outputs": [
    {
     "name": "stdout",
     "output_type": "stream",
     "text": [
      "__________________________________________________________________________________________________\n",
      "Layer (type)                    Output Shape         Param #     Connected to                     \n",
      "==================================================================================================\n",
      "Sequence (InputLayer)           (None, 268)          0                                            \n",
      "__________________________________________________________________________________________________\n",
      "lambda_1 (Lambda)               (None, 104)          0           Sequence[0][0]                   \n",
      "__________________________________________________________________________________________________\n",
      "lambda_2 (Lambda)               (None, 164)          0           Sequence[0][0]                   \n",
      "__________________________________________________________________________________________________\n",
      "CRP_pwm (Dense)                 (None, 1)            104         lambda_1[0][0]                   \n",
      "__________________________________________________________________________________________________\n",
      "RNAP_pwm (Dense)                (None, 1)            164         lambda_2[0][0]                   \n",
      "__________________________________________________________________________________________________\n",
      "gamma_Input (InputLayer)        (None, 1)            0                                            \n",
      "__________________________________________________________________________________________________\n",
      "concatenate_2 (Concatenate)     (None, 3)            0           CRP_pwm[0][0]                    \n",
      "                                                                 RNAP_pwm[0][0]                   \n",
      "                                                                 gamma_Input[0][0]                \n",
      "__________________________________________________________________________________________________\n",
      "softmax_layer (Dense)           (None, 4)            12          concatenate_2[0][0]              \n",
      "__________________________________________________________________________________________________\n",
      "custom_tau_layer (CustomConnect (None, 1)            4           softmax_layer[0][0]              \n",
      "==================================================================================================\n",
      "Total params: 284\n",
      "Trainable params: 272\n",
      "Non-trainable params: 12\n",
      "__________________________________________________________________________________________________\n"
     ]
    }
   ],
   "source": [
    "model.summary()"
   ]
  },
  {
   "cell_type": "code",
   "execution_count": 12,
   "metadata": {},
   "outputs": [
    {
     "data": {
      "text/plain": [
       "[<keras.engine.input_layer.InputLayer at 0x124b22208>,\n",
       " <keras.layers.core.Lambda at 0x125198a90>,\n",
       " <keras.layers.core.Lambda at 0x1251985c0>,\n",
       " <keras.layers.core.Dense at 0x1251987f0>,\n",
       " <keras.layers.core.Dense at 0x125198e48>,\n",
       " <keras.engine.input_layer.InputLayer at 0x125272668>,\n",
       " <keras.layers.merge.Concatenate at 0x125296dd8>,\n",
       " <keras.layers.core.Dense at 0x12509c978>,\n",
       " <__main__.CustomConnected at 0x125017860>]"
      ]
     },
     "execution_count": 12,
     "metadata": {},
     "output_type": "execute_result"
    }
   ],
   "source": [
    "model.layers"
   ]
  },
  {
   "cell_type": "code",
   "execution_count": 13,
   "metadata": {},
   "outputs": [
    {
     "data": {
      "text/plain": [
       "array([[-0.8423686 , -0.848395  , -0.15158796, -0.7449981 ],\n",
       "       [ 0.90150726, -0.13927525,  0.9247401 , -0.57766235],\n",
       "       [-0.6988581 , -0.9007144 ,  0.576939  , -0.7016711 ]],\n",
       "      dtype=float32)"
      ]
     },
     "execution_count": 13,
     "metadata": {},
     "output_type": "execute_result"
    }
   ],
   "source": [
    "model.layers[7].get_weights()[0]"
   ]
  },
  {
   "cell_type": "code",
   "execution_count": 14,
   "metadata": {},
   "outputs": [
    {
     "data": {
      "text/plain": [
       "<tf.Tensor 'custom_tau_layer/MatMul:0' shape=(?, 1) dtype=float32>"
      ]
     },
     "execution_count": 14,
     "metadata": {},
     "output_type": "execute_result"
    }
   ],
   "source": [
    "outputTensor"
   ]
  },
  {
   "cell_type": "markdown",
   "metadata": {},
   "source": [
    "#### Naive one-hot encoding"
   ]
  },
  {
   "cell_type": "code",
   "execution_count": 15,
   "metadata": {
    "collapsed": true
   },
   "outputs": [],
   "source": [
    "# the following loop separates a string into individuals characters\n",
    "# e.g 'AAAA' -> ['A', 'A', 'A', 'A']\n",
    "\n",
    "temp_input_sequences = []\n",
    "\n",
    "for reshape_index in range(len(input_sequences)):\n",
    "    temp_input_sequences.append(list(np.array(input_sequences)[reshape_index]))\n",
    "    \n",
    "input_sequences = temp_input_sequences\n",
    "input_sequences = np.array(input_sequences)\n",
    "\n",
    "labels = np.array(labels)\n",
    "labels = np.array(labels).reshape(labels.shape[0],1)\n",
    "\n",
    "\n",
    "temp_test_input_sequences = []\n",
    "\n",
    "for reshape_test_index in range(len(test_input_sequences)):\n",
    "    temp_test_input_sequences.append(list(np.array(test_input_sequences)[reshape_test_index]))\n",
    "    \n",
    "test_input_sequences = temp_test_input_sequences\n",
    "test_input_sequences = np.array(test_input_sequences)\n",
    "\n",
    "test_labels = np.array(test_labels)\n",
    "test_labels = np.array(test_labels).reshape(test_labels.shape[0],1)\n"
   ]
  },
  {
   "cell_type": "code",
   "execution_count": 16,
   "metadata": {},
   "outputs": [
    {
     "data": {
      "text/plain": [
       "(18000, 67)"
      ]
     },
     "execution_count": 16,
     "metadata": {},
     "output_type": "execute_result"
    }
   ],
   "source": [
    "# check shape\n",
    "input_sequences.shape"
   ]
  },
  {
   "cell_type": "code",
   "execution_count": 17,
   "metadata": {},
   "outputs": [
    {
     "data": {
      "text/plain": [
       "array(['A', 'T', 'T', 'A', 'A', 'T', 'C', 'T', 'G', 'A', 'A', 'T', 'C',\n",
       "       'A', 'T', 'C', 'T', 'C', 'A', 'C', 'T', 'C', 'A', 'C', 'T', 'A',\n",
       "       'C', 'G', 'C', 'G', 'C', 'T', 'C', 'T', 'A', 'C', 'A', 'C', 'C',\n",
       "       'T', 'G', 'T', 'T', 'A', 'C', 'C', 'T', 'C', 'C', 'G', 'G', 'C',\n",
       "       'T', 'C', 'G', 'T', 'A', 'T', 'G', 'T', 'T', 'G', 'T', 'G', 'T',\n",
       "       'T', 'G'], dtype='<U1')"
      ]
     },
     "execution_count": 17,
     "metadata": {},
     "output_type": "execute_result"
    }
   ],
   "source": [
    "# see one training sequences\n",
    "input_sequences[0]"
   ]
  },
  {
   "cell_type": "code",
   "execution_count": 18,
   "metadata": {
    "collapsed": true
   },
   "outputs": [],
   "source": [
    "# define dictionary for one-hot encoding\n",
    "base_dict = {\"A\":0,\"C\":1,\"G\":2,\"T\":3}\n",
    "input_sequences_tensor = np.zeros(list(input_sequences.shape) + [4])    # the number 4 here represents the amounts of states in base_dict,\n",
    "test_input_sequences_tensor = np.zeros(list(test_input_sequences.shape) + [4])"
   ]
  },
  {
   "cell_type": "code",
   "execution_count": 19,
   "metadata": {
    "collapsed": true
   },
   "outputs": [],
   "source": [
    "num_sample = len(input_sequences_tensor)\n",
    "seq_length = len(input_sequences[0])\n",
    "\n",
    "#naive one-hot encoding\n",
    "for row in range(num_sample):\n",
    "    for col in range(seq_length):\n",
    "        input_sequences_tensor[row,col,base_dict[input_sequences[row,col]]] = 1\n",
    "\n",
    "        \n",
    "\n",
    "num_test_sample = len(test_input_sequences_tensor)\n",
    "test_seq_length = len(test_input_sequences[0])        \n",
    "        \n",
    "#naive one-hot encoding for test sequences\n",
    "for test_row in range(num_test_sample):\n",
    "    for test_col in range(test_seq_length):\n",
    "        test_input_sequences_tensor[test_row,test_col,base_dict[test_input_sequences[test_row,test_col]]] = 1        \n"
   ]
  },
  {
   "cell_type": "code",
   "execution_count": 20,
   "metadata": {},
   "outputs": [
    {
     "name": "stdout",
     "output_type": "stream",
     "text": [
      "Training set shape: (18000, 67, 4)\n",
      "Training set label shape: (18000, 1)\n"
     ]
    }
   ],
   "source": [
    "print('Training set shape: {}'.format(input_sequences_tensor.shape))\n",
    "print('Training set label shape: {}'.format(labels.shape))"
   ]
  },
  {
   "cell_type": "markdown",
   "metadata": {},
   "source": [
    "reshape input tensor so shape goes from (num_samples, seq_length, characters) -> (num_samples,seq_length*character). This can be fed into the first layer."
   ]
  },
  {
   "cell_type": "code",
   "execution_count": 21,
   "metadata": {
    "collapsed": true
   },
   "outputs": [],
   "source": [
    "input_sequences_tensor = input_sequences_tensor.reshape(-1,number_input_layer_nodes)\n",
    "test_input_sequences_tensor = test_input_sequences_tensor.reshape(-1,number_input_layer_nodes)"
   ]
  },
  {
   "cell_type": "code",
   "execution_count": 22,
   "metadata": {},
   "outputs": [
    {
     "data": {
      "text/plain": [
       "[<keras.engine.input_layer.InputLayer at 0x124b22208>,\n",
       " <keras.layers.core.Lambda at 0x125198a90>,\n",
       " <keras.layers.core.Lambda at 0x1251985c0>,\n",
       " <keras.layers.core.Dense at 0x1251987f0>,\n",
       " <keras.layers.core.Dense at 0x125198e48>,\n",
       " <keras.engine.input_layer.InputLayer at 0x125272668>,\n",
       " <keras.layers.merge.Concatenate at 0x125296dd8>,\n",
       " <keras.layers.core.Dense at 0x12509c978>,\n",
       " <__main__.CustomConnected at 0x125017860>]"
      ]
     },
     "execution_count": 22,
     "metadata": {},
     "output_type": "execute_result"
    }
   ],
   "source": [
    "model.layers"
   ]
  },
  {
   "cell_type": "code",
   "execution_count": 23,
   "metadata": {},
   "outputs": [
    {
     "data": {
      "text/plain": [
       "(3, 4)"
      ]
     },
     "execution_count": 23,
     "metadata": {},
     "output_type": "execute_result"
    }
   ],
   "source": [
    "model.layers[7].get_weights()[0].shape"
   ]
  },
  {
   "cell_type": "code",
   "execution_count": 24,
   "metadata": {},
   "outputs": [
    {
     "data": {
      "text/plain": [
       "(164, 1)"
      ]
     },
     "execution_count": 24,
     "metadata": {},
     "output_type": "execute_result"
    }
   ],
   "source": [
    "model.layers[4].get_weights()[0].shape"
   ]
  },
  {
   "cell_type": "code",
   "execution_count": 25,
   "metadata": {},
   "outputs": [
    {
     "data": {
      "text/plain": [
       "(41, 4)"
      ]
     },
     "execution_count": 25,
     "metadata": {},
     "output_type": "execute_result"
    }
   ],
   "source": [
    "rnap_df.values.shape"
   ]
  },
  {
   "cell_type": "markdown",
   "metadata": {},
   "source": [
    "### Set initial weights for last layer...\n",
    "...so that only the last two states (S3 and S4 in write-up) contribute to transcription"
   ]
  },
  {
   "cell_type": "code",
   "execution_count": 26,
   "metadata": {},
   "outputs": [
    {
     "data": {
      "text/plain": [
       "(4, 1)"
      ]
     },
     "execution_count": 26,
     "metadata": {},
     "output_type": "execute_result"
    }
   ],
   "source": [
    "last_layer_weights = model.layers[8].get_weights()[0].copy()\n",
    "last_layer_weights.shape"
   ]
  },
  {
   "cell_type": "code",
   "execution_count": 27,
   "metadata": {},
   "outputs": [
    {
     "data": {
      "text/plain": [
       "array([[0.],\n",
       "       [0.],\n",
       "       [1.],\n",
       "       [1.]], dtype=float32)"
      ]
     },
     "execution_count": 27,
     "metadata": {},
     "output_type": "execute_result"
    }
   ],
   "source": [
    "last_layer_initial_weights = np.array([0,0,1,1])\n",
    "last_layer_initial_weights = last_layer_initial_weights.reshape(4,1)\n",
    "model.layers[8].set_weights([last_layer_initial_weights])\n",
    "model.layers[8].get_weights()[0]"
   ]
  },
  {
   "cell_type": "markdown",
   "metadata": {},
   "source": [
    "### Set softmax layer weights manually, will be kept frozen during training\n",
    "Note that the bias weights here may be interpreted as gamma"
   ]
  },
  {
   "cell_type": "code",
   "execution_count": 28,
   "metadata": {},
   "outputs": [
    {
     "data": {
      "text/plain": [
       "array([[0., 1., 0., 1.],\n",
       "       [0., 0., 1., 1.],\n",
       "       [0., 0., 0., 1.]], dtype=float32)"
      ]
     },
     "execution_count": 28,
     "metadata": {},
     "output_type": "execute_result"
    }
   ],
   "source": [
    "# the following are the input weights to the softmax array.\n",
    "# the first two arrays indicate 4 weights each coming out of the e_c and \n",
    "# e_r nodes. The last node indicates the gamma input, connecting only to\n",
    "# microstate 4.\n",
    "\n",
    "softmax_weights = np.array([[0,1,0,1],[0,0,1,1], [0,0,0,1]])\n",
    "# softmax_biases = np.array([0,0,0,1])\n",
    "\n",
    "# keras' set_weights expects weights and bias in a list\n",
    "# softmax_weights = [softmax_weights,softmax_biases]\n",
    "\n",
    "# without bias\n",
    "softmax_weights = [softmax_weights]\n",
    "\n",
    "# set weights\n",
    "model.layers[7].set_weights(softmax_weights)\n",
    "# see set weights\n",
    "model.layers[7].get_weights()[0]"
   ]
  },
  {
   "cell_type": "markdown",
   "metadata": {},
   "source": [
    "### Compile Model"
   ]
  },
  {
   "cell_type": "code",
   "execution_count": 29,
   "metadata": {
    "collapsed": true
   },
   "outputs": [],
   "source": [
    "#sgd = SGD(lr=0.01, decay=1e-6, momentum=0.9, nesterov=True)\n",
    "model.compile(loss='mean_squared_error',optimizer=Adam(lr=0.0005), metrics=['mean_absolute_error'])\n",
    "#model.compile(loss='mean_squared_error',optimizer=sgd, metrics=['mean_absolute_error'])"
   ]
  },
  {
   "cell_type": "markdown",
   "metadata": {},
   "source": [
    "### prepare intermediate gamma input"
   ]
  },
  {
   "cell_type": "code",
   "execution_count": 30,
   "metadata": {
    "collapsed": true
   },
   "outputs": [],
   "source": [
    "gamma_input_list = []\n",
    "for _ in range(input_sequences_tensor.shape[0]):\n",
    "    # the following input gets multiplied by weights [0,0,0,1], \n",
    "    # connecting only the 4th microstate\n",
    "    #gamma_input_list.append(np.array([1.0]))\n",
    "    gamma_input_list.append(np.array([-3.26]))\n",
    "    "
   ]
  },
  {
   "cell_type": "code",
   "execution_count": 31,
   "metadata": {},
   "outputs": [
    {
     "data": {
      "text/plain": [
       "(18000, 1)"
      ]
     },
     "execution_count": 31,
     "metadata": {},
     "output_type": "execute_result"
    }
   ],
   "source": [
    "gamma_input_list = np.array(gamma_input_list)\n",
    "gamma_input_list.shape"
   ]
  },
  {
   "cell_type": "code",
   "execution_count": 32,
   "metadata": {
    "collapsed": true
   },
   "outputs": [],
   "source": [
    "# tbCallBack = keras.callbacks.TensorBoard(log_dir='./Graph', histogram_freq=0, write_graph=True, write_images=True)\n",
    "# esCallBack = EarlyStopping(monitor='val_loss', mode='min', verbose=1,patience=50)"
   ]
  },
  {
   "cell_type": "markdown",
   "metadata": {},
   "source": [
    "### Fit Neural Network"
   ]
  },
  {
   "cell_type": "code",
   "execution_count": 33,
   "metadata": {},
   "outputs": [
    {
     "name": "stdout",
     "output_type": "stream",
     "text": [
      "Train on 14400 samples, validate on 3600 samples\n",
      "Epoch 1/1000\n",
      "14400/14400 [==============================] - 1s 39us/step - loss: 0.0111 - mean_absolute_error: 0.0782 - val_loss: 9.2122e-04 - val_mean_absolute_error: 0.0292\n",
      "Epoch 2/1000\n",
      "14400/14400 [==============================] - 0s 28us/step - loss: 5.1585e-04 - mean_absolute_error: 0.0213 - val_loss: 3.0807e-04 - val_mean_absolute_error: 0.0164\n",
      "Epoch 3/1000\n",
      "14400/14400 [==============================] - 0s 27us/step - loss: 2.2369e-04 - mean_absolute_error: 0.0136 - val_loss: 1.6800e-04 - val_mean_absolute_error: 0.0117\n",
      "Epoch 4/1000\n",
      "14400/14400 [==============================] - 0s 25us/step - loss: 1.3825e-04 - mean_absolute_error: 0.0102 - val_loss: 1.1399e-04 - val_mean_absolute_error: 0.0092\n",
      "Epoch 5/1000\n",
      "14400/14400 [==============================] - 0s 25us/step - loss: 1.0160e-04 - mean_absolute_error: 0.0083 - val_loss: 8.7802e-05 - val_mean_absolute_error: 0.0077\n",
      "Epoch 6/1000\n",
      "14400/14400 [==============================] - 0s 25us/step - loss: 8.2786e-05 - mean_absolute_error: 0.0070 - val_loss: 7.3345e-05 - val_mean_absolute_error: 0.0066\n",
      "Epoch 7/1000\n",
      "14400/14400 [==============================] - 0s 25us/step - loss: 7.2098e-05 - mean_absolute_error: 0.0062 - val_loss: 6.4762e-05 - val_mean_absolute_error: 0.0059\n",
      "Epoch 8/1000\n",
      "14400/14400 [==============================] - 0s 26us/step - loss: 6.5615e-05 - mean_absolute_error: 0.0055 - val_loss: 5.9384e-05 - val_mean_absolute_error: 0.0053\n",
      "Epoch 9/1000\n",
      "14400/14400 [==============================] - 0s 25us/step - loss: 6.1522e-05 - mean_absolute_error: 0.0050 - val_loss: 5.5917e-05 - val_mean_absolute_error: 0.0049\n",
      "Epoch 10/1000\n",
      "14400/14400 [==============================] - 0s 25us/step - loss: 5.8878e-05 - mean_absolute_error: 0.0047 - val_loss: 5.3608e-05 - val_mean_absolute_error: 0.0045\n",
      "Epoch 11/1000\n",
      "14400/14400 [==============================] - 0s 24us/step - loss: 5.7133e-05 - mean_absolute_error: 0.0044 - val_loss: 5.2070e-05 - val_mean_absolute_error: 0.0043\n",
      "Epoch 12/1000\n",
      "14400/14400 [==============================] - 0s 26us/step - loss: 5.5959e-05 - mean_absolute_error: 0.0042 - val_loss: 5.1010e-05 - val_mean_absolute_error: 0.0040\n",
      "Epoch 13/1000\n",
      "14400/14400 [==============================] - 0s 26us/step - loss: 5.5174e-05 - mean_absolute_error: 0.0040 - val_loss: 5.0297e-05 - val_mean_absolute_error: 0.0039\n",
      "Epoch 14/1000\n",
      "14400/14400 [==============================] - 0s 25us/step - loss: 5.4642e-05 - mean_absolute_error: 0.0038 - val_loss: 4.9794e-05 - val_mean_absolute_error: 0.0037\n",
      "Epoch 15/1000\n",
      "14400/14400 [==============================] - 0s 25us/step - loss: 5.4261e-05 - mean_absolute_error: 0.0037 - val_loss: 4.9425e-05 - val_mean_absolute_error: 0.0036\n",
      "Epoch 16/1000\n",
      "14400/14400 [==============================] - 0s 25us/step - loss: 5.3968e-05 - mean_absolute_error: 0.0036 - val_loss: 4.9138e-05 - val_mean_absolute_error: 0.0035\n",
      "Epoch 17/1000\n",
      "14400/14400 [==============================] - 0s 26us/step - loss: 5.3714e-05 - mean_absolute_error: 0.0035 - val_loss: 4.8883e-05 - val_mean_absolute_error: 0.0035\n",
      "Epoch 18/1000\n",
      "14400/14400 [==============================] - 0s 27us/step - loss: 5.3452e-05 - mean_absolute_error: 0.0035 - val_loss: 4.8617e-05 - val_mean_absolute_error: 0.0035\n",
      "Epoch 19/1000\n",
      "14400/14400 [==============================] - 0s 25us/step - loss: 5.3145e-05 - mean_absolute_error: 0.0035 - val_loss: 4.8307e-05 - val_mean_absolute_error: 0.0034\n",
      "Epoch 20/1000\n",
      "14400/14400 [==============================] - 0s 25us/step - loss: 5.2752e-05 - mean_absolute_error: 0.0035 - val_loss: 4.7916e-05 - val_mean_absolute_error: 0.0034\n",
      "Epoch 21/1000\n",
      "14400/14400 [==============================] - 0s 26us/step - loss: 5.2236e-05 - mean_absolute_error: 0.0035 - val_loss: 4.7411e-05 - val_mean_absolute_error: 0.0034\n",
      "Epoch 22/1000\n",
      "14400/14400 [==============================] - 0s 25us/step - loss: 5.1539e-05 - mean_absolute_error: 0.0035 - val_loss: 4.6768e-05 - val_mean_absolute_error: 0.0035\n",
      "Epoch 23/1000\n",
      "14400/14400 [==============================] - 0s 26us/step - loss: 5.0606e-05 - mean_absolute_error: 0.0035 - val_loss: 4.5827e-05 - val_mean_absolute_error: 0.0035\n",
      "Epoch 24/1000\n",
      "14400/14400 [==============================] - 0s 25us/step - loss: 4.9328e-05 - mean_absolute_error: 0.0035 - val_loss: 4.4575e-05 - val_mean_absolute_error: 0.0035\n",
      "Epoch 25/1000\n",
      "14400/14400 [==============================] - 0s 24us/step - loss: 4.7569e-05 - mean_absolute_error: 0.0035 - val_loss: 4.2932e-05 - val_mean_absolute_error: 0.0035\n",
      "Epoch 26/1000\n",
      "14400/14400 [==============================] - 0s 25us/step - loss: 4.5155e-05 - mean_absolute_error: 0.0035 - val_loss: 4.0580e-05 - val_mean_absolute_error: 0.0035\n",
      "Epoch 27/1000\n",
      "14400/14400 [==============================] - 0s 26us/step - loss: 4.1910e-05 - mean_absolute_error: 0.0035 - val_loss: 3.7749e-05 - val_mean_absolute_error: 0.0035\n",
      "Epoch 28/1000\n",
      "14400/14400 [==============================] - 0s 25us/step - loss: 3.7810e-05 - mean_absolute_error: 0.0034 - val_loss: 3.3878e-05 - val_mean_absolute_error: 0.0033\n",
      "Epoch 29/1000\n",
      "14400/14400 [==============================] - 0s 25us/step - loss: 3.2620e-05 - mean_absolute_error: 0.0032 - val_loss: 2.9432e-05 - val_mean_absolute_error: 0.0030\n",
      "Epoch 30/1000\n",
      "14400/14400 [==============================] - 0s 24us/step - loss: 2.6749e-05 - mean_absolute_error: 0.0030 - val_loss: 2.4393e-05 - val_mean_absolute_error: 0.0026\n",
      "Epoch 31/1000\n",
      "14400/14400 [==============================] - 0s 24us/step - loss: 2.0050e-05 - mean_absolute_error: 0.0025 - val_loss: 1.9014e-05 - val_mean_absolute_error: 0.0025\n",
      "Epoch 32/1000\n",
      "14400/14400 [==============================] - 0s 26us/step - loss: 1.4220e-05 - mean_absolute_error: 0.0020 - val_loss: 1.4927e-05 - val_mean_absolute_error: 0.0018\n",
      "Epoch 33/1000\n",
      "14400/14400 [==============================] - 0s 28us/step - loss: 1.0913e-05 - mean_absolute_error: 0.0017 - val_loss: 1.3527e-05 - val_mean_absolute_error: 0.0020\n",
      "Epoch 34/1000\n",
      "14400/14400 [==============================] - 0s 25us/step - loss: 9.1798e-06 - mean_absolute_error: 0.0016 - val_loss: 1.1509e-05 - val_mean_absolute_error: 0.0016\n",
      "Epoch 35/1000\n",
      "14400/14400 [==============================] - 0s 25us/step - loss: 8.0391e-06 - mean_absolute_error: 0.0015 - val_loss: 1.0583e-05 - val_mean_absolute_error: 0.0014\n",
      "Epoch 36/1000\n",
      "14400/14400 [==============================] - 0s 25us/step - loss: 6.8649e-06 - mean_absolute_error: 0.0014 - val_loss: 9.5395e-06 - val_mean_absolute_error: 0.0014\n",
      "Epoch 37/1000\n",
      "14400/14400 [==============================] - 0s 24us/step - loss: 6.0763e-06 - mean_absolute_error: 0.0013 - val_loss: 8.2109e-06 - val_mean_absolute_error: 0.0014\n",
      "Epoch 38/1000\n",
      "14400/14400 [==============================] - 0s 23us/step - loss: 5.4349e-06 - mean_absolute_error: 0.0013 - val_loss: 7.8632e-06 - val_mean_absolute_error: 0.0012\n",
      "Epoch 39/1000\n",
      "14400/14400 [==============================] - 0s 25us/step - loss: 4.7928e-06 - mean_absolute_error: 0.0012 - val_loss: 6.6934e-06 - val_mean_absolute_error: 0.0012\n",
      "Epoch 40/1000\n",
      "14400/14400 [==============================] - 0s 33us/step - loss: 4.1808e-06 - mean_absolute_error: 0.0011 - val_loss: 5.9404e-06 - val_mean_absolute_error: 0.0011\n",
      "Epoch 41/1000\n",
      "14400/14400 [==============================] - 0s 29us/step - loss: 3.7467e-06 - mean_absolute_error: 0.0010 - val_loss: 5.7949e-06 - val_mean_absolute_error: 0.0010\n",
      "Epoch 42/1000\n",
      "14400/14400 [==============================] - 0s 32us/step - loss: 3.3199e-06 - mean_absolute_error: 9.8696e-04 - val_loss: 5.2387e-06 - val_mean_absolute_error: 9.5824e-04\n",
      "Epoch 43/1000\n",
      "14400/14400 [==============================] - 0s 31us/step - loss: 2.9959e-06 - mean_absolute_error: 9.2568e-04 - val_loss: 4.2265e-06 - val_mean_absolute_error: 9.8031e-04\n",
      "Epoch 44/1000\n",
      "14400/14400 [==============================] - 0s 32us/step - loss: 2.6968e-06 - mean_absolute_error: 8.7282e-04 - val_loss: 3.7835e-06 - val_mean_absolute_error: 9.5830e-04\n",
      "Epoch 45/1000\n",
      "14400/14400 [==============================] - 0s 33us/step - loss: 2.4127e-06 - mean_absolute_error: 8.2707e-04 - val_loss: 3.8672e-06 - val_mean_absolute_error: 8.2124e-04\n",
      "Epoch 46/1000\n"
     ]
    },
    {
     "name": "stdout",
     "output_type": "stream",
     "text": [
      "14400/14400 [==============================] - 0s 26us/step - loss: 2.1769e-06 - mean_absolute_error: 7.7772e-04 - val_loss: 3.2557e-06 - val_mean_absolute_error: 7.7290e-04\n",
      "Epoch 47/1000\n",
      "14400/14400 [==============================] - 0s 25us/step - loss: 1.9581e-06 - mean_absolute_error: 7.2698e-04 - val_loss: 2.8034e-06 - val_mean_absolute_error: 7.4054e-04\n",
      "Epoch 48/1000\n",
      "14400/14400 [==============================] - 0s 27us/step - loss: 1.7799e-06 - mean_absolute_error: 6.9290e-04 - val_loss: 2.5135e-06 - val_mean_absolute_error: 7.0080e-04\n",
      "Epoch 49/1000\n",
      "14400/14400 [==============================] - 0s 24us/step - loss: 1.6457e-06 - mean_absolute_error: 6.5392e-04 - val_loss: 2.1632e-06 - val_mean_absolute_error: 6.7216e-04\n",
      "Epoch 50/1000\n",
      "14400/14400 [==============================] - 0s 28us/step - loss: 1.4331e-06 - mean_absolute_error: 6.1037e-04 - val_loss: 2.0362e-06 - val_mean_absolute_error: 6.2302e-04\n",
      "Epoch 51/1000\n",
      "14400/14400 [==============================] - 0s 24us/step - loss: 1.3380e-06 - mean_absolute_error: 5.8155e-04 - val_loss: 1.7712e-06 - val_mean_absolute_error: 5.9245e-04\n",
      "Epoch 52/1000\n",
      "14400/14400 [==============================] - 0s 27us/step - loss: 1.1677e-06 - mean_absolute_error: 5.4573e-04 - val_loss: 1.9590e-06 - val_mean_absolute_error: 5.4444e-04\n",
      "Epoch 53/1000\n",
      "14400/14400 [==============================] - 0s 24us/step - loss: 1.0900e-06 - mean_absolute_error: 5.2420e-04 - val_loss: 1.6140e-06 - val_mean_absolute_error: 5.3127e-04\n",
      "Epoch 54/1000\n",
      "14400/14400 [==============================] - 0s 24us/step - loss: 9.8833e-07 - mean_absolute_error: 4.8854e-04 - val_loss: 1.4536e-06 - val_mean_absolute_error: 4.8439e-04\n",
      "Epoch 55/1000\n",
      "14400/14400 [==============================] - 0s 24us/step - loss: 9.2755e-07 - mean_absolute_error: 4.6509e-04 - val_loss: 1.2807e-06 - val_mean_absolute_error: 4.6460e-04\n",
      "Epoch 56/1000\n",
      "14400/14400 [==============================] - 0s 24us/step - loss: 8.3221e-07 - mean_absolute_error: 4.4022e-04 - val_loss: 9.9030e-07 - val_mean_absolute_error: 4.5680e-04\n",
      "Epoch 57/1000\n",
      "14400/14400 [==============================] - 0s 24us/step - loss: 8.5002e-07 - mean_absolute_error: 4.3638e-04 - val_loss: 9.8720e-07 - val_mean_absolute_error: 4.2971e-04\n",
      "Epoch 58/1000\n",
      "14400/14400 [==============================] - 0s 24us/step - loss: 6.9167e-07 - mean_absolute_error: 3.9493e-04 - val_loss: 8.6941e-07 - val_mean_absolute_error: 3.9870e-04\n",
      "Epoch 59/1000\n",
      "14400/14400 [==============================] - 0s 24us/step - loss: 6.4603e-07 - mean_absolute_error: 3.8168e-04 - val_loss: 8.8540e-07 - val_mean_absolute_error: 3.7616e-04\n",
      "Epoch 60/1000\n",
      "14400/14400 [==============================] - 0s 24us/step - loss: 5.9345e-07 - mean_absolute_error: 3.5786e-04 - val_loss: 6.9969e-07 - val_mean_absolute_error: 3.5432e-04\n",
      "Epoch 61/1000\n",
      "14400/14400 [==============================] - 0s 27us/step - loss: 5.7124e-07 - mean_absolute_error: 3.4708e-04 - val_loss: 6.2976e-07 - val_mean_absolute_error: 3.4902e-04\n",
      "Epoch 62/1000\n",
      "14400/14400 [==============================] - 0s 24us/step - loss: 5.3723e-07 - mean_absolute_error: 3.3094e-04 - val_loss: 7.1345e-07 - val_mean_absolute_error: 3.3634e-04\n",
      "Epoch 63/1000\n",
      "14400/14400 [==============================] - 0s 27us/step - loss: 4.9663e-07 - mean_absolute_error: 3.1755e-04 - val_loss: 5.0307e-07 - val_mean_absolute_error: 3.1679e-04\n",
      "Epoch 64/1000\n",
      "14400/14400 [==============================] - 0s 28us/step - loss: 4.9117e-07 - mean_absolute_error: 3.0692e-04 - val_loss: 1.1017e-06 - val_mean_absolute_error: 3.8418e-04\n",
      "Epoch 65/1000\n",
      "14400/14400 [==============================] - 0s 27us/step - loss: 4.5024e-07 - mean_absolute_error: 2.9539e-04 - val_loss: 4.2499e-07 - val_mean_absolute_error: 2.7814e-04\n",
      "Epoch 66/1000\n",
      "14400/14400 [==============================] - 0s 26us/step - loss: 3.9083e-07 - mean_absolute_error: 2.7326e-04 - val_loss: 4.0649e-07 - val_mean_absolute_error: 3.0148e-04\n",
      "Epoch 67/1000\n",
      "14400/14400 [==============================] - 0s 27us/step - loss: 3.5484e-07 - mean_absolute_error: 2.5912e-04 - val_loss: 4.9266e-07 - val_mean_absolute_error: 2.6598e-04\n",
      "Epoch 68/1000\n",
      "14400/14400 [==============================] - 0s 24us/step - loss: 3.2476e-07 - mean_absolute_error: 2.5008e-04 - val_loss: 3.4928e-07 - val_mean_absolute_error: 2.4585e-04\n",
      "Epoch 69/1000\n",
      "14400/14400 [==============================] - 0s 27us/step - loss: 3.3904e-07 - mean_absolute_error: 2.4730e-04 - val_loss: 1.4782e-06 - val_mean_absolute_error: 5.6611e-04\n",
      "Epoch 70/1000\n",
      "14400/14400 [==============================] - 0s 26us/step - loss: 3.7249e-07 - mean_absolute_error: 2.5077e-04 - val_loss: 2.9309e-07 - val_mean_absolute_error: 2.2781e-04\n",
      "Epoch 71/1000\n",
      "14400/14400 [==============================] - 0s 28us/step - loss: 3.0061e-07 - mean_absolute_error: 2.2638e-04 - val_loss: 3.2223e-07 - val_mean_absolute_error: 2.5988e-04\n",
      "Epoch 72/1000\n",
      "14400/14400 [==============================] - 0s 25us/step - loss: 2.6365e-07 - mean_absolute_error: 2.1749e-04 - val_loss: 2.6251e-07 - val_mean_absolute_error: 2.1125e-04\n",
      "Epoch 73/1000\n",
      "14400/14400 [==============================] - 0s 24us/step - loss: 2.7196e-07 - mean_absolute_error: 2.1405e-04 - val_loss: 3.0367e-07 - val_mean_absolute_error: 2.0492e-04\n",
      "Epoch 74/1000\n",
      "14400/14400 [==============================] - 0s 24us/step - loss: 2.4063e-07 - mean_absolute_error: 1.9752e-04 - val_loss: 2.1536e-07 - val_mean_absolute_error: 1.8115e-04\n",
      "Epoch 75/1000\n",
      "14400/14400 [==============================] - 0s 24us/step - loss: 2.2148e-07 - mean_absolute_error: 1.8791e-04 - val_loss: 2.0822e-07 - val_mean_absolute_error: 2.0723e-04\n",
      "Epoch 76/1000\n",
      "14400/14400 [==============================] - 0s 24us/step - loss: 2.3641e-07 - mean_absolute_error: 1.9726e-04 - val_loss: 2.1534e-07 - val_mean_absolute_error: 2.0481e-04\n",
      "Epoch 77/1000\n",
      "14400/14400 [==============================] - 0s 24us/step - loss: 2.3588e-07 - mean_absolute_error: 1.8667e-04 - val_loss: 1.6481e-07 - val_mean_absolute_error: 1.7024e-04\n",
      "Epoch 78/1000\n",
      "14400/14400 [==============================] - 0s 24us/step - loss: 2.1034e-07 - mean_absolute_error: 1.7712e-04 - val_loss: 1.9541e-07 - val_mean_absolute_error: 1.6249e-04\n",
      "Epoch 79/1000\n",
      "14400/14400 [==============================] - 0s 24us/step - loss: 1.8855e-07 - mean_absolute_error: 1.6911e-04 - val_loss: 1.4473e-07 - val_mean_absolute_error: 1.5188e-04\n",
      "Epoch 80/1000\n",
      "14400/14400 [==============================] - 0s 24us/step - loss: 1.9483e-07 - mean_absolute_error: 1.6988e-04 - val_loss: 3.0088e-07 - val_mean_absolute_error: 2.4956e-04\n",
      "Epoch 81/1000\n",
      "14400/14400 [==============================] - 0s 24us/step - loss: 2.3328e-07 - mean_absolute_error: 1.7417e-04 - val_loss: 1.3126e-07 - val_mean_absolute_error: 1.4192e-04\n",
      "Epoch 82/1000\n",
      "14400/14400 [==============================] - 0s 24us/step - loss: 1.5137e-07 - mean_absolute_error: 1.4707e-04 - val_loss: 1.6180e-07 - val_mean_absolute_error: 1.8218e-04\n",
      "Epoch 83/1000\n",
      "14400/14400 [==============================] - 0s 23us/step - loss: 1.4169e-07 - mean_absolute_error: 1.4620e-04 - val_loss: 1.5787e-07 - val_mean_absolute_error: 1.7825e-04\n",
      "Epoch 84/1000\n",
      "14400/14400 [==============================] - 0s 24us/step - loss: 1.6607e-07 - mean_absolute_error: 1.5530e-04 - val_loss: 1.0657e-07 - val_mean_absolute_error: 1.3115e-04\n",
      "Epoch 85/1000\n",
      "14400/14400 [==============================] - 0s 24us/step - loss: 1.4114e-07 - mean_absolute_error: 1.4261e-04 - val_loss: 1.0649e-07 - val_mean_absolute_error: 1.1695e-04\n",
      "Epoch 86/1000\n",
      "14400/14400 [==============================] - 0s 24us/step - loss: 1.1915e-07 - mean_absolute_error: 1.2971e-04 - val_loss: 9.7282e-08 - val_mean_absolute_error: 1.1346e-04\n",
      "Epoch 87/1000\n",
      "14400/14400 [==============================] - 0s 24us/step - loss: 1.1930e-07 - mean_absolute_error: 1.3293e-04 - val_loss: 9.1731e-08 - val_mean_absolute_error: 1.1164e-04\n",
      "Epoch 88/1000\n",
      "14400/14400 [==============================] - 0s 24us/step - loss: 1.2722e-07 - mean_absolute_error: 1.3366e-04 - val_loss: 1.9064e-07 - val_mean_absolute_error: 1.7634e-04\n",
      "Epoch 89/1000\n",
      "14400/14400 [==============================] - 0s 24us/step - loss: 1.1310e-07 - mean_absolute_error: 1.2337e-04 - val_loss: 9.5118e-08 - val_mean_absolute_error: 1.2550e-04\n"
     ]
    },
    {
     "name": "stdout",
     "output_type": "stream",
     "text": [
      "Epoch 90/1000\n",
      "14400/14400 [==============================] - 0s 24us/step - loss: 1.1743e-07 - mean_absolute_error: 1.2900e-04 - val_loss: 7.9586e-08 - val_mean_absolute_error: 1.0263e-04\n",
      "Epoch 91/1000\n",
      "14400/14400 [==============================] - 0s 24us/step - loss: 1.5977e-07 - mean_absolute_error: 1.3515e-04 - val_loss: 7.9706e-08 - val_mean_absolute_error: 1.1264e-04\n",
      "Epoch 92/1000\n",
      "14400/14400 [==============================] - 0s 24us/step - loss: 1.5095e-07 - mean_absolute_error: 1.3340e-04 - val_loss: 7.5499e-08 - val_mean_absolute_error: 9.4101e-05\n",
      "Epoch 93/1000\n",
      "14400/14400 [==============================] - 0s 25us/step - loss: 1.0185e-07 - mean_absolute_error: 1.1129e-04 - val_loss: 1.4837e-07 - val_mean_absolute_error: 1.4537e-04\n",
      "Epoch 94/1000\n",
      "14400/14400 [==============================] - 0s 24us/step - loss: 8.2990e-08 - mean_absolute_error: 1.0434e-04 - val_loss: 8.3356e-08 - val_mean_absolute_error: 9.0510e-05\n",
      "Epoch 95/1000\n",
      "14400/14400 [==============================] - 0s 24us/step - loss: 1.1050e-07 - mean_absolute_error: 1.1603e-04 - val_loss: 1.9759e-07 - val_mean_absolute_error: 1.5034e-04\n",
      "Epoch 96/1000\n",
      "14400/14400 [==============================] - 0s 24us/step - loss: 2.2129e-07 - mean_absolute_error: 1.3959e-04 - val_loss: 6.3382e-08 - val_mean_absolute_error: 9.2174e-05\n",
      "Epoch 97/1000\n",
      "14400/14400 [==============================] - 0s 24us/step - loss: 1.4437e-07 - mean_absolute_error: 1.2420e-04 - val_loss: 2.5916e-07 - val_mean_absolute_error: 2.0214e-04\n",
      "Epoch 98/1000\n",
      "14400/14400 [==============================] - 0s 24us/step - loss: 7.5069e-08 - mean_absolute_error: 9.5730e-05 - val_loss: 4.8850e-08 - val_mean_absolute_error: 7.4840e-05\n",
      "Epoch 99/1000\n",
      "14400/14400 [==============================] - 0s 24us/step - loss: 8.6336e-08 - mean_absolute_error: 1.0546e-04 - val_loss: 8.3856e-08 - val_mean_absolute_error: 1.0861e-04\n",
      "Epoch 100/1000\n",
      "14400/14400 [==============================] - 0s 24us/step - loss: 6.4640e-08 - mean_absolute_error: 9.2762e-05 - val_loss: 6.9211e-08 - val_mean_absolute_error: 8.0747e-05\n",
      "Epoch 101/1000\n",
      "14400/14400 [==============================] - 0s 24us/step - loss: 7.7499e-08 - mean_absolute_error: 9.7464e-05 - val_loss: 5.7691e-08 - val_mean_absolute_error: 9.0169e-05\n",
      "Epoch 102/1000\n",
      "14400/14400 [==============================] - 0s 24us/step - loss: 6.9655e-08 - mean_absolute_error: 9.3086e-05 - val_loss: 2.0393e-07 - val_mean_absolute_error: 1.6154e-04\n",
      "Epoch 103/1000\n",
      "14400/14400 [==============================] - 0s 24us/step - loss: 9.4623e-08 - mean_absolute_error: 1.0884e-04 - val_loss: 1.2262e-07 - val_mean_absolute_error: 1.2510e-04\n",
      "Epoch 104/1000\n",
      "14400/14400 [==============================] - 0s 24us/step - loss: 9.5008e-08 - mean_absolute_error: 1.0758e-04 - val_loss: 5.4373e-08 - val_mean_absolute_error: 7.2523e-05\n",
      "Epoch 105/1000\n",
      "14400/14400 [==============================] - 0s 24us/step - loss: 8.3348e-08 - mean_absolute_error: 9.7246e-05 - val_loss: 7.5625e-08 - val_mean_absolute_error: 7.6746e-05\n",
      "Epoch 106/1000\n",
      "14400/14400 [==============================] - 0s 24us/step - loss: 1.4159e-07 - mean_absolute_error: 1.1612e-04 - val_loss: 1.1328e-07 - val_mean_absolute_error: 1.0973e-04\n",
      "Epoch 107/1000\n",
      "14400/14400 [==============================] - 0s 24us/step - loss: 1.0315e-07 - mean_absolute_error: 1.0901e-04 - val_loss: 6.4927e-08 - val_mean_absolute_error: 9.2212e-05\n",
      "Epoch 108/1000\n",
      "14400/14400 [==============================] - 0s 24us/step - loss: 1.1565e-07 - mean_absolute_error: 1.1345e-04 - val_loss: 5.5998e-08 - val_mean_absolute_error: 8.6027e-05\n",
      "Epoch 109/1000\n",
      "14400/14400 [==============================] - 0s 24us/step - loss: 5.8182e-08 - mean_absolute_error: 8.1302e-05 - val_loss: 4.3761e-08 - val_mean_absolute_error: 6.4046e-05\n",
      "Epoch 110/1000\n",
      "14400/14400 [==============================] - 0s 25us/step - loss: 7.2925e-08 - mean_absolute_error: 8.7908e-05 - val_loss: 4.0948e-08 - val_mean_absolute_error: 5.7827e-05\n",
      "Epoch 111/1000\n",
      "14400/14400 [==============================] - 0s 24us/step - loss: 8.4539e-08 - mean_absolute_error: 9.7446e-05 - val_loss: 4.5025e-08 - val_mean_absolute_error: 8.0126e-05\n",
      "Epoch 112/1000\n",
      "14400/14400 [==============================] - 0s 24us/step - loss: 8.1296e-08 - mean_absolute_error: 8.9608e-05 - val_loss: 5.1627e-08 - val_mean_absolute_error: 6.1641e-05\n",
      "Epoch 113/1000\n",
      "14400/14400 [==============================] - 0s 24us/step - loss: 9.3131e-08 - mean_absolute_error: 9.7946e-05 - val_loss: 5.7932e-08 - val_mean_absolute_error: 8.5796e-05\n",
      "Epoch 114/1000\n",
      "14400/14400 [==============================] - 0s 25us/step - loss: 1.8663e-07 - mean_absolute_error: 1.4028e-04 - val_loss: 4.7504e-08 - val_mean_absolute_error: 8.4308e-05\n",
      "Epoch 115/1000\n",
      "14400/14400 [==============================] - 0s 24us/step - loss: 8.2297e-08 - mean_absolute_error: 9.2957e-05 - val_loss: 6.5252e-08 - val_mean_absolute_error: 8.6424e-05\n",
      "Epoch 116/1000\n",
      "14400/14400 [==============================] - 0s 24us/step - loss: 6.3334e-08 - mean_absolute_error: 8.3002e-05 - val_loss: 5.0227e-08 - val_mean_absolute_error: 6.2640e-05\n",
      "Epoch 117/1000\n",
      "14400/14400 [==============================] - 0s 24us/step - loss: 3.5443e-08 - mean_absolute_error: 6.5117e-05 - val_loss: 7.5198e-08 - val_mean_absolute_error: 8.8433e-05\n",
      "Epoch 118/1000\n",
      "14400/14400 [==============================] - 0s 24us/step - loss: 3.5874e-08 - mean_absolute_error: 6.9957e-05 - val_loss: 5.7934e-08 - val_mean_absolute_error: 9.4491e-05\n",
      "Epoch 119/1000\n",
      "14400/14400 [==============================] - 0s 24us/step - loss: 5.0403e-08 - mean_absolute_error: 7.3491e-05 - val_loss: 7.2275e-08 - val_mean_absolute_error: 8.7667e-05\n",
      "Epoch 120/1000\n",
      "14400/14400 [==============================] - 0s 24us/step - loss: 9.8197e-08 - mean_absolute_error: 9.5365e-05 - val_loss: 4.2004e-08 - val_mean_absolute_error: 7.5377e-05\n",
      "Epoch 121/1000\n",
      "14400/14400 [==============================] - 0s 24us/step - loss: 4.9199e-08 - mean_absolute_error: 7.3847e-05 - val_loss: 1.5622e-07 - val_mean_absolute_error: 1.4147e-04\n",
      "Epoch 122/1000\n",
      "14400/14400 [==============================] - 0s 24us/step - loss: 8.0933e-08 - mean_absolute_error: 8.9570e-05 - val_loss: 5.4038e-08 - val_mean_absolute_error: 6.7587e-05\n",
      "Epoch 123/1000\n",
      "14400/14400 [==============================] - 0s 24us/step - loss: 5.1600e-08 - mean_absolute_error: 8.0559e-05 - val_loss: 9.2773e-08 - val_mean_absolute_error: 9.2706e-05\n",
      "Epoch 124/1000\n",
      "14400/14400 [==============================] - 0s 24us/step - loss: 8.1090e-08 - mean_absolute_error: 8.7886e-05 - val_loss: 4.6596e-08 - val_mean_absolute_error: 5.4819e-05\n",
      "Epoch 125/1000\n",
      "14400/14400 [==============================] - 0s 24us/step - loss: 6.4518e-08 - mean_absolute_error: 8.7655e-05 - val_loss: 4.3465e-08 - val_mean_absolute_error: 5.2691e-05\n",
      "Epoch 126/1000\n",
      "14400/14400 [==============================] - 0s 24us/step - loss: 8.4878e-08 - mean_absolute_error: 9.0978e-05 - val_loss: 5.8598e-08 - val_mean_absolute_error: 9.2612e-05\n",
      "Epoch 127/1000\n",
      "14400/14400 [==============================] - 0s 24us/step - loss: 9.1130e-08 - mean_absolute_error: 1.0089e-04 - val_loss: 4.0044e-08 - val_mean_absolute_error: 5.6964e-05\n",
      "Epoch 128/1000\n",
      "14400/14400 [==============================] - 0s 23us/step - loss: 7.1769e-08 - mean_absolute_error: 9.1920e-05 - val_loss: 4.2803e-08 - val_mean_absolute_error: 5.3862e-05\n",
      "Epoch 129/1000\n",
      "14400/14400 [==============================] - 0s 23us/step - loss: 5.5368e-08 - mean_absolute_error: 8.0656e-05 - val_loss: 5.4486e-08 - val_mean_absolute_error: 5.7710e-05\n",
      "Epoch 130/1000\n",
      "14400/14400 [==============================] - 0s 23us/step - loss: 7.0836e-08 - mean_absolute_error: 8.9048e-05 - val_loss: 4.2442e-08 - val_mean_absolute_error: 5.6358e-05\n",
      "Epoch 131/1000\n",
      "14400/14400 [==============================] - 0s 24us/step - loss: 5.2625e-08 - mean_absolute_error: 7.2836e-05 - val_loss: 4.4398e-08 - val_mean_absolute_error: 6.0556e-05\n",
      "Epoch 132/1000\n",
      "14400/14400 [==============================] - 0s 24us/step - loss: 6.5467e-08 - mean_absolute_error: 8.6062e-05 - val_loss: 5.7243e-08 - val_mean_absolute_error: 6.1945e-05\n",
      "Epoch 133/1000\n"
     ]
    },
    {
     "name": "stdout",
     "output_type": "stream",
     "text": [
      "14400/14400 [==============================] - 0s 24us/step - loss: 1.1548e-07 - mean_absolute_error: 1.0819e-04 - val_loss: 4.3269e-08 - val_mean_absolute_error: 6.6539e-05\n",
      "Epoch 134/1000\n",
      "14400/14400 [==============================] - 0s 24us/step - loss: 1.6845e-07 - mean_absolute_error: 1.1851e-04 - val_loss: 5.2363e-08 - val_mean_absolute_error: 6.7827e-05\n",
      "Epoch 135/1000\n",
      "14400/14400 [==============================] - 0s 24us/step - loss: 8.8068e-08 - mean_absolute_error: 9.6039e-05 - val_loss: 4.1201e-08 - val_mean_absolute_error: 6.0800e-05\n",
      "Epoch 136/1000\n",
      "14400/14400 [==============================] - 0s 24us/step - loss: 4.8605e-08 - mean_absolute_error: 7.1307e-05 - val_loss: 4.9723e-08 - val_mean_absolute_error: 7.5041e-05\n",
      "Epoch 137/1000\n",
      "14400/14400 [==============================] - 0s 24us/step - loss: 2.9641e-08 - mean_absolute_error: 6.2118e-05 - val_loss: 4.5355e-08 - val_mean_absolute_error: 5.3566e-05\n",
      "Epoch 138/1000\n",
      "14400/14400 [==============================] - 0s 25us/step - loss: 2.8435e-08 - mean_absolute_error: 6.1370e-05 - val_loss: 3.9538e-08 - val_mean_absolute_error: 5.3371e-05\n",
      "Epoch 139/1000\n",
      "14400/14400 [==============================] - 0s 24us/step - loss: 5.8989e-08 - mean_absolute_error: 8.2349e-05 - val_loss: 4.3743e-08 - val_mean_absolute_error: 6.0000e-05\n",
      "Epoch 140/1000\n",
      "14400/14400 [==============================] - 0s 24us/step - loss: 5.4361e-08 - mean_absolute_error: 8.1360e-05 - val_loss: 6.2791e-08 - val_mean_absolute_error: 6.5221e-05\n",
      "Epoch 141/1000\n",
      "14400/14400 [==============================] - 0s 25us/step - loss: 8.5815e-08 - mean_absolute_error: 8.3867e-05 - val_loss: 3.8519e-07 - val_mean_absolute_error: 2.8350e-04\n",
      "Epoch 142/1000\n",
      "14400/14400 [==============================] - 0s 24us/step - loss: 4.6257e-08 - mean_absolute_error: 7.6928e-05 - val_loss: 5.0862e-08 - val_mean_absolute_error: 1.0110e-04\n",
      "Epoch 143/1000\n",
      "14400/14400 [==============================] - 0s 28us/step - loss: 3.7486e-08 - mean_absolute_error: 6.9223e-05 - val_loss: 6.1425e-08 - val_mean_absolute_error: 7.1105e-05\n",
      "Epoch 144/1000\n",
      "14400/14400 [==============================] - 0s 24us/step - loss: 7.0606e-08 - mean_absolute_error: 8.8319e-05 - val_loss: 1.8584e-07 - val_mean_absolute_error: 1.8806e-04\n",
      "Epoch 145/1000\n",
      "14400/14400 [==============================] - 0s 30us/step - loss: 9.7051e-08 - mean_absolute_error: 9.4878e-05 - val_loss: 4.3111e-08 - val_mean_absolute_error: 5.8129e-05\n",
      "Epoch 146/1000\n",
      "14400/14400 [==============================] - 0s 24us/step - loss: 1.0771e-07 - mean_absolute_error: 9.5665e-05 - val_loss: 4.6327e-08 - val_mean_absolute_error: 6.4227e-05\n",
      "Epoch 147/1000\n",
      "14400/14400 [==============================] - 0s 28us/step - loss: 5.9724e-08 - mean_absolute_error: 8.3286e-05 - val_loss: 4.5861e-08 - val_mean_absolute_error: 5.6661e-05\n",
      "Epoch 148/1000\n",
      "14400/14400 [==============================] - 0s 26us/step - loss: 6.1988e-08 - mean_absolute_error: 8.5012e-05 - val_loss: 5.8471e-08 - val_mean_absolute_error: 6.3624e-05\n",
      "Epoch 149/1000\n",
      "14400/14400 [==============================] - 0s 32us/step - loss: 3.2155e-08 - mean_absolute_error: 6.2994e-05 - val_loss: 2.3449e-07 - val_mean_absolute_error: 1.6497e-04\n",
      "Epoch 150/1000\n",
      "14400/14400 [==============================] - 0s 26us/step - loss: 1.0012e-07 - mean_absolute_error: 1.0258e-04 - val_loss: 4.0935e-08 - val_mean_absolute_error: 6.6388e-05\n",
      "Epoch 151/1000\n",
      "14400/14400 [==============================] - 0s 29us/step - loss: 8.8750e-08 - mean_absolute_error: 9.6622e-05 - val_loss: 5.9014e-08 - val_mean_absolute_error: 8.8520e-05\n",
      "Epoch 152/1000\n",
      "14400/14400 [==============================] - 0s 24us/step - loss: 1.0198e-07 - mean_absolute_error: 9.7086e-05 - val_loss: 5.1117e-08 - val_mean_absolute_error: 5.8301e-05\n",
      "Epoch 153/1000\n",
      "14400/14400 [==============================] - 0s 28us/step - loss: 3.4291e-08 - mean_absolute_error: 6.1995e-05 - val_loss: 1.3918e-07 - val_mean_absolute_error: 1.2126e-04\n",
      "Epoch 154/1000\n",
      "14400/14400 [==============================] - 0s 25us/step - loss: 5.8476e-08 - mean_absolute_error: 8.3555e-05 - val_loss: 4.3528e-08 - val_mean_absolute_error: 6.3432e-05\n",
      "Epoch 155/1000\n",
      "14400/14400 [==============================] - 0s 29us/step - loss: 6.0252e-08 - mean_absolute_error: 8.8186e-05 - val_loss: 1.0314e-07 - val_mean_absolute_error: 1.1537e-04\n",
      "Epoch 156/1000\n",
      "14400/14400 [==============================] - 0s 24us/step - loss: 7.7160e-08 - mean_absolute_error: 9.1204e-05 - val_loss: 3.2746e-08 - val_mean_absolute_error: 4.9627e-05\n",
      "Epoch 157/1000\n",
      "14400/14400 [==============================] - 0s 29us/step - loss: 5.0562e-08 - mean_absolute_error: 7.6949e-05 - val_loss: 3.8558e-08 - val_mean_absolute_error: 5.4016e-05\n",
      "Epoch 158/1000\n",
      "14400/14400 [==============================] - 0s 25us/step - loss: 4.8566e-08 - mean_absolute_error: 7.0513e-05 - val_loss: 5.6615e-08 - val_mean_absolute_error: 6.3854e-05\n",
      "Epoch 159/1000\n",
      "14400/14400 [==============================] - 0s 26us/step - loss: 4.5744e-08 - mean_absolute_error: 7.5893e-05 - val_loss: 4.3631e-08 - val_mean_absolute_error: 8.1271e-05\n",
      "Epoch 160/1000\n",
      "14400/14400 [==============================] - 0s 27us/step - loss: 7.9216e-08 - mean_absolute_error: 9.0142e-05 - val_loss: 3.7180e-07 - val_mean_absolute_error: 2.1396e-04\n",
      "Epoch 161/1000\n",
      "14400/14400 [==============================] - 0s 34us/step - loss: 1.3079e-07 - mean_absolute_error: 1.0724e-04 - val_loss: 4.0980e-08 - val_mean_absolute_error: 6.0824e-05\n",
      "Epoch 162/1000\n",
      "14400/14400 [==============================] - 0s 29us/step - loss: 7.0705e-08 - mean_absolute_error: 8.3061e-05 - val_loss: 3.8746e-08 - val_mean_absolute_error: 6.5622e-05\n",
      "Epoch 163/1000\n",
      "14400/14400 [==============================] - 0s 27us/step - loss: 1.7331e-07 - mean_absolute_error: 1.1792e-04 - val_loss: 8.9559e-08 - val_mean_absolute_error: 9.2247e-05\n",
      "Epoch 164/1000\n",
      "14400/14400 [==============================] - 0s 26us/step - loss: 5.8215e-08 - mean_absolute_error: 8.2547e-05 - val_loss: 1.7147e-07 - val_mean_absolute_error: 1.8836e-04\n",
      "Epoch 165/1000\n",
      "14400/14400 [==============================] - 0s 26us/step - loss: 7.6648e-08 - mean_absolute_error: 8.4605e-05 - val_loss: 5.5841e-08 - val_mean_absolute_error: 6.2769e-05\n",
      "Epoch 166/1000\n",
      "14400/14400 [==============================] - 0s 27us/step - loss: 3.8698e-08 - mean_absolute_error: 6.5067e-05 - val_loss: 1.3663e-07 - val_mean_absolute_error: 1.9135e-04\n",
      "Epoch 167/1000\n",
      "14400/14400 [==============================] - 1s 36us/step - loss: 4.0292e-08 - mean_absolute_error: 7.1655e-05 - val_loss: 5.9837e-08 - val_mean_absolute_error: 8.3507e-05\n",
      "Epoch 168/1000\n",
      "14400/14400 [==============================] - 0s 27us/step - loss: 2.6061e-08 - mean_absolute_error: 6.1435e-05 - val_loss: 3.4200e-08 - val_mean_absolute_error: 4.9711e-05\n",
      "Epoch 169/1000\n",
      "14400/14400 [==============================] - 0s 29us/step - loss: 2.2013e-08 - mean_absolute_error: 5.5076e-05 - val_loss: 4.9190e-08 - val_mean_absolute_error: 8.5900e-05\n",
      "Epoch 170/1000\n",
      "14400/14400 [==============================] - 0s 26us/step - loss: 2.0765e-07 - mean_absolute_error: 1.3458e-04 - val_loss: 4.6371e-08 - val_mean_absolute_error: 6.7665e-05\n",
      "Epoch 171/1000\n",
      "14400/14400 [==============================] - 0s 29us/step - loss: 1.0086e-07 - mean_absolute_error: 9.9109e-05 - val_loss: 6.2428e-08 - val_mean_absolute_error: 7.1425e-05\n",
      "Epoch 172/1000\n",
      "14400/14400 [==============================] - 0s 25us/step - loss: 6.4925e-08 - mean_absolute_error: 8.0069e-05 - val_loss: 4.5004e-08 - val_mean_absolute_error: 5.4860e-05\n",
      "Epoch 173/1000\n",
      "14400/14400 [==============================] - 0s 24us/step - loss: 6.2112e-08 - mean_absolute_error: 8.2205e-05 - val_loss: 1.4077e-07 - val_mean_absolute_error: 1.5791e-04\n",
      "Epoch 174/1000\n",
      "14400/14400 [==============================] - 0s 24us/step - loss: 4.3676e-08 - mean_absolute_error: 6.7560e-05 - val_loss: 7.5905e-08 - val_mean_absolute_error: 9.9788e-05\n",
      "Epoch 175/1000\n",
      "14400/14400 [==============================] - 0s 24us/step - loss: 2.6486e-08 - mean_absolute_error: 5.7887e-05 - val_loss: 2.8345e-08 - val_mean_absolute_error: 4.2989e-05\n",
      "Epoch 176/1000\n"
     ]
    },
    {
     "name": "stdout",
     "output_type": "stream",
     "text": [
      "14400/14400 [==============================] - 0s 24us/step - loss: 2.8286e-08 - mean_absolute_error: 6.1514e-05 - val_loss: 4.5481e-08 - val_mean_absolute_error: 5.9097e-05\n",
      "Epoch 177/1000\n",
      "14400/14400 [==============================] - 0s 26us/step - loss: 6.1407e-08 - mean_absolute_error: 8.3418e-05 - val_loss: 3.3110e-08 - val_mean_absolute_error: 5.6785e-05\n",
      "Epoch 178/1000\n",
      "14400/14400 [==============================] - 0s 25us/step - loss: 1.0806e-07 - mean_absolute_error: 1.0030e-04 - val_loss: 1.2040e-07 - val_mean_absolute_error: 1.5005e-04\n",
      "Epoch 179/1000\n",
      "14400/14400 [==============================] - 1s 35us/step - loss: 1.3471e-07 - mean_absolute_error: 1.1318e-04 - val_loss: 4.3349e-08 - val_mean_absolute_error: 6.6728e-05\n",
      "Epoch 180/1000\n",
      "14400/14400 [==============================] - 1s 38us/step - loss: 3.0253e-08 - mean_absolute_error: 6.2901e-05 - val_loss: 4.2563e-08 - val_mean_absolute_error: 4.9403e-05\n",
      "Epoch 181/1000\n",
      "14400/14400 [==============================] - 0s 35us/step - loss: 2.5529e-08 - mean_absolute_error: 5.5415e-05 - val_loss: 6.3429e-08 - val_mean_absolute_error: 6.9111e-05\n",
      "Epoch 182/1000\n",
      "14400/14400 [==============================] - 0s 27us/step - loss: 4.2436e-08 - mean_absolute_error: 7.5407e-05 - val_loss: 4.7399e-08 - val_mean_absolute_error: 8.0892e-05\n",
      "Epoch 183/1000\n",
      "14400/14400 [==============================] - 0s 26us/step - loss: 1.1621e-07 - mean_absolute_error: 9.4658e-05 - val_loss: 4.0053e-08 - val_mean_absolute_error: 5.5332e-05\n",
      "Epoch 184/1000\n",
      "14400/14400 [==============================] - 0s 31us/step - loss: 6.8597e-08 - mean_absolute_error: 9.1097e-05 - val_loss: 1.0823e-07 - val_mean_absolute_error: 9.9370e-05\n",
      "Epoch 185/1000\n",
      "14400/14400 [==============================] - 0s 29us/step - loss: 5.2989e-08 - mean_absolute_error: 7.7733e-05 - val_loss: 4.8438e-08 - val_mean_absolute_error: 6.3448e-05\n",
      "Epoch 186/1000\n",
      "14400/14400 [==============================] - 0s 26us/step - loss: 9.8467e-08 - mean_absolute_error: 8.6736e-05 - val_loss: 8.1617e-08 - val_mean_absolute_error: 7.3405e-05\n",
      "Epoch 187/1000\n",
      "14400/14400 [==============================] - 0s 32us/step - loss: 2.3156e-07 - mean_absolute_error: 1.2749e-04 - val_loss: 5.7490e-08 - val_mean_absolute_error: 8.9728e-05\n",
      "Epoch 188/1000\n",
      "14400/14400 [==============================] - 0s 28us/step - loss: 9.0129e-08 - mean_absolute_error: 9.3083e-05 - val_loss: 4.6117e-08 - val_mean_absolute_error: 5.2144e-05\n",
      "Epoch 189/1000\n",
      "14400/14400 [==============================] - 0s 25us/step - loss: 4.0086e-08 - mean_absolute_error: 6.6661e-05 - val_loss: 4.1888e-08 - val_mean_absolute_error: 6.0036e-05\n",
      "Epoch 190/1000\n",
      "14400/14400 [==============================] - 0s 28us/step - loss: 2.5272e-08 - mean_absolute_error: 5.7848e-05 - val_loss: 3.4556e-08 - val_mean_absolute_error: 4.8063e-05\n",
      "Epoch 191/1000\n",
      "14400/14400 [==============================] - 0s 33us/step - loss: 3.2855e-08 - mean_absolute_error: 6.3905e-05 - val_loss: 3.6239e-08 - val_mean_absolute_error: 5.2817e-05\n",
      "Epoch 192/1000\n",
      "14400/14400 [==============================] - 0s 28us/step - loss: 3.4628e-08 - mean_absolute_error: 6.7255e-05 - val_loss: 1.1784e-07 - val_mean_absolute_error: 1.0495e-04\n",
      "Epoch 193/1000\n",
      "14400/14400 [==============================] - 0s 34us/step - loss: 9.8154e-08 - mean_absolute_error: 9.1378e-05 - val_loss: 6.7392e-08 - val_mean_absolute_error: 7.0876e-05\n",
      "Epoch 194/1000\n",
      "14400/14400 [==============================] - 0s 24us/step - loss: 2.0578e-07 - mean_absolute_error: 1.3339e-04 - val_loss: 6.8060e-08 - val_mean_absolute_error: 1.3376e-04\n",
      "Epoch 195/1000\n",
      "14400/14400 [==============================] - 0s 24us/step - loss: 3.6098e-08 - mean_absolute_error: 6.5506e-05 - val_loss: 3.3738e-08 - val_mean_absolute_error: 5.2867e-05\n",
      "Epoch 196/1000\n",
      "14400/14400 [==============================] - 0s 25us/step - loss: 2.1988e-08 - mean_absolute_error: 5.4391e-05 - val_loss: 4.1516e-08 - val_mean_absolute_error: 5.7937e-05\n",
      "Epoch 197/1000\n",
      "14400/14400 [==============================] - 0s 24us/step - loss: 2.8871e-08 - mean_absolute_error: 6.1771e-05 - val_loss: 2.8155e-08 - val_mean_absolute_error: 4.4577e-05\n",
      "Epoch 198/1000\n",
      "14400/14400 [==============================] - 0s 24us/step - loss: 4.0775e-08 - mean_absolute_error: 6.9605e-05 - val_loss: 4.1007e-08 - val_mean_absolute_error: 5.0872e-05\n",
      "Epoch 199/1000\n",
      "14400/14400 [==============================] - 0s 25us/step - loss: 1.2514e-07 - mean_absolute_error: 1.0889e-04 - val_loss: 5.9357e-08 - val_mean_absolute_error: 8.6003e-05\n",
      "Epoch 200/1000\n",
      "14400/14400 [==============================] - 0s 25us/step - loss: 2.3448e-07 - mean_absolute_error: 1.2254e-04 - val_loss: 8.2678e-08 - val_mean_absolute_error: 9.4123e-05\n",
      "Epoch 201/1000\n",
      "14400/14400 [==============================] - 0s 25us/step - loss: 1.6783e-07 - mean_absolute_error: 1.0910e-04 - val_loss: 6.5910e-08 - val_mean_absolute_error: 9.7142e-05\n",
      "Epoch 202/1000\n",
      "14400/14400 [==============================] - 0s 25us/step - loss: 4.9541e-08 - mean_absolute_error: 6.9392e-05 - val_loss: 4.2667e-08 - val_mean_absolute_error: 5.8349e-05\n",
      "Epoch 203/1000\n",
      "14400/14400 [==============================] - 0s 24us/step - loss: 2.8350e-08 - mean_absolute_error: 5.7518e-05 - val_loss: 4.1935e-08 - val_mean_absolute_error: 4.9624e-05\n",
      "Epoch 204/1000\n",
      "14400/14400 [==============================] - 0s 27us/step - loss: 2.6758e-08 - mean_absolute_error: 5.1849e-05 - val_loss: 5.0009e-08 - val_mean_absolute_error: 6.9663e-05\n",
      "Epoch 205/1000\n",
      "14400/14400 [==============================] - 0s 28us/step - loss: 7.2270e-08 - mean_absolute_error: 7.5003e-05 - val_loss: 3.3016e-07 - val_mean_absolute_error: 2.7328e-04\n",
      "Epoch 206/1000\n",
      "14400/14400 [==============================] - 0s 27us/step - loss: 9.1832e-08 - mean_absolute_error: 9.0158e-05 - val_loss: 4.6213e-08 - val_mean_absolute_error: 6.1836e-05\n",
      "Epoch 207/1000\n",
      "14400/14400 [==============================] - 0s 25us/step - loss: 5.7422e-08 - mean_absolute_error: 7.4438e-05 - val_loss: 2.9964e-07 - val_mean_absolute_error: 2.6706e-04\n",
      "Epoch 208/1000\n",
      "14400/14400 [==============================] - 0s 33us/step - loss: 3.6128e-08 - mean_absolute_error: 6.3719e-05 - val_loss: 5.3304e-08 - val_mean_absolute_error: 6.2712e-05\n",
      "Epoch 209/1000\n",
      "14400/14400 [==============================] - 0s 27us/step - loss: 2.9718e-08 - mean_absolute_error: 6.1953e-05 - val_loss: 4.9208e-08 - val_mean_absolute_error: 7.8657e-05\n",
      "Epoch 210/1000\n",
      "14400/14400 [==============================] - 0s 29us/step - loss: 5.5955e-08 - mean_absolute_error: 7.0495e-05 - val_loss: 4.2835e-08 - val_mean_absolute_error: 5.5223e-05\n",
      "Epoch 211/1000\n",
      "14400/14400 [==============================] - 0s 26us/step - loss: 5.3007e-08 - mean_absolute_error: 7.5387e-05 - val_loss: 4.3822e-08 - val_mean_absolute_error: 9.7969e-05\n",
      "Epoch 212/1000\n",
      "14400/14400 [==============================] - 0s 29us/step - loss: 1.1444e-07 - mean_absolute_error: 1.0184e-04 - val_loss: 5.6952e-08 - val_mean_absolute_error: 6.7500e-05\n",
      "Epoch 213/1000\n",
      "14400/14400 [==============================] - 0s 27us/step - loss: 5.7812e-08 - mean_absolute_error: 8.5269e-05 - val_loss: 1.0039e-07 - val_mean_absolute_error: 1.0076e-04\n",
      "Epoch 214/1000\n",
      "14400/14400 [==============================] - 0s 26us/step - loss: 3.4718e-08 - mean_absolute_error: 6.8191e-05 - val_loss: 3.2648e-08 - val_mean_absolute_error: 5.4142e-05\n",
      "Epoch 215/1000\n",
      "14400/14400 [==============================] - 0s 26us/step - loss: 6.1602e-08 - mean_absolute_error: 8.0391e-05 - val_loss: 4.7720e-08 - val_mean_absolute_error: 6.4009e-05\n",
      "Epoch 216/1000\n",
      "14400/14400 [==============================] - 0s 28us/step - loss: 7.4951e-08 - mean_absolute_error: 8.8016e-05 - val_loss: 1.8343e-07 - val_mean_absolute_error: 1.4171e-04\n",
      "Epoch 217/1000\n",
      "14400/14400 [==============================] - 0s 24us/step - loss: 8.4737e-08 - mean_absolute_error: 9.9025e-05 - val_loss: 4.0593e-08 - val_mean_absolute_error: 5.7448e-05\n",
      "Epoch 218/1000\n",
      "14400/14400 [==============================] - 0s 29us/step - loss: 8.2728e-08 - mean_absolute_error: 9.1083e-05 - val_loss: 4.5795e-08 - val_mean_absolute_error: 6.9876e-05\n",
      "Epoch 219/1000\n"
     ]
    },
    {
     "name": "stdout",
     "output_type": "stream",
     "text": [
      "14400/14400 [==============================] - 0s 24us/step - loss: 9.1645e-08 - mean_absolute_error: 9.5120e-05 - val_loss: 6.1504e-08 - val_mean_absolute_error: 7.5110e-05\n",
      "Epoch 220/1000\n",
      "14400/14400 [==============================] - 0s 24us/step - loss: 6.6016e-08 - mean_absolute_error: 8.5569e-05 - val_loss: 3.3051e-08 - val_mean_absolute_error: 5.3411e-05\n",
      "Epoch 221/1000\n",
      "14400/14400 [==============================] - 0s 24us/step - loss: 5.8291e-08 - mean_absolute_error: 7.6635e-05 - val_loss: 3.9210e-08 - val_mean_absolute_error: 5.0746e-05\n",
      "Epoch 222/1000\n",
      "14400/14400 [==============================] - 0s 24us/step - loss: 9.3188e-08 - mean_absolute_error: 1.0128e-04 - val_loss: 5.1726e-08 - val_mean_absolute_error: 8.4324e-05\n",
      "Epoch 223/1000\n",
      "14400/14400 [==============================] - 0s 24us/step - loss: 3.3650e-08 - mean_absolute_error: 6.2307e-05 - val_loss: 3.8544e-08 - val_mean_absolute_error: 6.0446e-05\n",
      "Epoch 224/1000\n",
      "14400/14400 [==============================] - 0s 24us/step - loss: 2.9783e-08 - mean_absolute_error: 6.3263e-05 - val_loss: 4.0136e-08 - val_mean_absolute_error: 5.3167e-05\n",
      "Epoch 225/1000\n",
      "14400/14400 [==============================] - 0s 24us/step - loss: 5.5212e-08 - mean_absolute_error: 7.9216e-05 - val_loss: 6.5168e-08 - val_mean_absolute_error: 7.6853e-05\n",
      "Epoch 226/1000\n",
      "14400/14400 [==============================] - 0s 24us/step - loss: 4.6746e-08 - mean_absolute_error: 7.4576e-05 - val_loss: 9.8324e-08 - val_mean_absolute_error: 1.1674e-04\n",
      "Epoch 227/1000\n",
      "14400/14400 [==============================] - 0s 24us/step - loss: 1.4856e-07 - mean_absolute_error: 1.1147e-04 - val_loss: 1.0491e-07 - val_mean_absolute_error: 1.1043e-04\n",
      "Epoch 228/1000\n",
      "14400/14400 [==============================] - 0s 24us/step - loss: 1.2004e-07 - mean_absolute_error: 1.0003e-04 - val_loss: 4.8865e-08 - val_mean_absolute_error: 6.2591e-05\n",
      "Epoch 229/1000\n",
      "14400/14400 [==============================] - 0s 24us/step - loss: 8.4019e-08 - mean_absolute_error: 8.3401e-05 - val_loss: 4.5959e-08 - val_mean_absolute_error: 8.3079e-05\n",
      "Epoch 230/1000\n",
      "14400/14400 [==============================] - 0s 24us/step - loss: 4.2285e-08 - mean_absolute_error: 7.1059e-05 - val_loss: 4.4274e-08 - val_mean_absolute_error: 5.4333e-05\n",
      "Epoch 231/1000\n",
      "14400/14400 [==============================] - 0s 24us/step - loss: 3.8406e-08 - mean_absolute_error: 6.4618e-05 - val_loss: 3.8093e-08 - val_mean_absolute_error: 5.4355e-05\n",
      "Epoch 232/1000\n",
      "14400/14400 [==============================] - 0s 24us/step - loss: 4.0031e-08 - mean_absolute_error: 6.9093e-05 - val_loss: 1.6259e-07 - val_mean_absolute_error: 2.3299e-04\n",
      "Epoch 233/1000\n",
      "14400/14400 [==============================] - 0s 26us/step - loss: 7.4531e-08 - mean_absolute_error: 8.6380e-05 - val_loss: 3.1944e-08 - val_mean_absolute_error: 5.1584e-05\n",
      "Epoch 234/1000\n",
      "14400/14400 [==============================] - 0s 27us/step - loss: 6.5749e-08 - mean_absolute_error: 8.1712e-05 - val_loss: 3.0970e-08 - val_mean_absolute_error: 5.3502e-05\n",
      "Epoch 235/1000\n",
      "14400/14400 [==============================] - 0s 29us/step - loss: 5.4709e-08 - mean_absolute_error: 7.9159e-05 - val_loss: 3.5936e-08 - val_mean_absolute_error: 5.4129e-05\n",
      "Epoch 236/1000\n",
      "14400/14400 [==============================] - 0s 25us/step - loss: 5.5398e-08 - mean_absolute_error: 7.6622e-05 - val_loss: 3.5990e-08 - val_mean_absolute_error: 5.6363e-05\n",
      "Epoch 237/1000\n",
      "14400/14400 [==============================] - 0s 27us/step - loss: 7.3342e-08 - mean_absolute_error: 8.2538e-05 - val_loss: 2.1437e-07 - val_mean_absolute_error: 1.7447e-04\n",
      "Epoch 238/1000\n",
      "14400/14400 [==============================] - 0s 25us/step - loss: 1.3339e-07 - mean_absolute_error: 1.1146e-04 - val_loss: 6.3358e-08 - val_mean_absolute_error: 8.6667e-05\n",
      "Epoch 239/1000\n",
      "14400/14400 [==============================] - 0s 30us/step - loss: 8.3602e-08 - mean_absolute_error: 8.6296e-05 - val_loss: 3.4333e-08 - val_mean_absolute_error: 5.4861e-05\n",
      "Epoch 240/1000\n",
      "14400/14400 [==============================] - 0s 24us/step - loss: 3.7616e-08 - mean_absolute_error: 6.9168e-05 - val_loss: 1.5220e-07 - val_mean_absolute_error: 1.6429e-04\n",
      "Epoch 241/1000\n",
      "14400/14400 [==============================] - 0s 24us/step - loss: 2.7867e-08 - mean_absolute_error: 5.8674e-05 - val_loss: 4.4034e-08 - val_mean_absolute_error: 6.3072e-05\n",
      "Epoch 242/1000\n",
      "14400/14400 [==============================] - 0s 24us/step - loss: 5.6225e-08 - mean_absolute_error: 7.7643e-05 - val_loss: 2.8806e-07 - val_mean_absolute_error: 2.3048e-04\n",
      "Epoch 243/1000\n",
      "14400/14400 [==============================] - 0s 24us/step - loss: 1.6656e-07 - mean_absolute_error: 1.1820e-04 - val_loss: 4.1863e-08 - val_mean_absolute_error: 6.6559e-05\n",
      "Epoch 244/1000\n",
      "14400/14400 [==============================] - 0s 24us/step - loss: 1.2598e-07 - mean_absolute_error: 1.0587e-04 - val_loss: 4.0665e-08 - val_mean_absolute_error: 6.4704e-05\n",
      "Epoch 245/1000\n",
      "14400/14400 [==============================] - 0s 24us/step - loss: 4.1244e-08 - mean_absolute_error: 6.4592e-05 - val_loss: 3.0679e-07 - val_mean_absolute_error: 2.0513e-04\n",
      "Epoch 246/1000\n",
      "14400/14400 [==============================] - 0s 25us/step - loss: 8.1018e-08 - mean_absolute_error: 8.2367e-05 - val_loss: 3.3088e-08 - val_mean_absolute_error: 5.3121e-05\n",
      "Epoch 247/1000\n",
      "14400/14400 [==============================] - 0s 24us/step - loss: 8.1489e-08 - mean_absolute_error: 8.0972e-05 - val_loss: 8.4793e-08 - val_mean_absolute_error: 1.1738e-04\n",
      "Epoch 248/1000\n",
      "14400/14400 [==============================] - 0s 24us/step - loss: 3.5606e-08 - mean_absolute_error: 6.3689e-05 - val_loss: 4.5474e-08 - val_mean_absolute_error: 9.6782e-05\n",
      "Epoch 249/1000\n",
      "14400/14400 [==============================] - 0s 24us/step - loss: 5.1215e-08 - mean_absolute_error: 7.9548e-05 - val_loss: 3.2587e-08 - val_mean_absolute_error: 5.9109e-05\n",
      "Epoch 250/1000\n",
      "14400/14400 [==============================] - 0s 24us/step - loss: 6.0717e-08 - mean_absolute_error: 8.3752e-05 - val_loss: 4.6474e-08 - val_mean_absolute_error: 6.0780e-05\n",
      "Epoch 251/1000\n",
      "14400/14400 [==============================] - 0s 24us/step - loss: 2.8037e-08 - mean_absolute_error: 5.7265e-05 - val_loss: 2.6999e-08 - val_mean_absolute_error: 4.8955e-05\n",
      "Epoch 252/1000\n",
      "14400/14400 [==============================] - 0s 23us/step - loss: 2.7118e-08 - mean_absolute_error: 5.7528e-05 - val_loss: 3.0899e-08 - val_mean_absolute_error: 6.0311e-05\n",
      "Epoch 253/1000\n",
      "14400/14400 [==============================] - 0s 24us/step - loss: 5.8408e-08 - mean_absolute_error: 7.6919e-05 - val_loss: 4.6199e-08 - val_mean_absolute_error: 6.1033e-05\n",
      "Epoch 254/1000\n",
      "14400/14400 [==============================] - 0s 24us/step - loss: 7.4290e-08 - mean_absolute_error: 9.3040e-05 - val_loss: 4.6894e-08 - val_mean_absolute_error: 7.0536e-05\n",
      "Epoch 255/1000\n",
      "14400/14400 [==============================] - 0s 24us/step - loss: 1.2026e-07 - mean_absolute_error: 1.1069e-04 - val_loss: 4.2333e-08 - val_mean_absolute_error: 5.8194e-05\n",
      "Epoch 256/1000\n",
      "14400/14400 [==============================] - 0s 23us/step - loss: 5.7396e-08 - mean_absolute_error: 8.0152e-05 - val_loss: 3.3245e-08 - val_mean_absolute_error: 5.7392e-05\n",
      "Epoch 257/1000\n",
      "14400/14400 [==============================] - 0s 24us/step - loss: 5.3941e-08 - mean_absolute_error: 7.4054e-05 - val_loss: 3.8022e-08 - val_mean_absolute_error: 5.4106e-05\n",
      "Epoch 258/1000\n",
      "14400/14400 [==============================] - 0s 24us/step - loss: 1.4324e-07 - mean_absolute_error: 1.0840e-04 - val_loss: 4.0357e-08 - val_mean_absolute_error: 5.7945e-05\n",
      "Epoch 259/1000\n",
      "14400/14400 [==============================] - 0s 23us/step - loss: 4.6198e-08 - mean_absolute_error: 7.2459e-05 - val_loss: 8.3975e-08 - val_mean_absolute_error: 1.0879e-04\n",
      "Epoch 260/1000\n",
      "14400/14400 [==============================] - 0s 24us/step - loss: 3.8214e-08 - mean_absolute_error: 6.9538e-05 - val_loss: 3.3502e-08 - val_mean_absolute_error: 5.1420e-05\n",
      "Epoch 261/1000\n",
      "14400/14400 [==============================] - 0s 23us/step - loss: 6.3482e-08 - mean_absolute_error: 8.2471e-05 - val_loss: 4.1396e-08 - val_mean_absolute_error: 8.0371e-05\n",
      "Epoch 262/1000\n"
     ]
    },
    {
     "name": "stdout",
     "output_type": "stream",
     "text": [
      "14400/14400 [==============================] - 0s 24us/step - loss: 6.6464e-08 - mean_absolute_error: 8.1856e-05 - val_loss: 3.9637e-08 - val_mean_absolute_error: 5.4654e-05\n",
      "Epoch 263/1000\n",
      "14400/14400 [==============================] - 0s 24us/step - loss: 4.7506e-08 - mean_absolute_error: 6.9748e-05 - val_loss: 3.7517e-08 - val_mean_absolute_error: 6.3178e-05\n",
      "Epoch 264/1000\n",
      "14400/14400 [==============================] - 0s 24us/step - loss: 5.2996e-08 - mean_absolute_error: 7.3263e-05 - val_loss: 3.4643e-08 - val_mean_absolute_error: 5.3885e-05\n",
      "Epoch 265/1000\n",
      "14400/14400 [==============================] - 0s 24us/step - loss: 9.2338e-08 - mean_absolute_error: 1.0215e-04 - val_loss: 7.7842e-08 - val_mean_absolute_error: 1.0813e-04\n",
      "Epoch 266/1000\n",
      "14400/14400 [==============================] - 0s 24us/step - loss: 8.5761e-08 - mean_absolute_error: 9.1826e-05 - val_loss: 4.3452e-08 - val_mean_absolute_error: 6.1748e-05\n",
      "Epoch 267/1000\n",
      "14400/14400 [==============================] - 0s 24us/step - loss: 9.2057e-08 - mean_absolute_error: 9.8292e-05 - val_loss: 7.4887e-08 - val_mean_absolute_error: 7.6964e-05\n",
      "Epoch 268/1000\n",
      "14400/14400 [==============================] - 0s 24us/step - loss: 4.1350e-08 - mean_absolute_error: 6.8290e-05 - val_loss: 9.9411e-08 - val_mean_absolute_error: 1.1450e-04\n",
      "Epoch 269/1000\n",
      "14400/14400 [==============================] - 0s 24us/step - loss: 1.2376e-07 - mean_absolute_error: 9.5471e-05 - val_loss: 4.4259e-08 - val_mean_absolute_error: 9.3892e-05\n",
      "Epoch 270/1000\n",
      "14400/14400 [==============================] - 0s 24us/step - loss: 9.7989e-08 - mean_absolute_error: 9.3371e-05 - val_loss: 3.3060e-08 - val_mean_absolute_error: 5.3181e-05\n",
      "Epoch 271/1000\n",
      "14400/14400 [==============================] - 0s 24us/step - loss: 3.1089e-08 - mean_absolute_error: 6.1650e-05 - val_loss: 2.8047e-08 - val_mean_absolute_error: 4.6414e-05\n",
      "Epoch 272/1000\n",
      "14400/14400 [==============================] - 0s 25us/step - loss: 3.6865e-08 - mean_absolute_error: 6.7890e-05 - val_loss: 2.8156e-07 - val_mean_absolute_error: 2.5490e-04\n",
      "Epoch 273/1000\n",
      "14400/14400 [==============================] - 0s 24us/step - loss: 4.7807e-08 - mean_absolute_error: 7.5127e-05 - val_loss: 3.0078e-08 - val_mean_absolute_error: 4.8431e-05\n",
      "Epoch 274/1000\n",
      "14400/14400 [==============================] - 0s 24us/step - loss: 4.7279e-08 - mean_absolute_error: 8.0170e-05 - val_loss: 7.9821e-08 - val_mean_absolute_error: 8.4542e-05\n",
      "Epoch 275/1000\n",
      "14400/14400 [==============================] - 0s 26us/step - loss: 1.0619e-07 - mean_absolute_error: 9.9552e-05 - val_loss: 5.6070e-08 - val_mean_absolute_error: 7.2770e-05\n",
      "Epoch 276/1000\n",
      "14400/14400 [==============================] - 0s 32us/step - loss: 1.2541e-07 - mean_absolute_error: 1.0311e-04 - val_loss: 5.3740e-08 - val_mean_absolute_error: 7.0757e-05\n",
      "Epoch 277/1000\n",
      "14400/14400 [==============================] - 0s 25us/step - loss: 1.2911e-07 - mean_absolute_error: 9.5497e-05 - val_loss: 3.7350e-08 - val_mean_absolute_error: 5.4071e-05\n",
      "Epoch 278/1000\n",
      "14400/14400 [==============================] - 0s 30us/step - loss: 9.7073e-08 - mean_absolute_error: 9.8238e-05 - val_loss: 3.5701e-08 - val_mean_absolute_error: 6.8218e-05\n",
      "Epoch 279/1000\n",
      "14400/14400 [==============================] - 1s 35us/step - loss: 7.4222e-08 - mean_absolute_error: 8.3780e-05 - val_loss: 4.8085e-08 - val_mean_absolute_error: 5.9449e-05\n",
      "Epoch 280/1000\n",
      "14400/14400 [==============================] - 0s 24us/step - loss: 4.2375e-08 - mean_absolute_error: 7.2594e-05 - val_loss: 3.4152e-08 - val_mean_absolute_error: 5.6839e-05\n",
      "Epoch 281/1000\n",
      "14400/14400 [==============================] - 0s 24us/step - loss: 4.4988e-08 - mean_absolute_error: 7.0114e-05 - val_loss: 3.3741e-08 - val_mean_absolute_error: 6.4201e-05\n",
      "Epoch 282/1000\n",
      "14400/14400 [==============================] - 0s 23us/step - loss: 2.5067e-08 - mean_absolute_error: 5.8425e-05 - val_loss: 3.5460e-08 - val_mean_absolute_error: 5.6493e-05\n",
      "Epoch 283/1000\n",
      "14400/14400 [==============================] - 0s 24us/step - loss: 3.0808e-08 - mean_absolute_error: 6.2480e-05 - val_loss: 1.8360e-07 - val_mean_absolute_error: 1.5022e-04\n",
      "Epoch 284/1000\n",
      "14400/14400 [==============================] - 0s 24us/step - loss: 5.5180e-08 - mean_absolute_error: 8.0675e-05 - val_loss: 6.7802e-08 - val_mean_absolute_error: 7.9438e-05\n",
      "Epoch 285/1000\n",
      "14400/14400 [==============================] - 0s 24us/step - loss: 8.3156e-08 - mean_absolute_error: 8.9580e-05 - val_loss: 5.9258e-08 - val_mean_absolute_error: 7.9682e-05\n",
      "Epoch 286/1000\n",
      "14400/14400 [==============================] - 0s 26us/step - loss: 9.8930e-08 - mean_absolute_error: 1.0061e-04 - val_loss: 3.5810e-08 - val_mean_absolute_error: 6.0163e-05\n",
      "Epoch 287/1000\n",
      "14400/14400 [==============================] - 0s 24us/step - loss: 4.2178e-08 - mean_absolute_error: 7.2479e-05 - val_loss: 4.4096e-08 - val_mean_absolute_error: 5.7268e-05\n",
      "Epoch 288/1000\n",
      "14400/14400 [==============================] - 0s 23us/step - loss: 3.3857e-08 - mean_absolute_error: 6.1345e-05 - val_loss: 3.2681e-08 - val_mean_absolute_error: 5.6194e-05\n",
      "Epoch 289/1000\n",
      "14400/14400 [==============================] - 0s 23us/step - loss: 8.0081e-08 - mean_absolute_error: 9.6472e-05 - val_loss: 5.1295e-08 - val_mean_absolute_error: 7.4885e-05\n",
      "Epoch 290/1000\n",
      "14400/14400 [==============================] - 0s 24us/step - loss: 2.3049e-07 - mean_absolute_error: 1.2092e-04 - val_loss: 4.4555e-08 - val_mean_absolute_error: 6.3299e-05\n",
      "Epoch 291/1000\n",
      "14400/14400 [==============================] - 0s 30us/step - loss: 4.6171e-08 - mean_absolute_error: 6.9355e-05 - val_loss: 3.3483e-08 - val_mean_absolute_error: 5.6705e-05\n",
      "Epoch 292/1000\n",
      "14400/14400 [==============================] - 0s 25us/step - loss: 6.1547e-08 - mean_absolute_error: 8.2090e-05 - val_loss: 4.2878e-08 - val_mean_absolute_error: 5.9608e-05\n",
      "Epoch 293/1000\n",
      "14400/14400 [==============================] - 0s 27us/step - loss: 7.2360e-08 - mean_absolute_error: 8.9243e-05 - val_loss: 4.1195e-08 - val_mean_absolute_error: 5.7083e-05\n",
      "Epoch 294/1000\n",
      "14400/14400 [==============================] - 0s 24us/step - loss: 5.0552e-08 - mean_absolute_error: 7.5333e-05 - val_loss: 6.5245e-08 - val_mean_absolute_error: 7.6576e-05\n",
      "Epoch 295/1000\n",
      "14400/14400 [==============================] - 0s 29us/step - loss: 5.0336e-08 - mean_absolute_error: 7.6194e-05 - val_loss: 3.8041e-08 - val_mean_absolute_error: 5.4377e-05\n",
      "Epoch 296/1000\n",
      "14400/14400 [==============================] - 0s 28us/step - loss: 4.7369e-08 - mean_absolute_error: 6.8233e-05 - val_loss: 1.9397e-07 - val_mean_absolute_error: 1.5643e-04\n",
      "Epoch 297/1000\n",
      "14400/14400 [==============================] - 0s 26us/step - loss: 6.5251e-08 - mean_absolute_error: 8.9570e-05 - val_loss: 1.4506e-07 - val_mean_absolute_error: 1.3040e-04\n",
      "Epoch 298/1000\n",
      "14400/14400 [==============================] - 0s 32us/step - loss: 5.1064e-08 - mean_absolute_error: 8.1503e-05 - val_loss: 7.2203e-08 - val_mean_absolute_error: 8.4265e-05\n",
      "Epoch 299/1000\n",
      "14400/14400 [==============================] - 0s 26us/step - loss: 4.3253e-08 - mean_absolute_error: 7.2746e-05 - val_loss: 4.1556e-08 - val_mean_absolute_error: 7.7566e-05\n",
      "Epoch 300/1000\n",
      "14400/14400 [==============================] - 0s 27us/step - loss: 2.0260e-07 - mean_absolute_error: 1.3099e-04 - val_loss: 1.4214e-07 - val_mean_absolute_error: 1.4653e-04\n",
      "Epoch 301/1000\n",
      "14400/14400 [==============================] - 0s 24us/step - loss: 1.0570e-07 - mean_absolute_error: 1.0700e-04 - val_loss: 3.7044e-08 - val_mean_absolute_error: 5.4363e-05\n",
      "Epoch 302/1000\n",
      "14400/14400 [==============================] - 0s 24us/step - loss: 4.3430e-08 - mean_absolute_error: 6.8602e-05 - val_loss: 3.7551e-08 - val_mean_absolute_error: 5.0086e-05\n",
      "Epoch 303/1000\n",
      "14400/14400 [==============================] - 0s 26us/step - loss: 4.9121e-08 - mean_absolute_error: 7.0404e-05 - val_loss: 5.4093e-08 - val_mean_absolute_error: 7.8713e-05\n",
      "Epoch 304/1000\n",
      "14400/14400 [==============================] - 0s 24us/step - loss: 3.8116e-08 - mean_absolute_error: 6.9115e-05 - val_loss: 6.7674e-08 - val_mean_absolute_error: 6.9716e-05\n",
      "Epoch 305/1000\n"
     ]
    },
    {
     "name": "stdout",
     "output_type": "stream",
     "text": [
      "14400/14400 [==============================] - 0s 27us/step - loss: 4.5829e-08 - mean_absolute_error: 7.3126e-05 - val_loss: 3.9157e-08 - val_mean_absolute_error: 4.9466e-05\n",
      "Epoch 306/1000\n",
      "14400/14400 [==============================] - 0s 25us/step - loss: 1.1622e-07 - mean_absolute_error: 9.8631e-05 - val_loss: 4.8268e-08 - val_mean_absolute_error: 6.4779e-05\n",
      "Epoch 307/1000\n",
      "14400/14400 [==============================] - 0s 24us/step - loss: 6.1220e-08 - mean_absolute_error: 7.8251e-05 - val_loss: 8.3194e-08 - val_mean_absolute_error: 1.1814e-04\n",
      "Epoch 308/1000\n",
      "14400/14400 [==============================] - 0s 27us/step - loss: 7.8063e-08 - mean_absolute_error: 8.4350e-05 - val_loss: 5.2957e-08 - val_mean_absolute_error: 6.0720e-05\n",
      "Epoch 309/1000\n",
      "14400/14400 [==============================] - 0s 30us/step - loss: 5.8715e-08 - mean_absolute_error: 7.7526e-05 - val_loss: 7.6705e-08 - val_mean_absolute_error: 8.9590e-05\n",
      "Epoch 310/1000\n",
      "14400/14400 [==============================] - 1s 35us/step - loss: 5.0536e-08 - mean_absolute_error: 7.6983e-05 - val_loss: 3.6540e-08 - val_mean_absolute_error: 5.7075e-05\n",
      "Epoch 311/1000\n",
      "14400/14400 [==============================] - 1s 39us/step - loss: 4.3678e-08 - mean_absolute_error: 6.8846e-05 - val_loss: 4.3626e-08 - val_mean_absolute_error: 8.3406e-05\n",
      "Epoch 312/1000\n",
      "14400/14400 [==============================] - 0s 25us/step - loss: 6.6549e-08 - mean_absolute_error: 8.4399e-05 - val_loss: 3.5604e-08 - val_mean_absolute_error: 5.9592e-05\n",
      "Epoch 313/1000\n",
      "14400/14400 [==============================] - 0s 25us/step - loss: 1.2314e-07 - mean_absolute_error: 1.1295e-04 - val_loss: 4.5948e-08 - val_mean_absolute_error: 6.4980e-05\n",
      "Epoch 314/1000\n",
      "14400/14400 [==============================] - 0s 25us/step - loss: 1.1264e-07 - mean_absolute_error: 1.0611e-04 - val_loss: 3.6940e-08 - val_mean_absolute_error: 5.6696e-05\n",
      "Epoch 315/1000\n",
      "14400/14400 [==============================] - 0s 25us/step - loss: 1.0264e-07 - mean_absolute_error: 1.0271e-04 - val_loss: 5.5804e-08 - val_mean_absolute_error: 6.5218e-05\n",
      "Epoch 316/1000\n",
      "14400/14400 [==============================] - 0s 25us/step - loss: 7.9449e-08 - mean_absolute_error: 8.5811e-05 - val_loss: 4.7596e-08 - val_mean_absolute_error: 5.5330e-05\n",
      "Epoch 317/1000\n",
      "14400/14400 [==============================] - 0s 24us/step - loss: 5.4504e-08 - mean_absolute_error: 7.8612e-05 - val_loss: 3.7730e-08 - val_mean_absolute_error: 5.4927e-05\n",
      "Epoch 318/1000\n",
      "14400/14400 [==============================] - 0s 28us/step - loss: 8.0842e-08 - mean_absolute_error: 9.0234e-05 - val_loss: 3.5895e-08 - val_mean_absolute_error: 5.8404e-05\n",
      "Epoch 319/1000\n",
      "14400/14400 [==============================] - 0s 30us/step - loss: 4.5179e-08 - mean_absolute_error: 7.0351e-05 - val_loss: 3.8922e-08 - val_mean_absolute_error: 5.7916e-05\n",
      "Epoch 320/1000\n",
      "14400/14400 [==============================] - 0s 27us/step - loss: 6.9213e-08 - mean_absolute_error: 7.9556e-05 - val_loss: 5.3849e-08 - val_mean_absolute_error: 6.2522e-05\n",
      "Epoch 321/1000\n",
      "14400/14400 [==============================] - 0s 24us/step - loss: 5.6838e-08 - mean_absolute_error: 7.7740e-05 - val_loss: 2.9687e-08 - val_mean_absolute_error: 5.7478e-05\n",
      "Epoch 322/1000\n",
      "14400/14400 [==============================] - 0s 26us/step - loss: 4.9979e-08 - mean_absolute_error: 7.5875e-05 - val_loss: 3.5329e-08 - val_mean_absolute_error: 5.3432e-05\n",
      "Epoch 323/1000\n",
      "14400/14400 [==============================] - 0s 31us/step - loss: 5.4414e-08 - mean_absolute_error: 7.6514e-05 - val_loss: 3.9631e-08 - val_mean_absolute_error: 5.7114e-05\n",
      "Epoch 324/1000\n",
      "14400/14400 [==============================] - 0s 34us/step - loss: 3.8965e-08 - mean_absolute_error: 7.2074e-05 - val_loss: 4.7453e-08 - val_mean_absolute_error: 5.8460e-05\n",
      "Epoch 325/1000\n",
      "14400/14400 [==============================] - 0s 27us/step - loss: 7.7422e-08 - mean_absolute_error: 8.9405e-05 - val_loss: 7.8656e-08 - val_mean_absolute_error: 1.1060e-04\n",
      "Epoch 326/1000\n",
      "14400/14400 [==============================] - 0s 30us/step - loss: 3.7623e-08 - mean_absolute_error: 7.1818e-05 - val_loss: 1.1915e-07 - val_mean_absolute_error: 1.0652e-04\n",
      "Epoch 327/1000\n",
      "14400/14400 [==============================] - 0s 28us/step - loss: 1.2652e-07 - mean_absolute_error: 1.0648e-04 - val_loss: 4.5949e-08 - val_mean_absolute_error: 6.1816e-05\n",
      "Epoch 328/1000\n",
      "14400/14400 [==============================] - 0s 25us/step - loss: 1.3969e-07 - mean_absolute_error: 1.1663e-04 - val_loss: 7.1947e-08 - val_mean_absolute_error: 7.2778e-05\n",
      "Epoch 329/1000\n",
      "14400/14400 [==============================] - 0s 24us/step - loss: 7.8358e-08 - mean_absolute_error: 8.7782e-05 - val_loss: 6.7323e-08 - val_mean_absolute_error: 7.6393e-05\n",
      "Epoch 330/1000\n",
      "14400/14400 [==============================] - 0s 24us/step - loss: 1.0622e-07 - mean_absolute_error: 8.9206e-05 - val_loss: 1.2489e-07 - val_mean_absolute_error: 2.0840e-04\n",
      "Epoch 331/1000\n",
      "14400/14400 [==============================] - 0s 24us/step - loss: 6.8941e-08 - mean_absolute_error: 8.5212e-05 - val_loss: 5.4149e-08 - val_mean_absolute_error: 9.2620e-05\n",
      "Epoch 332/1000\n",
      "14400/14400 [==============================] - 0s 24us/step - loss: 3.6856e-08 - mean_absolute_error: 6.9076e-05 - val_loss: 3.7648e-08 - val_mean_absolute_error: 5.2071e-05\n",
      "Epoch 333/1000\n",
      "14400/14400 [==============================] - 0s 24us/step - loss: 4.7762e-08 - mean_absolute_error: 7.0539e-05 - val_loss: 3.2677e-08 - val_mean_absolute_error: 5.0033e-05\n",
      "Epoch 334/1000\n",
      "14400/14400 [==============================] - 0s 25us/step - loss: 3.0628e-08 - mean_absolute_error: 6.2412e-05 - val_loss: 3.3994e-08 - val_mean_absolute_error: 5.7279e-05\n",
      "Epoch 335/1000\n",
      "14400/14400 [==============================] - 0s 23us/step - loss: 8.1542e-08 - mean_absolute_error: 9.2522e-05 - val_loss: 6.3765e-08 - val_mean_absolute_error: 1.2930e-04\n",
      "Epoch 336/1000\n",
      "14400/14400 [==============================] - 0s 27us/step - loss: 7.9104e-08 - mean_absolute_error: 8.5897e-05 - val_loss: 4.1942e-08 - val_mean_absolute_error: 6.1537e-05\n",
      "Epoch 337/1000\n",
      "14400/14400 [==============================] - 0s 31us/step - loss: 4.8949e-08 - mean_absolute_error: 7.3467e-05 - val_loss: 3.3950e-08 - val_mean_absolute_error: 4.9808e-05\n",
      "Epoch 338/1000\n",
      "14400/14400 [==============================] - 0s 32us/step - loss: 6.8787e-08 - mean_absolute_error: 7.9474e-05 - val_loss: 4.7680e-08 - val_mean_absolute_error: 5.8682e-05\n",
      "Epoch 339/1000\n",
      "14400/14400 [==============================] - 0s 24us/step - loss: 8.9523e-08 - mean_absolute_error: 9.3199e-05 - val_loss: 7.6170e-08 - val_mean_absolute_error: 8.6207e-05\n",
      "Epoch 340/1000\n",
      "14400/14400 [==============================] - 0s 23us/step - loss: 5.7187e-08 - mean_absolute_error: 7.3601e-05 - val_loss: 3.6209e-08 - val_mean_absolute_error: 5.2191e-05\n",
      "Epoch 341/1000\n",
      "14400/14400 [==============================] - 0s 25us/step - loss: 5.2917e-08 - mean_absolute_error: 7.8340e-05 - val_loss: 4.2017e-08 - val_mean_absolute_error: 5.2588e-05\n",
      "Epoch 342/1000\n",
      "14400/14400 [==============================] - 0s 27us/step - loss: 1.2585e-07 - mean_absolute_error: 1.1225e-04 - val_loss: 5.8240e-08 - val_mean_absolute_error: 8.2453e-05\n",
      "Epoch 343/1000\n",
      "14400/14400 [==============================] - 0s 25us/step - loss: 7.5096e-08 - mean_absolute_error: 8.2782e-05 - val_loss: 5.1061e-08 - val_mean_absolute_error: 8.8315e-05\n",
      "Epoch 344/1000\n",
      "14400/14400 [==============================] - 0s 24us/step - loss: 1.0451e-07 - mean_absolute_error: 9.8881e-05 - val_loss: 4.5650e-07 - val_mean_absolute_error: 3.2211e-04\n",
      "Epoch 345/1000\n",
      "14400/14400 [==============================] - 0s 24us/step - loss: 7.3232e-08 - mean_absolute_error: 8.7176e-05 - val_loss: 5.6389e-08 - val_mean_absolute_error: 6.9327e-05\n",
      "Epoch 346/1000\n",
      "14400/14400 [==============================] - 0s 24us/step - loss: 4.2850e-08 - mean_absolute_error: 6.9453e-05 - val_loss: 3.7982e-08 - val_mean_absolute_error: 6.8875e-05\n",
      "Epoch 347/1000\n",
      "14400/14400 [==============================] - 0s 23us/step - loss: 5.8613e-08 - mean_absolute_error: 7.6303e-05 - val_loss: 3.4420e-08 - val_mean_absolute_error: 5.0905e-05\n",
      "Epoch 348/1000\n"
     ]
    },
    {
     "name": "stdout",
     "output_type": "stream",
     "text": [
      "14400/14400 [==============================] - 0s 24us/step - loss: 4.2133e-08 - mean_absolute_error: 6.8764e-05 - val_loss: 2.6467e-07 - val_mean_absolute_error: 1.7027e-04\n",
      "Epoch 349/1000\n",
      "14400/14400 [==============================] - 0s 24us/step - loss: 1.0989e-07 - mean_absolute_error: 1.0712e-04 - val_loss: 6.2440e-08 - val_mean_absolute_error: 6.1195e-05\n",
      "Epoch 350/1000\n",
      "14400/14400 [==============================] - 0s 24us/step - loss: 7.9294e-08 - mean_absolute_error: 9.4566e-05 - val_loss: 6.1737e-08 - val_mean_absolute_error: 7.3527e-05\n",
      "Epoch 351/1000\n",
      "14400/14400 [==============================] - 0s 24us/step - loss: 8.9590e-08 - mean_absolute_error: 9.3862e-05 - val_loss: 4.8250e-08 - val_mean_absolute_error: 5.6993e-05\n",
      "Epoch 352/1000\n",
      "14400/14400 [==============================] - 0s 23us/step - loss: 4.1882e-08 - mean_absolute_error: 6.6228e-05 - val_loss: 6.1327e-08 - val_mean_absolute_error: 8.1295e-05\n",
      "Epoch 353/1000\n",
      "14400/14400 [==============================] - 0s 23us/step - loss: 4.5735e-08 - mean_absolute_error: 7.3506e-05 - val_loss: 3.2640e-08 - val_mean_absolute_error: 4.8690e-05\n",
      "Epoch 354/1000\n",
      "14400/14400 [==============================] - 0s 24us/step - loss: 4.7035e-08 - mean_absolute_error: 7.0903e-05 - val_loss: 6.1657e-08 - val_mean_absolute_error: 6.6117e-05\n",
      "Epoch 355/1000\n",
      "14400/14400 [==============================] - 0s 24us/step - loss: 4.8151e-08 - mean_absolute_error: 7.3512e-05 - val_loss: 4.4820e-08 - val_mean_absolute_error: 7.1275e-05\n",
      "Epoch 356/1000\n",
      "14400/14400 [==============================] - 0s 24us/step - loss: 3.0067e-08 - mean_absolute_error: 6.0959e-05 - val_loss: 1.8728e-07 - val_mean_absolute_error: 1.4893e-04\n",
      "Epoch 357/1000\n",
      "14400/14400 [==============================] - 0s 24us/step - loss: 4.3629e-08 - mean_absolute_error: 7.5408e-05 - val_loss: 5.0225e-08 - val_mean_absolute_error: 6.5457e-05\n",
      "Epoch 358/1000\n",
      "14400/14400 [==============================] - 0s 23us/step - loss: 8.2457e-08 - mean_absolute_error: 9.5801e-05 - val_loss: 7.4332e-08 - val_mean_absolute_error: 1.3106e-04\n",
      "Epoch 359/1000\n",
      "14400/14400 [==============================] - 0s 23us/step - loss: 9.3289e-08 - mean_absolute_error: 8.5463e-05 - val_loss: 3.5614e-08 - val_mean_absolute_error: 4.9489e-05\n",
      "Epoch 360/1000\n",
      "14400/14400 [==============================] - 0s 24us/step - loss: 5.0315e-08 - mean_absolute_error: 7.3048e-05 - val_loss: 4.1488e-08 - val_mean_absolute_error: 5.9655e-05\n",
      "Epoch 361/1000\n",
      "14400/14400 [==============================] - 0s 23us/step - loss: 3.1454e-08 - mean_absolute_error: 6.0302e-05 - val_loss: 3.8951e-08 - val_mean_absolute_error: 5.0809e-05\n",
      "Epoch 362/1000\n",
      "14400/14400 [==============================] - 0s 24us/step - loss: 3.6077e-08 - mean_absolute_error: 6.4953e-05 - val_loss: 4.3658e-08 - val_mean_absolute_error: 5.7636e-05\n",
      "Epoch 363/1000\n",
      "14400/14400 [==============================] - 0s 22us/step - loss: 2.6357e-07 - mean_absolute_error: 1.3269e-04 - val_loss: 6.0254e-08 - val_mean_absolute_error: 7.2339e-05\n",
      "Epoch 364/1000\n",
      "14400/14400 [==============================] - 0s 23us/step - loss: 1.3447e-07 - mean_absolute_error: 1.1374e-04 - val_loss: 6.4041e-08 - val_mean_absolute_error: 1.1471e-04\n",
      "Epoch 365/1000\n",
      "14400/14400 [==============================] - 0s 24us/step - loss: 3.9236e-08 - mean_absolute_error: 6.9251e-05 - val_loss: 4.4160e-08 - val_mean_absolute_error: 8.1890e-05\n",
      "Epoch 366/1000\n",
      "14400/14400 [==============================] - 0s 26us/step - loss: 3.2276e-08 - mean_absolute_error: 6.2167e-05 - val_loss: 6.2009e-08 - val_mean_absolute_error: 1.2948e-04\n",
      "Epoch 367/1000\n",
      "14400/14400 [==============================] - 0s 23us/step - loss: 7.5087e-08 - mean_absolute_error: 8.6671e-05 - val_loss: 3.9938e-08 - val_mean_absolute_error: 5.6343e-05\n",
      "Epoch 368/1000\n",
      "14400/14400 [==============================] - 0s 24us/step - loss: 9.0094e-08 - mean_absolute_error: 9.1339e-05 - val_loss: 4.5240e-08 - val_mean_absolute_error: 6.0337e-05\n",
      "Epoch 369/1000\n",
      "14400/14400 [==============================] - 0s 23us/step - loss: 5.6753e-08 - mean_absolute_error: 7.4074e-05 - val_loss: 3.7699e-08 - val_mean_absolute_error: 7.4229e-05\n",
      "Epoch 370/1000\n",
      "14400/14400 [==============================] - 0s 24us/step - loss: 2.2171e-08 - mean_absolute_error: 5.4198e-05 - val_loss: 3.1710e-08 - val_mean_absolute_error: 5.8676e-05\n",
      "Epoch 371/1000\n",
      "14400/14400 [==============================] - 0s 24us/step - loss: 4.0828e-08 - mean_absolute_error: 7.5052e-05 - val_loss: 3.1792e-08 - val_mean_absolute_error: 5.8463e-05\n",
      "Epoch 372/1000\n",
      "14400/14400 [==============================] - 0s 24us/step - loss: 4.4137e-08 - mean_absolute_error: 7.5948e-05 - val_loss: 4.0177e-08 - val_mean_absolute_error: 5.2323e-05\n",
      "Epoch 373/1000\n",
      "14400/14400 [==============================] - 0s 23us/step - loss: 1.3262e-07 - mean_absolute_error: 1.0419e-04 - val_loss: 5.0361e-08 - val_mean_absolute_error: 7.6488e-05\n",
      "Epoch 374/1000\n",
      "14400/14400 [==============================] - 0s 24us/step - loss: 7.9452e-08 - mean_absolute_error: 8.9827e-05 - val_loss: 5.2928e-08 - val_mean_absolute_error: 6.4639e-05\n",
      "Epoch 375/1000\n",
      "14400/14400 [==============================] - 0s 24us/step - loss: 3.2673e-08 - mean_absolute_error: 6.2709e-05 - val_loss: 2.9753e-08 - val_mean_absolute_error: 4.9409e-05\n",
      "Epoch 376/1000\n",
      "14400/14400 [==============================] - 0s 24us/step - loss: 4.3000e-08 - mean_absolute_error: 7.1064e-05 - val_loss: 5.0131e-08 - val_mean_absolute_error: 6.1283e-05\n",
      "Epoch 377/1000\n",
      "14400/14400 [==============================] - 0s 23us/step - loss: 3.6922e-08 - mean_absolute_error: 6.4286e-05 - val_loss: 7.7398e-07 - val_mean_absolute_error: 3.3548e-04\n",
      "Epoch 378/1000\n",
      "14400/14400 [==============================] - 0s 24us/step - loss: 1.8585e-07 - mean_absolute_error: 1.2894e-04 - val_loss: 4.9142e-08 - val_mean_absolute_error: 6.7716e-05\n",
      "Epoch 379/1000\n",
      "14400/14400 [==============================] - 0s 23us/step - loss: 7.3105e-08 - mean_absolute_error: 8.8964e-05 - val_loss: 3.2521e-08 - val_mean_absolute_error: 5.0770e-05\n",
      "Epoch 380/1000\n",
      "14400/14400 [==============================] - 0s 24us/step - loss: 3.7734e-08 - mean_absolute_error: 6.8454e-05 - val_loss: 3.9653e-08 - val_mean_absolute_error: 6.6013e-05\n",
      "Epoch 381/1000\n",
      "14400/14400 [==============================] - 0s 24us/step - loss: 2.9639e-08 - mean_absolute_error: 5.9050e-05 - val_loss: 3.3426e-08 - val_mean_absolute_error: 4.7138e-05\n",
      "Epoch 382/1000\n",
      "14400/14400 [==============================] - 0s 23us/step - loss: 3.2129e-08 - mean_absolute_error: 6.4315e-05 - val_loss: 7.7401e-08 - val_mean_absolute_error: 1.0454e-04\n",
      "Epoch 383/1000\n",
      "14400/14400 [==============================] - 0s 23us/step - loss: 7.8000e-08 - mean_absolute_error: 9.2854e-05 - val_loss: 3.7685e-08 - val_mean_absolute_error: 5.7657e-05\n",
      "Epoch 384/1000\n",
      "14400/14400 [==============================] - 0s 23us/step - loss: 1.1481e-07 - mean_absolute_error: 1.0479e-04 - val_loss: 7.6745e-08 - val_mean_absolute_error: 7.9587e-05\n",
      "Epoch 385/1000\n",
      "14400/14400 [==============================] - 0s 23us/step - loss: 8.8727e-08 - mean_absolute_error: 8.7494e-05 - val_loss: 4.6418e-08 - val_mean_absolute_error: 6.7505e-05\n",
      "Epoch 386/1000\n",
      "14400/14400 [==============================] - 0s 24us/step - loss: 7.8031e-08 - mean_absolute_error: 8.3929e-05 - val_loss: 6.0004e-08 - val_mean_absolute_error: 5.8436e-05\n",
      "Epoch 387/1000\n",
      "14400/14400 [==============================] - 0s 25us/step - loss: 4.6913e-08 - mean_absolute_error: 7.4300e-05 - val_loss: 2.9919e-07 - val_mean_absolute_error: 2.5764e-04\n",
      "Epoch 388/1000\n",
      "14400/14400 [==============================] - 0s 28us/step - loss: 6.0272e-08 - mean_absolute_error: 7.7414e-05 - val_loss: 3.7491e-08 - val_mean_absolute_error: 5.7970e-05\n",
      "Epoch 389/1000\n",
      "14400/14400 [==============================] - 0s 25us/step - loss: 3.7916e-08 - mean_absolute_error: 6.8579e-05 - val_loss: 4.7171e-08 - val_mean_absolute_error: 5.8279e-05\n",
      "Epoch 390/1000\n",
      "14400/14400 [==============================] - 1s 49us/step - loss: 3.8902e-08 - mean_absolute_error: 6.5149e-05 - val_loss: 4.6339e-08 - val_mean_absolute_error: 5.7376e-05\n",
      "Epoch 391/1000\n"
     ]
    },
    {
     "name": "stdout",
     "output_type": "stream",
     "text": [
      "14400/14400 [==============================] - 0s 34us/step - loss: 5.7778e-08 - mean_absolute_error: 8.7283e-05 - val_loss: 6.8155e-08 - val_mean_absolute_error: 8.0481e-05\n",
      "Epoch 392/1000\n",
      "14400/14400 [==============================] - 0s 25us/step - loss: 8.1022e-08 - mean_absolute_error: 9.4996e-05 - val_loss: 1.0471e-07 - val_mean_absolute_error: 1.0147e-04\n",
      "Epoch 393/1000\n",
      "14400/14400 [==============================] - 0s 25us/step - loss: 1.1252e-07 - mean_absolute_error: 9.5261e-05 - val_loss: 2.9861e-08 - val_mean_absolute_error: 5.3901e-05\n",
      "Epoch 394/1000\n",
      "14400/14400 [==============================] - 0s 24us/step - loss: 8.7532e-08 - mean_absolute_error: 9.6277e-05 - val_loss: 6.8867e-08 - val_mean_absolute_error: 8.5659e-05\n",
      "Epoch 395/1000\n",
      "14400/14400 [==============================] - 0s 24us/step - loss: 8.0571e-08 - mean_absolute_error: 8.5783e-05 - val_loss: 3.8186e-08 - val_mean_absolute_error: 5.9747e-05\n",
      "Epoch 396/1000\n",
      "14400/14400 [==============================] - 0s 24us/step - loss: 5.2683e-08 - mean_absolute_error: 7.2977e-05 - val_loss: 1.3144e-07 - val_mean_absolute_error: 1.3358e-04\n",
      "Epoch 397/1000\n",
      "14400/14400 [==============================] - 0s 25us/step - loss: 5.4547e-08 - mean_absolute_error: 8.5005e-05 - val_loss: 6.0353e-08 - val_mean_absolute_error: 7.1229e-05\n",
      "Epoch 398/1000\n",
      "14400/14400 [==============================] - 0s 28us/step - loss: 4.3255e-08 - mean_absolute_error: 7.0486e-05 - val_loss: 9.6011e-08 - val_mean_absolute_error: 9.9379e-05\n",
      "Epoch 399/1000\n",
      "14400/14400 [==============================] - 0s 24us/step - loss: 3.0826e-08 - mean_absolute_error: 6.3026e-05 - val_loss: 5.3484e-08 - val_mean_absolute_error: 6.5526e-05\n",
      "Epoch 400/1000\n",
      "14400/14400 [==============================] - 0s 25us/step - loss: 3.9837e-08 - mean_absolute_error: 7.2184e-05 - val_loss: 4.3440e-08 - val_mean_absolute_error: 5.4675e-05\n",
      "Epoch 401/1000\n",
      "14400/14400 [==============================] - 0s 24us/step - loss: 5.9629e-08 - mean_absolute_error: 8.4938e-05 - val_loss: 6.8775e-08 - val_mean_absolute_error: 9.6229e-05\n",
      "Epoch 402/1000\n",
      "14400/14400 [==============================] - 0s 24us/step - loss: 1.2563e-07 - mean_absolute_error: 1.0952e-04 - val_loss: 1.4076e-07 - val_mean_absolute_error: 1.1572e-04\n",
      "Epoch 403/1000\n",
      "14400/14400 [==============================] - 0s 24us/step - loss: 9.0328e-08 - mean_absolute_error: 9.0967e-05 - val_loss: 3.9166e-08 - val_mean_absolute_error: 5.9847e-05\n",
      "Epoch 404/1000\n",
      "14400/14400 [==============================] - 0s 24us/step - loss: 5.1358e-08 - mean_absolute_error: 7.8651e-05 - val_loss: 3.4735e-08 - val_mean_absolute_error: 7.0977e-05\n",
      "Epoch 405/1000\n",
      "14400/14400 [==============================] - 0s 24us/step - loss: 5.0377e-08 - mean_absolute_error: 7.4410e-05 - val_loss: 4.9628e-08 - val_mean_absolute_error: 5.9275e-05\n",
      "Epoch 406/1000\n",
      "14400/14400 [==============================] - 0s 23us/step - loss: 9.2295e-08 - mean_absolute_error: 9.1058e-05 - val_loss: 5.6361e-08 - val_mean_absolute_error: 7.4660e-05\n",
      "Epoch 407/1000\n",
      "14400/14400 [==============================] - 0s 23us/step - loss: 5.3324e-08 - mean_absolute_error: 8.0094e-05 - val_loss: 3.1219e-08 - val_mean_absolute_error: 4.9649e-05\n",
      "Epoch 408/1000\n",
      "14400/14400 [==============================] - 0s 25us/step - loss: 5.5869e-08 - mean_absolute_error: 7.6053e-05 - val_loss: 5.7400e-08 - val_mean_absolute_error: 7.5502e-05\n",
      "Epoch 409/1000\n",
      "14400/14400 [==============================] - 0s 26us/step - loss: 7.3370e-08 - mean_absolute_error: 8.4485e-05 - val_loss: 3.0391e-08 - val_mean_absolute_error: 5.0660e-05\n",
      "Epoch 410/1000\n",
      "14400/14400 [==============================] - 0s 25us/step - loss: 6.2478e-08 - mean_absolute_error: 8.1328e-05 - val_loss: 3.7573e-08 - val_mean_absolute_error: 5.7683e-05\n",
      "Epoch 411/1000\n",
      "14400/14400 [==============================] - 0s 27us/step - loss: 8.8296e-08 - mean_absolute_error: 1.0181e-04 - val_loss: 4.8984e-08 - val_mean_absolute_error: 8.0585e-05\n",
      "Epoch 412/1000\n",
      "14400/14400 [==============================] - 0s 26us/step - loss: 4.1125e-08 - mean_absolute_error: 6.6836e-05 - val_loss: 3.2510e-08 - val_mean_absolute_error: 4.9954e-05\n",
      "Epoch 413/1000\n",
      "14400/14400 [==============================] - 0s 24us/step - loss: 1.1716e-07 - mean_absolute_error: 1.0290e-04 - val_loss: 7.2140e-08 - val_mean_absolute_error: 7.5292e-05\n",
      "Epoch 414/1000\n",
      "14400/14400 [==============================] - 0s 29us/step - loss: 1.1428e-07 - mean_absolute_error: 1.0106e-04 - val_loss: 5.4221e-08 - val_mean_absolute_error: 8.1002e-05\n",
      "Epoch 415/1000\n",
      "14400/14400 [==============================] - 0s 31us/step - loss: 3.4159e-08 - mean_absolute_error: 6.6561e-05 - val_loss: 4.6423e-08 - val_mean_absolute_error: 7.1251e-05\n",
      "Epoch 416/1000\n",
      "14400/14400 [==============================] - 0s 28us/step - loss: 3.3826e-08 - mean_absolute_error: 6.4044e-05 - val_loss: 3.9059e-08 - val_mean_absolute_error: 6.2603e-05\n",
      "Epoch 417/1000\n",
      "14400/14400 [==============================] - 0s 26us/step - loss: 2.9580e-08 - mean_absolute_error: 6.1873e-05 - val_loss: 3.5027e-08 - val_mean_absolute_error: 6.2483e-05\n",
      "Epoch 418/1000\n",
      "14400/14400 [==============================] - 0s 31us/step - loss: 6.9281e-08 - mean_absolute_error: 8.7596e-05 - val_loss: 5.4273e-08 - val_mean_absolute_error: 7.8892e-05\n",
      "Epoch 419/1000\n",
      "14400/14400 [==============================] - 0s 32us/step - loss: 2.2823e-07 - mean_absolute_error: 1.4213e-04 - val_loss: 7.4841e-08 - val_mean_absolute_error: 7.8682e-05\n",
      "Epoch 420/1000\n",
      "14400/14400 [==============================] - 0s 28us/step - loss: 1.4085e-07 - mean_absolute_error: 1.1876e-04 - val_loss: 5.8920e-08 - val_mean_absolute_error: 6.9436e-05\n",
      "Epoch 421/1000\n",
      "14400/14400 [==============================] - 0s 25us/step - loss: 5.1939e-08 - mean_absolute_error: 7.3830e-05 - val_loss: 4.1432e-08 - val_mean_absolute_error: 5.3003e-05\n",
      "Epoch 422/1000\n",
      "14400/14400 [==============================] - 0s 28us/step - loss: 3.1287e-08 - mean_absolute_error: 6.3551e-05 - val_loss: 3.7785e-08 - val_mean_absolute_error: 5.0132e-05\n",
      "Epoch 423/1000\n",
      "14400/14400 [==============================] - 0s 26us/step - loss: 2.8064e-08 - mean_absolute_error: 5.7428e-05 - val_loss: 3.8056e-08 - val_mean_absolute_error: 5.6874e-05\n",
      "Epoch 424/1000\n",
      "14400/14400 [==============================] - 0s 24us/step - loss: 3.0247e-08 - mean_absolute_error: 5.4460e-05 - val_loss: 5.1513e-08 - val_mean_absolute_error: 7.3028e-05\n",
      "Epoch 425/1000\n",
      "14400/14400 [==============================] - 0s 25us/step - loss: 4.6167e-08 - mean_absolute_error: 7.3027e-05 - val_loss: 3.4190e-08 - val_mean_absolute_error: 4.9637e-05\n",
      "Epoch 426/1000\n",
      "14400/14400 [==============================] - 0s 24us/step - loss: 4.6622e-08 - mean_absolute_error: 7.2448e-05 - val_loss: 4.4020e-08 - val_mean_absolute_error: 6.0314e-05\n",
      "Epoch 427/1000\n",
      "14400/14400 [==============================] - 0s 24us/step - loss: 9.4418e-08 - mean_absolute_error: 1.0271e-04 - val_loss: 5.2124e-08 - val_mean_absolute_error: 6.3394e-05\n",
      "Epoch 428/1000\n",
      "14400/14400 [==============================] - 0s 25us/step - loss: 6.4250e-08 - mean_absolute_error: 8.2317e-05 - val_loss: 1.1694e-07 - val_mean_absolute_error: 1.1431e-04\n",
      "Epoch 429/1000\n",
      "14400/14400 [==============================] - 0s 24us/step - loss: 7.2595e-08 - mean_absolute_error: 8.6454e-05 - val_loss: 1.3072e-07 - val_mean_absolute_error: 1.3616e-04\n",
      "Epoch 430/1000\n",
      "14400/14400 [==============================] - 0s 25us/step - loss: 1.0445e-07 - mean_absolute_error: 1.0340e-04 - val_loss: 4.2935e-08 - val_mean_absolute_error: 5.8989e-05\n",
      "Epoch 431/1000\n",
      "14400/14400 [==============================] - 0s 25us/step - loss: 5.8296e-08 - mean_absolute_error: 7.5890e-05 - val_loss: 1.4808e-07 - val_mean_absolute_error: 1.3589e-04\n",
      "Epoch 432/1000\n",
      "14400/14400 [==============================] - 0s 25us/step - loss: 4.9731e-08 - mean_absolute_error: 7.2758e-05 - val_loss: 4.4277e-08 - val_mean_absolute_error: 6.6352e-05\n",
      "Epoch 433/1000\n",
      "14400/14400 [==============================] - 0s 25us/step - loss: 4.9973e-08 - mean_absolute_error: 7.5130e-05 - val_loss: 3.5233e-08 - val_mean_absolute_error: 6.2589e-05\n",
      "Epoch 434/1000\n"
     ]
    },
    {
     "name": "stdout",
     "output_type": "stream",
     "text": [
      "14400/14400 [==============================] - 0s 28us/step - loss: 6.8989e-08 - mean_absolute_error: 9.1263e-05 - val_loss: 5.5327e-08 - val_mean_absolute_error: 1.0420e-04\n",
      "Epoch 435/1000\n",
      "14400/14400 [==============================] - 0s 25us/step - loss: 6.0418e-08 - mean_absolute_error: 7.8456e-05 - val_loss: 3.3006e-08 - val_mean_absolute_error: 4.8236e-05\n",
      "Epoch 436/1000\n",
      "14400/14400 [==============================] - 0s 24us/step - loss: 1.5062e-07 - mean_absolute_error: 1.0936e-04 - val_loss: 3.6186e-08 - val_mean_absolute_error: 5.2570e-05\n",
      "Epoch 437/1000\n",
      "14400/14400 [==============================] - 0s 25us/step - loss: 5.5803e-08 - mean_absolute_error: 7.6237e-05 - val_loss: 4.6343e-08 - val_mean_absolute_error: 6.2970e-05\n",
      "Epoch 438/1000\n",
      "14400/14400 [==============================] - 0s 24us/step - loss: 7.9538e-08 - mean_absolute_error: 8.9011e-05 - val_loss: 3.9600e-08 - val_mean_absolute_error: 6.7702e-05\n",
      "Epoch 439/1000\n",
      "14400/14400 [==============================] - 0s 23us/step - loss: 9.0950e-08 - mean_absolute_error: 8.9352e-05 - val_loss: 2.8357e-08 - val_mean_absolute_error: 5.2540e-05\n",
      "Epoch 440/1000\n",
      "14400/14400 [==============================] - 0s 24us/step - loss: 3.3211e-08 - mean_absolute_error: 6.7728e-05 - val_loss: 3.2991e-08 - val_mean_absolute_error: 5.3614e-05\n",
      "Epoch 441/1000\n",
      "14400/14400 [==============================] - 0s 24us/step - loss: 4.5251e-08 - mean_absolute_error: 7.0965e-05 - val_loss: 8.2766e-08 - val_mean_absolute_error: 1.1119e-04\n",
      "Epoch 442/1000\n",
      "14400/14400 [==============================] - 0s 24us/step - loss: 9.1829e-08 - mean_absolute_error: 8.9517e-05 - val_loss: 7.6974e-08 - val_mean_absolute_error: 8.7579e-05\n",
      "Epoch 443/1000\n",
      "14400/14400 [==============================] - 0s 24us/step - loss: 5.3374e-08 - mean_absolute_error: 8.0882e-05 - val_loss: 4.5616e-08 - val_mean_absolute_error: 5.9150e-05\n",
      "Epoch 444/1000\n",
      "14400/14400 [==============================] - 0s 23us/step - loss: 4.5788e-08 - mean_absolute_error: 6.9449e-05 - val_loss: 3.7514e-08 - val_mean_absolute_error: 5.4902e-05\n",
      "Epoch 445/1000\n",
      "14400/14400 [==============================] - 0s 24us/step - loss: 5.9666e-08 - mean_absolute_error: 7.8416e-05 - val_loss: 3.5030e-08 - val_mean_absolute_error: 4.9914e-05\n",
      "Epoch 446/1000\n",
      "14400/14400 [==============================] - 0s 23us/step - loss: 5.6318e-08 - mean_absolute_error: 8.2739e-05 - val_loss: 4.1775e-08 - val_mean_absolute_error: 5.0740e-05\n",
      "Epoch 447/1000\n",
      "14400/14400 [==============================] - 0s 24us/step - loss: 7.6514e-08 - mean_absolute_error: 8.7788e-05 - val_loss: 4.5781e-08 - val_mean_absolute_error: 6.1757e-05\n",
      "Epoch 448/1000\n",
      "14400/14400 [==============================] - 0s 24us/step - loss: 1.4195e-07 - mean_absolute_error: 1.2871e-04 - val_loss: 5.7206e-08 - val_mean_absolute_error: 6.8266e-05\n",
      "Epoch 449/1000\n",
      "14400/14400 [==============================] - 0s 23us/step - loss: 1.5242e-07 - mean_absolute_error: 1.1409e-04 - val_loss: 8.8002e-08 - val_mean_absolute_error: 8.5140e-05\n",
      "Epoch 450/1000\n",
      "14400/14400 [==============================] - 0s 23us/step - loss: 4.2791e-08 - mean_absolute_error: 7.2086e-05 - val_loss: 6.7910e-08 - val_mean_absolute_error: 7.4334e-05\n",
      "Epoch 451/1000\n",
      "14400/14400 [==============================] - 0s 23us/step - loss: 4.9137e-08 - mean_absolute_error: 6.8935e-05 - val_loss: 1.3362e-07 - val_mean_absolute_error: 1.1945e-04\n",
      "Epoch 452/1000\n",
      "14400/14400 [==============================] - 0s 23us/step - loss: 1.1647e-07 - mean_absolute_error: 9.6888e-05 - val_loss: 3.1446e-08 - val_mean_absolute_error: 5.3736e-05\n",
      "Epoch 453/1000\n",
      "14400/14400 [==============================] - 0s 24us/step - loss: 1.2500e-07 - mean_absolute_error: 9.7315e-05 - val_loss: 7.6169e-08 - val_mean_absolute_error: 8.0884e-05\n",
      "Epoch 454/1000\n",
      "14400/14400 [==============================] - 0s 24us/step - loss: 9.1621e-08 - mean_absolute_error: 9.7896e-05 - val_loss: 4.2369e-08 - val_mean_absolute_error: 6.2900e-05\n",
      "Epoch 455/1000\n",
      "14400/14400 [==============================] - 0s 24us/step - loss: 3.0709e-08 - mean_absolute_error: 6.2536e-05 - val_loss: 3.9464e-08 - val_mean_absolute_error: 5.5206e-05\n",
      "Epoch 456/1000\n",
      "14400/14400 [==============================] - 0s 23us/step - loss: 3.6034e-08 - mean_absolute_error: 6.0409e-05 - val_loss: 3.9379e-08 - val_mean_absolute_error: 5.5607e-05\n",
      "Epoch 457/1000\n",
      "14400/14400 [==============================] - 0s 25us/step - loss: 2.5450e-08 - mean_absolute_error: 5.9855e-05 - val_loss: 1.1096e-07 - val_mean_absolute_error: 1.0461e-04\n",
      "Epoch 458/1000\n",
      "14400/14400 [==============================] - 0s 24us/step - loss: 9.1388e-08 - mean_absolute_error: 9.2487e-05 - val_loss: 4.9602e-08 - val_mean_absolute_error: 6.1679e-05\n",
      "Epoch 459/1000\n",
      "14400/14400 [==============================] - 0s 24us/step - loss: 7.1979e-08 - mean_absolute_error: 7.9585e-05 - val_loss: 5.7861e-08 - val_mean_absolute_error: 6.5681e-05\n",
      "Epoch 460/1000\n",
      "14400/14400 [==============================] - 0s 27us/step - loss: 4.5080e-07 - mean_absolute_error: 1.6490e-04 - val_loss: 5.1556e-08 - val_mean_absolute_error: 6.8787e-05\n",
      "Epoch 461/1000\n",
      "14400/14400 [==============================] - 0s 25us/step - loss: 9.2406e-08 - mean_absolute_error: 9.4723e-05 - val_loss: 3.9683e-08 - val_mean_absolute_error: 5.1236e-05\n",
      "Epoch 462/1000\n",
      "14400/14400 [==============================] - 0s 25us/step - loss: 3.5303e-08 - mean_absolute_error: 6.2499e-05 - val_loss: 3.7224e-08 - val_mean_absolute_error: 5.3004e-05\n",
      "Epoch 463/1000\n",
      "14400/14400 [==============================] - 0s 24us/step - loss: 1.9038e-08 - mean_absolute_error: 4.7929e-05 - val_loss: 3.0782e-08 - val_mean_absolute_error: 4.3910e-05\n",
      "Epoch 464/1000\n",
      "14400/14400 [==============================] - 0s 24us/step - loss: 2.3085e-08 - mean_absolute_error: 5.5824e-05 - val_loss: 3.1452e-08 - val_mean_absolute_error: 5.0140e-05\n",
      "Epoch 465/1000\n",
      "14400/14400 [==============================] - 0s 27us/step - loss: 4.3797e-08 - mean_absolute_error: 6.6250e-05 - val_loss: 6.2591e-08 - val_mean_absolute_error: 7.2097e-05\n",
      "Epoch 466/1000\n",
      "14400/14400 [==============================] - 0s 25us/step - loss: 1.3157e-07 - mean_absolute_error: 1.0787e-04 - val_loss: 1.2490e-07 - val_mean_absolute_error: 1.8067e-04\n",
      "Epoch 467/1000\n",
      "14400/14400 [==============================] - 0s 32us/step - loss: 1.0659e-07 - mean_absolute_error: 1.0496e-04 - val_loss: 3.4731e-08 - val_mean_absolute_error: 6.7235e-05\n",
      "Epoch 468/1000\n",
      "14400/14400 [==============================] - 0s 24us/step - loss: 4.0470e-08 - mean_absolute_error: 7.0080e-05 - val_loss: 3.1176e-08 - val_mean_absolute_error: 6.3673e-05\n",
      "Epoch 469/1000\n",
      "14400/14400 [==============================] - 0s 24us/step - loss: 8.2269e-08 - mean_absolute_error: 8.6995e-05 - val_loss: 8.0633e-08 - val_mean_absolute_error: 9.6316e-05\n",
      "Epoch 470/1000\n",
      "14400/14400 [==============================] - 0s 26us/step - loss: 8.5268e-08 - mean_absolute_error: 1.0052e-04 - val_loss: 3.3580e-08 - val_mean_absolute_error: 6.4398e-05\n",
      "Epoch 471/1000\n",
      "14400/14400 [==============================] - 0s 28us/step - loss: 6.6614e-08 - mean_absolute_error: 8.0583e-05 - val_loss: 5.4252e-08 - val_mean_absolute_error: 6.5375e-05\n",
      "Epoch 472/1000\n",
      "14400/14400 [==============================] - 0s 24us/step - loss: 8.4911e-08 - mean_absolute_error: 9.1386e-05 - val_loss: 4.2602e-08 - val_mean_absolute_error: 7.3448e-05\n",
      "Epoch 473/1000\n",
      "14400/14400 [==============================] - 0s 27us/step - loss: 9.1415e-08 - mean_absolute_error: 9.5724e-05 - val_loss: 4.5555e-08 - val_mean_absolute_error: 9.1294e-05\n",
      "Epoch 474/1000\n",
      "14400/14400 [==============================] - 0s 24us/step - loss: 4.0316e-08 - mean_absolute_error: 6.7088e-05 - val_loss: 9.3045e-08 - val_mean_absolute_error: 8.9297e-05\n",
      "Epoch 475/1000\n",
      "14400/14400 [==============================] - 0s 27us/step - loss: 3.6648e-08 - mean_absolute_error: 6.6516e-05 - val_loss: 5.3048e-08 - val_mean_absolute_error: 6.9557e-05\n",
      "Epoch 476/1000\n",
      "14400/14400 [==============================] - 0s 24us/step - loss: 8.9450e-08 - mean_absolute_error: 8.6366e-05 - val_loss: 4.2927e-08 - val_mean_absolute_error: 5.7379e-05\n",
      "Epoch 477/1000\n"
     ]
    },
    {
     "name": "stdout",
     "output_type": "stream",
     "text": [
      "14400/14400 [==============================] - 0s 27us/step - loss: 8.0866e-08 - mean_absolute_error: 8.4349e-05 - val_loss: 4.5356e-08 - val_mean_absolute_error: 5.6192e-05\n",
      "Epoch 478/1000\n",
      "14400/14400 [==============================] - 0s 25us/step - loss: 5.8874e-08 - mean_absolute_error: 7.9367e-05 - val_loss: 4.3122e-08 - val_mean_absolute_error: 6.4813e-05\n",
      "Epoch 479/1000\n",
      "14400/14400 [==============================] - 0s 27us/step - loss: 6.9383e-08 - mean_absolute_error: 8.3421e-05 - val_loss: 4.5010e-08 - val_mean_absolute_error: 5.1065e-05\n",
      "Epoch 480/1000\n",
      "14400/14400 [==============================] - 0s 29us/step - loss: 6.3695e-08 - mean_absolute_error: 8.4923e-05 - val_loss: 4.6623e-08 - val_mean_absolute_error: 8.4382e-05\n",
      "Epoch 481/1000\n",
      "14400/14400 [==============================] - 0s 28us/step - loss: 4.8269e-08 - mean_absolute_error: 6.2976e-05 - val_loss: 1.0681e-07 - val_mean_absolute_error: 1.3577e-04\n",
      "Epoch 482/1000\n",
      "14400/14400 [==============================] - 0s 24us/step - loss: 6.8522e-08 - mean_absolute_error: 7.7529e-05 - val_loss: 4.8420e-08 - val_mean_absolute_error: 6.2394e-05\n",
      "Epoch 483/1000\n",
      "14400/14400 [==============================] - 0s 28us/step - loss: 1.0135e-07 - mean_absolute_error: 8.0405e-05 - val_loss: 5.0674e-08 - val_mean_absolute_error: 7.7107e-05\n",
      "Epoch 484/1000\n",
      "14400/14400 [==============================] - 0s 26us/step - loss: 6.9965e-08 - mean_absolute_error: 8.4441e-05 - val_loss: 4.7097e-08 - val_mean_absolute_error: 5.6028e-05\n",
      "Epoch 485/1000\n",
      "14400/14400 [==============================] - 0s 24us/step - loss: 9.3043e-08 - mean_absolute_error: 9.0053e-05 - val_loss: 3.6375e-08 - val_mean_absolute_error: 6.5354e-05\n",
      "Epoch 486/1000\n",
      "14400/14400 [==============================] - 0s 24us/step - loss: 1.1116e-07 - mean_absolute_error: 1.0713e-04 - val_loss: 4.2865e-08 - val_mean_absolute_error: 6.2548e-05\n",
      "Epoch 487/1000\n",
      "14400/14400 [==============================] - 0s 23us/step - loss: 6.7295e-08 - mean_absolute_error: 8.9562e-05 - val_loss: 4.6837e-08 - val_mean_absolute_error: 6.2585e-05\n",
      "Epoch 488/1000\n",
      "14400/14400 [==============================] - 0s 25us/step - loss: 5.7538e-08 - mean_absolute_error: 7.8364e-05 - val_loss: 3.4422e-08 - val_mean_absolute_error: 5.9097e-05\n",
      "Epoch 489/1000\n",
      "14400/14400 [==============================] - 0s 24us/step - loss: 6.2005e-08 - mean_absolute_error: 8.0054e-05 - val_loss: 3.4232e-08 - val_mean_absolute_error: 6.3430e-05\n",
      "Epoch 490/1000\n",
      "14400/14400 [==============================] - 0s 23us/step - loss: 7.1023e-08 - mean_absolute_error: 8.2688e-05 - val_loss: 9.5885e-08 - val_mean_absolute_error: 1.2869e-04\n",
      "Epoch 491/1000\n",
      "14400/14400 [==============================] - 0s 24us/step - loss: 6.5319e-08 - mean_absolute_error: 8.1368e-05 - val_loss: 1.2575e-07 - val_mean_absolute_error: 1.4130e-04\n",
      "Epoch 492/1000\n",
      "14400/14400 [==============================] - 0s 28us/step - loss: 4.9590e-08 - mean_absolute_error: 7.3929e-05 - val_loss: 3.3648e-08 - val_mean_absolute_error: 5.4111e-05\n",
      "Epoch 493/1000\n",
      "14400/14400 [==============================] - 0s 24us/step - loss: 3.7971e-08 - mean_absolute_error: 6.7674e-05 - val_loss: 3.7665e-08 - val_mean_absolute_error: 4.7447e-05\n",
      "Epoch 494/1000\n",
      "14400/14400 [==============================] - 0s 24us/step - loss: 2.6582e-08 - mean_absolute_error: 6.1506e-05 - val_loss: 1.1206e-07 - val_mean_absolute_error: 1.7847e-04\n",
      "Epoch 495/1000\n",
      "14400/14400 [==============================] - 0s 24us/step - loss: 7.5583e-08 - mean_absolute_error: 8.8262e-05 - val_loss: 5.1573e-08 - val_mean_absolute_error: 6.3951e-05\n",
      "Epoch 496/1000\n",
      "14400/14400 [==============================] - 0s 24us/step - loss: 8.3788e-08 - mean_absolute_error: 9.2385e-05 - val_loss: 4.5738e-08 - val_mean_absolute_error: 6.7425e-05\n",
      "Epoch 497/1000\n",
      "14400/14400 [==============================] - 0s 24us/step - loss: 1.1119e-07 - mean_absolute_error: 1.0728e-04 - val_loss: 6.0736e-08 - val_mean_absolute_error: 8.9741e-05\n",
      "Epoch 498/1000\n",
      "14400/14400 [==============================] - 0s 25us/step - loss: 6.8839e-08 - mean_absolute_error: 8.8893e-05 - val_loss: 2.5823e-08 - val_mean_absolute_error: 4.4995e-05\n",
      "Epoch 499/1000\n",
      "14400/14400 [==============================] - 0s 25us/step - loss: 5.8007e-08 - mean_absolute_error: 7.6122e-05 - val_loss: 3.7826e-08 - val_mean_absolute_error: 5.3870e-05\n",
      "Epoch 500/1000\n",
      "14400/14400 [==============================] - 0s 25us/step - loss: 1.3473e-07 - mean_absolute_error: 1.0275e-04 - val_loss: 4.5623e-08 - val_mean_absolute_error: 6.3465e-05\n",
      "Epoch 501/1000\n",
      "14400/14400 [==============================] - 0s 24us/step - loss: 1.3631e-07 - mean_absolute_error: 1.0348e-04 - val_loss: 8.0283e-08 - val_mean_absolute_error: 8.9287e-05\n",
      "Epoch 502/1000\n",
      "14400/14400 [==============================] - 0s 24us/step - loss: 4.6250e-08 - mean_absolute_error: 7.3088e-05 - val_loss: 2.9848e-08 - val_mean_absolute_error: 4.9869e-05\n",
      "Epoch 503/1000\n",
      "14400/14400 [==============================] - 0s 24us/step - loss: 3.6144e-08 - mean_absolute_error: 5.8657e-05 - val_loss: 3.7787e-08 - val_mean_absolute_error: 5.1950e-05\n",
      "Epoch 504/1000\n",
      "14400/14400 [==============================] - 0s 24us/step - loss: 4.4835e-08 - mean_absolute_error: 6.8031e-05 - val_loss: 3.6942e-08 - val_mean_absolute_error: 5.1424e-05\n",
      "Epoch 505/1000\n",
      "14400/14400 [==============================] - 0s 23us/step - loss: 5.3747e-08 - mean_absolute_error: 7.3397e-05 - val_loss: 6.2048e-08 - val_mean_absolute_error: 8.0365e-05\n",
      "Epoch 506/1000\n",
      "14400/14400 [==============================] - 0s 24us/step - loss: 9.0078e-08 - mean_absolute_error: 9.8810e-05 - val_loss: 4.1425e-08 - val_mean_absolute_error: 5.8305e-05\n",
      "Epoch 507/1000\n",
      "14400/14400 [==============================] - 0s 24us/step - loss: 4.0967e-08 - mean_absolute_error: 6.5306e-05 - val_loss: 7.1214e-07 - val_mean_absolute_error: 3.1697e-04\n",
      "Epoch 508/1000\n",
      "14400/14400 [==============================] - 0s 24us/step - loss: 7.5372e-08 - mean_absolute_error: 8.4243e-05 - val_loss: 4.9436e-08 - val_mean_absolute_error: 1.0121e-04\n",
      "Epoch 509/1000\n",
      "14400/14400 [==============================] - 0s 24us/step - loss: 4.5837e-08 - mean_absolute_error: 7.7997e-05 - val_loss: 3.7662e-08 - val_mean_absolute_error: 5.2112e-05\n",
      "Epoch 510/1000\n",
      "14400/14400 [==============================] - 0s 24us/step - loss: 4.4730e-08 - mean_absolute_error: 7.8807e-05 - val_loss: 3.9491e-08 - val_mean_absolute_error: 7.0848e-05\n",
      "Epoch 511/1000\n",
      "14400/14400 [==============================] - 0s 23us/step - loss: 1.1319e-07 - mean_absolute_error: 1.0017e-04 - val_loss: 7.8065e-08 - val_mean_absolute_error: 7.3846e-05\n",
      "Epoch 512/1000\n",
      "14400/14400 [==============================] - 0s 26us/step - loss: 7.7677e-08 - mean_absolute_error: 7.4575e-05 - val_loss: 4.6956e-08 - val_mean_absolute_error: 6.1979e-05\n",
      "Epoch 513/1000\n",
      "14400/14400 [==============================] - 0s 28us/step - loss: 4.3603e-08 - mean_absolute_error: 7.1395e-05 - val_loss: 3.5456e-08 - val_mean_absolute_error: 5.0545e-05\n",
      "Epoch 514/1000\n",
      "14400/14400 [==============================] - 0s 28us/step - loss: 2.7621e-08 - mean_absolute_error: 5.9354e-05 - val_loss: 7.8356e-08 - val_mean_absolute_error: 8.6838e-05\n",
      "Epoch 515/1000\n",
      "14400/14400 [==============================] - 0s 26us/step - loss: 3.1396e-08 - mean_absolute_error: 5.9784e-05 - val_loss: 3.7792e-08 - val_mean_absolute_error: 4.8280e-05\n",
      "Epoch 516/1000\n",
      "14400/14400 [==============================] - 0s 28us/step - loss: 1.4395e-07 - mean_absolute_error: 1.0890e-04 - val_loss: 4.2784e-08 - val_mean_absolute_error: 6.0804e-05\n",
      "Epoch 517/1000\n",
      "14400/14400 [==============================] - 0s 25us/step - loss: 8.1540e-08 - mean_absolute_error: 8.5951e-05 - val_loss: 9.7349e-08 - val_mean_absolute_error: 1.0021e-04\n",
      "Epoch 518/1000\n",
      "14400/14400 [==============================] - 0s 24us/step - loss: 7.1020e-08 - mean_absolute_error: 8.1779e-05 - val_loss: 6.2171e-08 - val_mean_absolute_error: 9.3563e-05\n",
      "Epoch 519/1000\n",
      "14400/14400 [==============================] - 0s 24us/step - loss: 3.6756e-08 - mean_absolute_error: 6.8816e-05 - val_loss: 6.2973e-08 - val_mean_absolute_error: 6.7863e-05\n",
      "Epoch 520/1000\n"
     ]
    },
    {
     "name": "stdout",
     "output_type": "stream",
     "text": [
      "14400/14400 [==============================] - 0s 25us/step - loss: 4.8183e-08 - mean_absolute_error: 7.9512e-05 - val_loss: 4.6673e-08 - val_mean_absolute_error: 6.8447e-05\n",
      "Epoch 521/1000\n",
      "14400/14400 [==============================] - 0s 24us/step - loss: 3.8469e-08 - mean_absolute_error: 6.9787e-05 - val_loss: 4.3631e-08 - val_mean_absolute_error: 5.5552e-05\n",
      "Epoch 522/1000\n",
      "14400/14400 [==============================] - 0s 24us/step - loss: 7.7655e-08 - mean_absolute_error: 8.8736e-05 - val_loss: 5.8314e-08 - val_mean_absolute_error: 7.8875e-05\n",
      "Epoch 523/1000\n",
      "14400/14400 [==============================] - 0s 24us/step - loss: 6.0242e-08 - mean_absolute_error: 8.5050e-05 - val_loss: 5.3629e-07 - val_mean_absolute_error: 3.1848e-04\n",
      "Epoch 524/1000\n",
      "14400/14400 [==============================] - 0s 23us/step - loss: 9.7585e-08 - mean_absolute_error: 9.6390e-05 - val_loss: 3.9522e-08 - val_mean_absolute_error: 5.0713e-05\n",
      "Epoch 525/1000\n",
      "14400/14400 [==============================] - 0s 24us/step - loss: 4.5522e-08 - mean_absolute_error: 7.5406e-05 - val_loss: 1.3229e-07 - val_mean_absolute_error: 1.1110e-04\n",
      "Epoch 526/1000\n",
      "14400/14400 [==============================] - 0s 24us/step - loss: 5.3168e-08 - mean_absolute_error: 7.8175e-05 - val_loss: 3.7586e-08 - val_mean_absolute_error: 5.1072e-05\n",
      "Epoch 527/1000\n",
      "14400/14400 [==============================] - 0s 23us/step - loss: 5.8007e-08 - mean_absolute_error: 7.4972e-05 - val_loss: 3.5544e-08 - val_mean_absolute_error: 5.6754e-05\n",
      "Epoch 528/1000\n",
      "14400/14400 [==============================] - 0s 23us/step - loss: 4.4287e-08 - mean_absolute_error: 7.4590e-05 - val_loss: 1.8358e-07 - val_mean_absolute_error: 1.6923e-04\n",
      "Epoch 529/1000\n",
      "14400/14400 [==============================] - 0s 24us/step - loss: 1.0504e-07 - mean_absolute_error: 1.1196e-04 - val_loss: 2.6932e-08 - val_mean_absolute_error: 6.5389e-05\n",
      "Epoch 530/1000\n",
      "14400/14400 [==============================] - 0s 24us/step - loss: 8.0811e-08 - mean_absolute_error: 9.2246e-05 - val_loss: 2.8989e-08 - val_mean_absolute_error: 5.2411e-05\n",
      "Epoch 531/1000\n",
      "14400/14400 [==============================] - 0s 24us/step - loss: 1.3364e-07 - mean_absolute_error: 1.1523e-04 - val_loss: 3.9239e-08 - val_mean_absolute_error: 5.6882e-05\n",
      "Epoch 532/1000\n",
      "14400/14400 [==============================] - 0s 24us/step - loss: 1.5632e-07 - mean_absolute_error: 1.0245e-04 - val_loss: 3.5495e-08 - val_mean_absolute_error: 5.5266e-05\n",
      "Epoch 533/1000\n",
      "14400/14400 [==============================] - 0s 24us/step - loss: 5.5022e-08 - mean_absolute_error: 7.5896e-05 - val_loss: 4.1875e-08 - val_mean_absolute_error: 6.7196e-05\n",
      "Epoch 534/1000\n",
      "14400/14400 [==============================] - 0s 25us/step - loss: 2.9244e-08 - mean_absolute_error: 5.7844e-05 - val_loss: 2.9944e-08 - val_mean_absolute_error: 4.8810e-05\n",
      "Epoch 535/1000\n",
      "14400/14400 [==============================] - 0s 24us/step - loss: 5.1155e-08 - mean_absolute_error: 6.8838e-05 - val_loss: 3.2090e-08 - val_mean_absolute_error: 5.4659e-05\n",
      "Epoch 536/1000\n",
      "14400/14400 [==============================] - 0s 24us/step - loss: 1.0076e-07 - mean_absolute_error: 9.7466e-05 - val_loss: 6.4323e-08 - val_mean_absolute_error: 8.7522e-05\n",
      "Epoch 537/1000\n",
      "14400/14400 [==============================] - 0s 24us/step - loss: 7.2409e-08 - mean_absolute_error: 8.8292e-05 - val_loss: 3.5642e-08 - val_mean_absolute_error: 6.5773e-05\n",
      "Epoch 538/1000\n",
      "14400/14400 [==============================] - 0s 25us/step - loss: 4.0866e-08 - mean_absolute_error: 6.6307e-05 - val_loss: 3.8812e-08 - val_mean_absolute_error: 5.5078e-05\n",
      "Epoch 539/1000\n",
      "14400/14400 [==============================] - 0s 23us/step - loss: 5.6327e-08 - mean_absolute_error: 7.5893e-05 - val_loss: 3.5026e-08 - val_mean_absolute_error: 5.0901e-05\n",
      "Epoch 540/1000\n",
      "14400/14400 [==============================] - 0s 24us/step - loss: 6.8558e-08 - mean_absolute_error: 8.6252e-05 - val_loss: 1.6882e-07 - val_mean_absolute_error: 2.0622e-04\n",
      "Epoch 541/1000\n",
      "14400/14400 [==============================] - 0s 24us/step - loss: 4.0530e-08 - mean_absolute_error: 7.1171e-05 - val_loss: 4.3110e-08 - val_mean_absolute_error: 6.2937e-05\n",
      "Epoch 542/1000\n",
      "14400/14400 [==============================] - 0s 24us/step - loss: 5.8013e-08 - mean_absolute_error: 8.0010e-05 - val_loss: 1.7092e-07 - val_mean_absolute_error: 1.4350e-04\n",
      "Epoch 543/1000\n",
      "14400/14400 [==============================] - 0s 23us/step - loss: 5.1419e-08 - mean_absolute_error: 7.6851e-05 - val_loss: 4.8089e-08 - val_mean_absolute_error: 7.6450e-05\n",
      "Epoch 544/1000\n",
      "14400/14400 [==============================] - 0s 24us/step - loss: 4.1564e-08 - mean_absolute_error: 6.9835e-05 - val_loss: 4.0610e-08 - val_mean_absolute_error: 8.5938e-05\n",
      "Epoch 545/1000\n",
      "14400/14400 [==============================] - 0s 24us/step - loss: 1.0839e-07 - mean_absolute_error: 9.2947e-05 - val_loss: 5.3735e-08 - val_mean_absolute_error: 6.7756e-05\n",
      "Epoch 546/1000\n",
      "14400/14400 [==============================] - 0s 24us/step - loss: 1.4497e-07 - mean_absolute_error: 1.0923e-04 - val_loss: 4.0100e-08 - val_mean_absolute_error: 6.2505e-05\n",
      "Epoch 547/1000\n",
      "14400/14400 [==============================] - 0s 24us/step - loss: 5.2063e-08 - mean_absolute_error: 7.4207e-05 - val_loss: 3.8639e-08 - val_mean_absolute_error: 5.2659e-05\n",
      "Epoch 548/1000\n",
      "14400/14400 [==============================] - 0s 24us/step - loss: 5.1683e-08 - mean_absolute_error: 7.5789e-05 - val_loss: 4.2691e-08 - val_mean_absolute_error: 6.2127e-05\n",
      "Epoch 549/1000\n",
      "14400/14400 [==============================] - 0s 24us/step - loss: 1.4327e-07 - mean_absolute_error: 1.0915e-04 - val_loss: 3.7241e-08 - val_mean_absolute_error: 6.0088e-05\n",
      "Epoch 550/1000\n",
      "14400/14400 [==============================] - 0s 24us/step - loss: 4.9615e-08 - mean_absolute_error: 7.4150e-05 - val_loss: 3.2812e-08 - val_mean_absolute_error: 7.0588e-05\n",
      "Epoch 551/1000\n",
      "14400/14400 [==============================] - 0s 24us/step - loss: 4.2269e-08 - mean_absolute_error: 7.5022e-05 - val_loss: 3.0042e-08 - val_mean_absolute_error: 4.7558e-05\n",
      "Epoch 552/1000\n",
      "14400/14400 [==============================] - 0s 25us/step - loss: 1.3596e-07 - mean_absolute_error: 1.0232e-04 - val_loss: 4.3450e-08 - val_mean_absolute_error: 6.0059e-05\n",
      "Epoch 553/1000\n",
      "14400/14400 [==============================] - 0s 24us/step - loss: 1.0193e-07 - mean_absolute_error: 9.3510e-05 - val_loss: 3.4390e-08 - val_mean_absolute_error: 5.7644e-05\n",
      "Epoch 554/1000\n",
      "14400/14400 [==============================] - 0s 24us/step - loss: 3.7230e-08 - mean_absolute_error: 6.5972e-05 - val_loss: 3.3494e-08 - val_mean_absolute_error: 4.9419e-05\n",
      "Epoch 555/1000\n",
      "14400/14400 [==============================] - 0s 24us/step - loss: 4.3861e-08 - mean_absolute_error: 6.7951e-05 - val_loss: 5.0107e-08 - val_mean_absolute_error: 9.3734e-05\n",
      "Epoch 556/1000\n",
      "14400/14400 [==============================] - 0s 24us/step - loss: 7.8867e-08 - mean_absolute_error: 8.4374e-05 - val_loss: 3.2670e-08 - val_mean_absolute_error: 4.8298e-05\n",
      "Epoch 557/1000\n",
      "14400/14400 [==============================] - 0s 24us/step - loss: 1.1217e-07 - mean_absolute_error: 1.0204e-04 - val_loss: 3.9731e-08 - val_mean_absolute_error: 5.7159e-05\n",
      "Epoch 558/1000\n",
      "14400/14400 [==============================] - 0s 25us/step - loss: 4.5931e-08 - mean_absolute_error: 7.0966e-05 - val_loss: 1.4389e-07 - val_mean_absolute_error: 1.3780e-04\n",
      "Epoch 559/1000\n",
      "14400/14400 [==============================] - 0s 25us/step - loss: 5.7416e-08 - mean_absolute_error: 7.9859e-05 - val_loss: 4.3818e-08 - val_mean_absolute_error: 5.3352e-05\n",
      "Epoch 560/1000\n",
      "14400/14400 [==============================] - 0s 24us/step - loss: 4.5181e-08 - mean_absolute_error: 6.8101e-05 - val_loss: 2.1103e-07 - val_mean_absolute_error: 2.0484e-04\n",
      "Epoch 561/1000\n",
      "14400/14400 [==============================] - 0s 24us/step - loss: 5.5933e-08 - mean_absolute_error: 8.8120e-05 - val_loss: 6.7422e-08 - val_mean_absolute_error: 9.5218e-05\n",
      "Epoch 562/1000\n",
      "14400/14400 [==============================] - 0s 24us/step - loss: 1.7116e-07 - mean_absolute_error: 1.2395e-04 - val_loss: 4.4834e-08 - val_mean_absolute_error: 6.3048e-05\n",
      "Epoch 563/1000\n"
     ]
    },
    {
     "name": "stdout",
     "output_type": "stream",
     "text": [
      "14400/14400 [==============================] - 0s 24us/step - loss: 1.4056e-07 - mean_absolute_error: 1.1845e-04 - val_loss: 5.2776e-08 - val_mean_absolute_error: 7.1780e-05\n",
      "Epoch 564/1000\n",
      "14400/14400 [==============================] - 0s 25us/step - loss: 6.0057e-08 - mean_absolute_error: 7.7785e-05 - val_loss: 6.2160e-08 - val_mean_absolute_error: 1.0507e-04\n",
      "Epoch 565/1000\n",
      "14400/14400 [==============================] - 0s 25us/step - loss: 3.3186e-08 - mean_absolute_error: 6.4097e-05 - val_loss: 3.7875e-08 - val_mean_absolute_error: 5.4981e-05\n",
      "Epoch 566/1000\n",
      "14400/14400 [==============================] - 0s 24us/step - loss: 1.9913e-08 - mean_absolute_error: 5.2576e-05 - val_loss: 3.3740e-08 - val_mean_absolute_error: 5.6687e-05\n",
      "Epoch 567/1000\n",
      "14400/14400 [==============================] - 0s 25us/step - loss: 2.8974e-08 - mean_absolute_error: 5.9986e-05 - val_loss: 3.5789e-08 - val_mean_absolute_error: 5.5102e-05\n",
      "Epoch 568/1000\n",
      "14400/14400 [==============================] - 0s 24us/step - loss: 4.9022e-08 - mean_absolute_error: 7.9561e-05 - val_loss: 3.8896e-08 - val_mean_absolute_error: 6.2522e-05\n",
      "Epoch 569/1000\n",
      "14400/14400 [==============================] - 0s 24us/step - loss: 7.4820e-08 - mean_absolute_error: 8.7730e-05 - val_loss: 7.5964e-08 - val_mean_absolute_error: 9.7104e-05\n",
      "Epoch 570/1000\n",
      "14400/14400 [==============================] - 0s 23us/step - loss: 9.1095e-08 - mean_absolute_error: 9.4754e-05 - val_loss: 1.6507e-07 - val_mean_absolute_error: 1.3518e-04\n",
      "Epoch 571/1000\n",
      "14400/14400 [==============================] - 0s 25us/step - loss: 1.7421e-07 - mean_absolute_error: 1.1108e-04 - val_loss: 9.3458e-08 - val_mean_absolute_error: 9.5265e-05\n",
      "Epoch 572/1000\n",
      "14400/14400 [==============================] - 0s 25us/step - loss: 1.0019e-07 - mean_absolute_error: 9.1072e-05 - val_loss: 4.6904e-08 - val_mean_absolute_error: 6.3792e-05\n",
      "Epoch 573/1000\n",
      "14400/14400 [==============================] - 0s 24us/step - loss: 7.1651e-08 - mean_absolute_error: 8.3244e-05 - val_loss: 3.5305e-08 - val_mean_absolute_error: 6.5434e-05\n",
      "Epoch 574/1000\n",
      "14400/14400 [==============================] - 0s 25us/step - loss: 6.1196e-08 - mean_absolute_error: 7.8578e-05 - val_loss: 3.4375e-08 - val_mean_absolute_error: 5.7390e-05\n",
      "Epoch 575/1000\n",
      "14400/14400 [==============================] - 0s 24us/step - loss: 2.5581e-08 - mean_absolute_error: 5.7418e-05 - val_loss: 3.1516e-08 - val_mean_absolute_error: 4.7535e-05\n",
      "Epoch 576/1000\n",
      "14400/14400 [==============================] - 0s 24us/step - loss: 4.2784e-08 - mean_absolute_error: 6.8509e-05 - val_loss: 1.0962e-07 - val_mean_absolute_error: 1.1020e-04\n",
      "Epoch 577/1000\n",
      "14400/14400 [==============================] - 0s 23us/step - loss: 6.8129e-08 - mean_absolute_error: 8.5041e-05 - val_loss: 4.0795e-08 - val_mean_absolute_error: 5.3983e-05\n",
      "Epoch 578/1000\n",
      "14400/14400 [==============================] - 0s 24us/step - loss: 9.7475e-08 - mean_absolute_error: 9.9173e-05 - val_loss: 4.0354e-08 - val_mean_absolute_error: 5.6074e-05\n",
      "Epoch 579/1000\n",
      "14400/14400 [==============================] - 0s 25us/step - loss: 6.4258e-08 - mean_absolute_error: 8.4425e-05 - val_loss: 4.4713e-08 - val_mean_absolute_error: 6.2082e-05\n",
      "Epoch 580/1000\n",
      "14400/14400 [==============================] - 0s 24us/step - loss: 3.4523e-08 - mean_absolute_error: 6.4261e-05 - val_loss: 9.3965e-08 - val_mean_absolute_error: 9.1840e-05\n",
      "Epoch 581/1000\n",
      "14400/14400 [==============================] - 0s 24us/step - loss: 6.5974e-08 - mean_absolute_error: 8.3059e-05 - val_loss: 4.5477e-08 - val_mean_absolute_error: 5.6874e-05\n",
      "Epoch 582/1000\n",
      "14400/14400 [==============================] - 0s 23us/step - loss: 6.3612e-08 - mean_absolute_error: 7.9559e-05 - val_loss: 4.5151e-08 - val_mean_absolute_error: 6.8890e-05\n",
      "Epoch 583/1000\n",
      "14400/14400 [==============================] - 0s 24us/step - loss: 1.5926e-07 - mean_absolute_error: 1.1055e-04 - val_loss: 6.0057e-08 - val_mean_absolute_error: 9.3804e-05\n",
      "Epoch 584/1000\n",
      "14400/14400 [==============================] - 0s 24us/step - loss: 7.8338e-08 - mean_absolute_error: 8.3666e-05 - val_loss: 1.2762e-07 - val_mean_absolute_error: 1.2147e-04\n",
      "Epoch 585/1000\n",
      "14400/14400 [==============================] - 0s 25us/step - loss: 3.6391e-08 - mean_absolute_error: 6.4703e-05 - val_loss: 3.5534e-08 - val_mean_absolute_error: 5.3911e-05\n",
      "Epoch 586/1000\n",
      "14400/14400 [==============================] - 0s 23us/step - loss: 4.2533e-08 - mean_absolute_error: 6.8523e-05 - val_loss: 2.7965e-07 - val_mean_absolute_error: 2.1134e-04\n",
      "Epoch 587/1000\n",
      "14400/14400 [==============================] - 0s 24us/step - loss: 4.7191e-08 - mean_absolute_error: 7.5034e-05 - val_loss: 1.4896e-07 - val_mean_absolute_error: 1.7175e-04\n",
      "Epoch 588/1000\n",
      "14400/14400 [==============================] - 0s 25us/step - loss: 7.6523e-08 - mean_absolute_error: 8.8752e-05 - val_loss: 5.9189e-08 - val_mean_absolute_error: 8.1868e-05\n",
      "Epoch 589/1000\n",
      "14400/14400 [==============================] - 0s 25us/step - loss: 3.9375e-08 - mean_absolute_error: 6.8659e-05 - val_loss: 3.4850e-08 - val_mean_absolute_error: 6.0784e-05\n",
      "Epoch 590/1000\n",
      "14400/14400 [==============================] - 0s 24us/step - loss: 7.0998e-08 - mean_absolute_error: 8.2758e-05 - val_loss: 3.7381e-08 - val_mean_absolute_error: 5.7507e-05\n",
      "Epoch 591/1000\n",
      "14400/14400 [==============================] - 0s 25us/step - loss: 1.2717e-07 - mean_absolute_error: 9.5987e-05 - val_loss: 3.2637e-08 - val_mean_absolute_error: 5.9443e-05\n",
      "Epoch 592/1000\n",
      "14400/14400 [==============================] - 0s 24us/step - loss: 3.8059e-08 - mean_absolute_error: 6.5799e-05 - val_loss: 3.7331e-08 - val_mean_absolute_error: 6.4259e-05\n",
      "Epoch 593/1000\n",
      "14400/14400 [==============================] - 0s 26us/step - loss: 5.1381e-08 - mean_absolute_error: 7.3322e-05 - val_loss: 5.4407e-08 - val_mean_absolute_error: 7.5851e-05\n",
      "Epoch 594/1000\n",
      "14400/14400 [==============================] - 0s 25us/step - loss: 1.4181e-07 - mean_absolute_error: 8.7806e-05 - val_loss: 4.3743e-08 - val_mean_absolute_error: 7.8645e-05\n",
      "Epoch 595/1000\n",
      "14400/14400 [==============================] - 0s 24us/step - loss: 2.0684e-07 - mean_absolute_error: 1.2972e-04 - val_loss: 4.4254e-08 - val_mean_absolute_error: 6.0339e-05\n",
      "Epoch 596/1000\n",
      "14400/14400 [==============================] - 0s 25us/step - loss: 6.2385e-08 - mean_absolute_error: 7.9619e-05 - val_loss: 1.1462e-07 - val_mean_absolute_error: 1.5632e-04\n",
      "Epoch 597/1000\n",
      "14400/14400 [==============================] - 0s 25us/step - loss: 3.1105e-08 - mean_absolute_error: 5.8049e-05 - val_loss: 3.0930e-08 - val_mean_absolute_error: 4.8519e-05\n",
      "Epoch 598/1000\n",
      "14400/14400 [==============================] - 0s 23us/step - loss: 1.8903e-08 - mean_absolute_error: 5.2097e-05 - val_loss: 3.2387e-08 - val_mean_absolute_error: 4.8292e-05\n",
      "Epoch 599/1000\n",
      "14400/14400 [==============================] - 0s 24us/step - loss: 2.2037e-08 - mean_absolute_error: 5.4572e-05 - val_loss: 3.5253e-08 - val_mean_absolute_error: 4.5605e-05\n",
      "Epoch 600/1000\n",
      "14400/14400 [==============================] - 0s 28us/step - loss: 2.5657e-08 - mean_absolute_error: 6.1357e-05 - val_loss: 3.5035e-08 - val_mean_absolute_error: 4.8779e-05\n",
      "Epoch 601/1000\n",
      "14400/14400 [==============================] - 0s 30us/step - loss: 7.1791e-08 - mean_absolute_error: 8.5557e-05 - val_loss: 4.2490e-08 - val_mean_absolute_error: 6.4604e-05\n",
      "Epoch 602/1000\n",
      "14400/14400 [==============================] - 0s 27us/step - loss: 1.3771e-07 - mean_absolute_error: 1.0854e-04 - val_loss: 3.5043e-08 - val_mean_absolute_error: 6.5046e-05\n",
      "Epoch 603/1000\n",
      "14400/14400 [==============================] - 0s 28us/step - loss: 4.2546e-08 - mean_absolute_error: 7.3577e-05 - val_loss: 3.7285e-08 - val_mean_absolute_error: 6.9567e-05\n",
      "Epoch 604/1000\n",
      "14400/14400 [==============================] - 0s 26us/step - loss: 4.4406e-08 - mean_absolute_error: 6.9879e-05 - val_loss: 6.0043e-08 - val_mean_absolute_error: 7.4622e-05\n",
      "Epoch 605/1000\n",
      "14400/14400 [==============================] - 0s 27us/step - loss: 2.0059e-07 - mean_absolute_error: 1.3397e-04 - val_loss: 6.5371e-08 - val_mean_absolute_error: 7.7738e-05\n",
      "Epoch 606/1000\n"
     ]
    },
    {
     "name": "stdout",
     "output_type": "stream",
     "text": [
      "14400/14400 [==============================] - 0s 24us/step - loss: 5.9403e-08 - mean_absolute_error: 7.8502e-05 - val_loss: 4.8849e-08 - val_mean_absolute_error: 5.6677e-05\n",
      "Epoch 607/1000\n",
      "14400/14400 [==============================] - 0s 28us/step - loss: 5.5314e-08 - mean_absolute_error: 7.4283e-05 - val_loss: 4.1993e-08 - val_mean_absolute_error: 6.4520e-05\n",
      "Epoch 608/1000\n",
      "14400/14400 [==============================] - 0s 25us/step - loss: 4.5543e-08 - mean_absolute_error: 6.7623e-05 - val_loss: 3.4387e-08 - val_mean_absolute_error: 4.8062e-05\n",
      "Epoch 609/1000\n",
      "14400/14400 [==============================] - 0s 27us/step - loss: 5.1643e-08 - mean_absolute_error: 7.7362e-05 - val_loss: 3.7422e-08 - val_mean_absolute_error: 4.8843e-05\n",
      "Epoch 610/1000\n",
      "14400/14400 [==============================] - 0s 26us/step - loss: 5.4378e-08 - mean_absolute_error: 7.1800e-05 - val_loss: 3.6102e-08 - val_mean_absolute_error: 5.7422e-05\n",
      "Epoch 611/1000\n",
      "14400/14400 [==============================] - 0s 24us/step - loss: 3.9194e-08 - mean_absolute_error: 7.0362e-05 - val_loss: 5.8386e-08 - val_mean_absolute_error: 7.8087e-05\n",
      "Epoch 612/1000\n",
      "14400/14400 [==============================] - 0s 24us/step - loss: 4.3953e-08 - mean_absolute_error: 7.2228e-05 - val_loss: 5.8592e-08 - val_mean_absolute_error: 6.7997e-05\n",
      "Epoch 613/1000\n",
      "14400/14400 [==============================] - 0s 23us/step - loss: 1.3216e-07 - mean_absolute_error: 1.1045e-04 - val_loss: 8.8603e-08 - val_mean_absolute_error: 8.9632e-05\n",
      "Epoch 614/1000\n",
      "14400/14400 [==============================] - 0s 25us/step - loss: 1.9739e-07 - mean_absolute_error: 1.3400e-04 - val_loss: 7.1309e-08 - val_mean_absolute_error: 1.0187e-04\n",
      "Epoch 615/1000\n",
      "14400/14400 [==============================] - 0s 25us/step - loss: 7.6476e-08 - mean_absolute_error: 8.6034e-05 - val_loss: 5.8733e-08 - val_mean_absolute_error: 7.9194e-05\n",
      "Epoch 616/1000\n",
      "14400/14400 [==============================] - 0s 24us/step - loss: 5.6859e-08 - mean_absolute_error: 7.8656e-05 - val_loss: 4.5734e-08 - val_mean_absolute_error: 5.3614e-05\n",
      "Epoch 617/1000\n",
      "14400/14400 [==============================] - 0s 23us/step - loss: 2.3155e-08 - mean_absolute_error: 5.6313e-05 - val_loss: 3.6913e-08 - val_mean_absolute_error: 4.6608e-05\n",
      "Epoch 618/1000\n",
      "14400/14400 [==============================] - 0s 25us/step - loss: 2.8637e-08 - mean_absolute_error: 5.7876e-05 - val_loss: 2.7907e-08 - val_mean_absolute_error: 4.8337e-05\n",
      "Epoch 619/1000\n",
      "14400/14400 [==============================] - 0s 24us/step - loss: 3.9706e-08 - mean_absolute_error: 7.2245e-05 - val_loss: 3.9968e-08 - val_mean_absolute_error: 6.5612e-05\n",
      "Epoch 620/1000\n",
      "14400/14400 [==============================] - 0s 24us/step - loss: 5.8044e-08 - mean_absolute_error: 8.3830e-05 - val_loss: 4.2586e-07 - val_mean_absolute_error: 2.3319e-04\n",
      "Epoch 621/1000\n",
      "14400/14400 [==============================] - 0s 23us/step - loss: 1.8532e-07 - mean_absolute_error: 1.3954e-04 - val_loss: 3.4789e-08 - val_mean_absolute_error: 6.1317e-05\n",
      "Epoch 622/1000\n",
      "14400/14400 [==============================] - 0s 23us/step - loss: 1.2359e-07 - mean_absolute_error: 1.0751e-04 - val_loss: 4.6161e-08 - val_mean_absolute_error: 5.6606e-05\n",
      "Epoch 623/1000\n",
      "14400/14400 [==============================] - 0s 28us/step - loss: 3.6627e-08 - mean_absolute_error: 6.5526e-05 - val_loss: 8.8418e-08 - val_mean_absolute_error: 1.5337e-04\n",
      "Epoch 624/1000\n",
      "14400/14400 [==============================] - 0s 28us/step - loss: 7.1223e-08 - mean_absolute_error: 7.7457e-05 - val_loss: 1.0253e-06 - val_mean_absolute_error: 4.1357e-04\n",
      "Epoch 625/1000\n",
      "14400/14400 [==============================] - 0s 23us/step - loss: 1.8938e-07 - mean_absolute_error: 1.0465e-04 - val_loss: 5.2953e-08 - val_mean_absolute_error: 6.2728e-05\n",
      "Epoch 626/1000\n",
      "14400/14400 [==============================] - 0s 29us/step - loss: 1.6000e-07 - mean_absolute_error: 1.0912e-04 - val_loss: 3.7209e-08 - val_mean_absolute_error: 5.3751e-05\n",
      "Epoch 627/1000\n",
      "14400/14400 [==============================] - 0s 25us/step - loss: 3.2442e-08 - mean_absolute_error: 5.8497e-05 - val_loss: 3.3462e-08 - val_mean_absolute_error: 5.3647e-05\n",
      "Epoch 628/1000\n",
      "14400/14400 [==============================] - 0s 24us/step - loss: 2.5797e-08 - mean_absolute_error: 5.7730e-05 - val_loss: 3.1942e-08 - val_mean_absolute_error: 4.4508e-05\n",
      "Epoch 629/1000\n",
      "14400/14400 [==============================] - 0s 25us/step - loss: 2.0625e-08 - mean_absolute_error: 5.1744e-05 - val_loss: 5.1219e-08 - val_mean_absolute_error: 7.2833e-05\n",
      "Epoch 630/1000\n",
      "14400/14400 [==============================] - 0s 26us/step - loss: 4.9237e-08 - mean_absolute_error: 7.6950e-05 - val_loss: 3.8965e-08 - val_mean_absolute_error: 5.2300e-05\n",
      "Epoch 631/1000\n",
      "14400/14400 [==============================] - 0s 24us/step - loss: 7.7880e-08 - mean_absolute_error: 8.9741e-05 - val_loss: 6.4335e-08 - val_mean_absolute_error: 7.4123e-05\n",
      "Epoch 632/1000\n",
      "14400/14400 [==============================] - 0s 25us/step - loss: 6.2043e-08 - mean_absolute_error: 8.3564e-05 - val_loss: 4.6712e-08 - val_mean_absolute_error: 7.6190e-05\n",
      "Epoch 633/1000\n",
      "14400/14400 [==============================] - 0s 24us/step - loss: 4.7254e-08 - mean_absolute_error: 6.9577e-05 - val_loss: 3.1392e-08 - val_mean_absolute_error: 4.8306e-05\n",
      "Epoch 634/1000\n",
      "14400/14400 [==============================] - 0s 27us/step - loss: 3.6981e-08 - mean_absolute_error: 6.3355e-05 - val_loss: 3.0032e-08 - val_mean_absolute_error: 4.7560e-05\n",
      "Epoch 635/1000\n",
      "14400/14400 [==============================] - 0s 25us/step - loss: 2.9666e-08 - mean_absolute_error: 6.1208e-05 - val_loss: 1.0693e-07 - val_mean_absolute_error: 1.0301e-04\n",
      "Epoch 636/1000\n",
      "14400/14400 [==============================] - 0s 26us/step - loss: 8.5329e-08 - mean_absolute_error: 9.5774e-05 - val_loss: 4.4747e-08 - val_mean_absolute_error: 6.2747e-05\n",
      "Epoch 637/1000\n",
      "14400/14400 [==============================] - 0s 29us/step - loss: 1.3012e-07 - mean_absolute_error: 1.0936e-04 - val_loss: 4.2759e-08 - val_mean_absolute_error: 5.7396e-05\n",
      "Epoch 638/1000\n",
      "14400/14400 [==============================] - 0s 26us/step - loss: 1.2813e-07 - mean_absolute_error: 1.0366e-04 - val_loss: 8.7731e-08 - val_mean_absolute_error: 9.0589e-05\n",
      "Epoch 639/1000\n",
      "14400/14400 [==============================] - 0s 26us/step - loss: 8.6038e-08 - mean_absolute_error: 9.3186e-05 - val_loss: 1.0121e-07 - val_mean_absolute_error: 1.7821e-04\n",
      "Epoch 640/1000\n",
      "14400/14400 [==============================] - 0s 26us/step - loss: 3.7318e-08 - mean_absolute_error: 6.5658e-05 - val_loss: 5.9606e-08 - val_mean_absolute_error: 9.8997e-05\n",
      "Epoch 641/1000\n",
      "14400/14400 [==============================] - 1s 35us/step - loss: 2.6058e-08 - mean_absolute_error: 5.9923e-05 - val_loss: 5.0035e-08 - val_mean_absolute_error: 6.1007e-05\n",
      "Epoch 642/1000\n",
      "14400/14400 [==============================] - 1s 35us/step - loss: 3.5428e-08 - mean_absolute_error: 6.4178e-05 - val_loss: 3.8508e-08 - val_mean_absolute_error: 6.7101e-05\n",
      "Epoch 643/1000\n",
      "14400/14400 [==============================] - 0s 27us/step - loss: 4.4514e-08 - mean_absolute_error: 7.4223e-05 - val_loss: 5.3866e-08 - val_mean_absolute_error: 1.0705e-04\n",
      "Epoch 644/1000\n",
      "14400/14400 [==============================] - 0s 33us/step - loss: 1.5454e-07 - mean_absolute_error: 1.2748e-04 - val_loss: 4.6042e-08 - val_mean_absolute_error: 6.3125e-05\n",
      "Epoch 645/1000\n",
      "14400/14400 [==============================] - 0s 28us/step - loss: 4.9002e-08 - mean_absolute_error: 7.0163e-05 - val_loss: 3.6452e-08 - val_mean_absolute_error: 4.7228e-05\n",
      "Epoch 646/1000\n",
      "14400/14400 [==============================] - 0s 31us/step - loss: 2.5654e-08 - mean_absolute_error: 5.9814e-05 - val_loss: 3.9497e-08 - val_mean_absolute_error: 5.0295e-05\n",
      "Epoch 647/1000\n",
      "14400/14400 [==============================] - 0s 24us/step - loss: 5.0404e-08 - mean_absolute_error: 7.2800e-05 - val_loss: 3.5970e-08 - val_mean_absolute_error: 5.3423e-05\n",
      "Epoch 648/1000\n",
      "14400/14400 [==============================] - 0s 26us/step - loss: 5.4334e-08 - mean_absolute_error: 7.9423e-05 - val_loss: 3.0167e-08 - val_mean_absolute_error: 6.1152e-05\n",
      "Epoch 649/1000\n"
     ]
    },
    {
     "name": "stdout",
     "output_type": "stream",
     "text": [
      "14400/14400 [==============================] - 0s 25us/step - loss: 2.4084e-08 - mean_absolute_error: 5.3101e-05 - val_loss: 2.9049e-07 - val_mean_absolute_error: 2.1786e-04\n",
      "Epoch 650/1000\n",
      "14400/14400 [==============================] - 1s 36us/step - loss: 8.3789e-08 - mean_absolute_error: 8.9177e-05 - val_loss: 1.2246e-07 - val_mean_absolute_error: 1.4554e-04\n",
      "Epoch 651/1000\n",
      "14400/14400 [==============================] - 1s 39us/step - loss: 1.3198e-07 - mean_absolute_error: 1.1193e-04 - val_loss: 4.8754e-08 - val_mean_absolute_error: 7.7502e-05\n",
      "Epoch 652/1000\n",
      "14400/14400 [==============================] - 1s 37us/step - loss: 8.7595e-08 - mean_absolute_error: 9.4820e-05 - val_loss: 5.1132e-08 - val_mean_absolute_error: 6.3904e-05\n",
      "Epoch 653/1000\n",
      "14400/14400 [==============================] - 0s 31us/step - loss: 4.5184e-08 - mean_absolute_error: 7.3706e-05 - val_loss: 4.5283e-08 - val_mean_absolute_error: 8.5741e-05\n",
      "Epoch 654/1000\n",
      "14400/14400 [==============================] - 0s 31us/step - loss: 4.7323e-08 - mean_absolute_error: 7.2789e-05 - val_loss: 3.8651e-08 - val_mean_absolute_error: 6.2237e-05\n",
      "Epoch 655/1000\n",
      "14400/14400 [==============================] - 0s 26us/step - loss: 3.6893e-08 - mean_absolute_error: 6.3513e-05 - val_loss: 5.3006e-08 - val_mean_absolute_error: 7.1562e-05\n",
      "Epoch 656/1000\n",
      "14400/14400 [==============================] - 0s 24us/step - loss: 4.6747e-08 - mean_absolute_error: 7.6251e-05 - val_loss: 3.5865e-08 - val_mean_absolute_error: 5.9475e-05\n",
      "Epoch 657/1000\n",
      "14400/14400 [==============================] - 0s 24us/step - loss: 1.4884e-07 - mean_absolute_error: 1.1311e-04 - val_loss: 4.6551e-08 - val_mean_absolute_error: 6.2661e-05\n",
      "Epoch 658/1000\n",
      "14400/14400 [==============================] - 0s 25us/step - loss: 1.2278e-07 - mean_absolute_error: 1.0490e-04 - val_loss: 3.5079e-08 - val_mean_absolute_error: 6.7273e-05\n",
      "Epoch 659/1000\n",
      "14400/14400 [==============================] - 1s 39us/step - loss: 3.2393e-08 - mean_absolute_error: 6.1835e-05 - val_loss: 3.4760e-08 - val_mean_absolute_error: 4.9537e-05\n",
      "Epoch 660/1000\n",
      "14400/14400 [==============================] - 1s 40us/step - loss: 2.2270e-08 - mean_absolute_error: 5.1841e-05 - val_loss: 4.6868e-08 - val_mean_absolute_error: 5.0319e-05\n",
      "Epoch 661/1000\n",
      "14400/14400 [==============================] - 1s 40us/step - loss: 6.9663e-08 - mean_absolute_error: 8.7573e-05 - val_loss: 3.8228e-08 - val_mean_absolute_error: 5.6875e-05\n",
      "Epoch 662/1000\n",
      "14400/14400 [==============================] - 1s 40us/step - loss: 1.2130e-07 - mean_absolute_error: 1.0916e-04 - val_loss: 4.3095e-08 - val_mean_absolute_error: 6.2405e-05\n",
      "Epoch 663/1000\n",
      "14400/14400 [==============================] - 1s 42us/step - loss: 1.0668e-07 - mean_absolute_error: 8.7998e-05 - val_loss: 4.2299e-08 - val_mean_absolute_error: 7.1423e-05\n",
      "Epoch 664/1000\n",
      "14400/14400 [==============================] - 1s 57us/step - loss: 6.2395e-08 - mean_absolute_error: 8.3902e-05 - val_loss: 7.0586e-08 - val_mean_absolute_error: 7.8836e-05\n",
      "Epoch 665/1000\n",
      "14400/14400 [==============================] - 1s 44us/step - loss: 5.2728e-08 - mean_absolute_error: 7.2074e-05 - val_loss: 4.2273e-08 - val_mean_absolute_error: 5.3725e-05\n",
      "Epoch 666/1000\n",
      "14400/14400 [==============================] - 1s 46us/step - loss: 4.0314e-08 - mean_absolute_error: 6.9703e-05 - val_loss: 3.9879e-08 - val_mean_absolute_error: 5.5126e-05\n",
      "Epoch 667/1000\n",
      "14400/14400 [==============================] - 1s 38us/step - loss: 5.0595e-08 - mean_absolute_error: 7.8137e-05 - val_loss: 3.3414e-08 - val_mean_absolute_error: 5.6727e-05\n",
      "Epoch 668/1000\n",
      "14400/14400 [==============================] - 0s 30us/step - loss: 6.4686e-08 - mean_absolute_error: 8.0682e-05 - val_loss: 6.4227e-08 - val_mean_absolute_error: 7.9986e-05\n",
      "Epoch 669/1000\n",
      "14400/14400 [==============================] - 0s 31us/step - loss: 1.2733e-07 - mean_absolute_error: 1.1192e-04 - val_loss: 3.1778e-08 - val_mean_absolute_error: 5.0849e-05\n",
      "Epoch 670/1000\n",
      "14400/14400 [==============================] - 0s 28us/step - loss: 7.3928e-08 - mean_absolute_error: 8.9151e-05 - val_loss: 3.2031e-08 - val_mean_absolute_error: 5.3485e-05\n",
      "Epoch 671/1000\n",
      "14400/14400 [==============================] - 0s 27us/step - loss: 8.1342e-08 - mean_absolute_error: 8.2290e-05 - val_loss: 4.0941e-08 - val_mean_absolute_error: 5.5427e-05\n",
      "Epoch 672/1000\n",
      "14400/14400 [==============================] - 0s 34us/step - loss: 9.9100e-08 - mean_absolute_error: 8.0319e-05 - val_loss: 6.8832e-08 - val_mean_absolute_error: 7.7477e-05\n",
      "Epoch 673/1000\n",
      "14400/14400 [==============================] - 0s 28us/step - loss: 8.9622e-08 - mean_absolute_error: 8.6055e-05 - val_loss: 3.7063e-08 - val_mean_absolute_error: 5.3668e-05\n",
      "Epoch 674/1000\n",
      "14400/14400 [==============================] - 1s 35us/step - loss: 3.6070e-08 - mean_absolute_error: 6.4262e-05 - val_loss: 3.2863e-08 - val_mean_absolute_error: 4.8103e-05\n",
      "Epoch 675/1000\n",
      "14400/14400 [==============================] - 1s 35us/step - loss: 6.7669e-08 - mean_absolute_error: 8.5951e-05 - val_loss: 4.5553e-08 - val_mean_absolute_error: 6.7175e-05\n",
      "Epoch 676/1000\n",
      "14400/14400 [==============================] - 0s 29us/step - loss: 4.2613e-08 - mean_absolute_error: 7.1768e-05 - val_loss: 3.2994e-08 - val_mean_absolute_error: 4.6373e-05\n",
      "Epoch 677/1000\n",
      "14400/14400 [==============================] - 0s 26us/step - loss: 7.5604e-08 - mean_absolute_error: 8.3432e-05 - val_loss: 6.3654e-08 - val_mean_absolute_error: 7.1596e-05\n",
      "Epoch 678/1000\n",
      "14400/14400 [==============================] - 0s 30us/step - loss: 6.1759e-08 - mean_absolute_error: 7.6302e-05 - val_loss: 6.4056e-08 - val_mean_absolute_error: 9.3654e-05\n",
      "Epoch 679/1000\n",
      "14400/14400 [==============================] - 0s 25us/step - loss: 1.4162e-07 - mean_absolute_error: 1.0817e-04 - val_loss: 8.9331e-08 - val_mean_absolute_error: 9.3493e-05\n",
      "Epoch 680/1000\n",
      "14400/14400 [==============================] - 0s 26us/step - loss: 3.9093e-08 - mean_absolute_error: 6.6402e-05 - val_loss: 9.2206e-08 - val_mean_absolute_error: 1.1463e-04\n",
      "Epoch 681/1000\n",
      "14400/14400 [==============================] - 0s 24us/step - loss: 6.6652e-08 - mean_absolute_error: 8.0242e-05 - val_loss: 4.0669e-08 - val_mean_absolute_error: 7.3449e-05\n",
      "Epoch 682/1000\n",
      "14400/14400 [==============================] - 0s 26us/step - loss: 8.9044e-08 - mean_absolute_error: 9.0036e-05 - val_loss: 3.9956e-08 - val_mean_absolute_error: 5.4773e-05\n",
      "Epoch 683/1000\n",
      "14400/14400 [==============================] - 0s 24us/step - loss: 4.8478e-08 - mean_absolute_error: 7.1078e-05 - val_loss: 3.4243e-08 - val_mean_absolute_error: 4.8477e-05\n",
      "Epoch 684/1000\n",
      "14400/14400 [==============================] - 0s 24us/step - loss: 2.6113e-08 - mean_absolute_error: 5.8335e-05 - val_loss: 3.8872e-08 - val_mean_absolute_error: 5.5043e-05\n",
      "Epoch 685/1000\n",
      "14400/14400 [==============================] - 0s 27us/step - loss: 4.9194e-08 - mean_absolute_error: 7.5468e-05 - val_loss: 4.8151e-08 - val_mean_absolute_error: 6.0924e-05\n",
      "Epoch 686/1000\n",
      "14400/14400 [==============================] - 0s 25us/step - loss: 9.1644e-08 - mean_absolute_error: 9.0977e-05 - val_loss: 6.0647e-08 - val_mean_absolute_error: 6.9100e-05\n",
      "Epoch 687/1000\n",
      "14400/14400 [==============================] - 0s 30us/step - loss: 6.9063e-08 - mean_absolute_error: 8.2711e-05 - val_loss: 4.6490e-08 - val_mean_absolute_error: 5.5975e-05\n",
      "Epoch 688/1000\n",
      "14400/14400 [==============================] - 0s 26us/step - loss: 4.9285e-08 - mean_absolute_error: 7.5345e-05 - val_loss: 3.8276e-08 - val_mean_absolute_error: 5.7208e-05\n",
      "Epoch 689/1000\n",
      "14400/14400 [==============================] - 0s 27us/step - loss: 7.0577e-08 - mean_absolute_error: 8.7850e-05 - val_loss: 3.3494e-07 - val_mean_absolute_error: 1.9637e-04\n",
      "Epoch 690/1000\n",
      "14400/14400 [==============================] - 0s 28us/step - loss: 1.6044e-07 - mean_absolute_error: 1.1691e-04 - val_loss: 2.0974e-07 - val_mean_absolute_error: 1.4675e-04\n",
      "Epoch 691/1000\n",
      "14400/14400 [==============================] - 0s 31us/step - loss: 1.0426e-07 - mean_absolute_error: 9.7757e-05 - val_loss: 4.1217e-08 - val_mean_absolute_error: 7.9903e-05\n",
      "Epoch 692/1000\n"
     ]
    },
    {
     "name": "stdout",
     "output_type": "stream",
     "text": [
      "14400/14400 [==============================] - 1s 42us/step - loss: 7.5478e-08 - mean_absolute_error: 8.3315e-05 - val_loss: 3.5462e-08 - val_mean_absolute_error: 5.1582e-05\n",
      "Epoch 693/1000\n",
      "14400/14400 [==============================] - 0s 33us/step - loss: 5.3771e-08 - mean_absolute_error: 7.4820e-05 - val_loss: 4.8703e-08 - val_mean_absolute_error: 8.6414e-05\n",
      "Epoch 694/1000\n",
      "14400/14400 [==============================] - 0s 27us/step - loss: 1.3795e-07 - mean_absolute_error: 9.0693e-05 - val_loss: 3.8653e-08 - val_mean_absolute_error: 7.6639e-05\n",
      "Epoch 695/1000\n",
      "14400/14400 [==============================] - 0s 29us/step - loss: 2.3884e-07 - mean_absolute_error: 1.4055e-04 - val_loss: 1.6136e-07 - val_mean_absolute_error: 2.3935e-04\n",
      "Epoch 696/1000\n",
      "14400/14400 [==============================] - 0s 30us/step - loss: 3.7157e-08 - mean_absolute_error: 7.0840e-05 - val_loss: 3.0328e-08 - val_mean_absolute_error: 5.5704e-05\n",
      "Epoch 697/1000\n",
      "14400/14400 [==============================] - 0s 30us/step - loss: 2.0406e-08 - mean_absolute_error: 5.0886e-05 - val_loss: 2.4924e-08 - val_mean_absolute_error: 4.5583e-05\n",
      "Epoch 698/1000\n",
      "14400/14400 [==============================] - 0s 35us/step - loss: 1.5312e-08 - mean_absolute_error: 4.8024e-05 - val_loss: 3.9655e-08 - val_mean_absolute_error: 5.5901e-05\n",
      "Epoch 699/1000\n",
      "14400/14400 [==============================] - 0s 27us/step - loss: 4.4428e-08 - mean_absolute_error: 7.3394e-05 - val_loss: 7.3700e-08 - val_mean_absolute_error: 1.2491e-04\n",
      "Epoch 700/1000\n",
      "14400/14400 [==============================] - 0s 33us/step - loss: 5.2190e-08 - mean_absolute_error: 7.8577e-05 - val_loss: 5.1702e-08 - val_mean_absolute_error: 6.3793e-05\n",
      "Epoch 701/1000\n",
      "14400/14400 [==============================] - 0s 30us/step - loss: 8.1364e-08 - mean_absolute_error: 8.8307e-05 - val_loss: 3.3430e-08 - val_mean_absolute_error: 6.2045e-05\n",
      "Epoch 702/1000\n",
      "14400/14400 [==============================] - 0s 26us/step - loss: 5.8075e-08 - mean_absolute_error: 8.0525e-05 - val_loss: 3.4640e-08 - val_mean_absolute_error: 5.4929e-05\n",
      "Epoch 703/1000\n",
      "14400/14400 [==============================] - 0s 25us/step - loss: 7.2727e-08 - mean_absolute_error: 7.9847e-05 - val_loss: 5.7028e-08 - val_mean_absolute_error: 7.0779e-05\n",
      "Epoch 704/1000\n",
      "14400/14400 [==============================] - 0s 25us/step - loss: 8.1375e-08 - mean_absolute_error: 8.7847e-05 - val_loss: 3.1623e-08 - val_mean_absolute_error: 5.3505e-05\n",
      "Epoch 705/1000\n",
      "14400/14400 [==============================] - 0s 32us/step - loss: 4.9642e-08 - mean_absolute_error: 7.1573e-05 - val_loss: 5.2134e-07 - val_mean_absolute_error: 3.1009e-04\n",
      "Epoch 706/1000\n",
      "14400/14400 [==============================] - 0s 29us/step - loss: 8.3703e-08 - mean_absolute_error: 8.9431e-05 - val_loss: 1.0448e-07 - val_mean_absolute_error: 9.8927e-05\n",
      "Epoch 707/1000\n",
      "14400/14400 [==============================] - 0s 34us/step - loss: 1.6935e-07 - mean_absolute_error: 1.2341e-04 - val_loss: 3.7628e-08 - val_mean_absolute_error: 7.5960e-05\n",
      "Epoch 708/1000\n",
      "14400/14400 [==============================] - 0s 32us/step - loss: 4.1166e-08 - mean_absolute_error: 6.8538e-05 - val_loss: 4.2145e-08 - val_mean_absolute_error: 6.3456e-05\n",
      "Epoch 709/1000\n",
      "14400/14400 [==============================] - 0s 30us/step - loss: 3.7686e-08 - mean_absolute_error: 6.7847e-05 - val_loss: 5.2788e-08 - val_mean_absolute_error: 1.0934e-04\n",
      "Epoch 710/1000\n",
      "14400/14400 [==============================] - 1s 36us/step - loss: 4.5268e-08 - mean_absolute_error: 6.6757e-05 - val_loss: 8.7209e-08 - val_mean_absolute_error: 9.2255e-05\n",
      "Epoch 711/1000\n",
      "14400/14400 [==============================] - 1s 35us/step - loss: 9.1285e-08 - mean_absolute_error: 9.4679e-05 - val_loss: 9.0223e-08 - val_mean_absolute_error: 1.0452e-04\n",
      "Epoch 712/1000\n",
      "14400/14400 [==============================] - 0s 28us/step - loss: 5.1142e-08 - mean_absolute_error: 7.8311e-05 - val_loss: 2.6399e-07 - val_mean_absolute_error: 1.7243e-04\n",
      "Epoch 713/1000\n",
      "14400/14400 [==============================] - 0s 32us/step - loss: 6.3465e-08 - mean_absolute_error: 7.7555e-05 - val_loss: 5.5946e-08 - val_mean_absolute_error: 6.4306e-05\n",
      "Epoch 714/1000\n",
      "14400/14400 [==============================] - 0s 31us/step - loss: 5.4799e-08 - mean_absolute_error: 7.6907e-05 - val_loss: 4.2092e-08 - val_mean_absolute_error: 7.2608e-05\n",
      "Epoch 715/1000\n",
      "14400/14400 [==============================] - 0s 28us/step - loss: 1.5429e-07 - mean_absolute_error: 1.2061e-04 - val_loss: 5.5672e-08 - val_mean_absolute_error: 6.6008e-05\n",
      "Epoch 716/1000\n",
      "14400/14400 [==============================] - 0s 31us/step - loss: 9.2539e-08 - mean_absolute_error: 8.2814e-05 - val_loss: 3.6771e-08 - val_mean_absolute_error: 5.5118e-05\n",
      "Epoch 717/1000\n",
      "14400/14400 [==============================] - 0s 30us/step - loss: 4.3736e-08 - mean_absolute_error: 6.5169e-05 - val_loss: 3.0887e-08 - val_mean_absolute_error: 4.9801e-05\n",
      "Epoch 718/1000\n",
      "14400/14400 [==============================] - 0s 30us/step - loss: 8.2866e-08 - mean_absolute_error: 8.3713e-05 - val_loss: 5.4585e-08 - val_mean_absolute_error: 9.8035e-05\n",
      "Epoch 719/1000\n",
      "14400/14400 [==============================] - 0s 28us/step - loss: 9.4758e-08 - mean_absolute_error: 8.7625e-05 - val_loss: 5.8206e-08 - val_mean_absolute_error: 7.5237e-05\n",
      "Epoch 720/1000\n",
      "14400/14400 [==============================] - 0s 30us/step - loss: 5.8149e-08 - mean_absolute_error: 8.5103e-05 - val_loss: 2.9138e-08 - val_mean_absolute_error: 5.2246e-05\n",
      "Epoch 721/1000\n",
      "14400/14400 [==============================] - 0s 28us/step - loss: 4.3938e-08 - mean_absolute_error: 6.6139e-05 - val_loss: 3.2487e-08 - val_mean_absolute_error: 5.6692e-05\n",
      "Epoch 722/1000\n",
      "14400/14400 [==============================] - 0s 30us/step - loss: 5.6959e-08 - mean_absolute_error: 6.8309e-05 - val_loss: 3.9640e-08 - val_mean_absolute_error: 5.4605e-05\n",
      "Epoch 723/1000\n",
      "14400/14400 [==============================] - 0s 25us/step - loss: 4.1083e-08 - mean_absolute_error: 6.5267e-05 - val_loss: 2.9800e-08 - val_mean_absolute_error: 5.3199e-05\n",
      "Epoch 724/1000\n",
      "14400/14400 [==============================] - 0s 29us/step - loss: 2.5438e-08 - mean_absolute_error: 5.8480e-05 - val_loss: 6.5500e-08 - val_mean_absolute_error: 7.2989e-05\n",
      "Epoch 725/1000\n",
      "14400/14400 [==============================] - 0s 30us/step - loss: 4.8979e-08 - mean_absolute_error: 7.6095e-05 - val_loss: 4.9619e-08 - val_mean_absolute_error: 7.2814e-05\n",
      "Epoch 726/1000\n",
      "14400/14400 [==============================] - 0s 29us/step - loss: 9.5777e-08 - mean_absolute_error: 1.0372e-04 - val_loss: 3.5776e-08 - val_mean_absolute_error: 5.9907e-05\n",
      "Epoch 727/1000\n",
      "14400/14400 [==============================] - 0s 29us/step - loss: 1.2470e-07 - mean_absolute_error: 1.0166e-04 - val_loss: 8.0317e-08 - val_mean_absolute_error: 8.2298e-05\n",
      "Epoch 728/1000\n",
      "14400/14400 [==============================] - 0s 25us/step - loss: 2.8875e-07 - mean_absolute_error: 1.3303e-04 - val_loss: 5.9050e-08 - val_mean_absolute_error: 6.4372e-05\n",
      "Epoch 729/1000\n",
      "14400/14400 [==============================] - 0s 25us/step - loss: 5.9512e-08 - mean_absolute_error: 7.2567e-05 - val_loss: 5.8950e-08 - val_mean_absolute_error: 6.8946e-05\n",
      "Epoch 730/1000\n",
      "14400/14400 [==============================] - 0s 25us/step - loss: 8.1657e-08 - mean_absolute_error: 8.7643e-05 - val_loss: 4.6275e-08 - val_mean_absolute_error: 8.0435e-05\n",
      "Epoch 731/1000\n",
      "14400/14400 [==============================] - 0s 28us/step - loss: 3.1893e-08 - mean_absolute_error: 6.1669e-05 - val_loss: 5.7107e-08 - val_mean_absolute_error: 7.3318e-05\n",
      "Epoch 732/1000\n",
      "14400/14400 [==============================] - 0s 29us/step - loss: 1.6849e-08 - mean_absolute_error: 4.8748e-05 - val_loss: 3.5406e-08 - val_mean_absolute_error: 4.6817e-05\n",
      "Epoch 733/1000\n",
      "14400/14400 [==============================] - 0s 30us/step - loss: 2.2201e-08 - mean_absolute_error: 5.2175e-05 - val_loss: 5.5804e-08 - val_mean_absolute_error: 9.9146e-05\n",
      "Epoch 734/1000\n",
      "14400/14400 [==============================] - 0s 25us/step - loss: 8.1895e-08 - mean_absolute_error: 9.5798e-05 - val_loss: 4.0181e-08 - val_mean_absolute_error: 5.9067e-05\n",
      "Epoch 735/1000\n"
     ]
    },
    {
     "name": "stdout",
     "output_type": "stream",
     "text": [
      "14400/14400 [==============================] - 0s 28us/step - loss: 6.8341e-08 - mean_absolute_error: 8.3303e-05 - val_loss: 1.7606e-07 - val_mean_absolute_error: 1.4048e-04\n",
      "Epoch 736/1000\n",
      "14400/14400 [==============================] - 0s 26us/step - loss: 1.1231e-07 - mean_absolute_error: 1.0549e-04 - val_loss: 2.6460e-08 - val_mean_absolute_error: 5.2654e-05\n",
      "Epoch 737/1000\n",
      "14400/14400 [==============================] - 0s 31us/step - loss: 4.2387e-08 - mean_absolute_error: 6.9872e-05 - val_loss: 2.6369e-08 - val_mean_absolute_error: 4.7036e-05\n",
      "Epoch 738/1000\n",
      "14400/14400 [==============================] - 0s 30us/step - loss: 1.8479e-07 - mean_absolute_error: 1.1362e-04 - val_loss: 5.2682e-08 - val_mean_absolute_error: 7.4498e-05\n",
      "Epoch 739/1000\n",
      "14400/14400 [==============================] - 0s 27us/step - loss: 1.7098e-07 - mean_absolute_error: 1.1027e-04 - val_loss: 2.9409e-08 - val_mean_absolute_error: 4.9224e-05\n",
      "Epoch 740/1000\n",
      "14400/14400 [==============================] - 0s 27us/step - loss: 3.6104e-08 - mean_absolute_error: 6.1816e-05 - val_loss: 3.0507e-08 - val_mean_absolute_error: 4.7891e-05\n",
      "Epoch 741/1000\n",
      "14400/14400 [==============================] - 0s 28us/step - loss: 3.4894e-08 - mean_absolute_error: 6.2760e-05 - val_loss: 4.3504e-08 - val_mean_absolute_error: 5.7396e-05\n",
      "Epoch 742/1000\n",
      "14400/14400 [==============================] - 0s 26us/step - loss: 4.3479e-08 - mean_absolute_error: 7.1792e-05 - val_loss: 4.2354e-08 - val_mean_absolute_error: 5.2075e-05\n",
      "Epoch 743/1000\n",
      "14400/14400 [==============================] - 0s 28us/step - loss: 4.9100e-08 - mean_absolute_error: 7.3630e-05 - val_loss: 5.2861e-08 - val_mean_absolute_error: 6.8097e-05\n",
      "Epoch 744/1000\n",
      "14400/14400 [==============================] - 0s 26us/step - loss: 1.0798e-07 - mean_absolute_error: 1.0374e-04 - val_loss: 5.3098e-08 - val_mean_absolute_error: 6.5778e-05\n",
      "Epoch 745/1000\n",
      "14400/14400 [==============================] - 0s 27us/step - loss: 7.0617e-08 - mean_absolute_error: 8.5601e-05 - val_loss: 2.6314e-08 - val_mean_absolute_error: 4.9972e-05\n",
      "Epoch 746/1000\n",
      "14400/14400 [==============================] - 0s 27us/step - loss: 2.6119e-08 - mean_absolute_error: 5.5198e-05 - val_loss: 1.1381e-07 - val_mean_absolute_error: 1.1547e-04\n",
      "Epoch 747/1000\n",
      "14400/14400 [==============================] - 0s 29us/step - loss: 1.2044e-07 - mean_absolute_error: 9.4508e-05 - val_loss: 8.0051e-08 - val_mean_absolute_error: 7.8674e-05\n",
      "Epoch 748/1000\n",
      "14400/14400 [==============================] - 0s 28us/step - loss: 7.8544e-08 - mean_absolute_error: 8.8953e-05 - val_loss: 3.3205e-08 - val_mean_absolute_error: 5.2286e-05\n",
      "Epoch 749/1000\n",
      "14400/14400 [==============================] - 0s 25us/step - loss: 5.3646e-08 - mean_absolute_error: 7.4739e-05 - val_loss: 7.2047e-08 - val_mean_absolute_error: 8.2009e-05\n",
      "Epoch 750/1000\n",
      "14400/14400 [==============================] - 0s 28us/step - loss: 7.5564e-08 - mean_absolute_error: 8.2252e-05 - val_loss: 3.1739e-08 - val_mean_absolute_error: 5.1806e-05\n",
      "Epoch 751/1000\n",
      "14400/14400 [==============================] - 0s 28us/step - loss: 5.4239e-08 - mean_absolute_error: 7.8437e-05 - val_loss: 5.2734e-08 - val_mean_absolute_error: 8.6283e-05\n",
      "Epoch 752/1000\n",
      "14400/14400 [==============================] - 0s 26us/step - loss: 4.2289e-08 - mean_absolute_error: 6.8157e-05 - val_loss: 1.1328e-07 - val_mean_absolute_error: 1.1097e-04\n",
      "Epoch 753/1000\n",
      "14400/14400 [==============================] - 0s 27us/step - loss: 1.0538e-07 - mean_absolute_error: 9.4430e-05 - val_loss: 6.9910e-08 - val_mean_absolute_error: 7.5181e-05\n",
      "Epoch 754/1000\n",
      "14400/14400 [==============================] - 0s 28us/step - loss: 6.0008e-08 - mean_absolute_error: 7.8841e-05 - val_loss: 6.0518e-08 - val_mean_absolute_error: 7.0032e-05\n",
      "Epoch 755/1000\n",
      "14400/14400 [==============================] - 0s 28us/step - loss: 4.1944e-08 - mean_absolute_error: 6.9086e-05 - val_loss: 4.6202e-08 - val_mean_absolute_error: 6.5530e-05\n",
      "Epoch 756/1000\n",
      "14400/14400 [==============================] - 0s 25us/step - loss: 4.4647e-08 - mean_absolute_error: 7.1018e-05 - val_loss: 4.3820e-08 - val_mean_absolute_error: 6.8827e-05\n",
      "Epoch 757/1000\n",
      "14400/14400 [==============================] - 0s 24us/step - loss: 5.8412e-08 - mean_absolute_error: 7.5461e-05 - val_loss: 2.8666e-08 - val_mean_absolute_error: 5.6371e-05\n",
      "Epoch 758/1000\n",
      "14400/14400 [==============================] - 0s 24us/step - loss: 3.6179e-08 - mean_absolute_error: 6.4643e-05 - val_loss: 4.9617e-08 - val_mean_absolute_error: 1.0686e-04\n",
      "Epoch 759/1000\n",
      "14400/14400 [==============================] - 0s 27us/step - loss: 1.2684e-07 - mean_absolute_error: 1.0336e-04 - val_loss: 4.4734e-08 - val_mean_absolute_error: 7.6685e-05\n",
      "Epoch 760/1000\n",
      "14400/14400 [==============================] - 0s 28us/step - loss: 1.0802e-07 - mean_absolute_error: 1.0349e-04 - val_loss: 4.3563e-08 - val_mean_absolute_error: 5.8147e-05\n",
      "Epoch 761/1000\n",
      "14400/14400 [==============================] - 0s 29us/step - loss: 6.3230e-08 - mean_absolute_error: 7.8306e-05 - val_loss: 5.6887e-08 - val_mean_absolute_error: 6.8403e-05\n",
      "Epoch 762/1000\n",
      "14400/14400 [==============================] - 0s 28us/step - loss: 4.3539e-08 - mean_absolute_error: 6.5086e-05 - val_loss: 6.1065e-08 - val_mean_absolute_error: 7.0314e-05\n",
      "Epoch 763/1000\n",
      "14400/14400 [==============================] - 0s 27us/step - loss: 3.8131e-08 - mean_absolute_error: 6.5975e-05 - val_loss: 2.9651e-08 - val_mean_absolute_error: 4.9027e-05\n",
      "Epoch 764/1000\n",
      "14400/14400 [==============================] - 0s 25us/step - loss: 4.2953e-08 - mean_absolute_error: 6.6498e-05 - val_loss: 4.2851e-08 - val_mean_absolute_error: 8.1618e-05\n",
      "Epoch 765/1000\n",
      "14400/14400 [==============================] - 0s 26us/step - loss: 7.7011e-08 - mean_absolute_error: 9.0937e-05 - val_loss: 5.6386e-08 - val_mean_absolute_error: 7.5520e-05\n",
      "Epoch 766/1000\n",
      "14400/14400 [==============================] - 0s 24us/step - loss: 8.8332e-08 - mean_absolute_error: 9.2657e-05 - val_loss: 3.6783e-08 - val_mean_absolute_error: 5.1580e-05\n",
      "Epoch 767/1000\n",
      "14400/14400 [==============================] - 0s 24us/step - loss: 4.4521e-08 - mean_absolute_error: 7.4090e-05 - val_loss: 3.5434e-08 - val_mean_absolute_error: 5.3545e-05\n",
      "Epoch 768/1000\n",
      "14400/14400 [==============================] - 0s 24us/step - loss: 3.6116e-08 - mean_absolute_error: 6.4733e-05 - val_loss: 7.6155e-08 - val_mean_absolute_error: 1.0922e-04\n",
      "Epoch 769/1000\n",
      "14400/14400 [==============================] - 0s 25us/step - loss: 5.3548e-08 - mean_absolute_error: 8.6835e-05 - val_loss: 4.4724e-08 - val_mean_absolute_error: 5.3831e-05\n",
      "Epoch 770/1000\n",
      "14400/14400 [==============================] - 0s 24us/step - loss: 1.8905e-07 - mean_absolute_error: 1.2052e-04 - val_loss: 4.3288e-07 - val_mean_absolute_error: 2.4081e-04\n",
      "Epoch 771/1000\n",
      "14400/14400 [==============================] - 0s 24us/step - loss: 1.6321e-07 - mean_absolute_error: 1.1476e-04 - val_loss: 3.2397e-08 - val_mean_absolute_error: 5.6312e-05\n",
      "Epoch 772/1000\n",
      "14400/14400 [==============================] - 0s 25us/step - loss: 2.8620e-08 - mean_absolute_error: 5.8587e-05 - val_loss: 5.7931e-08 - val_mean_absolute_error: 7.3050e-05\n",
      "Epoch 773/1000\n",
      "14400/14400 [==============================] - 0s 24us/step - loss: 3.3964e-08 - mean_absolute_error: 6.4401e-05 - val_loss: 3.1202e-08 - val_mean_absolute_error: 5.1823e-05\n",
      "Epoch 774/1000\n",
      "14400/14400 [==============================] - 0s 24us/step - loss: 5.1654e-08 - mean_absolute_error: 7.4746e-05 - val_loss: 3.0974e-08 - val_mean_absolute_error: 5.8432e-05\n",
      "Epoch 775/1000\n",
      "14400/14400 [==============================] - 0s 24us/step - loss: 3.8187e-08 - mean_absolute_error: 6.1369e-05 - val_loss: 1.0378e-07 - val_mean_absolute_error: 1.5595e-04\n",
      "Epoch 776/1000\n",
      "14400/14400 [==============================] - 0s 24us/step - loss: 8.0227e-08 - mean_absolute_error: 8.6963e-05 - val_loss: 1.4634e-07 - val_mean_absolute_error: 1.1191e-04\n",
      "Epoch 777/1000\n",
      "14400/14400 [==============================] - 0s 24us/step - loss: 8.5636e-08 - mean_absolute_error: 9.3351e-05 - val_loss: 6.4756e-08 - val_mean_absolute_error: 9.3216e-05\n",
      "Epoch 778/1000\n"
     ]
    },
    {
     "name": "stdout",
     "output_type": "stream",
     "text": [
      "14400/14400 [==============================] - 0s 24us/step - loss: 6.8194e-08 - mean_absolute_error: 8.7206e-05 - val_loss: 2.1578e-07 - val_mean_absolute_error: 1.7570e-04\n",
      "Epoch 779/1000\n",
      "14400/14400 [==============================] - 0s 24us/step - loss: 1.1370e-07 - mean_absolute_error: 9.2056e-05 - val_loss: 4.9037e-08 - val_mean_absolute_error: 6.4685e-05\n",
      "Epoch 780/1000\n",
      "14400/14400 [==============================] - 0s 24us/step - loss: 1.4885e-07 - mean_absolute_error: 1.1968e-04 - val_loss: 4.2365e-08 - val_mean_absolute_error: 7.4254e-05\n",
      "Epoch 781/1000\n",
      "14400/14400 [==============================] - 0s 25us/step - loss: 5.5718e-08 - mean_absolute_error: 7.8505e-05 - val_loss: 3.9367e-08 - val_mean_absolute_error: 6.2140e-05\n",
      "Epoch 782/1000\n",
      "14400/14400 [==============================] - 0s 24us/step - loss: 6.2996e-08 - mean_absolute_error: 7.8637e-05 - val_loss: 2.0015e-07 - val_mean_absolute_error: 1.8957e-04\n",
      "Epoch 783/1000\n",
      "14400/14400 [==============================] - 0s 24us/step - loss: 7.8852e-08 - mean_absolute_error: 8.8957e-05 - val_loss: 5.2404e-08 - val_mean_absolute_error: 6.1772e-05\n",
      "Epoch 784/1000\n",
      "14400/14400 [==============================] - 0s 24us/step - loss: 2.7171e-08 - mean_absolute_error: 5.8705e-05 - val_loss: 4.3529e-08 - val_mean_absolute_error: 7.5374e-05\n",
      "Epoch 785/1000\n",
      "14400/14400 [==============================] - 0s 24us/step - loss: 5.7746e-08 - mean_absolute_error: 8.2339e-05 - val_loss: 3.5271e-08 - val_mean_absolute_error: 4.9864e-05\n",
      "Epoch 786/1000\n",
      "14400/14400 [==============================] - 0s 24us/step - loss: 5.8175e-08 - mean_absolute_error: 7.8500e-05 - val_loss: 4.8213e-08 - val_mean_absolute_error: 6.0227e-05\n",
      "Epoch 787/1000\n",
      "14400/14400 [==============================] - 0s 24us/step - loss: 1.3415e-07 - mean_absolute_error: 1.1345e-04 - val_loss: 4.4498e-08 - val_mean_absolute_error: 7.5938e-05\n",
      "Epoch 788/1000\n",
      "14400/14400 [==============================] - 0s 24us/step - loss: 1.0193e-07 - mean_absolute_error: 1.0398e-04 - val_loss: 4.5840e-08 - val_mean_absolute_error: 6.7788e-05\n",
      "Epoch 789/1000\n",
      "14400/14400 [==============================] - 0s 24us/step - loss: 3.9082e-08 - mean_absolute_error: 6.8829e-05 - val_loss: 3.1197e-08 - val_mean_absolute_error: 5.1172e-05\n",
      "Epoch 790/1000\n",
      "14400/14400 [==============================] - 0s 24us/step - loss: 6.3845e-08 - mean_absolute_error: 7.5581e-05 - val_loss: 6.9770e-08 - val_mean_absolute_error: 7.1651e-05\n",
      "Epoch 791/1000\n",
      "14400/14400 [==============================] - 0s 24us/step - loss: 1.2473e-07 - mean_absolute_error: 1.0632e-04 - val_loss: 3.8408e-08 - val_mean_absolute_error: 6.1778e-05\n",
      "Epoch 792/1000\n",
      "14400/14400 [==============================] - 0s 24us/step - loss: 1.3728e-07 - mean_absolute_error: 1.1911e-04 - val_loss: 5.6845e-08 - val_mean_absolute_error: 7.6924e-05\n",
      "Epoch 793/1000\n",
      "14400/14400 [==============================] - 0s 24us/step - loss: 1.0981e-07 - mean_absolute_error: 9.4243e-05 - val_loss: 4.8208e-08 - val_mean_absolute_error: 6.9887e-05\n",
      "Epoch 794/1000\n",
      "14400/14400 [==============================] - 0s 24us/step - loss: 3.0422e-08 - mean_absolute_error: 6.3026e-05 - val_loss: 4.7044e-08 - val_mean_absolute_error: 7.8313e-05\n",
      "Epoch 795/1000\n",
      "14400/14400 [==============================] - 0s 24us/step - loss: 2.3676e-08 - mean_absolute_error: 5.5543e-05 - val_loss: 3.1681e-08 - val_mean_absolute_error: 4.5733e-05\n",
      "Epoch 796/1000\n",
      "14400/14400 [==============================] - 0s 24us/step - loss: 4.2746e-08 - mean_absolute_error: 6.6414e-05 - val_loss: 8.6335e-08 - val_mean_absolute_error: 9.4383e-05\n",
      "Epoch 797/1000\n",
      "14400/14400 [==============================] - 0s 24us/step - loss: 3.3427e-08 - mean_absolute_error: 6.3638e-05 - val_loss: 3.4964e-08 - val_mean_absolute_error: 5.3729e-05\n",
      "Epoch 798/1000\n",
      "14400/14400 [==============================] - 0s 24us/step - loss: 3.6863e-08 - mean_absolute_error: 6.7639e-05 - val_loss: 3.4995e-08 - val_mean_absolute_error: 5.8418e-05\n",
      "Epoch 799/1000\n",
      "14400/14400 [==============================] - 0s 24us/step - loss: 1.6053e-07 - mean_absolute_error: 1.1747e-04 - val_loss: 6.0103e-08 - val_mean_absolute_error: 7.1583e-05\n",
      "Epoch 800/1000\n",
      "14400/14400 [==============================] - 0s 24us/step - loss: 1.1568e-07 - mean_absolute_error: 9.4470e-05 - val_loss: 6.7949e-08 - val_mean_absolute_error: 8.0622e-05\n",
      "Epoch 801/1000\n",
      "14400/14400 [==============================] - 0s 24us/step - loss: 4.1120e-08 - mean_absolute_error: 7.0011e-05 - val_loss: 3.2881e-08 - val_mean_absolute_error: 4.9124e-05\n",
      "Epoch 802/1000\n",
      "14400/14400 [==============================] - 0s 24us/step - loss: 4.4023e-08 - mean_absolute_error: 6.8876e-05 - val_loss: 3.4070e-08 - val_mean_absolute_error: 5.4677e-05\n",
      "Epoch 803/1000\n",
      "14400/14400 [==============================] - 0s 24us/step - loss: 6.9997e-08 - mean_absolute_error: 8.4796e-05 - val_loss: 1.7258e-07 - val_mean_absolute_error: 1.3194e-04\n",
      "Epoch 804/1000\n",
      "14400/14400 [==============================] - 0s 24us/step - loss: 1.1004e-07 - mean_absolute_error: 9.4659e-05 - val_loss: 3.3616e-08 - val_mean_absolute_error: 4.7529e-05\n",
      "Epoch 805/1000\n",
      "14400/14400 [==============================] - 0s 24us/step - loss: 4.4786e-08 - mean_absolute_error: 7.3240e-05 - val_loss: 4.7875e-08 - val_mean_absolute_error: 7.6392e-05\n",
      "Epoch 806/1000\n",
      "14400/14400 [==============================] - 0s 26us/step - loss: 3.8551e-08 - mean_absolute_error: 6.9191e-05 - val_loss: 4.6435e-08 - val_mean_absolute_error: 6.0940e-05\n",
      "Epoch 807/1000\n",
      "14400/14400 [==============================] - 0s 26us/step - loss: 9.7859e-08 - mean_absolute_error: 9.6341e-05 - val_loss: 3.7552e-08 - val_mean_absolute_error: 5.9135e-05\n",
      "Epoch 808/1000\n",
      "14400/14400 [==============================] - 0s 24us/step - loss: 6.8625e-08 - mean_absolute_error: 8.7453e-05 - val_loss: 4.2860e-08 - val_mean_absolute_error: 5.8811e-05\n",
      "Epoch 809/1000\n",
      "14400/14400 [==============================] - 0s 24us/step - loss: 7.3580e-08 - mean_absolute_error: 8.1696e-05 - val_loss: 4.1553e-08 - val_mean_absolute_error: 6.7990e-05\n",
      "Epoch 810/1000\n",
      "14400/14400 [==============================] - 0s 24us/step - loss: 1.1135e-07 - mean_absolute_error: 8.7875e-05 - val_loss: 1.0683e-07 - val_mean_absolute_error: 9.3829e-05\n",
      "Epoch 811/1000\n",
      "14400/14400 [==============================] - 0s 24us/step - loss: 7.2562e-08 - mean_absolute_error: 8.0786e-05 - val_loss: 1.6190e-07 - val_mean_absolute_error: 1.3034e-04\n",
      "Epoch 812/1000\n",
      "14400/14400 [==============================] - 0s 24us/step - loss: 3.3780e-08 - mean_absolute_error: 6.3435e-05 - val_loss: 3.8118e-08 - val_mean_absolute_error: 4.8352e-05\n",
      "Epoch 813/1000\n",
      "14400/14400 [==============================] - 0s 25us/step - loss: 3.5649e-08 - mean_absolute_error: 6.3758e-05 - val_loss: 3.8110e-08 - val_mean_absolute_error: 5.1639e-05\n",
      "Epoch 814/1000\n",
      "14400/14400 [==============================] - 0s 24us/step - loss: 4.2470e-08 - mean_absolute_error: 7.0417e-05 - val_loss: 4.6500e-08 - val_mean_absolute_error: 1.1013e-04\n",
      "Epoch 815/1000\n",
      "14400/14400 [==============================] - 0s 24us/step - loss: 4.7789e-08 - mean_absolute_error: 7.7947e-05 - val_loss: 8.3220e-08 - val_mean_absolute_error: 9.3151e-05\n",
      "Epoch 816/1000\n",
      "14400/14400 [==============================] - 0s 24us/step - loss: 1.9086e-07 - mean_absolute_error: 1.1728e-04 - val_loss: 6.7774e-08 - val_mean_absolute_error: 8.4349e-05\n",
      "Epoch 817/1000\n",
      "14400/14400 [==============================] - 0s 25us/step - loss: 1.7443e-07 - mean_absolute_error: 1.0837e-04 - val_loss: 5.5054e-08 - val_mean_absolute_error: 6.0714e-05\n",
      "Epoch 818/1000\n",
      "14400/14400 [==============================] - 0s 25us/step - loss: 9.3860e-08 - mean_absolute_error: 8.9317e-05 - val_loss: 3.4894e-08 - val_mean_absolute_error: 5.1986e-05\n",
      "Epoch 819/1000\n",
      "14400/14400 [==============================] - 0s 28us/step - loss: 7.3164e-08 - mean_absolute_error: 7.7932e-05 - val_loss: 3.6718e-08 - val_mean_absolute_error: 5.0424e-05\n",
      "Epoch 820/1000\n",
      "14400/14400 [==============================] - 0s 28us/step - loss: 5.2556e-08 - mean_absolute_error: 7.1291e-05 - val_loss: 1.0449e-06 - val_mean_absolute_error: 4.2927e-04\n",
      "Epoch 821/1000\n"
     ]
    },
    {
     "name": "stdout",
     "output_type": "stream",
     "text": [
      "14400/14400 [==============================] - 0s 26us/step - loss: 1.6437e-07 - mean_absolute_error: 1.0610e-04 - val_loss: 4.0853e-08 - val_mean_absolute_error: 6.1185e-05\n",
      "Epoch 822/1000\n",
      "14400/14400 [==============================] - 0s 25us/step - loss: 6.6613e-08 - mean_absolute_error: 7.8824e-05 - val_loss: 3.5227e-07 - val_mean_absolute_error: 2.0240e-04\n",
      "Epoch 823/1000\n",
      "14400/14400 [==============================] - 0s 25us/step - loss: 2.7884e-08 - mean_absolute_error: 6.1772e-05 - val_loss: 4.0117e-08 - val_mean_absolute_error: 5.0326e-05\n",
      "Epoch 824/1000\n",
      "14400/14400 [==============================] - 0s 27us/step - loss: 3.1024e-08 - mean_absolute_error: 6.0145e-05 - val_loss: 9.5490e-08 - val_mean_absolute_error: 9.7667e-05\n",
      "Epoch 825/1000\n",
      "14400/14400 [==============================] - 0s 28us/step - loss: 3.3459e-08 - mean_absolute_error: 7.0071e-05 - val_loss: 3.5340e-08 - val_mean_absolute_error: 6.3344e-05\n",
      "Epoch 826/1000\n",
      "14400/14400 [==============================] - 0s 26us/step - loss: 4.7110e-08 - mean_absolute_error: 7.1868e-05 - val_loss: 1.0438e-07 - val_mean_absolute_error: 9.7570e-05\n",
      "Epoch 827/1000\n",
      "14400/14400 [==============================] - 0s 27us/step - loss: 1.2081e-07 - mean_absolute_error: 1.1115e-04 - val_loss: 3.2134e-08 - val_mean_absolute_error: 5.6135e-05\n",
      "Epoch 828/1000\n",
      "14400/14400 [==============================] - 0s 25us/step - loss: 6.8565e-08 - mean_absolute_error: 8.3499e-05 - val_loss: 8.8894e-08 - val_mean_absolute_error: 9.2138e-05\n",
      "Epoch 829/1000\n",
      "14400/14400 [==============================] - 0s 28us/step - loss: 5.4622e-08 - mean_absolute_error: 7.9560e-05 - val_loss: 1.7812e-07 - val_mean_absolute_error: 2.0078e-04\n",
      "Epoch 830/1000\n",
      "14400/14400 [==============================] - 0s 25us/step - loss: 8.2180e-08 - mean_absolute_error: 9.8382e-05 - val_loss: 3.9637e-08 - val_mean_absolute_error: 5.7009e-05\n",
      "Epoch 831/1000\n",
      "14400/14400 [==============================] - 0s 25us/step - loss: 8.8741e-08 - mean_absolute_error: 1.0243e-04 - val_loss: 7.9182e-08 - val_mean_absolute_error: 9.9070e-05\n",
      "Epoch 832/1000\n",
      "14400/14400 [==============================] - 0s 24us/step - loss: 4.8680e-08 - mean_absolute_error: 7.4167e-05 - val_loss: 2.3280e-07 - val_mean_absolute_error: 1.8203e-04\n",
      "Epoch 833/1000\n",
      "14400/14400 [==============================] - 0s 24us/step - loss: 5.7360e-08 - mean_absolute_error: 8.2046e-05 - val_loss: 3.9313e-08 - val_mean_absolute_error: 5.1985e-05\n",
      "Epoch 834/1000\n",
      "14400/14400 [==============================] - 0s 24us/step - loss: 5.9171e-08 - mean_absolute_error: 7.3145e-05 - val_loss: 4.9935e-08 - val_mean_absolute_error: 9.8097e-05\n",
      "Epoch 835/1000\n",
      "14400/14400 [==============================] - 0s 24us/step - loss: 8.3930e-08 - mean_absolute_error: 9.8194e-05 - val_loss: 4.7578e-08 - val_mean_absolute_error: 6.2774e-05\n",
      "Epoch 836/1000\n",
      "14400/14400 [==============================] - 0s 24us/step - loss: 5.4177e-08 - mean_absolute_error: 7.1759e-05 - val_loss: 3.7013e-08 - val_mean_absolute_error: 5.5104e-05\n",
      "Epoch 837/1000\n",
      "14400/14400 [==============================] - 0s 24us/step - loss: 6.0382e-08 - mean_absolute_error: 7.9215e-05 - val_loss: 4.2060e-08 - val_mean_absolute_error: 7.7629e-05\n",
      "Epoch 838/1000\n",
      "14400/14400 [==============================] - 0s 24us/step - loss: 7.2989e-08 - mean_absolute_error: 8.3706e-05 - val_loss: 4.3077e-08 - val_mean_absolute_error: 7.5003e-05\n",
      "Epoch 839/1000\n",
      "14400/14400 [==============================] - 0s 24us/step - loss: 9.1990e-08 - mean_absolute_error: 8.3048e-05 - val_loss: 2.1051e-07 - val_mean_absolute_error: 1.5829e-04\n",
      "Epoch 840/1000\n",
      "14400/14400 [==============================] - 0s 24us/step - loss: 1.0570e-07 - mean_absolute_error: 1.0746e-04 - val_loss: 7.0697e-08 - val_mean_absolute_error: 9.6969e-05\n",
      "Epoch 841/1000\n",
      "14400/14400 [==============================] - 0s 25us/step - loss: 4.9050e-08 - mean_absolute_error: 7.1699e-05 - val_loss: 1.0346e-07 - val_mean_absolute_error: 1.3454e-04\n",
      "Epoch 842/1000\n",
      "14400/14400 [==============================] - 0s 24us/step - loss: 4.2785e-08 - mean_absolute_error: 7.1141e-05 - val_loss: 3.6114e-08 - val_mean_absolute_error: 7.3826e-05\n",
      "Epoch 843/1000\n",
      "14400/14400 [==============================] - 0s 25us/step - loss: 3.7228e-08 - mean_absolute_error: 6.5656e-05 - val_loss: 3.0685e-08 - val_mean_absolute_error: 6.2178e-05\n",
      "Epoch 844/1000\n",
      "14400/14400 [==============================] - 0s 24us/step - loss: 3.2821e-08 - mean_absolute_error: 6.4390e-05 - val_loss: 6.0587e-08 - val_mean_absolute_error: 7.6199e-05\n",
      "Epoch 845/1000\n",
      "14400/14400 [==============================] - 0s 24us/step - loss: 7.1390e-08 - mean_absolute_error: 9.0031e-05 - val_loss: 5.0598e-08 - val_mean_absolute_error: 7.7390e-05\n",
      "Epoch 846/1000\n",
      "14400/14400 [==============================] - 0s 24us/step - loss: 6.7934e-08 - mean_absolute_error: 7.9126e-05 - val_loss: 3.3902e-08 - val_mean_absolute_error: 5.0373e-05\n",
      "Epoch 847/1000\n",
      "14400/14400 [==============================] - 0s 25us/step - loss: 6.8901e-08 - mean_absolute_error: 7.1687e-05 - val_loss: 5.3008e-08 - val_mean_absolute_error: 6.8971e-05\n",
      "Epoch 848/1000\n",
      "14400/14400 [==============================] - 0s 26us/step - loss: 6.4918e-08 - mean_absolute_error: 7.8259e-05 - val_loss: 2.2084e-07 - val_mean_absolute_error: 1.4919e-04\n",
      "Epoch 849/1000\n",
      "14400/14400 [==============================] - 0s 24us/step - loss: 4.9612e-08 - mean_absolute_error: 7.5642e-05 - val_loss: 6.1587e-08 - val_mean_absolute_error: 6.7748e-05\n",
      "Epoch 850/1000\n",
      "14400/14400 [==============================] - 0s 25us/step - loss: 3.7767e-08 - mean_absolute_error: 6.8051e-05 - val_loss: 5.8903e-08 - val_mean_absolute_error: 6.5477e-05\n",
      "Epoch 851/1000\n",
      "14400/14400 [==============================] - 0s 25us/step - loss: 2.8175e-08 - mean_absolute_error: 5.8441e-05 - val_loss: 8.2345e-08 - val_mean_absolute_error: 8.9282e-05\n",
      "Epoch 852/1000\n",
      "14400/14400 [==============================] - 0s 25us/step - loss: 1.1838e-07 - mean_absolute_error: 9.7214e-05 - val_loss: 5.1962e-08 - val_mean_absolute_error: 1.0319e-04\n",
      "Epoch 853/1000\n",
      "14400/14400 [==============================] - 0s 24us/step - loss: 8.2152e-08 - mean_absolute_error: 9.6536e-05 - val_loss: 3.5051e-08 - val_mean_absolute_error: 5.3898e-05\n",
      "Epoch 854/1000\n",
      "14400/14400 [==============================] - 0s 24us/step - loss: 3.2684e-08 - mean_absolute_error: 6.6391e-05 - val_loss: 2.8815e-08 - val_mean_absolute_error: 4.7172e-05\n",
      "Epoch 855/1000\n",
      "14400/14400 [==============================] - 0s 25us/step - loss: 2.9015e-08 - mean_absolute_error: 6.1101e-05 - val_loss: 3.2349e-08 - val_mean_absolute_error: 4.7644e-05\n",
      "Epoch 856/1000\n",
      "14400/14400 [==============================] - 0s 25us/step - loss: 3.5604e-08 - mean_absolute_error: 6.6577e-05 - val_loss: 1.8194e-07 - val_mean_absolute_error: 1.4733e-04\n",
      "Epoch 857/1000\n",
      "14400/14400 [==============================] - 0s 25us/step - loss: 3.0405e-08 - mean_absolute_error: 6.6111e-05 - val_loss: 2.9615e-08 - val_mean_absolute_error: 4.6753e-05\n",
      "Epoch 858/1000\n",
      "14400/14400 [==============================] - 0s 25us/step - loss: 9.1444e-08 - mean_absolute_error: 9.1390e-05 - val_loss: 2.4366e-07 - val_mean_absolute_error: 1.6003e-04\n",
      "Epoch 859/1000\n",
      "14400/14400 [==============================] - 0s 24us/step - loss: 1.3830e-07 - mean_absolute_error: 1.0732e-04 - val_loss: 4.3584e-08 - val_mean_absolute_error: 6.9213e-05\n",
      "Epoch 860/1000\n",
      "14400/14400 [==============================] - 0s 24us/step - loss: 1.1985e-07 - mean_absolute_error: 1.0623e-04 - val_loss: 7.3213e-08 - val_mean_absolute_error: 1.0944e-04\n",
      "Epoch 861/1000\n",
      "14400/14400 [==============================] - 0s 24us/step - loss: 9.7007e-08 - mean_absolute_error: 9.6179e-05 - val_loss: 3.9996e-08 - val_mean_absolute_error: 5.6691e-05\n",
      "Epoch 862/1000\n",
      "14400/14400 [==============================] - 0s 24us/step - loss: 4.7196e-08 - mean_absolute_error: 7.1179e-05 - val_loss: 4.5906e-08 - val_mean_absolute_error: 8.0926e-05\n",
      "Epoch 863/1000\n",
      "14400/14400 [==============================] - 0s 25us/step - loss: 3.3390e-08 - mean_absolute_error: 6.5939e-05 - val_loss: 3.7743e-08 - val_mean_absolute_error: 5.0031e-05\n",
      "Epoch 864/1000\n"
     ]
    },
    {
     "name": "stdout",
     "output_type": "stream",
     "text": [
      "14400/14400 [==============================] - 0s 24us/step - loss: 3.4211e-08 - mean_absolute_error: 6.3511e-05 - val_loss: 1.1462e-07 - val_mean_absolute_error: 1.4187e-04\n",
      "Epoch 865/1000\n",
      "14400/14400 [==============================] - 0s 24us/step - loss: 3.7361e-08 - mean_absolute_error: 6.6649e-05 - val_loss: 3.2677e-08 - val_mean_absolute_error: 4.9284e-05\n",
      "Epoch 866/1000\n",
      "14400/14400 [==============================] - 0s 24us/step - loss: 6.9006e-08 - mean_absolute_error: 8.4168e-05 - val_loss: 7.1521e-08 - val_mean_absolute_error: 9.6547e-05\n",
      "Epoch 867/1000\n",
      "14400/14400 [==============================] - 0s 24us/step - loss: 4.8458e-08 - mean_absolute_error: 7.1605e-05 - val_loss: 3.5316e-08 - val_mean_absolute_error: 4.8286e-05\n",
      "Epoch 868/1000\n",
      "14400/14400 [==============================] - 0s 24us/step - loss: 9.6181e-08 - mean_absolute_error: 9.6635e-05 - val_loss: 4.2943e-08 - val_mean_absolute_error: 6.2776e-05\n",
      "Epoch 869/1000\n",
      "14400/14400 [==============================] - 0s 24us/step - loss: 1.1125e-07 - mean_absolute_error: 1.0608e-04 - val_loss: 4.3112e-08 - val_mean_absolute_error: 5.6385e-05\n",
      "Epoch 870/1000\n",
      "14400/14400 [==============================] - 0s 24us/step - loss: 6.3382e-08 - mean_absolute_error: 8.7858e-05 - val_loss: 3.9656e-08 - val_mean_absolute_error: 5.0874e-05\n",
      "Epoch 871/1000\n",
      "14400/14400 [==============================] - 0s 24us/step - loss: 3.2278e-08 - mean_absolute_error: 6.8149e-05 - val_loss: 2.7218e-08 - val_mean_absolute_error: 4.5131e-05\n",
      "Epoch 872/1000\n",
      "14400/14400 [==============================] - 0s 25us/step - loss: 1.6771e-07 - mean_absolute_error: 1.1476e-04 - val_loss: 9.1761e-08 - val_mean_absolute_error: 9.1641e-05\n",
      "Epoch 873/1000\n",
      "14400/14400 [==============================] - 0s 25us/step - loss: 1.2777e-07 - mean_absolute_error: 9.6131e-05 - val_loss: 4.1604e-08 - val_mean_absolute_error: 5.5845e-05\n",
      "Epoch 874/1000\n",
      "14400/14400 [==============================] - 0s 24us/step - loss: 7.5605e-08 - mean_absolute_error: 7.9005e-05 - val_loss: 3.6666e-08 - val_mean_absolute_error: 5.3747e-05\n",
      "Epoch 875/1000\n",
      "14400/14400 [==============================] - 0s 24us/step - loss: 5.3252e-08 - mean_absolute_error: 6.8810e-05 - val_loss: 6.9136e-08 - val_mean_absolute_error: 8.6404e-05\n",
      "Epoch 876/1000\n",
      "14400/14400 [==============================] - 0s 24us/step - loss: 1.3326e-07 - mean_absolute_error: 1.0909e-04 - val_loss: 3.5564e-08 - val_mean_absolute_error: 5.8977e-05\n",
      "Epoch 877/1000\n",
      "14400/14400 [==============================] - 0s 24us/step - loss: 7.8840e-08 - mean_absolute_error: 8.3152e-05 - val_loss: 3.1552e-08 - val_mean_absolute_error: 5.0214e-05\n",
      "Epoch 878/1000\n",
      "14400/14400 [==============================] - 0s 24us/step - loss: 1.8577e-08 - mean_absolute_error: 4.9080e-05 - val_loss: 2.9570e-08 - val_mean_absolute_error: 4.7709e-05\n",
      "Epoch 879/1000\n",
      "14400/14400 [==============================] - 0s 24us/step - loss: 2.6055e-08 - mean_absolute_error: 5.9381e-05 - val_loss: 2.9184e-08 - val_mean_absolute_error: 4.6265e-05\n",
      "Epoch 880/1000\n",
      "14400/14400 [==============================] - 0s 24us/step - loss: 8.2115e-08 - mean_absolute_error: 9.0527e-05 - val_loss: 4.4430e-08 - val_mean_absolute_error: 8.0410e-05\n",
      "Epoch 881/1000\n",
      "14400/14400 [==============================] - 0s 24us/step - loss: 6.3719e-08 - mean_absolute_error: 8.8935e-05 - val_loss: 5.4029e-08 - val_mean_absolute_error: 6.5108e-05\n",
      "Epoch 882/1000\n",
      "14400/14400 [==============================] - 0s 24us/step - loss: 3.4382e-08 - mean_absolute_error: 6.6881e-05 - val_loss: 3.3048e-08 - val_mean_absolute_error: 5.9436e-05\n",
      "Epoch 883/1000\n",
      "14400/14400 [==============================] - 0s 24us/step - loss: 1.1479e-07 - mean_absolute_error: 1.0775e-04 - val_loss: 1.1815e-07 - val_mean_absolute_error: 1.5056e-04\n",
      "Epoch 884/1000\n",
      "14400/14400 [==============================] - 0s 25us/step - loss: 8.8966e-08 - mean_absolute_error: 7.8947e-05 - val_loss: 5.0446e-08 - val_mean_absolute_error: 6.6070e-05\n",
      "Epoch 885/1000\n",
      "14400/14400 [==============================] - 0s 24us/step - loss: 4.9199e-08 - mean_absolute_error: 7.3921e-05 - val_loss: 8.8273e-08 - val_mean_absolute_error: 9.2048e-05\n",
      "Epoch 886/1000\n",
      "14400/14400 [==============================] - 0s 24us/step - loss: 6.6533e-08 - mean_absolute_error: 8.7057e-05 - val_loss: 4.6898e-08 - val_mean_absolute_error: 8.0582e-05\n",
      "Epoch 887/1000\n",
      "14400/14400 [==============================] - 0s 24us/step - loss: 4.9548e-08 - mean_absolute_error: 7.1761e-05 - val_loss: 7.1328e-08 - val_mean_absolute_error: 9.1094e-05\n",
      "Epoch 888/1000\n",
      "14400/14400 [==============================] - 0s 24us/step - loss: 8.5724e-08 - mean_absolute_error: 8.5020e-05 - val_loss: 4.1668e-08 - val_mean_absolute_error: 6.6912e-05\n",
      "Epoch 889/1000\n",
      "14400/14400 [==============================] - 0s 24us/step - loss: 7.7019e-08 - mean_absolute_error: 9.0705e-05 - val_loss: 4.5275e-08 - val_mean_absolute_error: 6.2219e-05\n",
      "Epoch 890/1000\n",
      "14400/14400 [==============================] - 0s 24us/step - loss: 5.6661e-08 - mean_absolute_error: 7.1881e-05 - val_loss: 3.8856e-08 - val_mean_absolute_error: 5.5312e-05\n",
      "Epoch 891/1000\n",
      "14400/14400 [==============================] - 0s 24us/step - loss: 1.3434e-07 - mean_absolute_error: 9.9394e-05 - val_loss: 6.1413e-08 - val_mean_absolute_error: 8.8390e-05\n",
      "Epoch 892/1000\n",
      "14400/14400 [==============================] - 0s 24us/step - loss: 7.7561e-08 - mean_absolute_error: 8.7406e-05 - val_loss: 4.1430e-08 - val_mean_absolute_error: 6.3673e-05\n",
      "Epoch 893/1000\n",
      "14400/14400 [==============================] - 0s 25us/step - loss: 7.4179e-08 - mean_absolute_error: 6.9681e-05 - val_loss: 1.6824e-07 - val_mean_absolute_error: 1.7014e-04\n",
      "Epoch 894/1000\n",
      "14400/14400 [==============================] - 0s 24us/step - loss: 9.6496e-08 - mean_absolute_error: 9.5552e-05 - val_loss: 1.0296e-07 - val_mean_absolute_error: 1.3068e-04\n",
      "Epoch 895/1000\n",
      "14400/14400 [==============================] - 0s 25us/step - loss: 6.4103e-08 - mean_absolute_error: 8.2380e-05 - val_loss: 6.5259e-08 - val_mean_absolute_error: 8.2739e-05\n",
      "Epoch 896/1000\n",
      "14400/14400 [==============================] - 0s 24us/step - loss: 3.0176e-08 - mean_absolute_error: 5.8668e-05 - val_loss: 3.9803e-08 - val_mean_absolute_error: 5.5074e-05\n",
      "Epoch 897/1000\n",
      "14400/14400 [==============================] - 0s 25us/step - loss: 3.7761e-08 - mean_absolute_error: 6.9988e-05 - val_loss: 2.9308e-08 - val_mean_absolute_error: 4.4694e-05\n",
      "Epoch 898/1000\n",
      "14400/14400 [==============================] - 0s 24us/step - loss: 4.2645e-08 - mean_absolute_error: 6.8798e-05 - val_loss: 6.9422e-08 - val_mean_absolute_error: 7.4717e-05\n",
      "Epoch 899/1000\n",
      "14400/14400 [==============================] - 0s 24us/step - loss: 4.7223e-08 - mean_absolute_error: 7.3374e-05 - val_loss: 4.2005e-08 - val_mean_absolute_error: 5.5752e-05\n",
      "Epoch 900/1000\n",
      "14400/14400 [==============================] - 0s 24us/step - loss: 6.8760e-08 - mean_absolute_error: 8.7651e-05 - val_loss: 5.1947e-08 - val_mean_absolute_error: 7.0135e-05\n",
      "Epoch 901/1000\n",
      "14400/14400 [==============================] - 0s 24us/step - loss: 7.9420e-08 - mean_absolute_error: 9.2116e-05 - val_loss: 1.0220e-07 - val_mean_absolute_error: 1.1266e-04\n",
      "Epoch 902/1000\n",
      "14400/14400 [==============================] - 0s 24us/step - loss: 8.7107e-08 - mean_absolute_error: 8.9182e-05 - val_loss: 4.2991e-08 - val_mean_absolute_error: 5.7334e-05\n",
      "Epoch 903/1000\n",
      "14400/14400 [==============================] - 0s 24us/step - loss: 9.5820e-08 - mean_absolute_error: 9.4719e-05 - val_loss: 4.6378e-08 - val_mean_absolute_error: 6.1095e-05\n",
      "Epoch 904/1000\n",
      "14400/14400 [==============================] - 0s 24us/step - loss: 7.5652e-08 - mean_absolute_error: 9.0152e-05 - val_loss: 3.6891e-08 - val_mean_absolute_error: 5.5823e-05\n",
      "Epoch 905/1000\n",
      "14400/14400 [==============================] - 0s 24us/step - loss: 1.0525e-07 - mean_absolute_error: 9.9002e-05 - val_loss: 1.6869e-07 - val_mean_absolute_error: 1.3888e-04\n",
      "Epoch 906/1000\n",
      "14400/14400 [==============================] - 0s 25us/step - loss: 9.0313e-08 - mean_absolute_error: 9.5000e-05 - val_loss: 1.5484e-07 - val_mean_absolute_error: 1.2435e-04\n",
      "Epoch 907/1000\n"
     ]
    },
    {
     "name": "stdout",
     "output_type": "stream",
     "text": [
      "14400/14400 [==============================] - 0s 25us/step - loss: 3.5846e-08 - mean_absolute_error: 6.4916e-05 - val_loss: 3.4162e-08 - val_mean_absolute_error: 5.1341e-05\n",
      "Epoch 908/1000\n",
      "14400/14400 [==============================] - 0s 24us/step - loss: 5.2728e-08 - mean_absolute_error: 6.8175e-05 - val_loss: 7.5860e-08 - val_mean_absolute_error: 8.2392e-05\n",
      "Epoch 909/1000\n",
      "14400/14400 [==============================] - 0s 24us/step - loss: 4.8155e-08 - mean_absolute_error: 7.3699e-05 - val_loss: 7.1337e-08 - val_mean_absolute_error: 6.8791e-05\n",
      "Epoch 910/1000\n",
      "14400/14400 [==============================] - 0s 25us/step - loss: 7.4956e-08 - mean_absolute_error: 8.9284e-05 - val_loss: 4.0450e-08 - val_mean_absolute_error: 5.7192e-05\n",
      "Epoch 911/1000\n",
      "14400/14400 [==============================] - 0s 26us/step - loss: 4.2512e-08 - mean_absolute_error: 7.0113e-05 - val_loss: 3.9355e-08 - val_mean_absolute_error: 5.4288e-05\n",
      "Epoch 912/1000\n",
      "14400/14400 [==============================] - 0s 28us/step - loss: 5.2082e-08 - mean_absolute_error: 7.1395e-05 - val_loss: 4.1949e-08 - val_mean_absolute_error: 7.2041e-05\n",
      "Epoch 913/1000\n",
      "14400/14400 [==============================] - 0s 25us/step - loss: 5.6807e-08 - mean_absolute_error: 8.2922e-05 - val_loss: 1.8888e-07 - val_mean_absolute_error: 1.3704e-04\n",
      "Epoch 914/1000\n",
      "14400/14400 [==============================] - 0s 24us/step - loss: 4.9558e-08 - mean_absolute_error: 7.5230e-05 - val_loss: 7.7956e-08 - val_mean_absolute_error: 8.9891e-05\n",
      "Epoch 915/1000\n",
      "14400/14400 [==============================] - 0s 25us/step - loss: 3.8222e-08 - mean_absolute_error: 6.8856e-05 - val_loss: 3.5268e-08 - val_mean_absolute_error: 6.4299e-05\n",
      "Epoch 916/1000\n",
      "14400/14400 [==============================] - 0s 24us/step - loss: 7.6716e-08 - mean_absolute_error: 9.1352e-05 - val_loss: 2.8396e-08 - val_mean_absolute_error: 5.6667e-05\n",
      "Epoch 917/1000\n",
      "14400/14400 [==============================] - 0s 24us/step - loss: 5.8674e-08 - mean_absolute_error: 7.0136e-05 - val_loss: 3.0260e-08 - val_mean_absolute_error: 5.6997e-05\n",
      "Epoch 918/1000\n",
      "14400/14400 [==============================] - 0s 24us/step - loss: 6.4422e-08 - mean_absolute_error: 8.4960e-05 - val_loss: 4.0791e-08 - val_mean_absolute_error: 5.5125e-05\n",
      "Epoch 919/1000\n",
      "14400/14400 [==============================] - 0s 25us/step - loss: 6.6198e-08 - mean_absolute_error: 8.1899e-05 - val_loss: 6.2574e-08 - val_mean_absolute_error: 7.3734e-05\n",
      "Epoch 920/1000\n",
      "14400/14400 [==============================] - 0s 24us/step - loss: 8.7307e-08 - mean_absolute_error: 8.8542e-05 - val_loss: 3.3629e-08 - val_mean_absolute_error: 5.2914e-05\n",
      "Epoch 921/1000\n",
      "14400/14400 [==============================] - 0s 24us/step - loss: 1.0520e-07 - mean_absolute_error: 9.8177e-05 - val_loss: 5.1659e-08 - val_mean_absolute_error: 6.4388e-05\n",
      "Epoch 922/1000\n",
      "14400/14400 [==============================] - 0s 24us/step - loss: 5.7560e-08 - mean_absolute_error: 7.8060e-05 - val_loss: 3.7574e-08 - val_mean_absolute_error: 5.4521e-05\n",
      "Epoch 923/1000\n",
      "14400/14400 [==============================] - 0s 24us/step - loss: 3.7784e-08 - mean_absolute_error: 6.6769e-05 - val_loss: 4.1173e-08 - val_mean_absolute_error: 5.4734e-05\n",
      "Epoch 924/1000\n",
      "14400/14400 [==============================] - 0s 24us/step - loss: 4.3391e-08 - mean_absolute_error: 7.3544e-05 - val_loss: 3.1191e-08 - val_mean_absolute_error: 5.4051e-05\n",
      "Epoch 925/1000\n",
      "14400/14400 [==============================] - 0s 24us/step - loss: 1.2166e-07 - mean_absolute_error: 1.0071e-04 - val_loss: 5.7693e-08 - val_mean_absolute_error: 6.9454e-05\n",
      "Epoch 926/1000\n",
      "14400/14400 [==============================] - 0s 24us/step - loss: 1.3804e-07 - mean_absolute_error: 1.0615e-04 - val_loss: 5.2194e-07 - val_mean_absolute_error: 3.2406e-04\n",
      "Epoch 927/1000\n",
      "14400/14400 [==============================] - 0s 24us/step - loss: 1.1239e-07 - mean_absolute_error: 9.9397e-05 - val_loss: 4.4807e-08 - val_mean_absolute_error: 6.2888e-05\n",
      "Epoch 928/1000\n",
      "14400/14400 [==============================] - 0s 24us/step - loss: 8.4431e-08 - mean_absolute_error: 8.6748e-05 - val_loss: 7.9968e-08 - val_mean_absolute_error: 1.4869e-04\n",
      "Epoch 929/1000\n",
      "14400/14400 [==============================] - 0s 24us/step - loss: 2.6887e-08 - mean_absolute_error: 5.9289e-05 - val_loss: 3.0768e-08 - val_mean_absolute_error: 4.5218e-05\n",
      "Epoch 930/1000\n",
      "14400/14400 [==============================] - 0s 25us/step - loss: 1.9982e-08 - mean_absolute_error: 4.8809e-05 - val_loss: 3.8155e-08 - val_mean_absolute_error: 4.8636e-05\n",
      "Epoch 931/1000\n",
      "14400/14400 [==============================] - 0s 24us/step - loss: 5.1588e-08 - mean_absolute_error: 7.2708e-05 - val_loss: 7.1363e-08 - val_mean_absolute_error: 1.1966e-04\n",
      "Epoch 932/1000\n",
      "14400/14400 [==============================] - 0s 24us/step - loss: 9.6760e-08 - mean_absolute_error: 9.7901e-05 - val_loss: 3.8110e-08 - val_mean_absolute_error: 7.0022e-05\n",
      "Epoch 933/1000\n",
      "14400/14400 [==============================] - 0s 24us/step - loss: 1.1485e-07 - mean_absolute_error: 9.8262e-05 - val_loss: 1.3100e-07 - val_mean_absolute_error: 1.7124e-04\n",
      "Epoch 934/1000\n",
      "14400/14400 [==============================] - 0s 24us/step - loss: 4.6283e-08 - mean_absolute_error: 7.0359e-05 - val_loss: 6.3013e-08 - val_mean_absolute_error: 7.7819e-05\n",
      "Epoch 935/1000\n",
      "14400/14400 [==============================] - 0s 24us/step - loss: 6.8765e-08 - mean_absolute_error: 8.2021e-05 - val_loss: 4.6473e-08 - val_mean_absolute_error: 5.7953e-05\n",
      "Epoch 936/1000\n",
      "14400/14400 [==============================] - 0s 25us/step - loss: 8.2225e-08 - mean_absolute_error: 8.1122e-05 - val_loss: 3.9937e-08 - val_mean_absolute_error: 5.3507e-05\n",
      "Epoch 937/1000\n",
      "14400/14400 [==============================] - 0s 24us/step - loss: 3.6565e-08 - mean_absolute_error: 6.3154e-05 - val_loss: 2.6606e-08 - val_mean_absolute_error: 4.6499e-05\n",
      "Epoch 938/1000\n",
      "14400/14400 [==============================] - 0s 24us/step - loss: 2.5884e-08 - mean_absolute_error: 6.0366e-05 - val_loss: 1.1553e-07 - val_mean_absolute_error: 1.1440e-04\n",
      "Epoch 939/1000\n",
      "14400/14400 [==============================] - 0s 25us/step - loss: 4.0842e-08 - mean_absolute_error: 7.0482e-05 - val_loss: 3.6770e-08 - val_mean_absolute_error: 5.7118e-05\n",
      "Epoch 940/1000\n",
      "14400/14400 [==============================] - 0s 24us/step - loss: 6.9463e-08 - mean_absolute_error: 7.9862e-05 - val_loss: 5.0361e-08 - val_mean_absolute_error: 6.7153e-05\n",
      "Epoch 941/1000\n",
      "14400/14400 [==============================] - 0s 24us/step - loss: 7.0015e-08 - mean_absolute_error: 8.5849e-05 - val_loss: 5.9337e-08 - val_mean_absolute_error: 1.0799e-04\n",
      "Epoch 942/1000\n",
      "14400/14400 [==============================] - 0s 24us/step - loss: 9.8002e-08 - mean_absolute_error: 1.0024e-04 - val_loss: 3.7011e-08 - val_mean_absolute_error: 5.8324e-05\n",
      "Epoch 943/1000\n",
      "14400/14400 [==============================] - 0s 25us/step - loss: 4.0558e-08 - mean_absolute_error: 6.7050e-05 - val_loss: 2.7279e-08 - val_mean_absolute_error: 4.6683e-05\n",
      "Epoch 944/1000\n",
      "14400/14400 [==============================] - 0s 24us/step - loss: 4.0490e-08 - mean_absolute_error: 6.8346e-05 - val_loss: 4.6130e-08 - val_mean_absolute_error: 6.3247e-05\n",
      "Epoch 945/1000\n",
      "14400/14400 [==============================] - 0s 24us/step - loss: 5.5545e-08 - mean_absolute_error: 8.2740e-05 - val_loss: 5.0612e-08 - val_mean_absolute_error: 6.2385e-05\n",
      "Epoch 946/1000\n",
      "14400/14400 [==============================] - 0s 23us/step - loss: 4.9664e-08 - mean_absolute_error: 7.1572e-05 - val_loss: 3.4188e-08 - val_mean_absolute_error: 5.1431e-05\n",
      "Epoch 947/1000\n",
      "14400/14400 [==============================] - 0s 23us/step - loss: 6.8150e-08 - mean_absolute_error: 8.0582e-05 - val_loss: 4.2981e-08 - val_mean_absolute_error: 6.7719e-05\n",
      "Epoch 948/1000\n",
      "14400/14400 [==============================] - 0s 24us/step - loss: 8.5284e-08 - mean_absolute_error: 8.8347e-05 - val_loss: 8.9692e-08 - val_mean_absolute_error: 9.9154e-05\n",
      "Epoch 949/1000\n",
      "14400/14400 [==============================] - 0s 24us/step - loss: 1.1297e-07 - mean_absolute_error: 8.9682e-05 - val_loss: 3.3291e-08 - val_mean_absolute_error: 5.2952e-05\n",
      "Epoch 950/1000\n"
     ]
    },
    {
     "name": "stdout",
     "output_type": "stream",
     "text": [
      "14400/14400 [==============================] - 0s 25us/step - loss: 6.3876e-08 - mean_absolute_error: 7.7865e-05 - val_loss: 3.1064e-08 - val_mean_absolute_error: 5.1696e-05\n",
      "Epoch 951/1000\n",
      "14400/14400 [==============================] - 0s 25us/step - loss: 3.0634e-08 - mean_absolute_error: 6.2024e-05 - val_loss: 3.6358e-08 - val_mean_absolute_error: 5.1601e-05\n",
      "Epoch 952/1000\n",
      "14400/14400 [==============================] - 0s 24us/step - loss: 3.7012e-08 - mean_absolute_error: 6.5003e-05 - val_loss: 2.6397e-08 - val_mean_absolute_error: 4.9743e-05\n",
      "Epoch 953/1000\n",
      "14400/14400 [==============================] - 0s 24us/step - loss: 7.2109e-08 - mean_absolute_error: 9.1398e-05 - val_loss: 9.4488e-08 - val_mean_absolute_error: 1.2747e-04\n",
      "Epoch 954/1000\n",
      "14400/14400 [==============================] - 0s 25us/step - loss: 6.5209e-08 - mean_absolute_error: 8.1012e-05 - val_loss: 5.0645e-08 - val_mean_absolute_error: 6.4322e-05\n",
      "Epoch 955/1000\n",
      "14400/14400 [==============================] - 0s 25us/step - loss: 4.1813e-08 - mean_absolute_error: 6.7571e-05 - val_loss: 4.6167e-08 - val_mean_absolute_error: 5.9325e-05\n",
      "Epoch 956/1000\n",
      "14400/14400 [==============================] - 0s 24us/step - loss: 2.8559e-08 - mean_absolute_error: 5.9908e-05 - val_loss: 1.2896e-07 - val_mean_absolute_error: 1.5655e-04\n",
      "Epoch 957/1000\n",
      "14400/14400 [==============================] - 0s 26us/step - loss: 3.9715e-08 - mean_absolute_error: 6.7620e-05 - val_loss: 8.0472e-08 - val_mean_absolute_error: 9.0825e-05\n",
      "Epoch 958/1000\n",
      "14400/14400 [==============================] - 0s 30us/step - loss: 7.4962e-08 - mean_absolute_error: 9.3884e-05 - val_loss: 6.3459e-08 - val_mean_absolute_error: 7.9302e-05\n",
      "Epoch 959/1000\n",
      "14400/14400 [==============================] - 0s 24us/step - loss: 8.1484e-08 - mean_absolute_error: 8.9985e-05 - val_loss: 4.1135e-08 - val_mean_absolute_error: 6.2659e-05\n",
      "Epoch 960/1000\n",
      "14400/14400 [==============================] - 0s 28us/step - loss: 1.3701e-07 - mean_absolute_error: 1.0045e-04 - val_loss: 4.3287e-08 - val_mean_absolute_error: 7.4423e-05\n",
      "Epoch 961/1000\n",
      "14400/14400 [==============================] - 0s 29us/step - loss: 9.0951e-08 - mean_absolute_error: 9.4298e-05 - val_loss: 4.1714e-08 - val_mean_absolute_error: 6.0636e-05\n",
      "Epoch 962/1000\n",
      "14400/14400 [==============================] - 0s 25us/step - loss: 1.0365e-07 - mean_absolute_error: 8.7832e-05 - val_loss: 7.4682e-08 - val_mean_absolute_error: 1.1586e-04\n",
      "Epoch 963/1000\n",
      "14400/14400 [==============================] - 0s 25us/step - loss: 1.0817e-07 - mean_absolute_error: 1.1051e-04 - val_loss: 1.0285e-07 - val_mean_absolute_error: 1.0429e-04\n",
      "Epoch 964/1000\n",
      "14400/14400 [==============================] - 0s 27us/step - loss: 4.6663e-08 - mean_absolute_error: 7.8668e-05 - val_loss: 5.9005e-08 - val_mean_absolute_error: 1.2375e-04\n",
      "Epoch 965/1000\n",
      "14400/14400 [==============================] - 0s 26us/step - loss: 3.4179e-08 - mean_absolute_error: 6.3364e-05 - val_loss: 8.7146e-08 - val_mean_absolute_error: 1.2245e-04\n",
      "Epoch 966/1000\n",
      "14400/14400 [==============================] - 0s 29us/step - loss: 3.9492e-08 - mean_absolute_error: 6.2422e-05 - val_loss: 3.4983e-08 - val_mean_absolute_error: 5.2568e-05\n",
      "Epoch 967/1000\n",
      "14400/14400 [==============================] - 0s 32us/step - loss: 4.4649e-08 - mean_absolute_error: 7.6895e-05 - val_loss: 3.3832e-08 - val_mean_absolute_error: 5.0447e-05\n",
      "Epoch 968/1000\n",
      "14400/14400 [==============================] - 0s 30us/step - loss: 4.8391e-08 - mean_absolute_error: 7.2448e-05 - val_loss: 4.0337e-08 - val_mean_absolute_error: 6.7461e-05\n",
      "Epoch 969/1000\n",
      "14400/14400 [==============================] - 0s 26us/step - loss: 6.3521e-08 - mean_absolute_error: 8.5017e-05 - val_loss: 5.9854e-08 - val_mean_absolute_error: 7.4085e-05\n",
      "Epoch 970/1000\n",
      "14400/14400 [==============================] - 0s 34us/step - loss: 1.0199e-07 - mean_absolute_error: 9.5383e-05 - val_loss: 6.4454e-08 - val_mean_absolute_error: 1.0010e-04\n",
      "Epoch 971/1000\n",
      "14400/14400 [==============================] - 0s 25us/step - loss: 1.9937e-07 - mean_absolute_error: 1.2147e-04 - val_loss: 5.4934e-08 - val_mean_absolute_error: 7.0486e-05\n",
      "Epoch 972/1000\n",
      "14400/14400 [==============================] - 0s 32us/step - loss: 6.6878e-08 - mean_absolute_error: 8.3499e-05 - val_loss: 5.0560e-08 - val_mean_absolute_error: 6.7997e-05\n",
      "Epoch 973/1000\n",
      "14400/14400 [==============================] - 0s 26us/step - loss: 2.7726e-08 - mean_absolute_error: 5.9919e-05 - val_loss: 3.7171e-08 - val_mean_absolute_error: 4.6460e-05\n",
      "Epoch 974/1000\n",
      "14400/14400 [==============================] - 0s 26us/step - loss: 3.5096e-08 - mean_absolute_error: 6.2214e-05 - val_loss: 3.6426e-08 - val_mean_absolute_error: 5.0772e-05\n",
      "Epoch 975/1000\n",
      "14400/14400 [==============================] - 0s 25us/step - loss: 2.6660e-08 - mean_absolute_error: 5.7314e-05 - val_loss: 3.9932e-08 - val_mean_absolute_error: 5.4636e-05\n",
      "Epoch 976/1000\n",
      "14400/14400 [==============================] - 0s 27us/step - loss: 2.9342e-08 - mean_absolute_error: 6.0328e-05 - val_loss: 9.6281e-08 - val_mean_absolute_error: 1.1780e-04\n",
      "Epoch 977/1000\n",
      "14400/14400 [==============================] - 0s 26us/step - loss: 5.1580e-08 - mean_absolute_error: 7.2309e-05 - val_loss: 4.7295e-08 - val_mean_absolute_error: 7.1197e-05\n",
      "Epoch 978/1000\n",
      "14400/14400 [==============================] - 0s 25us/step - loss: 8.8617e-08 - mean_absolute_error: 9.0280e-05 - val_loss: 1.3899e-07 - val_mean_absolute_error: 1.2643e-04\n",
      "Epoch 979/1000\n",
      "14400/14400 [==============================] - 0s 27us/step - loss: 8.4125e-08 - mean_absolute_error: 9.2084e-05 - val_loss: 7.0363e-08 - val_mean_absolute_error: 1.0263e-04\n",
      "Epoch 980/1000\n",
      "14400/14400 [==============================] - 0s 25us/step - loss: 5.4513e-08 - mean_absolute_error: 8.0030e-05 - val_loss: 4.0824e-08 - val_mean_absolute_error: 5.4015e-05\n",
      "Epoch 981/1000\n",
      "14400/14400 [==============================] - 0s 25us/step - loss: 8.5720e-08 - mean_absolute_error: 8.1665e-05 - val_loss: 7.5649e-08 - val_mean_absolute_error: 1.3594e-04\n",
      "Epoch 982/1000\n",
      "14400/14400 [==============================] - 0s 26us/step - loss: 7.7880e-08 - mean_absolute_error: 8.6954e-05 - val_loss: 4.3777e-08 - val_mean_absolute_error: 5.5477e-05\n",
      "Epoch 983/1000\n",
      "14400/14400 [==============================] - 0s 29us/step - loss: 5.6970e-08 - mean_absolute_error: 7.2686e-05 - val_loss: 5.0419e-08 - val_mean_absolute_error: 6.0059e-05\n",
      "Epoch 984/1000\n",
      "14400/14400 [==============================] - 0s 25us/step - loss: 5.3400e-08 - mean_absolute_error: 7.7137e-05 - val_loss: 7.2890e-08 - val_mean_absolute_error: 1.4124e-04\n",
      "Epoch 985/1000\n",
      "14400/14400 [==============================] - 0s 30us/step - loss: 4.0915e-08 - mean_absolute_error: 6.7351e-05 - val_loss: 3.1355e-08 - val_mean_absolute_error: 4.5777e-05\n",
      "Epoch 986/1000\n",
      "14400/14400 [==============================] - 0s 34us/step - loss: 3.0391e-08 - mean_absolute_error: 5.9978e-05 - val_loss: 3.8133e-08 - val_mean_absolute_error: 7.5357e-05\n",
      "Epoch 987/1000\n",
      "14400/14400 [==============================] - 0s 34us/step - loss: 4.4526e-08 - mean_absolute_error: 7.2310e-05 - val_loss: 2.7758e-08 - val_mean_absolute_error: 4.9660e-05\n",
      "Epoch 988/1000\n",
      "14400/14400 [==============================] - 0s 35us/step - loss: 7.6493e-08 - mean_absolute_error: 9.1224e-05 - val_loss: 3.2466e-08 - val_mean_absolute_error: 5.4085e-05\n",
      "Epoch 989/1000\n",
      "14400/14400 [==============================] - 0s 24us/step - loss: 8.0671e-08 - mean_absolute_error: 9.9808e-05 - val_loss: 3.5141e-08 - val_mean_absolute_error: 5.7324e-05\n",
      "Epoch 990/1000\n",
      "14400/14400 [==============================] - 0s 23us/step - loss: 1.1327e-07 - mean_absolute_error: 1.0029e-04 - val_loss: 5.1223e-08 - val_mean_absolute_error: 6.4020e-05\n",
      "Epoch 991/1000\n",
      "14400/14400 [==============================] - 0s 23us/step - loss: 2.3873e-07 - mean_absolute_error: 1.2263e-04 - val_loss: 2.8030e-07 - val_mean_absolute_error: 2.1662e-04\n",
      "Epoch 992/1000\n",
      "14400/14400 [==============================] - 0s 23us/step - loss: 1.4234e-07 - mean_absolute_error: 1.0180e-04 - val_loss: 4.6540e-08 - val_mean_absolute_error: 5.8231e-05\n",
      "Epoch 993/1000\n"
     ]
    },
    {
     "name": "stdout",
     "output_type": "stream",
     "text": [
      "14400/14400 [==============================] - 0s 27us/step - loss: 3.1387e-08 - mean_absolute_error: 5.8898e-05 - val_loss: 2.8297e-08 - val_mean_absolute_error: 4.8277e-05\n",
      "Epoch 994/1000\n",
      "14400/14400 [==============================] - 0s 27us/step - loss: 1.8010e-08 - mean_absolute_error: 5.2337e-05 - val_loss: 3.1941e-08 - val_mean_absolute_error: 4.6097e-05\n",
      "Epoch 995/1000\n",
      "14400/14400 [==============================] - 0s 33us/step - loss: 1.8851e-08 - mean_absolute_error: 5.0920e-05 - val_loss: 5.5145e-08 - val_mean_absolute_error: 7.1276e-05\n",
      "Epoch 996/1000\n",
      "14400/14400 [==============================] - 0s 28us/step - loss: 5.5098e-08 - mean_absolute_error: 7.4593e-05 - val_loss: 7.9719e-08 - val_mean_absolute_error: 9.2343e-05\n",
      "Epoch 997/1000\n",
      "14400/14400 [==============================] - 0s 25us/step - loss: 1.1517e-07 - mean_absolute_error: 1.0047e-04 - val_loss: 4.5702e-08 - val_mean_absolute_error: 7.5718e-05\n",
      "Epoch 998/1000\n",
      "14400/14400 [==============================] - 0s 24us/step - loss: 1.0107e-07 - mean_absolute_error: 1.0057e-04 - val_loss: 2.2150e-07 - val_mean_absolute_error: 1.6468e-04\n",
      "Epoch 999/1000\n",
      "14400/14400 [==============================] - 0s 24us/step - loss: 7.9509e-08 - mean_absolute_error: 8.9964e-05 - val_loss: 4.3418e-08 - val_mean_absolute_error: 6.1846e-05\n",
      "Epoch 1000/1000\n",
      "14400/14400 [==============================] - 0s 24us/step - loss: 4.4517e-08 - mean_absolute_error: 6.9271e-05 - val_loss: 3.3322e-08 - val_mean_absolute_error: 5.3087e-05\n"
     ]
    }
   ],
   "source": [
    "# history = model.fit([input_sequences_tensor,gamma_input_list], labels, \n",
    "#                     validation_split=0.1, epochs=100,verbose=1,callbacks=[esCallBack,tbCallBack])  \n",
    "\n",
    "history = model.fit([input_sequences_tensor,gamma_input_list], labels, validation_split=0.2, epochs=1000,verbose=1)"
   ]
  },
  {
   "cell_type": "code",
   "execution_count": 34,
   "metadata": {},
   "outputs": [
    {
     "data": {
      "image/png": "[encoded data removed]",
      "text/plain": [
       "<Figure size 432x288 with 1 Axes>"
      ]
     },
     "metadata": {
      "needs_background": "light"
     },
     "output_type": "display_data"
    }
   ],
   "source": [
    "# plot losses\n",
    "\n",
    "plt.figure()\n",
    "plt.plot(np.log(history.history['loss']),'o-',color='blue')\n",
    "plt.plot(np.log(history.history['val_loss']),'o-',color='orange')\n",
    "plt.title('Model loss',fontsize=14)\n",
    "plt.ylabel('Log[loss]',fontsize=14)\n",
    "plt.xlabel('epoch',fontsize=14)\n",
    "plt.legend(['train', 'validation'])\n",
    "plt.tick_params(labelsize=14)\n",
    "#plt.savefig('model_log_loss.pdf')\n",
    "plt.show()"
   ]
  },
  {
   "cell_type": "code",
   "execution_count": 35,
   "metadata": {},
   "outputs": [
    {
     "data": {
      "image/png": "[encoded data removed]",
      "text/plain": [
       "<Figure size 432x288 with 1 Axes>"
      ]
     },
     "metadata": {
      "needs_background": "light"
     },
     "output_type": "display_data"
    }
   ],
   "source": [
    "# plot losses\n",
    "\n",
    "plt.figure()\n",
    "plt.plot(history.history['loss'],'o-',color='blue')\n",
    "plt.plot(history.history['val_loss'],'o-',color='orange')\n",
    "plt.title('Model loss',fontsize=14)\n",
    "plt.ylabel('loss',fontsize=14)\n",
    "plt.xlabel('epoch',fontsize=14)\n",
    "plt.legend(['train', 'validation'])\n",
    "plt.tick_params(labelsize=14)\n",
    "#plt.savefig('model_loss.pdf')\n",
    "plt.show()"
   ]
  },
  {
   "cell_type": "code",
   "execution_count": 36,
   "metadata": {},
   "outputs": [
    {
     "data": {
      "image/png": "[encoded data removed]",
      "text/plain": [
       "<Figure size 432x288 with 1 Axes>"
      ]
     },
     "metadata": {
      "needs_background": "light"
     },
     "output_type": "display_data"
    }
   ],
   "source": [
    "# plot losses\n",
    "\n",
    "plt.figure()\n",
    "plt.plot(np.log(history.history['mean_absolute_error']),'o-',color='blue',label='MAE')\n",
    "plt.plot(np.log(history.history['val_mean_absolute_error']),'o-',color='orange',label='val-MAE')\n",
    "#plt.title('Model loss',fontsize=14)\n",
    "plt.ylabel('MAE',fontsize=14)\n",
    "plt.xlabel('epoch',fontsize=14)\n",
    "plt.legend()\n",
    "plt.tick_params(labelsize=14)\n",
    "#plt.savefig('model_loss.pdf')\n",
    "plt.show()"
   ]
  },
  {
   "cell_type": "markdown",
   "metadata": {},
   "source": [
    "### Use model to make predictions on individual sequences"
   ]
  },
  {
   "cell_type": "code",
   "execution_count": 37,
   "metadata": {
    "collapsed": true
   },
   "outputs": [],
   "source": [
    "# predictions_on_test = model.predict(test_input_sequences_tensor)\n",
    "predictions_on_test = model.predict([test_input_sequences_tensor,gamma_input_list[0:test_input_sequences_tensor.shape[0]]])"
   ]
  },
  {
   "cell_type": "code",
   "execution_count": 38,
   "metadata": {},
   "outputs": [
    {
     "name": "stdout",
     "output_type": "stream",
     "text": [
      "2000/2000 [==============================] - 0s 14us/step\n"
     ]
    },
    {
     "data": {
      "text/plain": [
       "[2.1547939853761022e-08, 5.070184470969252e-05]"
      ]
     },
     "execution_count": 38,
     "metadata": {},
     "output_type": "execute_result"
    }
   ],
   "source": [
    "model.evaluate([test_input_sequences_tensor,gamma_input_list[0:test_input_sequences_tensor.shape[0]]],test_labels)"
   ]
  },
  {
   "cell_type": "code",
   "execution_count": 39,
   "metadata": {},
   "outputs": [
    {
     "data": {
      "text/plain": [
       "(2000, 1)"
      ]
     },
     "execution_count": 39,
     "metadata": {},
     "output_type": "execute_result"
    }
   ],
   "source": [
    "np.shape(predictions_on_test)"
   ]
  },
  {
   "cell_type": "code",
   "execution_count": 40,
   "metadata": {},
   "outputs": [
    {
     "data": {
      "image/png": "[encoded data removed]",
      "text/plain": [
       "<Figure size 432x288 with 1 Axes>"
      ]
     },
     "metadata": {
      "needs_background": "light"
     },
     "output_type": "display_data"
    }
   ],
   "source": [
    "plt.scatter(test_labels,predictions_on_test,s=25,color=\"red\",alpha=0.5)\n",
    "plt.xlabel('Transcription labels (Test Set)',fontsize=14)\n",
    "plt.ylabel('Predictions',fontsize=14)\n",
    "plt.tick_params(labelsize=14)\n",
    "#plt.plot([0,1])\n",
    "#plt.xlim([0.3,0.5])\n",
    "#plt.ylim([0.3,0.5])\n",
    "plt.tight_layout()\n",
    "#plt.savefig('write_up/Figures/Predictions_vs_labels.png')"
   ]
  },
  {
   "cell_type": "code",
   "execution_count": 62,
   "metadata": {},
   "outputs": [
    {
     "data": {
      "image/png": "[encoded data removed]",
      "text/plain": [
       "<Figure size 504x360 with 1 Axes>"
      ]
     },
     "metadata": {
      "needs_background": "light"
     },
     "output_type": "display_data"
    }
   ],
   "source": [
    "plt.figure(figsize=(7,5))\n",
    "plt.scatter(np.log(test_labels),np.log(predictions_on_test),s=15,color=\"black\",alpha=0.5)\n",
    "plt.xlabel('log(Test labels)',fontsize=14)\n",
    "plt.ylabel('log(Predictions)',fontsize=14)\n",
    "plt.tick_params(labelsize=14)\n",
    "plt.tight_layout()\n",
    "#plt.savefig('../write_up/write_up_for_rnap_neural_network/log_predictions_vs_log_labels.png')\n",
    "plt.show()\n",
    "#plt.plot([0,1])"
   ]
  },
  {
   "cell_type": "markdown",
   "metadata": {},
   "source": [
    "## Get intemediate layer activations"
   ]
  },
  {
   "cell_type": "markdown",
   "metadata": {},
   "source": [
    "### Softmax activation"
   ]
  },
  {
   "cell_type": "code",
   "execution_count": 42,
   "metadata": {},
   "outputs": [],
   "source": [
    "# layer 6 here corresponds to the softmax layer\n",
    "\n",
    "# softmax_layer_model = Model(inputs=model.input,outputs=model.layers[7].output)\n",
    "# softmax_output = softmax_layer_model.predict([test_input_sequences_tensor,gamma_input_list[0:test_input_sequences_tensor.shape[0]]])\n",
    "\n",
    "# plt.figure(figsize=(7,5))\n",
    "# plt.hist(softmax_output[:,0:1],bins=40,alpha=0.5,label='State 1')\n",
    "# plt.hist(softmax_output[:,1:2],bins=40,alpha=0.5,label='State 2')\n",
    "# plt.hist(softmax_output[:,2:3],bins=40,alpha=0.5,label='State 3')\n",
    "# plt.hist(softmax_output[:,3:4],bins=40,alpha=0.5,label='State 4')\n",
    "# plt.legend()\n",
    "# plt.title(\"Histograms of values of softmax nodes\",fontsize=14)\n",
    "# plt.tick_params(labelsize=14)\n",
    "# plt.show()"
   ]
  },
  {
   "cell_type": "markdown",
   "metadata": {},
   "source": [
    "### First hidden layer activations $\\epsilon_c$ and $\\epsilon_r$ "
   ]
  },
  {
   "cell_type": "code",
   "execution_count": 43,
   "metadata": {
    "collapsed": true
   },
   "outputs": [],
   "source": [
    "crp_node_model = Model(inputs=model.input,outputs=model.layers[3].output)\n",
    "crp_node_activation = crp_node_model.predict([test_input_sequences_tensor,gamma_input_list[0:test_input_sequences_tensor.shape[0]]])\n",
    "\n",
    "rnap_node_model = Model(inputs=model.input,outputs=model.layers[4].output)\n",
    "rnap_node_activation = rnap_node_model.predict([test_input_sequences_tensor,gamma_input_list[0:test_input_sequences_tensor.shape[0]]])\n",
    "\n",
    "# # mean normalization\n",
    "# crp_node_activation_mean = np.mean(crp_node_activation)\n",
    "# max_minus_min_crp_node = max(crp_node_activation)-min(crp_node_activation)\n",
    "\n",
    "# rnap_node_activation_mean = np.mean(rnap_node_activation)\n",
    "# max_minus_min_rnap_node = max(rnap_node_activation)-min(rnap_node_activation)"
   ]
  },
  {
   "cell_type": "code",
   "execution_count": 44,
   "metadata": {
    "collapsed": true
   },
   "outputs": [],
   "source": [
    "# mean normalization\n",
    "# crp_node_activation = (crp_node_activation - crp_node_activation_mean)/(max_minus_min_crp_node)\n",
    "# rnap_node_activation = (rnap_node_activation - rnap_node_activation_mean)/(max_minus_min_rnap_node)"
   ]
  },
  {
   "cell_type": "code",
   "execution_count": 45,
   "metadata": {
    "collapsed": true
   },
   "outputs": [],
   "source": [
    "test_e_c_list = e_c_list[training_data_size-test_data_size:training_data_size].copy()\n",
    "test_e_r_list = e_r_list[training_data_size-test_data_size:training_data_size].copy()\n",
    "\n",
    "# test_e_c_list_mean = np.mean(test_e_c_list)\n",
    "# max_minus_min_test_e_c_list = max(test_e_c_list)-min(test_e_c_list)\n",
    "\n",
    "# test_e_r_list_mean = np.mean(test_e_r_list)\n",
    "# max_minus_min_test_e_r_list = max(test_e_r_list)-min(test_e_r_list)"
   ]
  },
  {
   "cell_type": "code",
   "execution_count": 46,
   "metadata": {
    "collapsed": true
   },
   "outputs": [],
   "source": [
    "# test_e_c_list = (test_e_c_list - test_e_c_list_mean)/(max_minus_min_test_e_c_list)\n",
    "# test_e_r_list = (test_e_r_list - test_e_r_list_mean)/(max_minus_min_test_e_r_list)"
   ]
  },
  {
   "cell_type": "code",
   "execution_count": 47,
   "metadata": {},
   "outputs": [
    {
     "data": {
      "image/png": "[encoded data removed]",
      "text/plain": [
       "<Figure size 432x288 with 1 Axes>"
      ]
     },
     "metadata": {
      "needs_background": "light"
     },
     "output_type": "display_data"
    }
   ],
   "source": [
    "plt.hist(crp_node_activation,bins=50, label='CRP energies (inferred)',alpha=0.5,density=True,color='red')\n",
    "plt.hist(np.array(test_e_c_list),bins=50, label='CRP energies (test)',alpha=0.5,density=True,color='blue')\n",
    "plt.title('Distribution of learned energies',fontsize=14)\n",
    "plt.legend()\n",
    "plt.tight_layout()\n",
    "#plt.savefig('learned_energies.pdf')\n",
    "plt.show()"
   ]
  },
  {
   "cell_type": "code",
   "execution_count": 48,
   "metadata": {},
   "outputs": [
    {
     "data": {
      "image/png": "[encoded data removed]",
      "text/plain": [
       "<Figure size 432x288 with 1 Axes>"
      ]
     },
     "metadata": {
      "needs_background": "light"
     },
     "output_type": "display_data"
    }
   ],
   "source": [
    "plt.hist(-rnap_node_activation,bins=50, label='RNAP energies (inferred)',alpha=0.5,density=True,color='red')\n",
    "plt.hist(np.array(test_e_r_list),bins=50,alpha=0.5,label='RNAP energies (test)',density=True,color='blue')\n",
    "plt.legend()\n",
    "plt.tick_params(labelsize=14)\n",
    "plt.title('Distribution of input energies',fontsize=14)\n",
    "plt.tight_layout()\n",
    "#plt.savefig('input_energies.pdf')\n",
    "plt.show()"
   ]
  },
  {
   "cell_type": "code",
   "execution_count": 49,
   "metadata": {},
   "outputs": [
    {
     "data": {
      "image/png": "[encoded data removed]",
      "text/plain": [
       "<Figure size 504x360 with 1 Axes>"
      ]
     },
     "metadata": {
      "needs_background": "light"
     },
     "output_type": "display_data"
    }
   ],
   "source": [
    "plt.figure(figsize=(7,5))\n",
    "plt.scatter(-crp_node_activation,-np.array(test_e_c_list),color='black',s=15,alpha=0.75)\n",
    "plt.tick_params(labelsize=14)\n",
    "plt.ylabel(r'$\\epsilon_c$'+' values (test set)',fontsize=16)\n",
    "plt.xlabel('Value of '+r'$\\epsilon_c$'+' node',fontsize=16)\n",
    "plt.tight_layout()\n",
    "#plt.savefig('comparison_e_crp_node_value_vs_test_e_c_list.png')\n",
    "plt.show()"
   ]
  },
  {
   "cell_type": "code",
   "execution_count": 50,
   "metadata": {},
   "outputs": [
    {
     "data": {
      "image/png": "[encoded data removed]",
      "text/plain": [
       "<Figure size 504x360 with 1 Axes>"
      ]
     },
     "metadata": {
      "needs_background": "light"
     },
     "output_type": "display_data"
    }
   ],
   "source": [
    "plt.figure(figsize=(7,5))\n",
    "plt.scatter(rnap_node_activation,-np.array(test_e_r_list),color='black',s=10,alpha=0.75)\n",
    "#plt.scatter(np.log(rnap_node_activation),-np.log(np.array(test_e_r_list)),color='black',s=10,alpha=0.75)\n",
    "plt.tick_params(labelsize=14)\n",
    "plt.ylabel(r'$\\epsilon_r$'+' values (test set)',fontsize=16)\n",
    "plt.xlabel('Value of '+r'$\\epsilon_r$'+' node',fontsize=16)\n",
    "plt.tight_layout()\n",
    "#plt.savefig('write_up/Figures/comparison_e_rnap_node_value_vs_test_e_r_list.png')\n",
    "plt.show()"
   ]
  },
  {
   "cell_type": "markdown",
   "metadata": {},
   "source": [
    "### First hidden layer weights (PWMs)\n",
    "\n",
    "Need to input sequence corresponding to CRPs binding site. i.e. fixed the shape of test_input_sequences_tensor"
   ]
  },
  {
   "cell_type": "code",
   "execution_count": 51,
   "metadata": {},
   "outputs": [],
   "source": [
    "# crp_layer_model = Model(inputs=model.input,outputs=model.layers[3].output)\n",
    "# # need to input sequence corresponding to CRPs binding site\n",
    "# test_input_sequences_tensor[0].shape\n",
    "# #crp_output = crp_layer_model.predict(test_input_sequences_tensor)\n",
    "\n",
    "# # rnap_layer_model = Model(inputs=model.input,outputs=model.layers[4].output)\n",
    "# # rnap_output = rnap_layer_model.predict(test_input_sequences_tensor)\n",
    "\n",
    "# # print(crp_output.shape)\n",
    "# # print(rnap_output.shape)"
   ]
  },
  {
   "cell_type": "code",
   "execution_count": 52,
   "metadata": {},
   "outputs": [
    {
     "data": {
      "text/plain": [
       "[<keras.engine.input_layer.InputLayer at 0x124b22208>,\n",
       " <keras.layers.core.Lambda at 0x125198a90>,\n",
       " <keras.layers.core.Lambda at 0x1251985c0>,\n",
       " <keras.layers.core.Dense at 0x1251987f0>,\n",
       " <keras.layers.core.Dense at 0x125198e48>,\n",
       " <keras.engine.input_layer.InputLayer at 0x125272668>,\n",
       " <keras.layers.merge.Concatenate at 0x125296dd8>,\n",
       " <keras.layers.core.Dense at 0x12509c978>,\n",
       " <__main__.CustomConnected at 0x125017860>]"
      ]
     },
     "execution_count": 52,
     "metadata": {},
     "output_type": "execute_result"
    }
   ],
   "source": [
    "model.layers"
   ]
  },
  {
   "cell_type": "code",
   "execution_count": 53,
   "metadata": {
    "collapsed": true
   },
   "outputs": [],
   "source": [
    "crp_weights = model.layers[3].get_weights()[0].copy()\n",
    "rnap_weights = model.layers[4].get_weights()[0].copy()"
   ]
  },
  {
   "cell_type": "code",
   "execution_count": 54,
   "metadata": {},
   "outputs": [
    {
     "data": {
      "text/plain": [
       "(164, 1)"
      ]
     },
     "execution_count": 54,
     "metadata": {},
     "output_type": "execute_result"
    }
   ],
   "source": [
    "rnap_weights.shape"
   ]
  },
  {
   "cell_type": "markdown",
   "metadata": {},
   "source": [
    "## Get weights of first layer and compare to PWMs\n",
    "\n",
    "These parameters will have to be gauge fixed"
   ]
  },
  {
   "cell_type": "code",
   "execution_count": 55,
   "metadata": {},
   "outputs": [
    {
     "data": {
      "image/png": "[encoded data removed]",
      "text/plain": [
       "<Figure size 864x216 with 2 Axes>"
      ]
     },
     "metadata": {
      "needs_background": "light"
     },
     "output_type": "display_data"
    },
    {
     "data": {
      "image/png": "[encoded data removed]",
      "text/plain": [
       "<Figure size 1152x216 with 2 Axes>"
      ]
     },
     "metadata": {
      "needs_background": "light"
     },
     "output_type": "display_data"
    }
   ],
   "source": [
    "crp_weights = crp_weights.reshape(26,4)\n",
    "rnap_weights = rnap_weights.reshape(41,4)\n",
    "\n",
    "\n",
    "plt.figure(figsize=(12,3))\n",
    "sns.heatmap(crp_weights.T,cmap='RdBu_r')\n",
    "plt.show()\n",
    "plt.figure(figsize=(16,3))\n",
    "sns.heatmap(rnap_weights.T,cmap='RdBu_r')\n",
    "#sns.heatmap(rnap_weights.T,cmap='RdBu_r')\n",
    "plt.show()"
   ]
  },
  {
   "cell_type": "code",
   "execution_count": 56,
   "metadata": {},
   "outputs": [
    {
     "data": {
      "image/png": "[encoded data removed]",
      "text/plain": [
       "<Figure size 720x180 with 1 Axes>"
      ]
     },
     "metadata": {
      "needs_background": "light"
     },
     "output_type": "display_data"
    },
    {
     "data": {
      "image/png": "[encoded data removed]",
      "text/plain": [
       "<Figure size 720x180 with 1 Axes>"
      ]
     },
     "metadata": {
      "needs_background": "light"
     },
     "output_type": "display_data"
    }
   ],
   "source": [
    "import logomaker\n",
    "crp_logo_df = pd.DataFrame(crp_weights,columns=['A','C','G','T'])\n",
    "\n",
    "crp_df.columns = ['A','C','G','T']\n",
    "logomaker.Logo(-crp_df,center_values=True, font_name='Arial Rounded MT Bold')\n",
    "plt.tick_params(labelsize=14)\n",
    "plt.title('CRP PSAM Reported in Kinney et al. 2010',fontsize=14)\n",
    "plt.ylabel(\"$-\\Delta \\Delta G$ (kcal/mol)\", labelpad=-1)\n",
    "logomaker.Logo(-crp_logo_df,center_values=True, font_name='Arial Rounded MT Bold')\n",
    "plt.title('CRP PSAM learned by neural network.',fontsize=14)\n",
    "plt.tick_params(labelsize=14)\n",
    "plt.ylabel(\"$-\\Delta \\Delta G$ (kcal/mol)\", labelpad=-1)\n",
    "\n",
    "plt.show()\n",
    "#logomaker.Logo(rnap_logo_df,center_values=True, font_name='Arial Rounded MT Bold')"
   ]
  },
  {
   "cell_type": "code",
   "execution_count": 57,
   "metadata": {},
   "outputs": [
    {
     "data": {
      "image/png": "[encoded data removed]",
      "text/plain": [
       "<Figure size 720x180 with 1 Axes>"
      ]
     },
     "metadata": {
      "needs_background": "light"
     },
     "output_type": "display_data"
    },
    {
     "data": {
      "image/png": "[encoded data removed]",
      "text/plain": [
       "<Figure size 720x180 with 1 Axes>"
      ]
     },
     "metadata": {
      "needs_background": "light"
     },
     "output_type": "display_data"
    }
   ],
   "source": [
    "rnap_logo_df = pd.DataFrame(rnap_weights,columns=['A','C','G','T'])\n",
    "rnap_df.columns = ['A','C','G','T']\n",
    "logomaker.Logo(rnap_df,center_values=True, font_name='Arial Rounded MT Bold')\n",
    "plt.tick_params(labelsize=14)\n",
    "plt.title('RNAP PSAM Reported in Kinney et al. 2010',fontsize=14)\n",
    "plt.ylabel(\"$-\\Delta \\Delta G$ (kcal/mol)\", labelpad=-1)\n",
    "logomaker.Logo(-rnap_logo_df,center_values=True, font_name='Arial Rounded MT Bold')\n",
    "plt.tick_params(labelsize=14)\n",
    "plt.title('RNAP PSAM learned by neural network.',fontsize=14)\n",
    "plt.ylabel(\"$-\\Delta \\Delta G$ (kcal/mol)\", labelpad=-1)\n",
    "plt.tick_params(labelsize=14)"
   ]
  },
  {
   "cell_type": "code",
   "execution_count": 58,
   "metadata": {},
   "outputs": [
    {
     "data": {
      "text/plain": [
       "41"
      ]
     },
     "execution_count": 58,
     "metadata": {},
     "output_type": "execute_result"
    }
   ],
   "source": [
    "len(rnap_logo_df.loc[0:])"
   ]
  },
  {
   "cell_type": "markdown",
   "metadata": {},
   "source": [
    "### Verify that weights have stayed unchanged after training:"
   ]
  },
  {
   "cell_type": "code",
   "execution_count": 59,
   "metadata": {},
   "outputs": [
    {
     "data": {
      "text/plain": [
       "array([[0., 1., 0., 1.],\n",
       "       [0., 0., 1., 1.],\n",
       "       [0., 0., 0., 1.]], dtype=float32)"
      ]
     },
     "execution_count": 59,
     "metadata": {},
     "output_type": "execute_result"
    }
   ],
   "source": [
    "model.layers[7].get_weights()[0]"
   ]
  },
  {
   "cell_type": "code",
   "execution_count": 60,
   "metadata": {
    "collapsed": true
   },
   "outputs": [],
   "source": [
    "#model.save_weights('Neural_Network_Thermodynamic_Model_double_branch.h5')"
   ]
  },
  {
   "cell_type": "markdown",
   "metadata": {},
   "source": [
    "### Learned weights of last layer"
   ]
  },
  {
   "cell_type": "code",
   "execution_count": 61,
   "metadata": {},
   "outputs": [
    {
     "data": {
      "text/plain": [
       "[array([[0.        ],\n",
       "        [0.        ],\n",
       "        [1.2932755 ],\n",
       "        [0.00558769]], dtype=float32)]"
      ]
     },
     "execution_count": 61,
     "metadata": {},
     "output_type": "execute_result"
    }
   ],
   "source": [
    "model.layers[8].get_weights()"
   ]
  },
  {
   "cell_type": "code",
   "execution_count": null,
   "metadata": {},
   "outputs": [],
   "source": []
  }
 ],
 "metadata": {
  "kernelspec": {
   "display_name": "Python 3",
   "language": "python",
   "name": "python3"
  },
  "language_info": {
   "codemirror_mode": {
    "name": "ipython",
    "version": 3
   },
   "file_extension": ".py",
   "mimetype": "text/x-python",
   "name": "python",
   "nbconvert_exporter": "python",
   "pygments_lexer": "ipython3",
   "version": "3.6.7"
  }
 },
 "nbformat": 4,
 "nbformat_minor": 2
}
